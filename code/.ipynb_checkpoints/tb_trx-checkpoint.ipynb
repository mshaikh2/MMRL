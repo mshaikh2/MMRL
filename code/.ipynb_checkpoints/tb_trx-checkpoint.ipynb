{
 "cells": [
  {
   "cell_type": "code",
   "execution_count": 50,
   "metadata": {
    "scrolled": true
   },
   "outputs": [],
   "source": [
    "from sentence_transformers import SentenceTransformer\n",
    "from scipy.spatial import distance\n",
    "# # Load the BERT model. Various models trained on Natural Language Inference (NLI) https://github.com/UKPLab/sentence-transformers/blob/master/docs/pretrained-models/nli-models.md and \n",
    "# # Semantic Textual Similarity are available https://github.com/UKPLab/sentence-transformers/blob/master/docs/pretrained-models/sts-models.md\n",
    "\n",
    "model = SentenceTransformer('bert-base-nli-mean-tokens')"
   ]
  },
  {
   "cell_type": "code",
   "execution_count": 2,
   "metadata": {},
   "outputs": [],
   "source": [
    "# dataset.n_words"
   ]
  },
  {
   "cell_type": "code",
   "execution_count": 3,
   "metadata": {},
   "outputs": [],
   "source": [
    "# embedding_matrix = np.zeros((dataset.n_words,768))\n",
    "# embedding_matrix"
   ]
  },
  {
   "cell_type": "code",
   "execution_count": 4,
   "metadata": {},
   "outputs": [],
   "source": [
    "\n",
    "for w,i in dataset.wordtoix.items():    \n",
    "    embedding_matrix[i] = model.encode(w)"
   ]
  },
  {
   "cell_type": "code",
   "execution_count": 24,
   "metadata": {},
   "outputs": [],
   "source": [
    "from torch.utils.tensorboard import SummaryWriter"
   ]
  },
  {
   "cell_type": "code",
   "execution_count": null,
   "metadata": {},
   "outputs": [],
   "source": []
  },
  {
   "cell_type": "code",
   "execution_count": 6,
   "metadata": {},
   "outputs": [],
   "source": [
    "# distance.euclidean(a,a_),distance.euclidean(a,b),distance.euclidean(a_,c),distance.euclidean(b,c)"
   ]
  },
  {
   "cell_type": "code",
   "execution_count": 7,
   "metadata": {},
   "outputs": [],
   "source": [
    "from __future__ import print_function\n",
    "from scipy.spatial import distance\n",
    "import PositionalEmbedding as PE\n",
    "from miscc.utils import mkdir_p\n",
    "from miscc.utils import build_super_images\n",
    "from miscc.losses import sent_loss, words_loss\n",
    "from miscc.config import cfg, cfg_from_file\n",
    "\n",
    "from datasets import TextDataset\n",
    "from datasets import prepare_data\n",
    "\n",
    "from model import TEXT_TRANSFORMER_ENCODERv1,TEXT_TRANSFORMER_ENCODERv2, CNN_ENCODER\n",
    "\n",
    "import os\n",
    "os.environ[\"CUDA_VISIBLE_DEVICES\"] = \"0\"\n",
    "import sys\n",
    "import time\n",
    "import random\n",
    "import pprint\n",
    "import datetime\n",
    "import dateutil.tz\n",
    "import argparse\n",
    "import numpy as np\n",
    "from PIL import Image\n",
    "import pandas as pd\n",
    "import torch\n",
    "import torch.nn as nn\n",
    "import torch.optim as optim\n",
    "from torch.autograd import Variable\n",
    "import torch.backends.cudnn as cudnn\n",
    "import torchvision.transforms as transforms\n",
    "from torch.utils.tensorboard import SummaryWriter"
   ]
  },
  {
   "cell_type": "code",
   "execution_count": 8,
   "metadata": {},
   "outputs": [],
   "source": [
    "\n",
    "UPDATE_INTERVAL = 100\n",
    "class parse_args():\n",
    "    cfg_file='../code/cfg/DAMSM/coco.yml'\n",
    "    gpu_id=0\n",
    "    data_dir='../data/coco/'\n",
    "    manualSeed=1\n",
    "args = parse_args()"
   ]
  },
  {
   "cell_type": "code",
   "execution_count": 6,
   "metadata": {},
   "outputs": [],
   "source": [
    "\n",
    "\n",
    "def train(dataloader, cnn_model, trx_model, batch_size,\n",
    "          labels, optimizer, epoch, ixtoword, image_dir):\n",
    "    \n",
    "    cnn_model.train()\n",
    "    trx_model.train()\n",
    "    s_total_loss0 = 0\n",
    "    s_total_loss1 = 0\n",
    "    w_total_loss0 = 0\n",
    "    w_total_loss1 = 0\n",
    "    count = (epoch + 1) * len(dataloader)\n",
    "    start_time = time.time()\n",
    "    for step, data in enumerate(dataloader, 0):\n",
    "        # print('step', step)\n",
    "        trx_model.zero_grad()\n",
    "        cnn_model.zero_grad()\n",
    "\n",
    "        imgs, captions, cap_lens, \\\n",
    "            class_ids, keys = prepare_data(data)\n",
    "\n",
    "        # words_features: batch_size x nef x 17 x 17\n",
    "        # sent_code: batch_size x nef\n",
    "        words_features, sent_code = cnn_model(imgs[-1])\n",
    "        # --> batch_size x nef x 17*17\n",
    "#         print(words_features.shape,sent_code.shape)\n",
    "        nef, att_sze = words_features.size(1), words_features.size(2)\n",
    "        # words_features = words_features.view(batch_size, nef, -1)\n",
    "#         print('nef:{0},att_sze:{1}'.format(nef,att_sze))\n",
    "\n",
    "#         hidden = trx_model.init_hidden(batch_size)\n",
    "        # words_emb: batch_size x nef x seq_len\n",
    "        # sent_emb: batch_size x nef\n",
    "#         print('captions:',captions, captions.size())\n",
    "        \n",
    "        # words_emb: batch_size x nef x seq_len\n",
    "        # sent_emb: batch_size x nef\n",
    "#         words_emb, sent_emb = trx_model(captions, cap_lens, hidden)\n",
    "        \n",
    "        words_emb, sent_emb = trx_model(captions)\n",
    "#         print('words_emb:',words_emb.size(),', sent_emb:', sent_emb.size())\n",
    "        w_loss0, w_loss1, attn_maps = words_loss(words_features, words_emb, labels,\n",
    "                                                 cap_lens, class_ids, batch_size)\n",
    "        \n",
    "        \n",
    "        \n",
    "        \n",
    "#         print(w_loss0.data)\n",
    "#         print('--------------------------')\n",
    "#         print(w_loss1.data)\n",
    "#         print('--------------------------')\n",
    "#         print(attn_maps[0].shape)\n",
    "    \n",
    "    \n",
    "    \n",
    "        w_total_loss0 += w_loss0.data\n",
    "        w_total_loss1 += w_loss1.data\n",
    "        loss = w_loss0 + w_loss1\n",
    "#         print(loss)\n",
    "        s_loss0, s_loss1 = \\\n",
    "            sent_loss(sent_code, sent_emb, labels, class_ids, batch_size)\n",
    "        loss += s_loss0 + s_loss1\n",
    "        \n",
    "        s_total_loss0 += s_loss0.data\n",
    "        s_total_loss1 += s_loss1.data\n",
    "        \n",
    "#         print(s_total_loss0[0],s_total_loss1[0])\n",
    "        #\n",
    "        loss.backward()\n",
    "        #\n",
    "        # `clip_grad_norm` helps prevent\n",
    "        # the exploding gradient problem in RNNs / LSTMs.\n",
    "        torch.nn.utils.clip_grad_norm_(trx_model.parameters(),\n",
    "                                      cfg.TRAIN.RNN_GRAD_CLIP)\n",
    "        optimizer.step()\n",
    "\n",
    "        if step % UPDATE_INTERVAL == 0:\n",
    "            count = epoch * len(dataloader) + step\n",
    "\n",
    "#             print(count)\n",
    "            s_cur_loss0 = s_total_loss0 / UPDATE_INTERVAL\n",
    "            s_cur_loss1 = s_total_loss1 / UPDATE_INTERVAL\n",
    "\n",
    "            w_cur_loss0 = w_total_loss0 / UPDATE_INTERVAL\n",
    "            w_cur_loss1 = w_total_loss1 / UPDATE_INTERVAL\n",
    "\n",
    "            elapsed = time.time() - start_time\n",
    "            print('| epoch {:3d} | {:5d}/{:5d} batches | ms/batch {:5.2f} | '\n",
    "                  's_loss {:5.2f} {:5.2f} | '\n",
    "                  'w_loss {:5.2f} {:5.2f}'\n",
    "                  .format(epoch, step, len(dataloader),\n",
    "                          elapsed * 1000. / UPDATE_INTERVAL,\n",
    "                          s_cur_loss0, s_cur_loss1,\n",
    "                          w_cur_loss0, w_cur_loss1))\n",
    "            tbw.add_scalar('train_w_loss0', float(w_cur_loss0.item()), epoch)\n",
    "            tbw.add_scalar('train_s_loss0', float(s_cur_loss0.item()), epoch)\n",
    "            tbw.add_scalar('train_w_loss1', float(w_cur_loss1.item()), epoch)\n",
    "            tbw.add_scalar('train_s_loss1', float(s_cur_loss1.item()), epoch)\n",
    "            s_total_loss0 = 0\n",
    "            s_total_loss1 = 0\n",
    "            w_total_loss0 = 0\n",
    "            w_total_loss1 = 0\n",
    "            start_time = time.time()\n",
    "            # attention Maps\n",
    "            \n",
    "#             print(imgs[-1].cpu().shape, captions.shape, len(attn_maps),attn_maps[-1].shape, att_sze)\n",
    "            img_set, _ = \\\n",
    "                build_super_images(imgs[-1].cpu(), captions, ixtoword, attn_maps, att_sze)\n",
    "            if img_set is not None:\n",
    "                im = Image.fromarray(img_set)\n",
    "                fullpath = '{0}/attention_maps_e{1}_s{2}.png'.format(image_dir,epoch, step)\n",
    "                im.save(fullpath)\n",
    "    return count"
   ]
  },
  {
   "cell_type": "code",
   "execution_count": 7,
   "metadata": {},
   "outputs": [],
   "source": [
    "\n",
    "def evaluate(dataloader, cnn_model, rnn_model, batch_size):\n",
    "    cnn_model.eval()\n",
    "    rnn_model.eval()\n",
    "    s_total_loss = 0\n",
    "    w_total_loss = 0\n",
    "    for step, data in enumerate(dataloader, 0):\n",
    "        real_imgs, captions, cap_lens, \\\n",
    "                class_ids, keys = prepare_data(data)\n",
    "\n",
    "        words_features, sent_code = cnn_model(real_imgs[-1])\n",
    "        # nef = words_features.size(1)\n",
    "        # words_features = words_features.view(batch_size, nef, -1)\n",
    "\n",
    "        hidden = rnn_model.init_hidden(batch_size)\n",
    "        words_emb, sent_emb = rnn_model(captions, cap_lens, hidden)\n",
    "\n",
    "        w_loss0, w_loss1, attn = words_loss(words_features, words_emb, labels,\n",
    "                                            cap_lens, class_ids, batch_size)\n",
    "        w_total_loss += (w_loss0 + w_loss1).data\n",
    "\n",
    "        s_loss0, s_loss1 = \\\n",
    "            sent_loss(sent_code, sent_emb, labels, class_ids, batch_size)\n",
    "        s_total_loss += (s_loss0 + s_loss1).data\n",
    "\n",
    "        if step == 50:\n",
    "            break\n",
    "\n",
    "    s_cur_loss = s_total_loss / step\n",
    "    w_cur_loss = w_total_loss / step\n",
    "\n",
    "    return s_cur_loss, w_cur_loss"
   ]
  },
  {
   "cell_type": "code",
   "execution_count": 12,
   "metadata": {},
   "outputs": [],
   "source": [
    "# text_encoder = TEXT_TRANSFORMER_ENCODERv2(emb=cfg.TEXT.EMBEDDING_DIM\n",
    "#                                             ,heads=8\n",
    "#                                             ,depth=3\n",
    "#                                             ,seq_length=cfg.TEXT.WORDS_NUM\n",
    "#                                             ,num_tokens=dataset.n_words)"
   ]
  },
  {
   "cell_type": "code",
   "execution_count": 13,
   "metadata": {},
   "outputs": [],
   "source": [
    "# sd = torch.load('../output/F_TRX_coco_DAMSM_2020_10_07_10_48_23/Model/text_encoder35.pth')\n"
   ]
  },
  {
   "cell_type": "code",
   "execution_count": 14,
   "metadata": {},
   "outputs": [],
   "source": [
    "# new_state_dict = {}\n",
    "# for k,v in sd.items():\n",
    "#     new_state_dict[k.replace('module.','')]=v\n",
    "# new_state_dict\n",
    "# text_encoder.load_state_dict(new_state_dict)"
   ]
  },
  {
   "cell_type": "code",
   "execution_count": 45,
   "metadata": {},
   "outputs": [],
   "source": [
    "\n",
    "def build_models():\n",
    "    # build model ############################################################\n",
    "#     text_encoder = RNN_ENCODER(dataset.n_words, nhidden=cfg.TEXT.EMBEDDING_DIM)\n",
    "    text_encoder = TEXT_TRANSFORMER_ENCODERv2(emb=cfg.TEXT.EMBEDDING_DIM\n",
    "                                            ,heads=8\n",
    "                                            ,depth=3\n",
    "                                            ,seq_length=cfg.TEXT.WORDS_NUM\n",
    "                                            ,num_tokens=dataset.n_words)\n",
    "    image_encoder = CNN_ENCODER(cfg.TEXT.EMBEDDING_DIM)\n",
    "    labels = Variable(torch.LongTensor(range(batch_size)))\n",
    "    start_epoch = 0\n",
    "    cfg.TRAIN.NET_E = '../output/T_TRX_coco_DAMSM_2020_10_07_20_59_38/Model/text_encoder100.pth'\n",
    "    if cfg.TRAIN.NET_E != '':\n",
    "        print('Loading... ', cfg.TRAIN.NET_E)\n",
    "        state_dict = torch.load(cfg.TRAIN.NET_E)\n",
    "        text_encoder.load_state_dict(state_dict)\n",
    "        print('Load ', cfg.TRAIN.NET_E)\n",
    "        #\n",
    "        name = cfg.TRAIN.NET_E.replace('text_encoder', 'image_encoder')\n",
    "        state_dict = torch.load(name)\n",
    "        image_encoder.load_state_dict(state_dict)\n",
    "        print('Load ', name)\n",
    "\n",
    "        istart = cfg.TRAIN.NET_E.rfind('_') + 8\n",
    "        iend = cfg.TRAIN.NET_E.rfind('.')\n",
    "        start_epoch = cfg.TRAIN.NET_E[istart:iend]\n",
    "        start_epoch = int(start_epoch) + 1\n",
    "        print('start_epoch', start_epoch)\n",
    "    if cfg.CUDA:\n",
    "        text_encoder = text_encoder.cuda()\n",
    "        image_encoder = image_encoder.cuda()\n",
    "        labels = labels.cuda()\n",
    "\n",
    "    return text_encoder, image_encoder, labels, start_epoch\n"
   ]
  },
  {
   "cell_type": "code",
   "execution_count": 9,
   "metadata": {
    "scrolled": true
   },
   "outputs": [
    {
     "name": "stdout",
     "output_type": "stream",
     "text": [
      "Using config:\n",
      "{'B_VALIDATION': False,\n",
      " 'CONFIG_NAME': 'DAMSM',\n",
      " 'CUDA': True,\n",
      " 'DATASET_NAME': 'coco',\n",
      " 'DATA_DIR': '../data/coco/',\n",
      " 'GAN': {'B_ATTENTION': True,\n",
      "         'B_DCGAN': False,\n",
      "         'CONDITION_DIM': 100,\n",
      "         'DF_DIM': 64,\n",
      "         'GF_DIM': 128,\n",
      "         'R_NUM': 2,\n",
      "         'Z_DIM': 100},\n",
      " 'GPU_ID': 0,\n",
      " 'RNN_TYPE': 'LSTM',\n",
      " 'TEXT': {'CAPTIONS_PER_IMAGE': 5, 'EMBEDDING_DIM': 256, 'WORDS_NUM': 15},\n",
      " 'TRAIN': {'BATCH_SIZE': 96,\n",
      "           'B_NET_D': True,\n",
      "           'DISCRIMINATOR_LR': 0.0002,\n",
      "           'ENCODER_LR': 0.00026,\n",
      "           'FLAG': True,\n",
      "           'GENERATOR_LR': 0.0002,\n",
      "           'MAX_EPOCH': 600,\n",
      "           'NET_E': '../output/T_L1_TRX_coco_DAMSM_2020_10_09_12_24_07/Model/text_encoder10.pth',\n",
      "           'NET_G': '',\n",
      "           'RNN_GRAD_CLIP': 0.5,\n",
      "           'SMOOTH': {'GAMMA1': 4.0,\n",
      "                      'GAMMA2': 5.0,\n",
      "                      'GAMMA3': 10.0,\n",
      "                      'LAMBDA': 1.0},\n",
      "           'SNAPSHOT_INTERVAL': 5},\n",
      " 'TREE': {'BASE_SIZE': 299, 'BRANCH_NUM': 1},\n",
      " 'WORKERS': 0}\n"
     ]
    },
    {
     "name": "stderr",
     "output_type": "stream",
     "text": [
      "/media/MyDataStor1/mmrl/MMRL/notebooks/miscc/config.py:104: YAMLLoadWarning: calling yaml.load() without Loader=... is deprecated, as the default Loader is unsafe. Please read https://msg.pyyaml.org/load for full details.\n",
      "  yaml_cfg = edict(yaml.load(f))\n"
     ]
    }
   ],
   "source": [
    "\n",
    "wlosses = []\n",
    "slosses = []\n",
    "\n",
    "args = parse_args()\n",
    "if args.cfg_file is not None:\n",
    "    cfg_from_file(args.cfg_file)\n",
    "\n",
    "if args.gpu_id == -1:\n",
    "    cfg.CUDA = False\n",
    "else:\n",
    "    cfg.GPU_ID = args.gpu_id\n",
    "\n",
    "if args.data_dir != '':\n",
    "    cfg.DATA_DIR = args.data_dir\n",
    "print('Using config:')\n",
    "pprint.pprint(cfg)\n",
    "\n",
    "if not cfg.TRAIN.FLAG:\n",
    "    args.manualSeed = 5000\n",
    "elif args.manualSeed is None:\n",
    "    args.manualSeed = random.randint(1, 10000)\n",
    "random.seed(args.manualSeed)\n",
    "np.random.seed(args.manualSeed)\n",
    "torch.manual_seed(args.manualSeed)\n",
    "if cfg.CUDA:\n",
    "    torch.cuda.manual_seed_all(args.manualSeed)\n",
    "\n",
    "# ##########################################################################\n",
    "# now = datetime.datetime.now(dateutil.tz.tzlocal())\n",
    "# timestamp = now.strftime('%Y_%m_%d_%H_%M_%S')\n",
    "# output_dir = '../output/transfomer_test_{0}_{1}_{2}'.format(cfg.DATASET_NAME, cfg.CONFIG_NAME, timestamp)\n",
    "\n",
    "# model_dir = os.path.join(output_dir, 'Model')\n",
    "# image_dir = os.path.join(output_dir, 'Image')\n",
    "# metrics_dir = os.path.join(output_dir, 'Metrics')\n",
    "# mkdir_p(model_dir)\n",
    "# mkdir_p(image_dir)\n",
    "# mkdir_p(metrics_dir)\n",
    "\n",
    "torch.cuda.set_device(cfg.GPU_ID)\n",
    "cudnn.benchmark = True\n",
    "\n"
   ]
  },
  {
   "cell_type": "code",
   "execution_count": 10,
   "metadata": {},
   "outputs": [
    {
     "name": "stderr",
     "output_type": "stream",
     "text": [
      "/home/mshaikh2/anaconda3/envs/pytorch-gpu/lib/python3.7/site-packages/torchvision/transforms/transforms.py:210: UserWarning: The use of the transforms.Scale transform is deprecated, please use transforms.Resize instead.\n",
      "  warnings.warn(\"The use of the transforms.Scale transform is deprecated, \" +\n"
     ]
    },
    {
     "name": "stdout",
     "output_type": "stream",
     "text": [
      "Load filenames from: ../data/coco//train/filenames.pickle (82783)\n",
      "Load filenames from: ../data/coco//test/filenames.pickle (40470)\n",
      "Load from:  ../data/coco/captions.pickle\n",
      "../data/coco/train\n",
      "27297 5\n"
     ]
    }
   ],
   "source": [
    "# Get data loader ##################################################\n",
    "imsize = cfg.TREE.BASE_SIZE * (2 ** (cfg.TREE.BRANCH_NUM-1))\n",
    "batch_size = cfg.TRAIN.BATCH_SIZE\n",
    "image_transform = transforms.Compose([\n",
    "    transforms.Scale(int(imsize * 76 / 64)),\n",
    "    transforms.RandomCrop(imsize),\n",
    "    transforms.RandomHorizontalFlip()])\n",
    "dataset = TextDataset(cfg.DATA_DIR, 'train',\n",
    "                      base_size=cfg.TREE.BASE_SIZE,\n",
    "                      transform=image_transform)\n",
    "\n",
    "print(dataset.n_words, dataset.embeddings_num)\n",
    "assert dataset\n"
   ]
  },
  {
   "cell_type": "code",
   "execution_count": 42,
   "metadata": {},
   "outputs": [
    {
     "data": {
      "text/plain": [
       "(80, 148)"
      ]
     },
     "execution_count": 42,
     "metadata": {},
     "output_type": "execute_result"
    }
   ],
   "source": [
    "dataset.wordtoix['man'],dataset.wordtoix['guy']"
   ]
  },
  {
   "cell_type": "code",
   "execution_count": 12,
   "metadata": {},
   "outputs": [
    {
     "name": "stdout",
     "output_type": "stream",
     "text": [
      "Load filenames from: ../data/coco//train/filenames.pickle (82783)\n",
      "Load filenames from: ../data/coco//test/filenames.pickle (40470)\n",
      "Load from:  ../data/coco/captions.pickle\n",
      "../data/coco/test\n"
     ]
    }
   ],
   "source": [
    "dataloader = torch.utils.data.DataLoader(\n",
    "    dataset, batch_size=batch_size, drop_last=True,\n",
    "    shuffle=True, num_workers=int(cfg.WORKERS))\n",
    "\n",
    "# # validation data #\n",
    "dataset_val = TextDataset(cfg.DATA_DIR, 'test',\n",
    "                          base_size=cfg.TREE.BASE_SIZE,\n",
    "                          transform=image_transform)\n",
    "dataloader_val = torch.utils.data.DataLoader(\n",
    "    dataset_val, batch_size=batch_size, drop_last=True,\n",
    "    shuffle=True, num_workers=int(cfg.WORKERS))\n",
    "\n"
   ]
  },
  {
   "cell_type": "code",
   "execution_count": 46,
   "metadata": {},
   "outputs": [
    {
     "name": "stdout",
     "output_type": "stream",
     "text": [
      "Load pretrained model from  https://download.pytorch.org/models/inception_v3_google-1a9a5a14.pth\n",
      "Loading...  ../output/T_TRX_coco_DAMSM_2020_10_07_20_59_38/Model/text_encoder100.pth\n",
      "Load  ../output/T_TRX_coco_DAMSM_2020_10_07_20_59_38/Model/text_encoder100.pth\n",
      "Load  ../output/T_TRX_coco_DAMSM_2020_10_07_20_59_38/Model/image_encoder100.pth\n",
      "start_epoch 101\n"
     ]
    }
   ],
   "source": [
    "# Train ##############################################################\n",
    "text_encoder, image_encoder, labels, start_epoch = build_models()\n"
   ]
  },
  {
   "cell_type": "code",
   "execution_count": 23,
   "metadata": {},
   "outputs": [],
   "source": [
    "# text_encoder = torch.nn.DataParallel(text_encoder, device_ids=[0,1],)"
   ]
  },
  {
   "cell_type": "code",
   "execution_count": 24,
   "metadata": {
    "scrolled": true
   },
   "outputs": [],
   "source": [
    "# counter=0\n",
    "# for k,v in text_encoder.named_parameters():\n",
    "#     print(k,'\\n',v)\n",
    "#     if counter==3:\n",
    "#         break\n",
    "#     counter+=1"
   ]
  },
  {
   "cell_type": "code",
   "execution_count": 25,
   "metadata": {},
   "outputs": [
    {
     "data": {
      "text/plain": [
       "(528482304, 206978560, None)"
      ]
     },
     "execution_count": 25,
     "metadata": {},
     "output_type": "execute_result"
    }
   ],
   "source": [
    "torch.cuda.memory_cached(),torch.cuda.memory_allocated(),torch.cuda.reset_max_memory_cached()"
   ]
  },
  {
   "cell_type": "code",
   "execution_count": 286,
   "metadata": {},
   "outputs": [
    {
     "data": {
      "text/plain": [
       "(1465909248, 1378206208)"
      ]
     },
     "execution_count": 286,
     "metadata": {},
     "output_type": "execute_result"
    }
   ],
   "source": [
    "torch.cuda.empty_cache()\n",
    "torch.cuda.memory_cached(),torch.cuda.memory_allocated()"
   ]
  },
  {
   "cell_type": "code",
   "execution_count": 333,
   "metadata": {
    "scrolled": true
   },
   "outputs": [
    {
     "name": "stdout",
     "output_type": "stream",
     "text": [
      "Loading...  ../output/TRX_coco_DAMSM_2020_10_04_14_24_37/Model/text_encoder100.pth\n",
      "wemb_linear.weight\n",
      "token_embedding.weight\n"
     ]
    }
   ],
   "source": [
    "# # NET_E = '../output/TRX_coco_DAMSM_2020_10_05_17_21_26/Model/text_encoder5.pth' #1 layer fixed pos emb + bert weights\n",
    "# NET_E = '../output/TRX_coco_DAMSM_2020_10_04_14_24_37/Model/text_encoder100.pth' #4 layers variable pos and word emb\n",
    "# print('Loading... ', NET_E)\n",
    "# pretrained_state_dict = torch.load(NET_E)\n",
    "# # print(state_dict)\n",
    "# new_model_k_v=text_encoder.state_dict()\n",
    "# for k,v in new_model_k_v.items():\n",
    "# #     print(k,new_model_k_v[k])\n",
    "#     if k in ['wemb_linear.weight', 'token_embedding.weight']:\n",
    "#         print(k)        \n",
    "#     else:\n",
    "#         new_model_k_v[k] =  pretrained_state_dict[k]\n",
    "        \n",
    "    \n",
    "\n"
   ]
  },
  {
   "cell_type": "code",
   "execution_count": 26,
   "metadata": {},
   "outputs": [],
   "source": [
    "# pretrained_state_dict['wemb_linear.weight']\n",
    "# new_model_k_v=text_encoder.state_dict()\n",
    "# new_model_k_v\n",
    "# text_encoder.state_dict()"
   ]
  },
  {
   "cell_type": "code",
   "execution_count": 335,
   "metadata": {},
   "outputs": [
    {
     "data": {
      "text/plain": [
       "torch.Size([27297, 256])"
      ]
     },
     "execution_count": 335,
     "metadata": {},
     "output_type": "execute_result"
    }
   ],
   "source": [
    "# pretrained_state_dict['token_embedding.weight'].shape"
   ]
  },
  {
   "cell_type": "code",
   "execution_count": 336,
   "metadata": {
    "scrolled": true
   },
   "outputs": [
    {
     "data": {
      "text/plain": [
       "torch.Size([27297, 768])"
      ]
     },
     "execution_count": 336,
     "metadata": {},
     "output_type": "execute_result"
    }
   ],
   "source": [
    "# new_model_k_v['token_embedding.weight'].shape"
   ]
  },
  {
   "cell_type": "code",
   "execution_count": 337,
   "metadata": {},
   "outputs": [
    {
     "data": {
      "text/plain": [
       "<All keys matched successfully>"
      ]
     },
     "execution_count": 337,
     "metadata": {},
     "output_type": "execute_result"
    }
   ],
   "source": [
    "# text_encoder.load_state_dict(new_model_k_v)"
   ]
  },
  {
   "cell_type": "code",
   "execution_count": 338,
   "metadata": {},
   "outputs": [],
   "source": [
    "# torch.save(text_encoder.state_dict(),'../DAMSMencoders/coco/text_encoder_TRX.pth')"
   ]
  },
  {
   "cell_type": "markdown",
   "metadata": {},
   "source": [
    "# From embedding layer"
   ]
  },
  {
   "cell_type": "code",
   "execution_count": 47,
   "metadata": {},
   "outputs": [
    {
     "data": {
      "text/plain": [
       "(array([[ 1.5284300e-01,  2.1297704e-04,  2.3209522e+00, ...,\n",
       "          8.0402205e-03, -1.2186961e-01, -1.9714125e-01],\n",
       "        [-2.2480462e-01, -5.3896052e-01,  2.6411407e+00, ...,\n",
       "          1.6978313e-01, -1.5279526e-01,  1.2985042e-01],\n",
       "        [ 3.7879401e-01, -9.2103451e-02,  1.2611184e+00, ...,\n",
       "         -1.5905996e-01, -1.1091286e-01, -5.7504946e-01],\n",
       "        ...,\n",
       "        [-3.0134082e-01, -2.3594058e-01,  2.0404999e+00, ...,\n",
       "          8.0407433e-02,  2.5283659e-01, -1.5133683e-01],\n",
       "        [ 1.8477651e-01,  2.3810039e-01,  1.3383291e+00, ...,\n",
       "          5.1265138e-01,  5.5814207e-01, -3.2542077e-01],\n",
       "        [-2.8363186e-01, -2.1988491e-02,  1.4036442e+00, ...,\n",
       "          1.8393803e-01,  8.8252729e-01,  2.8096929e-01]], dtype=float32),\n",
       " (27297, 768))"
      ]
     },
     "execution_count": 47,
     "metadata": {},
     "output_type": "execute_result"
    }
   ],
   "source": [
    "word_embs = np.array(text_encoder.token_embedding.weight.data.detach().cpu())\n",
    "word_embs, word_embs.shape"
   ]
  },
  {
   "cell_type": "code",
   "execution_count": 48,
   "metadata": {},
   "outputs": [],
   "source": [
    "a = word_embs[dataset.wordtoix['man']]\n",
    "b = word_embs[dataset.wordtoix['boy']]\n",
    "c = word_embs[dataset.wordtoix['cow']]"
   ]
  },
  {
   "cell_type": "code",
   "execution_count": 49,
   "metadata": {},
   "outputs": [
    {
     "data": {
      "text/plain": [
       "(9.055822372436523, 17.35295295715332, 18.667699813842773)"
      ]
     },
     "execution_count": 49,
     "metadata": {},
     "output_type": "execute_result"
    }
   ],
   "source": [
    "distance.euclidean(a,b),distance.euclidean(a,c),distance.euclidean(b,c)"
   ]
  },
  {
   "cell_type": "markdown",
   "metadata": {},
   "source": [
    "# From output layer"
   ]
  },
  {
   "cell_type": "code",
   "execution_count": 62,
   "metadata": {},
   "outputs": [
    {
     "data": {
      "text/plain": [
       "(tensor([[80]], device='cuda:0'),\n",
       " tensor([[455]], device='cuda:0'),\n",
       " tensor([[6190]], device='cuda:0'))"
      ]
     },
     "execution_count": 62,
     "metadata": {},
     "output_type": "execute_result"
    }
   ],
   "source": [
    "a = torch.tensor(np.expand_dims([dataset.wordtoix['man']],0)).cuda()\n",
    "b = torch.tensor(np.expand_dims([dataset.wordtoix['boy']],0)).cuda()\n",
    "c = torch.tensor(np.expand_dims([dataset.wordtoix['climate']],0)).cuda()\n",
    "a,b,c"
   ]
  },
  {
   "cell_type": "code",
   "execution_count": 63,
   "metadata": {},
   "outputs": [],
   "source": [
    "a_out = np.asarray(text_encoder(a)[1].detach().cpu())\n",
    "b_out = np.asarray(text_encoder(b)[1].detach().cpu())\n",
    "c_out = np.asarray(text_encoder(c)[1].detach().cpu())"
   ]
  },
  {
   "cell_type": "code",
   "execution_count": 64,
   "metadata": {},
   "outputs": [
    {
     "data": {
      "text/plain": [
       "(19.026798248291016, 21.34123992919922, 23.632966995239258)"
      ]
     },
     "execution_count": 64,
     "metadata": {},
     "output_type": "execute_result"
    }
   ],
   "source": [
    "distance.euclidean(a_out,b_out),distance.euclidean(a_out,c_out),distance.euclidean(b_out,c_out)"
   ]
  },
  {
   "cell_type": "markdown",
   "metadata": {},
   "source": [
    "# Positional Embedding Layer"
   ]
  },
  {
   "cell_type": "code",
   "execution_count": 65,
   "metadata": {},
   "outputs": [
    {
     "name": "stdout",
     "output_type": "stream",
     "text": [
      "(15, 256)\n"
     ]
    },
    {
     "data": {
      "text/plain": [
       "<matplotlib.axes._subplots.AxesSubplot at 0x7f342b5f6950>"
      ]
     },
     "execution_count": 65,
     "metadata": {},
     "output_type": "execute_result"
    },
    {
     "data": {
      "image/png": "[encoded data removed]",
      "text/plain": [
       "<Figure size 432x288 with 1 Axes>"
      ]
     },
     "metadata": {
      "needs_background": "light"
     },
     "output_type": "display_data"
    }
   ],
   "source": [
    "df = pd.DataFrame(np.asarray(text_encoder.pos_embedding.weight.data.detach().cpu()))\n",
    "print(df.shape)\n",
    "df.T.plot(legend=False,kind='')"
   ]
  },
  {
   "cell_type": "code",
   "execution_count": 19,
   "metadata": {},
   "outputs": [
    {
     "data": {
      "text/plain": [
       "(27297, 768)"
      ]
     },
     "execution_count": 19,
     "metadata": {},
     "output_type": "execute_result"
    }
   ],
   "source": [
    "df = pd.read_pickle('../data/coco/bert_word_embedding.pickle')\n",
    "embedding_matrix = df.values\n",
    "embedding_matrix.shape\n",
    "\n",
    "\n",
    "20000\n",
    "{\n",
    "    'the':0,\n",
    "    'man':\n",
    "    ..\n",
    "    \n",
    "    \n",
    "    \n",
    "    \n",
    "    \n",
    "    \n",
    "    \n",
    "}\n",
    "'the cat and the mouse are running after the man'\n",
    "[0,3,4,.......] ---- [768] - word_emb\n",
    "\n",
    "[0,1,2,3,4,.....,14] ---- [256,] - pos_emb\n",
    "\n",
    "caption_mask?\n",
    "\n",
    "text_en --- text_fr"
   ]
  },
  {
   "cell_type": "code",
   "execution_count": 20,
   "metadata": {},
   "outputs": [
    {
     "data": {
      "text/plain": [
       "tensor([[ 0.1088, -0.1163,  2.4489,  ..., -0.1143, -0.1169, -0.1359],\n",
       "        [-0.0785, -0.4054,  2.6332,  ...,  0.1495,  0.0145,  0.1658],\n",
       "        [ 0.3811, -0.1134,  1.4889,  ..., -0.2933,  0.0081, -0.5517],\n",
       "        ...,\n",
       "        [-0.3013, -0.2359,  2.0405,  ...,  0.0804,  0.2528, -0.1513],\n",
       "        [ 0.1848,  0.2381,  1.3383,  ...,  0.5127,  0.5581, -0.3254],\n",
       "        [-0.2836, -0.0220,  1.4036,  ...,  0.1839,  0.8825,  0.2810]],\n",
       "       device='cuda:0')"
      ]
     },
     "execution_count": 20,
     "metadata": {},
     "output_type": "execute_result"
    }
   ],
   "source": [
    "embedding_matrix_ = torch.FloatTensor(embedding_matrix)\n",
    "embedding_matrix_ = embedding_matrix_.cuda()\n",
    "embedding_matrix_"
   ]
  },
  {
   "cell_type": "code",
   "execution_count": 21,
   "metadata": {},
   "outputs": [
    {
     "data": {
      "text/plain": [
       "tensor([[ 0.0000e+00,  1.0000e+00,  0.0000e+00,  ...,  1.0000e+00,\n",
       "          0.0000e+00,  1.0000e+00],\n",
       "        [ 8.4147e-01,  5.4030e-01,  8.2843e-01,  ...,  1.0000e+00,\n",
       "          1.0243e-04,  1.0000e+00],\n",
       "        [ 9.0930e-01, -4.1615e-01,  9.2799e-01,  ...,  1.0000e+00,\n",
       "          2.0486e-04,  1.0000e+00],\n",
       "        ...,\n",
       "        [-5.3657e-01,  8.4385e-01, -7.5179e-01,  ...,  1.0000e+00,\n",
       "          1.2291e-03,  1.0000e+00],\n",
       "        [ 4.2017e-01,  9.0745e-01,  1.2520e-01,  ...,  1.0000e+00,\n",
       "          1.3316e-03,  1.0000e+00],\n",
       "        [ 9.9061e-01,  1.3674e-01,  8.9204e-01,  ...,  1.0000e+00,\n",
       "          1.4340e-03,  1.0000e+00]], device='cuda:0')"
      ]
     },
     "execution_count": 21,
     "metadata": {},
     "output_type": "execute_result"
    }
   ],
   "source": [
    "pos_encoding = PE.positional_encoding(cfg.TEXT.WORDS_NUM, dimensions=768)\n",
    "pos_encoding = np.squeeze(pos_encoding,axis=0)\n",
    "pos_encoding_ = torch.FloatTensor(pos_encoding)\n",
    "pos_encoding_ = pos_encoding_.cuda()\n",
    "pos_encoding_"
   ]
  },
  {
   "cell_type": "code",
   "execution_count": 22,
   "metadata": {},
   "outputs": [],
   "source": [
    "text_encoder.init_embeddings(word_embedding=embedding_matrix_,positional_embedding=pos_encoding_)"
   ]
  },
  {
   "cell_type": "code",
   "execution_count": 20,
   "metadata": {
    "scrolled": true
   },
   "outputs": [
    {
     "data": {
      "text/plain": [
       "tensor([[ 0.1088, -0.1163,  2.4489,  ..., -0.1143, -0.1169, -0.1359],\n",
       "        [-0.0785, -0.4054,  2.6332,  ...,  0.1495,  0.0145,  0.1658],\n",
       "        [ 0.3811, -0.1134,  1.4889,  ..., -0.2933,  0.0081, -0.5517],\n",
       "        ...,\n",
       "        [-0.3013, -0.2359,  2.0405,  ...,  0.0804,  0.2528, -0.1513],\n",
       "        [ 0.1848,  0.2381,  1.3383,  ...,  0.5127,  0.5581, -0.3254],\n",
       "        [-0.2836, -0.0220,  1.4036,  ...,  0.1839,  0.8825,  0.2810]],\n",
       "       device='cuda:0')"
      ]
     },
     "execution_count": 20,
     "metadata": {},
     "output_type": "execute_result"
    }
   ],
   "source": [
    "text_encoder.token_embedding.weight.data"
   ]
  },
  {
   "cell_type": "code",
   "execution_count": 21,
   "metadata": {},
   "outputs": [
    {
     "data": {
      "text/plain": [
       "tensor([[ 0.0000e+00,  1.0000e+00,  0.0000e+00,  ...,  1.0000e+00,\n",
       "          0.0000e+00,  1.0000e+00],\n",
       "        [ 8.4147e-01,  5.4030e-01,  8.2843e-01,  ...,  1.0000e+00,\n",
       "          1.0243e-04,  1.0000e+00],\n",
       "        [ 9.0930e-01, -4.1615e-01,  9.2799e-01,  ...,  1.0000e+00,\n",
       "          2.0486e-04,  1.0000e+00],\n",
       "        ...,\n",
       "        [-5.3657e-01,  8.4385e-01, -7.5179e-01,  ...,  1.0000e+00,\n",
       "          1.2291e-03,  1.0000e+00],\n",
       "        [ 4.2017e-01,  9.0745e-01,  1.2520e-01,  ...,  1.0000e+00,\n",
       "          1.3316e-03,  1.0000e+00],\n",
       "        [ 9.9061e-01,  1.3674e-01,  8.9204e-01,  ...,  1.0000e+00,\n",
       "          1.4340e-03,  1.0000e+00]], device='cuda:0')"
      ]
     },
     "execution_count": 21,
     "metadata": {},
     "output_type": "execute_result"
    }
   ],
   "source": [
    "text_encoder.pos_embedding.weight.data"
   ]
  },
  {
   "cell_type": "code",
   "execution_count": 22,
   "metadata": {},
   "outputs": [
    {
     "name": "stdout",
     "output_type": "stream",
     "text": [
      "Parameter containing:\n",
      "tensor([[ 0.1088, -0.1163,  2.4489,  ..., -0.1143, -0.1169, -0.1359],\n",
      "        [-0.0785, -0.4054,  2.6332,  ...,  0.1495,  0.0145,  0.1658],\n",
      "        [ 0.3811, -0.1134,  1.4889,  ..., -0.2933,  0.0081, -0.5517],\n",
      "        ...,\n",
      "        [-0.3013, -0.2359,  2.0405,  ...,  0.0804,  0.2528, -0.1513],\n",
      "        [ 0.1848,  0.2381,  1.3383,  ...,  0.5127,  0.5581, -0.3254],\n",
      "        [-0.2836, -0.0220,  1.4036,  ...,  0.1839,  0.8825,  0.2810]],\n",
      "       device='cuda:0', requires_grad=True)\n",
      "Parameter containing:\n",
      "tensor([[ 0.0000e+00,  1.0000e+00,  0.0000e+00,  ...,  1.0000e+00,\n",
      "          0.0000e+00,  1.0000e+00],\n",
      "        [ 8.4147e-01,  5.4030e-01,  8.2843e-01,  ...,  1.0000e+00,\n",
      "          1.0243e-04,  1.0000e+00],\n",
      "        [ 9.0930e-01, -4.1615e-01,  9.2799e-01,  ...,  1.0000e+00,\n",
      "          2.0486e-04,  1.0000e+00],\n",
      "        ...,\n",
      "        [-5.3657e-01,  8.4385e-01, -7.5179e-01,  ...,  1.0000e+00,\n",
      "          1.2291e-03,  1.0000e+00],\n",
      "        [ 4.2017e-01,  9.0745e-01,  1.2520e-01,  ...,  1.0000e+00,\n",
      "          1.3316e-03,  1.0000e+00],\n",
      "        [ 9.9061e-01,  1.3674e-01,  8.9204e-01,  ...,  1.0000e+00,\n",
      "          1.4340e-03,  1.0000e+00]], device='cuda:0')\n",
      "Parameter containing:\n",
      "tensor([[-0.0239,  0.0623, -0.0085,  ...,  0.0568,  0.0538, -0.0355],\n",
      "        [ 0.0488, -0.0554,  0.0419,  ...,  0.0112,  0.0320,  0.0084],\n",
      "        [ 0.0562,  0.0010, -0.0118,  ..., -0.0600, -0.0373, -0.0609],\n",
      "        ...,\n",
      "        [-0.0073,  0.0023,  0.0107,  ..., -0.0578,  0.0143,  0.0129],\n",
      "        [-0.0081, -0.0114, -0.0053,  ...,  0.0413, -0.0352,  0.0598],\n",
      "        [ 0.0328,  0.0122, -0.0539,  ...,  0.0612,  0.0472, -0.0176]],\n",
      "       device='cuda:0', requires_grad=True)\n",
      "Parameter containing:\n",
      "tensor([[-0.0117, -0.0490,  0.0340,  ...,  0.0619, -0.0561, -0.0147],\n",
      "        [-0.0142,  0.0399,  0.0047,  ..., -0.0204,  0.0351,  0.0507],\n",
      "        [ 0.0471,  0.0113,  0.0493,  ...,  0.0195, -0.0321, -0.0007],\n",
      "        ...,\n",
      "        [ 0.0608,  0.0211, -0.0421,  ..., -0.0590, -0.0567,  0.0293],\n",
      "        [ 0.0612,  0.0576, -0.0291,  ...,  0.0438,  0.0204,  0.0412],\n",
      "        [-0.0330, -0.0068, -0.0184,  ..., -0.0258, -0.0421,  0.0461]],\n",
      "       device='cuda:0', requires_grad=True)\n",
      "Parameter containing:\n",
      "tensor([[-0.0242,  0.0118,  0.0196,  ...,  0.0545, -0.0193, -0.0180],\n",
      "        [-0.0111, -0.0228, -0.0503,  ...,  0.0217,  0.0311, -0.0236],\n",
      "        [ 0.0593, -0.0165, -0.0079,  ...,  0.0391, -0.0381, -0.0378],\n",
      "        ...,\n",
      "        [ 0.0208,  0.0531,  0.0305,  ..., -0.0035,  0.0393, -0.0381],\n",
      "        [ 0.0166, -0.0058, -0.0537,  ...,  0.0437,  0.0466,  0.0577],\n",
      "        [ 0.0585, -0.0110,  0.0065,  ..., -0.0190,  0.0194, -0.0472]],\n",
      "       device='cuda:0', requires_grad=True)\n",
      "Parameter containing:\n",
      "tensor([[-0.0038,  0.0073,  0.0093,  ...,  0.0040, -0.0099, -0.0202],\n",
      "        [-0.0167, -0.0016,  0.0022,  ..., -0.0087, -0.0014,  0.0161],\n",
      "        [ 0.0208, -0.0124,  0.0204,  ...,  0.0166, -0.0012,  0.0084],\n",
      "        ...,\n",
      "        [-0.0115,  0.0107, -0.0208,  ..., -0.0119,  0.0137, -0.0140],\n",
      "        [ 0.0165, -0.0162,  0.0022,  ..., -0.0206, -0.0159,  0.0196],\n",
      "        [ 0.0163, -0.0023,  0.0193,  ...,  0.0151,  0.0023,  0.0121]],\n",
      "       device='cuda:0', requires_grad=True)\n",
      "Parameter containing:\n",
      "tensor([-1.6962e-02,  9.1892e-03, -1.1854e-02,  3.7471e-03, -1.7182e-02,\n",
      "        -1.7211e-02,  1.7577e-04,  1.3676e-02,  1.4741e-02, -8.5595e-03,\n",
      "        -3.7037e-03,  2.0025e-02, -1.3156e-02,  5.8231e-03,  5.2563e-04,\n",
      "         1.7586e-03,  6.8424e-03,  1.8951e-02, -3.4587e-03,  3.9937e-03,\n",
      "        -1.2087e-02,  1.7106e-02, -4.9827e-03, -7.3739e-03,  5.5961e-03,\n",
      "        -1.4038e-02,  1.5666e-02, -1.9777e-02,  8.5890e-03,  2.0033e-02,\n",
      "         9.2284e-03, -8.2887e-03, -1.6608e-02, -1.1714e-02,  2.1518e-02,\n",
      "         4.9220e-03,  1.9671e-02, -1.2662e-02,  1.9424e-02, -6.5928e-03,\n",
      "         1.7352e-02,  5.0315e-03, -1.4934e-03, -6.5567e-03, -6.8420e-04,\n",
      "        -1.0204e-02, -6.5360e-03,  2.2083e-02,  1.9512e-02,  5.0876e-03,\n",
      "         4.0604e-03, -1.6474e-02,  7.4633e-03, -8.5191e-03, -1.2846e-02,\n",
      "         1.8553e-03, -5.4779e-03,  1.1821e-02,  1.5127e-02,  1.9739e-02,\n",
      "         2.0761e-02,  1.3532e-02, -1.9031e-03,  1.6995e-02,  1.7803e-02,\n",
      "         2.1633e-03,  9.2667e-03, -7.7631e-03, -2.3009e-03, -1.3836e-02,\n",
      "        -1.3621e-02, -1.7089e-02,  5.9993e-03, -5.1851e-03, -1.1280e-02,\n",
      "        -3.1976e-03, -1.1632e-02, -1.2718e-02,  1.9991e-02, -1.1812e-02,\n",
      "        -7.6749e-03, -3.7123e-03,  6.9219e-03,  2.9793e-03, -6.6239e-03,\n",
      "         2.4214e-08, -1.7322e-02, -1.0416e-02,  1.2827e-02,  1.6819e-02,\n",
      "         4.9632e-03, -1.9668e-02,  1.7686e-02,  1.9154e-02, -2.0870e-02,\n",
      "         9.7647e-03, -6.5988e-03,  1.7549e-02,  2.2019e-02,  6.1521e-03,\n",
      "         3.4993e-03, -7.0616e-03, -9.0509e-03,  1.2339e-02,  9.6504e-03,\n",
      "        -6.0630e-03,  1.4788e-02, -1.7470e-02, -5.0810e-03,  2.0800e-02,\n",
      "        -3.8321e-03,  2.9567e-03, -2.7921e-03,  7.0651e-03,  2.2083e-02,\n",
      "         9.6207e-03, -1.8272e-02, -1.7064e-03, -4.1771e-03,  9.8127e-03,\n",
      "        -7.5267e-03,  5.8187e-03, -1.9996e-02,  6.6298e-03,  1.6248e-02,\n",
      "         5.1474e-04, -1.9020e-02, -1.7003e-02, -3.9706e-03,  1.7074e-02,\n",
      "         1.2909e-02,  1.8683e-02,  1.9918e-02,  1.9105e-02, -5.5171e-03,\n",
      "         7.3746e-03, -1.7710e-02, -2.1099e-02,  5.8295e-03,  1.9008e-02,\n",
      "         5.3555e-03,  1.1945e-02,  2.1511e-02, -5.0769e-03, -1.3376e-04,\n",
      "        -2.1465e-02, -9.4174e-03,  8.0306e-03,  1.1571e-02,  1.3412e-02,\n",
      "         1.8330e-02, -1.4859e-02, -5.3028e-03, -6.9314e-03,  4.7056e-03,\n",
      "        -1.7802e-03,  2.1237e-02, -1.8850e-02,  5.0170e-03,  1.7614e-02,\n",
      "        -6.6154e-03, -1.6919e-02,  1.9661e-02, -3.4901e-03,  1.1528e-02,\n",
      "        -1.0848e-02, -4.1038e-03, -2.4489e-03, -1.1774e-02,  5.5405e-03,\n",
      "        -6.1892e-03, -5.4438e-03,  1.1668e-02, -1.1231e-02, -1.6827e-02,\n",
      "         5.9791e-03,  1.1563e-02, -1.4447e-02,  1.9994e-02,  2.8880e-03,\n",
      "        -7.6678e-03,  2.2059e-02, -9.5730e-03, -1.0374e-02,  9.1124e-03,\n",
      "         1.5266e-02,  1.4584e-02,  1.1430e-02,  1.1531e-02,  9.8798e-03,\n",
      "         4.3385e-03,  2.1440e-02, -1.4788e-02, -3.5417e-03, -1.1185e-02,\n",
      "         8.8699e-03, -3.4092e-03, -2.0168e-02, -1.7609e-02, -6.8638e-03,\n",
      "         1.4726e-02, -1.3128e-02,  4.7010e-03, -2.1075e-02,  1.1297e-02,\n",
      "         1.4136e-02,  3.7806e-05,  1.1054e-02,  6.1335e-03, -1.8696e-02,\n",
      "         2.0024e-02,  2.6839e-03,  4.9003e-03, -7.2726e-03, -6.8473e-03,\n",
      "        -9.3481e-03, -3.9958e-03,  1.0438e-02,  1.7313e-02, -6.7986e-03,\n",
      "         8.1222e-03,  3.7009e-03,  5.7004e-04, -1.9711e-02,  1.2968e-03,\n",
      "        -1.2967e-02, -3.9429e-03, -1.9087e-02,  1.8933e-02,  2.1078e-02,\n",
      "         1.7221e-02, -6.1981e-03,  4.1550e-03,  9.4704e-03,  2.3138e-04,\n",
      "        -1.9341e-02, -5.8154e-04,  1.6193e-02, -1.8048e-02, -6.5374e-03,\n",
      "         2.4988e-03, -3.9560e-03,  9.4753e-03,  9.3472e-03, -1.6561e-02,\n",
      "         1.3751e-02,  1.9714e-02,  1.2864e-02, -1.2481e-02,  1.9304e-02,\n",
      "        -7.8487e-03,  2.1175e-02,  1.8292e-02,  9.7690e-03, -1.2812e-02,\n",
      "         6.6001e-03], device='cuda:0', requires_grad=True)\n",
      "Parameter containing:\n",
      "tensor([1., 1., 1., 1., 1., 1., 1., 1., 1., 1., 1., 1., 1., 1., 1., 1., 1., 1.,\n",
      "        1., 1., 1., 1., 1., 1., 1., 1., 1., 1., 1., 1., 1., 1., 1., 1., 1., 1.,\n",
      "        1., 1., 1., 1., 1., 1., 1., 1., 1., 1., 1., 1., 1., 1., 1., 1., 1., 1.,\n",
      "        1., 1., 1., 1., 1., 1., 1., 1., 1., 1., 1., 1., 1., 1., 1., 1., 1., 1.,\n",
      "        1., 1., 1., 1., 1., 1., 1., 1., 1., 1., 1., 1., 1., 1., 1., 1., 1., 1.,\n",
      "        1., 1., 1., 1., 1., 1., 1., 1., 1., 1., 1., 1., 1., 1., 1., 1., 1., 1.,\n",
      "        1., 1., 1., 1., 1., 1., 1., 1., 1., 1., 1., 1., 1., 1., 1., 1., 1., 1.,\n",
      "        1., 1., 1., 1., 1., 1., 1., 1., 1., 1., 1., 1., 1., 1., 1., 1., 1., 1.,\n",
      "        1., 1., 1., 1., 1., 1., 1., 1., 1., 1., 1., 1., 1., 1., 1., 1., 1., 1.,\n",
      "        1., 1., 1., 1., 1., 1., 1., 1., 1., 1., 1., 1., 1., 1., 1., 1., 1., 1.,\n",
      "        1., 1., 1., 1., 1., 1., 1., 1., 1., 1., 1., 1., 1., 1., 1., 1., 1., 1.,\n",
      "        1., 1., 1., 1., 1., 1., 1., 1., 1., 1., 1., 1., 1., 1., 1., 1., 1., 1.,\n",
      "        1., 1., 1., 1., 1., 1., 1., 1., 1., 1., 1., 1., 1., 1., 1., 1., 1., 1.,\n",
      "        1., 1., 1., 1., 1., 1., 1., 1., 1., 1., 1., 1., 1., 1., 1., 1., 1., 1.,\n",
      "        1., 1., 1., 1.], device='cuda:0', requires_grad=True)\n",
      "Parameter containing:\n",
      "tensor([0., 0., 0., 0., 0., 0., 0., 0., 0., 0., 0., 0., 0., 0., 0., 0., 0., 0., 0., 0., 0., 0., 0., 0.,\n",
      "        0., 0., 0., 0., 0., 0., 0., 0., 0., 0., 0., 0., 0., 0., 0., 0., 0., 0., 0., 0., 0., 0., 0., 0.,\n",
      "        0., 0., 0., 0., 0., 0., 0., 0., 0., 0., 0., 0., 0., 0., 0., 0., 0., 0., 0., 0., 0., 0., 0., 0.,\n",
      "        0., 0., 0., 0., 0., 0., 0., 0., 0., 0., 0., 0., 0., 0., 0., 0., 0., 0., 0., 0., 0., 0., 0., 0.,\n",
      "        0., 0., 0., 0., 0., 0., 0., 0., 0., 0., 0., 0., 0., 0., 0., 0., 0., 0., 0., 0., 0., 0., 0., 0.,\n",
      "        0., 0., 0., 0., 0., 0., 0., 0., 0., 0., 0., 0., 0., 0., 0., 0., 0., 0., 0., 0., 0., 0., 0., 0.,\n",
      "        0., 0., 0., 0., 0., 0., 0., 0., 0., 0., 0., 0., 0., 0., 0., 0., 0., 0., 0., 0., 0., 0., 0., 0.,\n",
      "        0., 0., 0., 0., 0., 0., 0., 0., 0., 0., 0., 0., 0., 0., 0., 0., 0., 0., 0., 0., 0., 0., 0., 0.,\n",
      "        0., 0., 0., 0., 0., 0., 0., 0., 0., 0., 0., 0., 0., 0., 0., 0., 0., 0., 0., 0., 0., 0., 0., 0.,\n",
      "        0., 0., 0., 0., 0., 0., 0., 0., 0., 0., 0., 0., 0., 0., 0., 0., 0., 0., 0., 0., 0., 0., 0., 0.,\n",
      "        0., 0., 0., 0., 0., 0., 0., 0., 0., 0., 0., 0., 0., 0., 0., 0.],\n",
      "       device='cuda:0', requires_grad=True)\n",
      "Parameter containing:\n",
      "tensor([1., 1., 1., 1., 1., 1., 1., 1., 1., 1., 1., 1., 1., 1., 1., 1., 1., 1.,\n",
      "        1., 1., 1., 1., 1., 1., 1., 1., 1., 1., 1., 1., 1., 1., 1., 1., 1., 1.,\n",
      "        1., 1., 1., 1., 1., 1., 1., 1., 1., 1., 1., 1., 1., 1., 1., 1., 1., 1.,\n",
      "        1., 1., 1., 1., 1., 1., 1., 1., 1., 1., 1., 1., 1., 1., 1., 1., 1., 1.,\n",
      "        1., 1., 1., 1., 1., 1., 1., 1., 1., 1., 1., 1., 1., 1., 1., 1., 1., 1.,\n",
      "        1., 1., 1., 1., 1., 1., 1., 1., 1., 1., 1., 1., 1., 1., 1., 1., 1., 1.,\n",
      "        1., 1., 1., 1., 1., 1., 1., 1., 1., 1., 1., 1., 1., 1., 1., 1., 1., 1.,\n",
      "        1., 1., 1., 1., 1., 1., 1., 1., 1., 1., 1., 1., 1., 1., 1., 1., 1., 1.,\n",
      "        1., 1., 1., 1., 1., 1., 1., 1., 1., 1., 1., 1., 1., 1., 1., 1., 1., 1.,\n",
      "        1., 1., 1., 1., 1., 1., 1., 1., 1., 1., 1., 1., 1., 1., 1., 1., 1., 1.,\n",
      "        1., 1., 1., 1., 1., 1., 1., 1., 1., 1., 1., 1., 1., 1., 1., 1., 1., 1.,\n",
      "        1., 1., 1., 1., 1., 1., 1., 1., 1., 1., 1., 1., 1., 1., 1., 1., 1., 1.,\n",
      "        1., 1., 1., 1., 1., 1., 1., 1., 1., 1., 1., 1., 1., 1., 1., 1., 1., 1.,\n",
      "        1., 1., 1., 1., 1., 1., 1., 1., 1., 1., 1., 1., 1., 1., 1., 1., 1., 1.,\n",
      "        1., 1., 1., 1.], device='cuda:0', requires_grad=True)\n",
      "Parameter containing:\n",
      "tensor([0., 0., 0., 0., 0., 0., 0., 0., 0., 0., 0., 0., 0., 0., 0., 0., 0., 0., 0., 0., 0., 0., 0., 0.,\n",
      "        0., 0., 0., 0., 0., 0., 0., 0., 0., 0., 0., 0., 0., 0., 0., 0., 0., 0., 0., 0., 0., 0., 0., 0.,\n",
      "        0., 0., 0., 0., 0., 0., 0., 0., 0., 0., 0., 0., 0., 0., 0., 0., 0., 0., 0., 0., 0., 0., 0., 0.,\n",
      "        0., 0., 0., 0., 0., 0., 0., 0., 0., 0., 0., 0., 0., 0., 0., 0., 0., 0., 0., 0., 0., 0., 0., 0.,\n",
      "        0., 0., 0., 0., 0., 0., 0., 0., 0., 0., 0., 0., 0., 0., 0., 0., 0., 0., 0., 0., 0., 0., 0., 0.,\n",
      "        0., 0., 0., 0., 0., 0., 0., 0., 0., 0., 0., 0., 0., 0., 0., 0., 0., 0., 0., 0., 0., 0., 0., 0.,\n",
      "        0., 0., 0., 0., 0., 0., 0., 0., 0., 0., 0., 0., 0., 0., 0., 0., 0., 0., 0., 0., 0., 0., 0., 0.,\n",
      "        0., 0., 0., 0., 0., 0., 0., 0., 0., 0., 0., 0., 0., 0., 0., 0., 0., 0., 0., 0., 0., 0., 0., 0.,\n",
      "        0., 0., 0., 0., 0., 0., 0., 0., 0., 0., 0., 0., 0., 0., 0., 0., 0., 0., 0., 0., 0., 0., 0., 0.,\n",
      "        0., 0., 0., 0., 0., 0., 0., 0., 0., 0., 0., 0., 0., 0., 0., 0., 0., 0., 0., 0., 0., 0., 0., 0.,\n",
      "        0., 0., 0., 0., 0., 0., 0., 0., 0., 0., 0., 0., 0., 0., 0., 0.],\n",
      "       device='cuda:0', requires_grad=True)\n",
      "Parameter containing:\n",
      "tensor([[ 0.0326,  0.0060,  0.0168,  ...,  0.0301, -0.0311, -0.0159],\n",
      "        [-0.0286, -0.0128,  0.0584,  ...,  0.0064, -0.0594, -0.0481],\n",
      "        [-0.0496,  0.0023, -0.0354,  ..., -0.0590, -0.0072,  0.0523],\n",
      "        ...,\n",
      "        [-0.0012,  0.0511, -0.0496,  ...,  0.0167, -0.0026,  0.0439],\n",
      "        [-0.0216,  0.0099,  0.0567,  ...,  0.0301,  0.0522, -0.0434],\n",
      "        [ 0.0054, -0.0133, -0.0618,  ..., -0.0490, -0.0220,  0.0445]],\n",
      "       device='cuda:0', requires_grad=True)\n",
      "Parameter containing:\n",
      "tensor([ 0.0227, -0.0139,  0.0066,  ...,  0.0284, -0.0491,  0.0161],\n",
      "       device='cuda:0', requires_grad=True)\n",
      "Parameter containing:\n",
      "tensor([[-0.0075,  0.0275,  0.0100,  ...,  0.0145,  0.0040,  0.0089],\n",
      "        [ 0.0170, -0.0129,  0.0023,  ...,  0.0197, -0.0126,  0.0237],\n",
      "        [-0.0177, -0.0052, -0.0056,  ..., -0.0139,  0.0138,  0.0055],\n",
      "        ...,\n",
      "        [ 0.0284, -0.0050,  0.0183,  ...,  0.0071, -0.0178, -0.0022],\n",
      "        [-0.0074, -0.0033, -0.0208,  ..., -0.0255,  0.0011,  0.0024],\n",
      "        [-0.0022,  0.0062, -0.0002,  ...,  0.0280,  0.0079,  0.0275]],\n",
      "       device='cuda:0', requires_grad=True)\n",
      "Parameter containing:\n",
      "tensor([ 0.0147,  0.0151,  0.0132,  0.0175,  0.0115,  0.0186, -0.0304,  0.0082,\n",
      "        -0.0272,  0.0191,  0.0131,  0.0050, -0.0144,  0.0010, -0.0116,  0.0122,\n",
      "         0.0189, -0.0248, -0.0007,  0.0164, -0.0030, -0.0243,  0.0239, -0.0203,\n",
      "         0.0111,  0.0303,  0.0284,  0.0285, -0.0177, -0.0263,  0.0098, -0.0067,\n",
      "        -0.0185,  0.0029,  0.0210,  0.0064, -0.0142, -0.0106, -0.0081, -0.0142,\n",
      "         0.0273, -0.0200,  0.0155, -0.0054, -0.0123, -0.0218, -0.0058, -0.0276,\n",
      "         0.0141, -0.0188, -0.0140,  0.0297,  0.0258, -0.0156, -0.0153,  0.0242,\n",
      "         0.0185,  0.0307, -0.0085,  0.0297,  0.0265,  0.0117, -0.0255,  0.0100,\n",
      "        -0.0134, -0.0029,  0.0043, -0.0217, -0.0034, -0.0186, -0.0080, -0.0188,\n",
      "         0.0008, -0.0179, -0.0279,  0.0273, -0.0040,  0.0081, -0.0045, -0.0228,\n",
      "         0.0292,  0.0177, -0.0048,  0.0161,  0.0154, -0.0184,  0.0107, -0.0227,\n",
      "        -0.0096, -0.0010, -0.0025,  0.0165, -0.0171, -0.0265, -0.0107, -0.0017,\n",
      "         0.0084, -0.0298,  0.0014, -0.0149, -0.0123, -0.0099,  0.0311, -0.0117,\n",
      "         0.0154, -0.0068, -0.0066, -0.0300, -0.0026, -0.0119,  0.0291, -0.0120,\n",
      "         0.0138, -0.0243, -0.0032,  0.0091, -0.0060,  0.0271, -0.0292,  0.0129,\n",
      "        -0.0285, -0.0310, -0.0284,  0.0211, -0.0064, -0.0296, -0.0248, -0.0215,\n",
      "         0.0066, -0.0001, -0.0298, -0.0088,  0.0140,  0.0210, -0.0311, -0.0238,\n",
      "         0.0083,  0.0295, -0.0014, -0.0033,  0.0054,  0.0028,  0.0307, -0.0267,\n",
      "        -0.0030, -0.0212, -0.0069, -0.0262, -0.0038, -0.0063, -0.0012, -0.0274,\n",
      "        -0.0098, -0.0138,  0.0209, -0.0075,  0.0262,  0.0216,  0.0279, -0.0168,\n",
      "         0.0039, -0.0134, -0.0083, -0.0085, -0.0047, -0.0210,  0.0026, -0.0280,\n",
      "         0.0274, -0.0263, -0.0027, -0.0188, -0.0268,  0.0005, -0.0260,  0.0201,\n",
      "        -0.0265,  0.0215, -0.0273,  0.0182,  0.0016,  0.0051, -0.0197,  0.0188,\n",
      "         0.0196, -0.0039, -0.0002, -0.0051,  0.0006, -0.0086, -0.0024, -0.0246,\n",
      "         0.0230,  0.0273, -0.0039,  0.0092,  0.0303,  0.0097, -0.0113, -0.0171,\n",
      "        -0.0034,  0.0054, -0.0101, -0.0047,  0.0015,  0.0193, -0.0102, -0.0263,\n",
      "         0.0166,  0.0179,  0.0170,  0.0098, -0.0117,  0.0165, -0.0009, -0.0269,\n",
      "         0.0188, -0.0168,  0.0168, -0.0121, -0.0029, -0.0262, -0.0004,  0.0112,\n",
      "         0.0122,  0.0226, -0.0278,  0.0209,  0.0100, -0.0224,  0.0072,  0.0312,\n",
      "        -0.0024,  0.0226, -0.0297, -0.0266, -0.0105,  0.0309, -0.0205,  0.0008,\n",
      "        -0.0042, -0.0035, -0.0029,  0.0197, -0.0059, -0.0308,  0.0059, -0.0136,\n",
      "        -0.0252, -0.0166,  0.0094, -0.0088, -0.0123, -0.0016,  0.0138, -0.0166],\n",
      "       device='cuda:0', requires_grad=True)\n",
      "Parameter containing:\n",
      "tensor([[ 0.0474, -0.0469,  0.0345,  ...,  0.0303,  0.0437,  0.0216],\n",
      "        [ 0.0613, -0.0623, -0.0266,  ..., -0.0417,  0.0536, -0.0466],\n",
      "        [ 0.0309, -0.0095, -0.0365,  ..., -0.0105, -0.0149,  0.0274],\n",
      "        ...,\n",
      "        [-0.0259, -0.0553,  0.0502,  ..., -0.0575, -0.0316,  0.0599],\n",
      "        [-0.0250,  0.0598,  0.0413,  ..., -0.0067,  0.0037, -0.0107],\n",
      "        [ 0.0215,  0.0539, -0.0075,  ...,  0.0102,  0.0117,  0.0159]],\n",
      "       device='cuda:0', requires_grad=True)\n",
      "Parameter containing:\n",
      "tensor([[-0.0226,  0.0405,  0.0435,  ..., -0.0378, -0.0223, -0.0470],\n",
      "        [-0.0301, -0.0582,  0.0390,  ..., -0.0253,  0.0380,  0.0287],\n",
      "        [ 0.0309, -0.0297, -0.0154,  ..., -0.0200, -0.0313,  0.0262],\n",
      "        ...,\n",
      "        [ 0.0382,  0.0125,  0.0570,  ..., -0.0210,  0.0556,  0.0145],\n",
      "        [-0.0233,  0.0190,  0.0142,  ..., -0.0546, -0.0164, -0.0599],\n",
      "        [-0.0208,  0.0475,  0.0051,  ...,  0.0444,  0.0469,  0.0607]],\n",
      "       device='cuda:0', requires_grad=True)\n",
      "Parameter containing:\n",
      "tensor([[ 0.0117, -0.0592, -0.0603,  ...,  0.0405,  0.0377,  0.0514],\n",
      "        [-0.0256, -0.0115, -0.0237,  ...,  0.0297,  0.0023,  0.0088],\n",
      "        [ 0.0404, -0.0419,  0.0160,  ..., -0.0093,  0.0130, -0.0210],\n",
      "        ...,\n",
      "        [-0.0567, -0.0409, -0.0237,  ..., -0.0601, -0.0574, -0.0346],\n",
      "        [-0.0213,  0.0044, -0.0133,  ...,  0.0145,  0.0370, -0.0332],\n",
      "        [-0.0368, -0.0378,  0.0162,  ...,  0.0207,  0.0571, -0.0209]],\n",
      "       device='cuda:0', requires_grad=True)\n",
      "Parameter containing:\n",
      "tensor([[-0.0161,  0.0068,  0.0207,  ..., -0.0218, -0.0105, -0.0107],\n",
      "        [ 0.0103,  0.0143,  0.0183,  ..., -0.0039,  0.0010,  0.0113],\n",
      "        [-0.0108, -0.0052, -0.0004,  ..., -0.0079, -0.0096,  0.0019],\n",
      "        ...,\n",
      "        [ 0.0212, -0.0084,  0.0106,  ...,  0.0055,  0.0075,  0.0029],\n",
      "        [ 0.0068, -0.0216,  0.0012,  ...,  0.0056, -0.0080,  0.0124],\n",
      "        [ 0.0140,  0.0169,  0.0109,  ..., -0.0056, -0.0220,  0.0085]],\n",
      "       device='cuda:0', requires_grad=True)\n",
      "Parameter containing:\n",
      "tensor([-9.4270e-03,  1.3548e-02,  1.7309e-02,  1.8458e-02,  6.0060e-03,\n",
      "        -7.0763e-03,  2.0600e-02,  6.1716e-03, -3.4685e-03, -2.0408e-02,\n",
      "         3.5017e-03, -1.8175e-02,  7.1927e-03,  8.8756e-03, -1.4499e-03,\n",
      "        -1.1959e-02,  8.7404e-03,  5.0348e-04,  1.0121e-02, -1.3468e-02,\n",
      "        -2.7889e-03,  1.0485e-02,  5.4919e-03, -2.1108e-02, -4.3428e-03,\n",
      "         1.5113e-02, -1.7358e-02,  1.3686e-02, -1.6333e-02,  1.6349e-02,\n",
      "        -9.1835e-03, -2.6697e-03,  1.5693e-02, -1.7978e-02,  6.2782e-03,\n",
      "        -1.7301e-02,  3.5346e-03,  9.4981e-04, -2.0619e-02,  1.6919e-02,\n",
      "         1.5070e-03,  1.6369e-02, -1.0962e-02, -8.8090e-03,  1.5830e-02,\n",
      "        -2.4353e-03, -1.6691e-02,  2.0751e-02,  1.6932e-02, -1.9072e-02,\n",
      "        -8.7197e-03, -1.6902e-02,  1.0019e-02,  2.1518e-02, -1.5992e-02,\n",
      "        -2.4291e-03, -1.1508e-02, -9.6367e-03, -2.0720e-02,  4.5382e-03,\n",
      "         1.9813e-02,  2.8281e-03,  5.7345e-03, -6.3531e-03, -1.2037e-02,\n",
      "         1.1948e-02,  1.6324e-02,  9.4911e-03, -1.2103e-02, -2.4989e-04,\n",
      "        -1.8307e-02, -1.4109e-02,  7.4346e-03, -2.0855e-02,  1.0885e-02,\n",
      "         7.4842e-03,  9.1083e-03,  1.3746e-02, -5.2690e-03, -8.1992e-03,\n",
      "         1.6774e-02,  2.0928e-02, -4.6964e-03, -7.0644e-03, -9.4826e-03,\n",
      "        -1.7678e-02,  7.3084e-03,  7.2617e-03, -2.0518e-02,  1.9575e-02,\n",
      "         8.9868e-03, -2.2957e-03, -1.8428e-03, -1.4757e-02, -3.7478e-03,\n",
      "         7.4882e-03,  2.2082e-02, -2.6547e-03, -2.7974e-04, -1.3894e-02,\n",
      "         3.8447e-03, -1.0015e-02,  1.8310e-02, -1.9403e-03,  1.0220e-02,\n",
      "        -1.0194e-02, -5.8457e-03, -6.3308e-03, -6.3520e-03,  1.2144e-05,\n",
      "        -1.8921e-02, -5.7799e-03,  8.2391e-03, -6.5935e-03, -9.6109e-03,\n",
      "        -1.7088e-02, -1.6617e-03,  1.1417e-02, -1.7638e-02, -1.1601e-02,\n",
      "         8.2984e-04,  7.2100e-03, -1.5103e-02, -1.4478e-02,  7.8617e-03,\n",
      "         3.9952e-03,  2.0527e-02, -2.3140e-03, -1.3667e-02,  6.6933e-03,\n",
      "         4.1263e-03,  1.1319e-02, -1.5779e-02,  2.0709e-02,  1.4898e-02,\n",
      "        -1.2765e-02,  2.1388e-02,  9.4105e-03,  1.6717e-02,  2.0112e-02,\n",
      "        -5.6947e-03,  2.0119e-02, -1.0915e-02,  7.5038e-03,  9.5062e-03,\n",
      "         3.4707e-03, -1.6799e-02, -1.9928e-02,  1.4595e-02,  1.3982e-02,\n",
      "         3.5733e-03, -2.1804e-02, -1.8665e-02, -1.8349e-02, -1.6638e-02,\n",
      "         6.2562e-04,  6.4685e-03, -2.3842e-03,  7.5770e-03,  1.6602e-02,\n",
      "         7.0494e-03,  1.9551e-02,  1.3945e-02, -1.4514e-02, -2.2059e-02,\n",
      "        -1.2798e-02,  1.1421e-02, -1.8043e-02, -1.8986e-02, -4.7848e-03,\n",
      "         5.7653e-03,  4.2858e-03,  1.3492e-02, -1.4678e-02, -1.5060e-02,\n",
      "        -1.5002e-02,  2.1620e-03, -2.1130e-02, -2.6684e-03,  7.4197e-03,\n",
      "        -1.3914e-02, -1.3784e-02,  2.0451e-02,  1.9229e-04,  2.1377e-02,\n",
      "        -1.6897e-02, -7.5445e-03,  1.4135e-02, -1.8856e-02,  6.3615e-03,\n",
      "        -7.2673e-03,  1.9379e-02, -2.1975e-02,  2.0963e-02, -9.6068e-03,\n",
      "        -1.2437e-02,  1.7346e-02, -1.9718e-02, -2.0048e-02,  1.9045e-02,\n",
      "         1.0541e-02,  1.1989e-02, -5.8293e-03, -7.2134e-04, -2.1542e-02,\n",
      "         1.0728e-02, -2.0868e-02,  3.5379e-03, -6.7963e-04, -1.2943e-02,\n",
      "         1.1722e-02,  1.8898e-02, -1.5927e-02, -5.4389e-03, -4.8943e-03,\n",
      "         1.9039e-02, -2.0115e-02, -1.3378e-02, -9.6672e-03, -1.9179e-02,\n",
      "        -1.9758e-02, -7.1433e-03,  3.6554e-03, -5.3048e-04,  1.8699e-02,\n",
      "         5.4628e-03,  4.7435e-03,  1.4036e-02,  4.7611e-03,  2.5936e-03,\n",
      "        -1.8301e-02,  9.2523e-03,  1.6423e-02, -1.6710e-02,  1.8955e-02,\n",
      "         1.0534e-02, -1.2418e-02, -2.0538e-02, -1.0533e-02, -4.8457e-03,\n",
      "        -1.2169e-02,  1.5806e-02, -1.6574e-02,  1.6642e-02, -1.6284e-02,\n",
      "         8.9186e-03,  9.7577e-03, -2.4168e-03, -2.2071e-02, -6.5217e-03,\n",
      "        -1.6589e-02, -1.9376e-02,  1.1909e-02,  1.2409e-03,  1.7810e-02,\n",
      "        -1.1884e-02], device='cuda:0', requires_grad=True)\n",
      "Parameter containing:\n",
      "tensor([1., 1., 1., 1., 1., 1., 1., 1., 1., 1., 1., 1., 1., 1., 1., 1., 1., 1.,\n",
      "        1., 1., 1., 1., 1., 1., 1., 1., 1., 1., 1., 1., 1., 1., 1., 1., 1., 1.,\n",
      "        1., 1., 1., 1., 1., 1., 1., 1., 1., 1., 1., 1., 1., 1., 1., 1., 1., 1.,\n",
      "        1., 1., 1., 1., 1., 1., 1., 1., 1., 1., 1., 1., 1., 1., 1., 1., 1., 1.,\n",
      "        1., 1., 1., 1., 1., 1., 1., 1., 1., 1., 1., 1., 1., 1., 1., 1., 1., 1.,\n",
      "        1., 1., 1., 1., 1., 1., 1., 1., 1., 1., 1., 1., 1., 1., 1., 1., 1., 1.,\n",
      "        1., 1., 1., 1., 1., 1., 1., 1., 1., 1., 1., 1., 1., 1., 1., 1., 1., 1.,\n",
      "        1., 1., 1., 1., 1., 1., 1., 1., 1., 1., 1., 1., 1., 1., 1., 1., 1., 1.,\n",
      "        1., 1., 1., 1., 1., 1., 1., 1., 1., 1., 1., 1., 1., 1., 1., 1., 1., 1.,\n",
      "        1., 1., 1., 1., 1., 1., 1., 1., 1., 1., 1., 1., 1., 1., 1., 1., 1., 1.,\n",
      "        1., 1., 1., 1., 1., 1., 1., 1., 1., 1., 1., 1., 1., 1., 1., 1., 1., 1.,\n",
      "        1., 1., 1., 1., 1., 1., 1., 1., 1., 1., 1., 1., 1., 1., 1., 1., 1., 1.,\n",
      "        1., 1., 1., 1., 1., 1., 1., 1., 1., 1., 1., 1., 1., 1., 1., 1., 1., 1.,\n",
      "        1., 1., 1., 1., 1., 1., 1., 1., 1., 1., 1., 1., 1., 1., 1., 1., 1., 1.,\n",
      "        1., 1., 1., 1.], device='cuda:0', requires_grad=True)\n",
      "Parameter containing:\n",
      "tensor([0., 0., 0., 0., 0., 0., 0., 0., 0., 0., 0., 0., 0., 0., 0., 0., 0., 0., 0., 0., 0., 0., 0., 0.,\n",
      "        0., 0., 0., 0., 0., 0., 0., 0., 0., 0., 0., 0., 0., 0., 0., 0., 0., 0., 0., 0., 0., 0., 0., 0.,\n",
      "        0., 0., 0., 0., 0., 0., 0., 0., 0., 0., 0., 0., 0., 0., 0., 0., 0., 0., 0., 0., 0., 0., 0., 0.,\n",
      "        0., 0., 0., 0., 0., 0., 0., 0., 0., 0., 0., 0., 0., 0., 0., 0., 0., 0., 0., 0., 0., 0., 0., 0.,\n",
      "        0., 0., 0., 0., 0., 0., 0., 0., 0., 0., 0., 0., 0., 0., 0., 0., 0., 0., 0., 0., 0., 0., 0., 0.,\n",
      "        0., 0., 0., 0., 0., 0., 0., 0., 0., 0., 0., 0., 0., 0., 0., 0., 0., 0., 0., 0., 0., 0., 0., 0.,\n",
      "        0., 0., 0., 0., 0., 0., 0., 0., 0., 0., 0., 0., 0., 0., 0., 0., 0., 0., 0., 0., 0., 0., 0., 0.,\n",
      "        0., 0., 0., 0., 0., 0., 0., 0., 0., 0., 0., 0., 0., 0., 0., 0., 0., 0., 0., 0., 0., 0., 0., 0.,\n",
      "        0., 0., 0., 0., 0., 0., 0., 0., 0., 0., 0., 0., 0., 0., 0., 0., 0., 0., 0., 0., 0., 0., 0., 0.,\n",
      "        0., 0., 0., 0., 0., 0., 0., 0., 0., 0., 0., 0., 0., 0., 0., 0., 0., 0., 0., 0., 0., 0., 0., 0.,\n",
      "        0., 0., 0., 0., 0., 0., 0., 0., 0., 0., 0., 0., 0., 0., 0., 0.],\n",
      "       device='cuda:0', requires_grad=True)\n",
      "Parameter containing:\n",
      "tensor([1., 1., 1., 1., 1., 1., 1., 1., 1., 1., 1., 1., 1., 1., 1., 1., 1., 1.,\n",
      "        1., 1., 1., 1., 1., 1., 1., 1., 1., 1., 1., 1., 1., 1., 1., 1., 1., 1.,\n",
      "        1., 1., 1., 1., 1., 1., 1., 1., 1., 1., 1., 1., 1., 1., 1., 1., 1., 1.,\n",
      "        1., 1., 1., 1., 1., 1., 1., 1., 1., 1., 1., 1., 1., 1., 1., 1., 1., 1.,\n",
      "        1., 1., 1., 1., 1., 1., 1., 1., 1., 1., 1., 1., 1., 1., 1., 1., 1., 1.,\n",
      "        1., 1., 1., 1., 1., 1., 1., 1., 1., 1., 1., 1., 1., 1., 1., 1., 1., 1.,\n",
      "        1., 1., 1., 1., 1., 1., 1., 1., 1., 1., 1., 1., 1., 1., 1., 1., 1., 1.,\n",
      "        1., 1., 1., 1., 1., 1., 1., 1., 1., 1., 1., 1., 1., 1., 1., 1., 1., 1.,\n",
      "        1., 1., 1., 1., 1., 1., 1., 1., 1., 1., 1., 1., 1., 1., 1., 1., 1., 1.,\n",
      "        1., 1., 1., 1., 1., 1., 1., 1., 1., 1., 1., 1., 1., 1., 1., 1., 1., 1.,\n",
      "        1., 1., 1., 1., 1., 1., 1., 1., 1., 1., 1., 1., 1., 1., 1., 1., 1., 1.,\n",
      "        1., 1., 1., 1., 1., 1., 1., 1., 1., 1., 1., 1., 1., 1., 1., 1., 1., 1.,\n",
      "        1., 1., 1., 1., 1., 1., 1., 1., 1., 1., 1., 1., 1., 1., 1., 1., 1., 1.,\n",
      "        1., 1., 1., 1., 1., 1., 1., 1., 1., 1., 1., 1., 1., 1., 1., 1., 1., 1.,\n",
      "        1., 1., 1., 1.], device='cuda:0', requires_grad=True)\n",
      "Parameter containing:\n",
      "tensor([0., 0., 0., 0., 0., 0., 0., 0., 0., 0., 0., 0., 0., 0., 0., 0., 0., 0., 0., 0., 0., 0., 0., 0.,\n",
      "        0., 0., 0., 0., 0., 0., 0., 0., 0., 0., 0., 0., 0., 0., 0., 0., 0., 0., 0., 0., 0., 0., 0., 0.,\n",
      "        0., 0., 0., 0., 0., 0., 0., 0., 0., 0., 0., 0., 0., 0., 0., 0., 0., 0., 0., 0., 0., 0., 0., 0.,\n",
      "        0., 0., 0., 0., 0., 0., 0., 0., 0., 0., 0., 0., 0., 0., 0., 0., 0., 0., 0., 0., 0., 0., 0., 0.,\n",
      "        0., 0., 0., 0., 0., 0., 0., 0., 0., 0., 0., 0., 0., 0., 0., 0., 0., 0., 0., 0., 0., 0., 0., 0.,\n",
      "        0., 0., 0., 0., 0., 0., 0., 0., 0., 0., 0., 0., 0., 0., 0., 0., 0., 0., 0., 0., 0., 0., 0., 0.,\n",
      "        0., 0., 0., 0., 0., 0., 0., 0., 0., 0., 0., 0., 0., 0., 0., 0., 0., 0., 0., 0., 0., 0., 0., 0.,\n",
      "        0., 0., 0., 0., 0., 0., 0., 0., 0., 0., 0., 0., 0., 0., 0., 0., 0., 0., 0., 0., 0., 0., 0., 0.,\n",
      "        0., 0., 0., 0., 0., 0., 0., 0., 0., 0., 0., 0., 0., 0., 0., 0., 0., 0., 0., 0., 0., 0., 0., 0.,\n",
      "        0., 0., 0., 0., 0., 0., 0., 0., 0., 0., 0., 0., 0., 0., 0., 0., 0., 0., 0., 0., 0., 0., 0., 0.,\n",
      "        0., 0., 0., 0., 0., 0., 0., 0., 0., 0., 0., 0., 0., 0., 0., 0.],\n",
      "       device='cuda:0', requires_grad=True)\n",
      "Parameter containing:\n",
      "tensor([[-0.0495,  0.0464,  0.0080,  ...,  0.0477, -0.0320, -0.0210],\n",
      "        [-0.0211,  0.0023, -0.0453,  ...,  0.0174, -0.0491,  0.0040],\n",
      "        [-0.0419, -0.0562, -0.0317,  ...,  0.0096, -0.0576, -0.0034],\n",
      "        ...,\n",
      "        [-0.0313,  0.0546,  0.0009,  ...,  0.0537, -0.0038, -0.0395],\n",
      "        [-0.0390, -0.0618,  0.0046,  ..., -0.0524,  0.0372,  0.0308],\n",
      "        [-0.0081,  0.0227,  0.0383,  ..., -0.0502,  0.0180, -0.0304]],\n",
      "       device='cuda:0', requires_grad=True)\n",
      "Parameter containing:\n",
      "tensor([ 0.0165,  0.0021,  0.0292,  ...,  0.0465, -0.0544, -0.0602],\n",
      "       device='cuda:0', requires_grad=True)\n",
      "Parameter containing:\n",
      "tensor([[-1.5046e-02,  6.3990e-03, -1.5168e-02,  ...,  2.6395e-03,\n",
      "         -4.6709e-03,  2.8471e-02],\n",
      "        [ 2.4506e-02, -1.0422e-02, -1.9707e-02,  ...,  1.5087e-02,\n",
      "          7.1395e-03, -1.1304e-02],\n",
      "        [ 2.2835e-02, -1.5885e-02,  1.1623e-02,  ...,  2.5158e-02,\n",
      "         -2.9030e-02, -2.3097e-02],\n",
      "        ...,\n",
      "        [ 1.5198e-02,  2.1013e-02,  4.4331e-03,  ...,  3.0879e-02,\n",
      "         -2.0989e-02, -2.6904e-02],\n",
      "        [ 7.6512e-03, -1.7748e-02, -5.8688e-05,  ...,  1.2508e-02,\n",
      "          2.7811e-02,  2.6650e-02],\n",
      "        [ 2.3199e-02, -1.0582e-02,  7.8872e-03,  ...,  8.3078e-03,\n",
      "          3.0913e-02, -2.5069e-02]], device='cuda:0', requires_grad=True)\n",
      "Parameter containing:\n",
      "tensor([-0.0228,  0.0246, -0.0262,  0.0198, -0.0203,  0.0089,  0.0066,  0.0055,\n",
      "         0.0235,  0.0113, -0.0040,  0.0289,  0.0074,  0.0049, -0.0122, -0.0301,\n",
      "        -0.0221, -0.0258,  0.0305,  0.0034,  0.0248, -0.0033,  0.0250, -0.0263,\n",
      "         0.0285, -0.0098, -0.0161, -0.0015, -0.0091, -0.0079,  0.0265, -0.0304,\n",
      "         0.0062, -0.0277,  0.0274, -0.0085,  0.0124,  0.0185, -0.0265,  0.0143,\n",
      "        -0.0312,  0.0240,  0.0021,  0.0210,  0.0201,  0.0167, -0.0234,  0.0062,\n",
      "         0.0005,  0.0168,  0.0181, -0.0060, -0.0092,  0.0027,  0.0226,  0.0295,\n",
      "         0.0086, -0.0068,  0.0106, -0.0204,  0.0046, -0.0062,  0.0303, -0.0032,\n",
      "         0.0297,  0.0100, -0.0201, -0.0148, -0.0230,  0.0267, -0.0151,  0.0129,\n",
      "         0.0061,  0.0250,  0.0150, -0.0003, -0.0067,  0.0137, -0.0095,  0.0095,\n",
      "         0.0169,  0.0054,  0.0161,  0.0025, -0.0198, -0.0163,  0.0089, -0.0177,\n",
      "        -0.0032,  0.0158,  0.0137, -0.0012, -0.0274,  0.0165, -0.0164, -0.0190,\n",
      "         0.0086,  0.0215, -0.0292,  0.0032,  0.0262, -0.0273,  0.0249,  0.0158,\n",
      "        -0.0209,  0.0271,  0.0118,  0.0094, -0.0205,  0.0267, -0.0310,  0.0137,\n",
      "         0.0282,  0.0089,  0.0101,  0.0043, -0.0044,  0.0280, -0.0294, -0.0298,\n",
      "         0.0038, -0.0226,  0.0002,  0.0271,  0.0186,  0.0125,  0.0266, -0.0122,\n",
      "         0.0289,  0.0140, -0.0016, -0.0162,  0.0100, -0.0132,  0.0157, -0.0121,\n",
      "         0.0191, -0.0278,  0.0089, -0.0298, -0.0291,  0.0170,  0.0219,  0.0092,\n",
      "         0.0008,  0.0094,  0.0087,  0.0165, -0.0149,  0.0166, -0.0038,  0.0051,\n",
      "         0.0164, -0.0141,  0.0199, -0.0144,  0.0243,  0.0121, -0.0271, -0.0214,\n",
      "        -0.0045,  0.0036,  0.0004, -0.0094,  0.0121, -0.0073,  0.0179,  0.0235,\n",
      "         0.0006,  0.0029,  0.0149,  0.0047,  0.0170, -0.0069, -0.0175, -0.0279,\n",
      "        -0.0215, -0.0067, -0.0015,  0.0088,  0.0300, -0.0220, -0.0003,  0.0004,\n",
      "         0.0032, -0.0045,  0.0181,  0.0015, -0.0040,  0.0152, -0.0212,  0.0264,\n",
      "         0.0005,  0.0294,  0.0225, -0.0041,  0.0035, -0.0008,  0.0161,  0.0090,\n",
      "         0.0193, -0.0114,  0.0066, -0.0117, -0.0208,  0.0129,  0.0262, -0.0028,\n",
      "        -0.0279, -0.0087, -0.0174,  0.0131,  0.0256,  0.0235, -0.0015,  0.0209,\n",
      "         0.0035,  0.0223, -0.0229,  0.0146, -0.0256,  0.0020, -0.0042,  0.0052,\n",
      "         0.0014,  0.0138, -0.0071, -0.0052, -0.0144,  0.0196, -0.0120,  0.0181,\n",
      "         0.0213,  0.0244, -0.0106, -0.0023, -0.0209,  0.0267, -0.0100, -0.0111,\n",
      "         0.0307, -0.0101,  0.0299, -0.0113,  0.0169, -0.0196,  0.0126, -0.0210,\n",
      "        -0.0017, -0.0282, -0.0190,  0.0217, -0.0042,  0.0138, -0.0192,  0.0058],\n",
      "       device='cuda:0', requires_grad=True)\n",
      "Parameter containing:\n",
      "tensor([[ 0.0067,  0.0101, -0.0368,  ...,  0.0073, -0.0370,  0.0309],\n",
      "        [ 0.0242, -0.0333,  0.0057,  ..., -0.0087, -0.0319, -0.0534],\n",
      "        [-0.0621,  0.0091,  0.0335,  ...,  0.0375, -0.0266,  0.0450],\n",
      "        ...,\n",
      "        [-0.0454,  0.0256, -0.0338,  ..., -0.0374,  0.0014, -0.0526],\n",
      "        [-0.0281,  0.0562,  0.0381,  ..., -0.0141,  0.0042,  0.0061],\n",
      "        [ 0.0544, -0.0412,  0.0623,  ...,  0.0583,  0.0008,  0.0042]],\n",
      "       device='cuda:0', requires_grad=True)\n",
      "Parameter containing:\n",
      "tensor([[-0.0377, -0.0552, -0.0070,  ...,  0.0067,  0.0083,  0.0569],\n",
      "        [-0.0378,  0.0499, -0.0304,  ...,  0.0120,  0.0121,  0.0361],\n",
      "        [ 0.0428,  0.0528,  0.0274,  ..., -0.0050,  0.0369,  0.0109],\n",
      "        ...,\n",
      "        [ 0.0593, -0.0134,  0.0098,  ..., -0.0469,  0.0304, -0.0509],\n",
      "        [ 0.0128,  0.0423, -0.0174,  ...,  0.0327,  0.0039, -0.0223],\n",
      "        [ 0.0500,  0.0597,  0.0290,  ..., -0.0010, -0.0067,  0.0029]],\n",
      "       device='cuda:0', requires_grad=True)\n",
      "Parameter containing:\n",
      "tensor([[ 0.0615, -0.0116,  0.0005,  ..., -0.0240, -0.0030, -0.0152],\n",
      "        [-0.0061,  0.0530,  0.0035,  ...,  0.0378, -0.0397,  0.0115],\n",
      "        [-0.0090, -0.0202, -0.0546,  ..., -0.0558, -0.0522, -0.0425],\n",
      "        ...,\n",
      "        [ 0.0316, -0.0091, -0.0207,  ...,  0.0163, -0.0529,  0.0599],\n",
      "        [-0.0152,  0.0029,  0.0310,  ...,  0.0003, -0.0485, -0.0411],\n",
      "        [ 0.0512,  0.0234,  0.0067,  ...,  0.0097, -0.0595, -0.0043]],\n",
      "       device='cuda:0', requires_grad=True)\n",
      "Parameter containing:\n",
      "tensor([[ 3.3075e-04,  2.2099e-03, -1.1584e-02,  ...,  1.7128e-02,\n",
      "          8.1459e-05, -1.1866e-02],\n",
      "        [-1.5994e-02, -1.6918e-02,  2.0760e-02,  ...,  3.9465e-03,\n",
      "         -1.7160e-02, -1.8714e-02],\n",
      "        [-5.6311e-03, -1.1107e-02, -1.2385e-02,  ..., -1.5501e-02,\n",
      "          4.1451e-03,  2.8079e-03],\n",
      "        ...,\n",
      "        [ 6.0820e-03,  1.9054e-02, -1.7228e-02,  ...,  1.5360e-02,\n",
      "          1.2694e-02, -1.5362e-02],\n",
      "        [ 2.1430e-02, -2.3657e-03,  2.1581e-02,  ..., -1.5979e-02,\n",
      "          5.8559e-03,  1.8247e-02],\n",
      "        [ 2.0709e-02, -1.9891e-03, -7.6890e-03,  ..., -2.1568e-02,\n",
      "          5.6244e-03, -1.3293e-02]], device='cuda:0', requires_grad=True)\n",
      "Parameter containing:\n",
      "tensor([ 2.1385e-02,  8.2543e-03,  1.2651e-02,  1.5657e-02,  1.8823e-02,\n",
      "        -1.7090e-02, -1.2901e-02,  1.0453e-02,  1.8016e-02,  5.3899e-03,\n",
      "        -6.3633e-03,  1.9258e-02,  2.2047e-02,  5.1087e-03,  6.1181e-03,\n",
      "        -1.6268e-02, -6.6453e-03,  1.3870e-03, -6.1762e-03,  1.2358e-02,\n",
      "        -5.3319e-03, -4.2991e-03, -1.5729e-02,  1.4992e-02,  8.0053e-05,\n",
      "         1.1973e-02, -1.9716e-02, -1.8021e-02, -1.0524e-02, -1.6293e-02,\n",
      "        -1.1958e-02,  2.1530e-02, -1.9555e-02, -5.5446e-04,  1.5386e-02,\n",
      "         1.7204e-02,  5.9840e-04, -8.4774e-03, -4.0731e-03, -2.1203e-02,\n",
      "         2.0338e-02,  1.2249e-02,  1.7782e-04, -1.7116e-02,  1.0442e-02,\n",
      "         1.8612e-03, -1.7771e-03,  3.4236e-03, -8.4199e-03, -6.6031e-03,\n",
      "         1.1609e-02, -1.9377e-03, -1.5973e-04, -2.0737e-02,  1.9214e-02,\n",
      "        -1.1896e-02,  6.5426e-03, -1.5169e-03,  7.6141e-03, -1.5667e-02,\n",
      "         2.1078e-02, -2.0346e-02, -2.0486e-02,  5.4809e-03, -1.2713e-02,\n",
      "         1.5944e-02, -1.8648e-02, -1.5569e-02, -1.9517e-02,  2.6166e-03,\n",
      "         3.5010e-03,  7.9074e-03,  2.7167e-03,  1.7113e-02, -1.1130e-02,\n",
      "        -1.3775e-03, -2.7241e-03, -8.2884e-03, -9.0462e-03,  1.6021e-02,\n",
      "        -2.1071e-04, -8.9582e-03,  8.6346e-03,  1.0652e-02,  1.5792e-02,\n",
      "         8.2558e-03,  2.1707e-02, -1.6394e-02,  7.3837e-03, -2.0978e-02,\n",
      "        -2.1773e-02,  1.3813e-02,  1.1512e-02,  2.1872e-02, -1.3903e-02,\n",
      "         1.0341e-02, -5.2643e-03, -1.1161e-02,  2.3460e-03,  1.4888e-02,\n",
      "        -1.4135e-02,  1.3136e-02, -1.7743e-02, -1.6634e-02,  1.6038e-02,\n",
      "        -5.7191e-03,  4.5824e-03,  1.6055e-02,  1.8721e-02, -4.7417e-03,\n",
      "         8.7679e-04, -1.2260e-02, -7.6785e-03,  1.6747e-02,  1.0972e-02,\n",
      "        -1.2078e-02,  1.0052e-02, -8.1249e-04, -1.7177e-02,  2.1248e-03,\n",
      "         1.8354e-02, -1.5908e-02, -1.5802e-02,  2.0328e-02, -2.1561e-02,\n",
      "        -6.2614e-03,  2.3723e-03, -1.2505e-02,  3.5137e-03, -5.5875e-03,\n",
      "         1.9291e-02,  1.1782e-02, -6.6115e-03,  1.0418e-02, -1.1746e-02,\n",
      "         1.8082e-03,  9.4677e-03, -1.5131e-02, -3.0828e-04,  6.5575e-03,\n",
      "        -1.3838e-02,  2.0915e-03, -9.0453e-03,  2.1858e-02,  1.5284e-02,\n",
      "         7.1639e-03, -1.4915e-02,  8.0304e-03,  1.4494e-02,  1.3490e-02,\n",
      "         1.3808e-02, -8.7803e-03, -1.6800e-02, -1.4353e-02, -1.5101e-02,\n",
      "         7.4317e-03,  1.5211e-02, -1.2662e-02, -1.1773e-02,  1.0476e-02,\n",
      "         2.0033e-03,  1.0117e-03, -1.1311e-02,  1.3395e-02, -1.5852e-02,\n",
      "         1.9331e-02, -1.8690e-02,  1.8066e-02,  1.6737e-02, -1.4447e-02,\n",
      "         1.7943e-02, -2.0725e-02, -7.9863e-03, -2.1751e-02, -1.3408e-02,\n",
      "        -8.7032e-03,  1.5601e-02,  1.5599e-02, -1.8135e-02, -7.0891e-03,\n",
      "        -6.7000e-04,  9.9877e-03,  9.5297e-04,  1.2389e-02, -1.1752e-02,\n",
      "        -1.3272e-02,  6.8346e-03,  1.8997e-02,  1.8437e-03,  1.0079e-02,\n",
      "         1.5877e-02, -6.4979e-03,  5.2498e-04, -1.2662e-02, -1.0766e-02,\n",
      "        -1.7419e-02, -4.1910e-03,  5.5106e-03, -9.1813e-03, -2.1623e-02,\n",
      "         1.7784e-02, -1.7474e-02, -1.7452e-02, -1.3882e-02, -4.6005e-03,\n",
      "         1.4199e-02, -1.2095e-02, -2.1584e-03,  4.0008e-03,  8.1267e-03,\n",
      "        -1.3264e-02, -1.9972e-02,  6.5708e-03,  1.7824e-02, -1.3430e-02,\n",
      "        -1.6045e-02,  1.6553e-02, -1.2868e-02,  4.9878e-03, -2.7670e-04,\n",
      "         2.0568e-02, -1.8957e-02,  3.2233e-03, -9.3179e-03, -1.7760e-02,\n",
      "         5.7493e-03,  1.0800e-02,  1.5940e-02, -1.8105e-02,  2.0047e-02,\n",
      "        -9.5356e-03,  1.7506e-02, -1.2111e-03,  1.8716e-02, -7.9856e-03,\n",
      "        -1.9076e-03, -1.3996e-04, -1.9630e-02, -7.9682e-03,  9.3449e-03,\n",
      "        -5.8490e-03,  8.4750e-03, -6.8276e-03, -2.1913e-02, -9.4643e-03,\n",
      "        -1.6883e-04, -3.5107e-03,  7.8133e-03, -8.8746e-03,  2.0182e-02,\n",
      "        -2.8632e-03, -1.1830e-02,  8.3893e-03, -3.1524e-03, -1.9307e-02,\n",
      "        -4.8155e-04], device='cuda:0', requires_grad=True)\n",
      "Parameter containing:\n",
      "tensor([1., 1., 1., 1., 1., 1., 1., 1., 1., 1., 1., 1., 1., 1., 1., 1., 1., 1.,\n",
      "        1., 1., 1., 1., 1., 1., 1., 1., 1., 1., 1., 1., 1., 1., 1., 1., 1., 1.,\n",
      "        1., 1., 1., 1., 1., 1., 1., 1., 1., 1., 1., 1., 1., 1., 1., 1., 1., 1.,\n",
      "        1., 1., 1., 1., 1., 1., 1., 1., 1., 1., 1., 1., 1., 1., 1., 1., 1., 1.,\n",
      "        1., 1., 1., 1., 1., 1., 1., 1., 1., 1., 1., 1., 1., 1., 1., 1., 1., 1.,\n",
      "        1., 1., 1., 1., 1., 1., 1., 1., 1., 1., 1., 1., 1., 1., 1., 1., 1., 1.,\n",
      "        1., 1., 1., 1., 1., 1., 1., 1., 1., 1., 1., 1., 1., 1., 1., 1., 1., 1.,\n",
      "        1., 1., 1., 1., 1., 1., 1., 1., 1., 1., 1., 1., 1., 1., 1., 1., 1., 1.,\n",
      "        1., 1., 1., 1., 1., 1., 1., 1., 1., 1., 1., 1., 1., 1., 1., 1., 1., 1.,\n",
      "        1., 1., 1., 1., 1., 1., 1., 1., 1., 1., 1., 1., 1., 1., 1., 1., 1., 1.,\n",
      "        1., 1., 1., 1., 1., 1., 1., 1., 1., 1., 1., 1., 1., 1., 1., 1., 1., 1.,\n",
      "        1., 1., 1., 1., 1., 1., 1., 1., 1., 1., 1., 1., 1., 1., 1., 1., 1., 1.,\n",
      "        1., 1., 1., 1., 1., 1., 1., 1., 1., 1., 1., 1., 1., 1., 1., 1., 1., 1.,\n",
      "        1., 1., 1., 1., 1., 1., 1., 1., 1., 1., 1., 1., 1., 1., 1., 1., 1., 1.,\n",
      "        1., 1., 1., 1.], device='cuda:0', requires_grad=True)\n",
      "Parameter containing:\n",
      "tensor([0., 0., 0., 0., 0., 0., 0., 0., 0., 0., 0., 0., 0., 0., 0., 0., 0., 0., 0., 0., 0., 0., 0., 0.,\n",
      "        0., 0., 0., 0., 0., 0., 0., 0., 0., 0., 0., 0., 0., 0., 0., 0., 0., 0., 0., 0., 0., 0., 0., 0.,\n",
      "        0., 0., 0., 0., 0., 0., 0., 0., 0., 0., 0., 0., 0., 0., 0., 0., 0., 0., 0., 0., 0., 0., 0., 0.,\n",
      "        0., 0., 0., 0., 0., 0., 0., 0., 0., 0., 0., 0., 0., 0., 0., 0., 0., 0., 0., 0., 0., 0., 0., 0.,\n",
      "        0., 0., 0., 0., 0., 0., 0., 0., 0., 0., 0., 0., 0., 0., 0., 0., 0., 0., 0., 0., 0., 0., 0., 0.,\n",
      "        0., 0., 0., 0., 0., 0., 0., 0., 0., 0., 0., 0., 0., 0., 0., 0., 0., 0., 0., 0., 0., 0., 0., 0.,\n",
      "        0., 0., 0., 0., 0., 0., 0., 0., 0., 0., 0., 0., 0., 0., 0., 0., 0., 0., 0., 0., 0., 0., 0., 0.,\n",
      "        0., 0., 0., 0., 0., 0., 0., 0., 0., 0., 0., 0., 0., 0., 0., 0., 0., 0., 0., 0., 0., 0., 0., 0.,\n",
      "        0., 0., 0., 0., 0., 0., 0., 0., 0., 0., 0., 0., 0., 0., 0., 0., 0., 0., 0., 0., 0., 0., 0., 0.,\n",
      "        0., 0., 0., 0., 0., 0., 0., 0., 0., 0., 0., 0., 0., 0., 0., 0., 0., 0., 0., 0., 0., 0., 0., 0.,\n",
      "        0., 0., 0., 0., 0., 0., 0., 0., 0., 0., 0., 0., 0., 0., 0., 0.],\n",
      "       device='cuda:0', requires_grad=True)\n",
      "Parameter containing:\n",
      "tensor([1., 1., 1., 1., 1., 1., 1., 1., 1., 1., 1., 1., 1., 1., 1., 1., 1., 1.,\n",
      "        1., 1., 1., 1., 1., 1., 1., 1., 1., 1., 1., 1., 1., 1., 1., 1., 1., 1.,\n",
      "        1., 1., 1., 1., 1., 1., 1., 1., 1., 1., 1., 1., 1., 1., 1., 1., 1., 1.,\n",
      "        1., 1., 1., 1., 1., 1., 1., 1., 1., 1., 1., 1., 1., 1., 1., 1., 1., 1.,\n",
      "        1., 1., 1., 1., 1., 1., 1., 1., 1., 1., 1., 1., 1., 1., 1., 1., 1., 1.,\n",
      "        1., 1., 1., 1., 1., 1., 1., 1., 1., 1., 1., 1., 1., 1., 1., 1., 1., 1.,\n",
      "        1., 1., 1., 1., 1., 1., 1., 1., 1., 1., 1., 1., 1., 1., 1., 1., 1., 1.,\n",
      "        1., 1., 1., 1., 1., 1., 1., 1., 1., 1., 1., 1., 1., 1., 1., 1., 1., 1.,\n",
      "        1., 1., 1., 1., 1., 1., 1., 1., 1., 1., 1., 1., 1., 1., 1., 1., 1., 1.,\n",
      "        1., 1., 1., 1., 1., 1., 1., 1., 1., 1., 1., 1., 1., 1., 1., 1., 1., 1.,\n",
      "        1., 1., 1., 1., 1., 1., 1., 1., 1., 1., 1., 1., 1., 1., 1., 1., 1., 1.,\n",
      "        1., 1., 1., 1., 1., 1., 1., 1., 1., 1., 1., 1., 1., 1., 1., 1., 1., 1.,\n",
      "        1., 1., 1., 1., 1., 1., 1., 1., 1., 1., 1., 1., 1., 1., 1., 1., 1., 1.,\n",
      "        1., 1., 1., 1., 1., 1., 1., 1., 1., 1., 1., 1., 1., 1., 1., 1., 1., 1.,\n",
      "        1., 1., 1., 1.], device='cuda:0', requires_grad=True)\n",
      "Parameter containing:\n",
      "tensor([0., 0., 0., 0., 0., 0., 0., 0., 0., 0., 0., 0., 0., 0., 0., 0., 0., 0., 0., 0., 0., 0., 0., 0.,\n",
      "        0., 0., 0., 0., 0., 0., 0., 0., 0., 0., 0., 0., 0., 0., 0., 0., 0., 0., 0., 0., 0., 0., 0., 0.,\n",
      "        0., 0., 0., 0., 0., 0., 0., 0., 0., 0., 0., 0., 0., 0., 0., 0., 0., 0., 0., 0., 0., 0., 0., 0.,\n",
      "        0., 0., 0., 0., 0., 0., 0., 0., 0., 0., 0., 0., 0., 0., 0., 0., 0., 0., 0., 0., 0., 0., 0., 0.,\n",
      "        0., 0., 0., 0., 0., 0., 0., 0., 0., 0., 0., 0., 0., 0., 0., 0., 0., 0., 0., 0., 0., 0., 0., 0.,\n",
      "        0., 0., 0., 0., 0., 0., 0., 0., 0., 0., 0., 0., 0., 0., 0., 0., 0., 0., 0., 0., 0., 0., 0., 0.,\n",
      "        0., 0., 0., 0., 0., 0., 0., 0., 0., 0., 0., 0., 0., 0., 0., 0., 0., 0., 0., 0., 0., 0., 0., 0.,\n",
      "        0., 0., 0., 0., 0., 0., 0., 0., 0., 0., 0., 0., 0., 0., 0., 0., 0., 0., 0., 0., 0., 0., 0., 0.,\n",
      "        0., 0., 0., 0., 0., 0., 0., 0., 0., 0., 0., 0., 0., 0., 0., 0., 0., 0., 0., 0., 0., 0., 0., 0.,\n",
      "        0., 0., 0., 0., 0., 0., 0., 0., 0., 0., 0., 0., 0., 0., 0., 0., 0., 0., 0., 0., 0., 0., 0., 0.,\n",
      "        0., 0., 0., 0., 0., 0., 0., 0., 0., 0., 0., 0., 0., 0., 0., 0.],\n",
      "       device='cuda:0', requires_grad=True)\n",
      "Parameter containing:\n",
      "tensor([[-1.2502e-02,  2.5134e-02,  3.9169e-02,  ..., -3.3274e-03,\n",
      "         -8.3292e-03,  3.7601e-02],\n",
      "        [ 2.2783e-02,  6.0960e-02,  6.5124e-03,  ..., -3.7700e-02,\n",
      "         -4.4083e-03,  5.2549e-05],\n",
      "        [-4.3184e-02, -1.0919e-03, -3.1926e-02,  ...,  1.9156e-02,\n",
      "          3.5643e-02, -5.3724e-02],\n",
      "        ...,\n",
      "        [-1.3572e-02, -2.2576e-02,  2.3655e-02,  ...,  1.0130e-02,\n",
      "          1.2635e-02, -2.5036e-02],\n",
      "        [-8.5613e-03,  1.4446e-02, -5.2616e-03,  ...,  4.0015e-02,\n",
      "         -6.1845e-02, -5.4017e-02],\n",
      "        [-1.2983e-02,  2.8600e-02, -4.2059e-02,  ...,  4.3046e-02,\n",
      "          4.6661e-02, -3.8716e-02]], device='cuda:0', requires_grad=True)\n",
      "Parameter containing:\n",
      "tensor([-0.0203,  0.0054,  0.0202,  ..., -0.0141, -0.0150, -0.0557],\n",
      "       device='cuda:0', requires_grad=True)\n",
      "Parameter containing:\n",
      "tensor([[ 0.0163,  0.0053, -0.0092,  ..., -0.0005, -0.0177,  0.0250],\n",
      "        [ 0.0002,  0.0097, -0.0287,  ...,  0.0080,  0.0307,  0.0168],\n",
      "        [-0.0166, -0.0192, -0.0297,  ..., -0.0011, -0.0053,  0.0072],\n",
      "        ...,\n",
      "        [-0.0153, -0.0009, -0.0146,  ..., -0.0064, -0.0115, -0.0098],\n",
      "        [-0.0110,  0.0271, -0.0076,  ..., -0.0195,  0.0039, -0.0212],\n",
      "        [ 0.0028,  0.0231,  0.0019,  ...,  0.0179,  0.0279, -0.0124]],\n",
      "       device='cuda:0', requires_grad=True)\n",
      "Parameter containing:\n",
      "tensor([-2.7627e-02, -1.8204e-02,  1.0463e-02,  7.8879e-04,  3.1160e-02,\n",
      "         4.3946e-04, -3.4422e-03, -7.6451e-03, -1.6813e-03, -1.6504e-02,\n",
      "        -1.5110e-03, -2.3546e-02, -1.1102e-02,  1.8078e-02,  1.6419e-02,\n",
      "        -1.7582e-02,  1.3225e-02,  3.8557e-03, -1.2657e-02, -4.7957e-03,\n",
      "        -6.3553e-03,  6.0952e-03,  1.2724e-02,  1.8091e-02,  2.5270e-02,\n",
      "         1.8157e-02,  2.6599e-02, -3.0191e-02, -2.0047e-02,  1.0614e-02,\n",
      "         2.4965e-02, -1.8118e-02, -6.5874e-03, -4.5284e-03, -2.7537e-02,\n",
      "        -7.0821e-03, -1.5018e-02,  8.4661e-04,  1.3191e-02, -1.1832e-02,\n",
      "         9.6040e-04,  1.1473e-02,  1.8092e-02, -1.3657e-02,  2.5694e-02,\n",
      "        -3.3484e-03, -2.9006e-02, -2.7657e-02,  2.8651e-03,  2.2655e-02,\n",
      "        -2.3079e-02,  2.1105e-02, -2.9297e-02,  1.1043e-02, -6.5112e-03,\n",
      "        -2.2808e-02,  1.0535e-03, -2.7336e-02,  9.1258e-03, -4.9816e-03,\n",
      "         4.3426e-03, -2.1804e-02,  3.0620e-02, -1.5434e-02,  6.3844e-03,\n",
      "        -5.0056e-04, -2.8737e-02,  3.0727e-02, -7.8636e-03, -9.2058e-03,\n",
      "         3.1095e-02, -2.3159e-02,  1.1037e-02,  2.2228e-02,  1.1862e-02,\n",
      "        -5.0053e-03, -2.4623e-02, -2.2957e-02, -2.6071e-02, -6.2264e-03,\n",
      "         1.5952e-02,  1.2960e-02, -5.7253e-03,  1.9015e-02,  1.4957e-02,\n",
      "         2.2634e-02,  5.9074e-03, -3.7662e-04, -2.4499e-02,  1.2445e-02,\n",
      "         1.7372e-02,  2.1623e-02, -2.0586e-02, -2.7363e-02,  2.3189e-02,\n",
      "        -1.8137e-02, -1.1934e-02,  1.9999e-02,  1.4608e-02,  2.9432e-03,\n",
      "        -2.6981e-02,  1.0335e-04, -1.9028e-02,  2.0424e-03,  1.6920e-02,\n",
      "         2.9719e-02,  3.4695e-03,  5.3019e-03, -1.3093e-02,  3.0058e-02,\n",
      "         6.3832e-03,  5.5741e-03,  2.4731e-02, -4.0583e-03,  1.3265e-02,\n",
      "         1.8633e-02, -1.5683e-02, -1.9481e-02, -2.5189e-02, -9.6538e-03,\n",
      "         1.0149e-02, -2.2406e-02,  1.7812e-02, -1.7758e-02, -2.7623e-02,\n",
      "        -2.9621e-02, -1.8887e-03, -2.7837e-02, -2.2200e-02, -6.3876e-03,\n",
      "         2.1092e-02, -2.2894e-02,  7.3316e-04, -2.4425e-03, -7.9123e-03,\n",
      "         2.6474e-02,  1.0296e-02, -7.6116e-03,  1.1302e-02,  4.9010e-03,\n",
      "        -6.0863e-03, -1.1937e-02, -8.0444e-03,  3.0506e-02,  8.2530e-03,\n",
      "        -2.2584e-03,  1.9191e-02, -1.0760e-02, -1.5161e-02,  3.0666e-02,\n",
      "        -1.2062e-02, -4.2244e-03,  2.7841e-02, -1.2078e-02, -9.7083e-03,\n",
      "        -2.2069e-02, -1.6074e-02,  8.2243e-05,  2.7614e-02, -1.8939e-02,\n",
      "         3.0718e-02, -1.8379e-02,  3.1775e-03,  2.2648e-02,  1.8396e-02,\n",
      "         1.2271e-02, -2.1937e-04, -2.4129e-02,  2.5665e-02, -1.0078e-02,\n",
      "        -1.5315e-02, -3.6108e-03, -9.7624e-03, -1.6010e-02,  1.5180e-02,\n",
      "        -7.7705e-03,  1.2366e-02,  2.4004e-02,  2.9274e-02,  1.6050e-02,\n",
      "        -2.0959e-02, -1.5229e-02, -1.0039e-03, -1.7910e-02,  6.2587e-03,\n",
      "        -1.7419e-02, -1.1588e-02, -2.2390e-02, -2.2660e-02,  1.4149e-02,\n",
      "        -5.0934e-03, -2.2209e-02,  1.7592e-02,  2.4846e-02, -7.2929e-03,\n",
      "        -1.2649e-02, -1.8054e-02, -6.9677e-03, -2.6514e-02,  1.6039e-02,\n",
      "        -1.9407e-03, -7.5572e-03, -2.5206e-02, -3.9541e-03,  1.6470e-02,\n",
      "         2.2867e-03,  2.5770e-02,  2.8405e-02, -6.6686e-03, -1.2396e-02,\n",
      "         1.4215e-02, -1.6684e-03, -1.6405e-02,  3.1082e-02,  7.7115e-03,\n",
      "        -6.1422e-03, -5.2522e-03, -3.3970e-03, -1.5230e-02,  1.6718e-03,\n",
      "        -3.0963e-02, -9.6765e-03,  8.9179e-03,  8.1704e-03, -2.1021e-03,\n",
      "        -2.8758e-02,  1.4902e-02,  9.7818e-03, -1.2538e-02,  7.1538e-03,\n",
      "        -2.9113e-02,  1.1790e-02,  4.7851e-03,  2.2393e-02, -4.1868e-03,\n",
      "        -2.6110e-03,  1.5170e-02,  7.9268e-04, -6.0285e-03,  1.6031e-02,\n",
      "         6.0089e-03, -9.5432e-03, -3.1083e-03,  7.9635e-03,  2.9165e-02,\n",
      "        -1.5432e-02,  5.7242e-03,  1.6218e-02, -2.6646e-02, -9.5089e-03,\n",
      "        -1.4285e-02, -2.3332e-02,  1.2164e-02, -1.6063e-02,  2.8265e-02,\n",
      "         2.3226e-02], device='cuda:0', requires_grad=True)\n",
      "Parameter containing:\n",
      "tensor([[ 0.0381, -0.0421,  0.0004,  ...,  0.0398, -0.0054,  0.0220],\n",
      "        [-0.0206, -0.0411,  0.0161,  ...,  0.0350,  0.0440, -0.0580],\n",
      "        [-0.0509,  0.0143,  0.0174,  ..., -0.0217,  0.0600,  0.0361],\n",
      "        ...,\n",
      "        [-0.0094, -0.0523, -0.0509,  ..., -0.0393, -0.0157,  0.0150],\n",
      "        [-0.0264, -0.0020,  0.0274,  ...,  0.0112, -0.0584, -0.0316],\n",
      "        [-0.0571,  0.0003,  0.0609,  ..., -0.0363, -0.0543, -0.0474]],\n",
      "       device='cuda:0', requires_grad=True)\n",
      "Parameter containing:\n",
      "tensor([[ 0.0505, -0.0117, -0.0292,  ...,  0.0154,  0.0491, -0.0471],\n",
      "        [-0.0343,  0.0413,  0.0123,  ..., -0.0024,  0.0078, -0.0210],\n",
      "        [-0.0150, -0.0265, -0.0169,  ..., -0.0583, -0.0035, -0.0560],\n",
      "        ...,\n",
      "        [-0.0331,  0.0161, -0.0045,  ..., -0.0026, -0.0354, -0.0365],\n",
      "        [ 0.0463,  0.0566, -0.0577,  ...,  0.0555,  0.0062,  0.0380],\n",
      "        [-0.0143, -0.0270,  0.0571,  ...,  0.0132, -0.0591, -0.0093]],\n",
      "       device='cuda:0', requires_grad=True)\n",
      "Parameter containing:\n",
      "tensor([[ 0.0301, -0.0418, -0.0344,  ..., -0.0117, -0.0298, -0.0344],\n",
      "        [ 0.0590,  0.0460,  0.0566,  ..., -0.0362,  0.0142,  0.0454],\n",
      "        [-0.0473, -0.0304, -0.0271,  ..., -0.0025,  0.0434, -0.0088],\n",
      "        ...,\n",
      "        [ 0.0045, -0.0416, -0.0129,  ..., -0.0113,  0.0049,  0.0245],\n",
      "        [ 0.0362,  0.0437, -0.0364,  ...,  0.0138,  0.0506, -0.0098],\n",
      "        [-0.0226,  0.0261, -0.0571,  ...,  0.0146,  0.0333, -0.0495]],\n",
      "       device='cuda:0', requires_grad=True)\n",
      "Parameter containing:\n",
      "tensor([[-0.0058, -0.0132,  0.0159,  ..., -0.0195,  0.0182, -0.0209],\n",
      "        [-0.0092,  0.0210, -0.0190,  ..., -0.0139,  0.0212, -0.0063],\n",
      "        [ 0.0003,  0.0042,  0.0078,  ...,  0.0075, -0.0144, -0.0005],\n",
      "        ...,\n",
      "        [-0.0146,  0.0046, -0.0035,  ..., -0.0174, -0.0212,  0.0079],\n",
      "        [ 0.0122, -0.0057,  0.0066,  ..., -0.0211,  0.0214,  0.0198],\n",
      "        [-0.0169,  0.0183, -0.0055,  ...,  0.0019, -0.0074, -0.0164]],\n",
      "       device='cuda:0', requires_grad=True)\n",
      "Parameter containing:\n",
      "tensor([ 0.0119, -0.0118, -0.0058,  0.0010, -0.0157, -0.0202, -0.0100, -0.0054,\n",
      "         0.0178,  0.0116, -0.0127,  0.0142,  0.0198,  0.0022,  0.0107,  0.0205,\n",
      "         0.0047, -0.0070,  0.0200,  0.0035,  0.0185,  0.0053, -0.0131, -0.0073,\n",
      "         0.0130,  0.0128, -0.0212,  0.0031,  0.0027,  0.0139, -0.0054,  0.0073,\n",
      "         0.0178,  0.0164,  0.0218, -0.0153, -0.0036,  0.0170,  0.0183,  0.0126,\n",
      "         0.0039,  0.0070, -0.0123,  0.0041,  0.0009,  0.0149,  0.0173, -0.0192,\n",
      "         0.0098,  0.0073,  0.0115, -0.0010, -0.0146,  0.0023, -0.0063,  0.0054,\n",
      "         0.0214,  0.0134, -0.0022,  0.0137,  0.0212,  0.0191, -0.0077, -0.0103,\n",
      "        -0.0207,  0.0187, -0.0087,  0.0069,  0.0202,  0.0215, -0.0100, -0.0097,\n",
      "         0.0207,  0.0015, -0.0092,  0.0134,  0.0106,  0.0028, -0.0198, -0.0126,\n",
      "         0.0007, -0.0204,  0.0068,  0.0015,  0.0019,  0.0130, -0.0032,  0.0054,\n",
      "        -0.0097,  0.0124, -0.0142, -0.0204, -0.0090, -0.0026,  0.0008, -0.0169,\n",
      "        -0.0185, -0.0156,  0.0179, -0.0149,  0.0170,  0.0121,  0.0099,  0.0201,\n",
      "        -0.0220, -0.0221, -0.0001,  0.0093,  0.0018, -0.0185,  0.0076,  0.0125,\n",
      "         0.0052, -0.0085,  0.0204, -0.0165, -0.0026,  0.0157, -0.0121, -0.0166,\n",
      "        -0.0187, -0.0091, -0.0178, -0.0048, -0.0006,  0.0155,  0.0094,  0.0103,\n",
      "         0.0135, -0.0012,  0.0044,  0.0117, -0.0125,  0.0190, -0.0028, -0.0201,\n",
      "         0.0157, -0.0075,  0.0132, -0.0190, -0.0074,  0.0174,  0.0044, -0.0084,\n",
      "         0.0174, -0.0059,  0.0154,  0.0062, -0.0185, -0.0076,  0.0144,  0.0196,\n",
      "         0.0190, -0.0038, -0.0131, -0.0046, -0.0185,  0.0066,  0.0046, -0.0187,\n",
      "         0.0197,  0.0127,  0.0158,  0.0100, -0.0184, -0.0042,  0.0139, -0.0008,\n",
      "         0.0203,  0.0214,  0.0206, -0.0109, -0.0199, -0.0065,  0.0037,  0.0025,\n",
      "        -0.0094, -0.0101, -0.0111, -0.0098,  0.0070,  0.0033,  0.0080,  0.0032,\n",
      "         0.0032,  0.0104,  0.0038,  0.0049, -0.0087, -0.0126,  0.0012, -0.0004,\n",
      "         0.0036,  0.0187, -0.0007, -0.0105,  0.0098,  0.0089,  0.0108, -0.0217,\n",
      "        -0.0023, -0.0189,  0.0050, -0.0220, -0.0178,  0.0037,  0.0127, -0.0107,\n",
      "        -0.0194, -0.0134, -0.0147,  0.0001,  0.0203, -0.0109, -0.0162, -0.0148,\n",
      "         0.0055,  0.0025, -0.0050,  0.0074, -0.0065,  0.0034,  0.0133,  0.0151,\n",
      "        -0.0114,  0.0031, -0.0193, -0.0161, -0.0023,  0.0176, -0.0087, -0.0128,\n",
      "        -0.0065, -0.0169,  0.0175, -0.0114, -0.0047,  0.0155,  0.0114,  0.0106,\n",
      "        -0.0186, -0.0038, -0.0038,  0.0044,  0.0146,  0.0186, -0.0205,  0.0106,\n",
      "         0.0086, -0.0041, -0.0156,  0.0104, -0.0019, -0.0050, -0.0199,  0.0142],\n",
      "       device='cuda:0', requires_grad=True)\n"
     ]
    },
    {
     "name": "stdout",
     "output_type": "stream",
     "text": [
      "Parameter containing:\n",
      "tensor([1., 1., 1., 1., 1., 1., 1., 1., 1., 1., 1., 1., 1., 1., 1., 1., 1., 1.,\n",
      "        1., 1., 1., 1., 1., 1., 1., 1., 1., 1., 1., 1., 1., 1., 1., 1., 1., 1.,\n",
      "        1., 1., 1., 1., 1., 1., 1., 1., 1., 1., 1., 1., 1., 1., 1., 1., 1., 1.,\n",
      "        1., 1., 1., 1., 1., 1., 1., 1., 1., 1., 1., 1., 1., 1., 1., 1., 1., 1.,\n",
      "        1., 1., 1., 1., 1., 1., 1., 1., 1., 1., 1., 1., 1., 1., 1., 1., 1., 1.,\n",
      "        1., 1., 1., 1., 1., 1., 1., 1., 1., 1., 1., 1., 1., 1., 1., 1., 1., 1.,\n",
      "        1., 1., 1., 1., 1., 1., 1., 1., 1., 1., 1., 1., 1., 1., 1., 1., 1., 1.,\n",
      "        1., 1., 1., 1., 1., 1., 1., 1., 1., 1., 1., 1., 1., 1., 1., 1., 1., 1.,\n",
      "        1., 1., 1., 1., 1., 1., 1., 1., 1., 1., 1., 1., 1., 1., 1., 1., 1., 1.,\n",
      "        1., 1., 1., 1., 1., 1., 1., 1., 1., 1., 1., 1., 1., 1., 1., 1., 1., 1.,\n",
      "        1., 1., 1., 1., 1., 1., 1., 1., 1., 1., 1., 1., 1., 1., 1., 1., 1., 1.,\n",
      "        1., 1., 1., 1., 1., 1., 1., 1., 1., 1., 1., 1., 1., 1., 1., 1., 1., 1.,\n",
      "        1., 1., 1., 1., 1., 1., 1., 1., 1., 1., 1., 1., 1., 1., 1., 1., 1., 1.,\n",
      "        1., 1., 1., 1., 1., 1., 1., 1., 1., 1., 1., 1., 1., 1., 1., 1., 1., 1.,\n",
      "        1., 1., 1., 1.], device='cuda:0', requires_grad=True)\n",
      "Parameter containing:\n",
      "tensor([0., 0., 0., 0., 0., 0., 0., 0., 0., 0., 0., 0., 0., 0., 0., 0., 0., 0., 0., 0., 0., 0., 0., 0.,\n",
      "        0., 0., 0., 0., 0., 0., 0., 0., 0., 0., 0., 0., 0., 0., 0., 0., 0., 0., 0., 0., 0., 0., 0., 0.,\n",
      "        0., 0., 0., 0., 0., 0., 0., 0., 0., 0., 0., 0., 0., 0., 0., 0., 0., 0., 0., 0., 0., 0., 0., 0.,\n",
      "        0., 0., 0., 0., 0., 0., 0., 0., 0., 0., 0., 0., 0., 0., 0., 0., 0., 0., 0., 0., 0., 0., 0., 0.,\n",
      "        0., 0., 0., 0., 0., 0., 0., 0., 0., 0., 0., 0., 0., 0., 0., 0., 0., 0., 0., 0., 0., 0., 0., 0.,\n",
      "        0., 0., 0., 0., 0., 0., 0., 0., 0., 0., 0., 0., 0., 0., 0., 0., 0., 0., 0., 0., 0., 0., 0., 0.,\n",
      "        0., 0., 0., 0., 0., 0., 0., 0., 0., 0., 0., 0., 0., 0., 0., 0., 0., 0., 0., 0., 0., 0., 0., 0.,\n",
      "        0., 0., 0., 0., 0., 0., 0., 0., 0., 0., 0., 0., 0., 0., 0., 0., 0., 0., 0., 0., 0., 0., 0., 0.,\n",
      "        0., 0., 0., 0., 0., 0., 0., 0., 0., 0., 0., 0., 0., 0., 0., 0., 0., 0., 0., 0., 0., 0., 0., 0.,\n",
      "        0., 0., 0., 0., 0., 0., 0., 0., 0., 0., 0., 0., 0., 0., 0., 0., 0., 0., 0., 0., 0., 0., 0., 0.,\n",
      "        0., 0., 0., 0., 0., 0., 0., 0., 0., 0., 0., 0., 0., 0., 0., 0.],\n",
      "       device='cuda:0', requires_grad=True)\n",
      "Parameter containing:\n",
      "tensor([1., 1., 1., 1., 1., 1., 1., 1., 1., 1., 1., 1., 1., 1., 1., 1., 1., 1.,\n",
      "        1., 1., 1., 1., 1., 1., 1., 1., 1., 1., 1., 1., 1., 1., 1., 1., 1., 1.,\n",
      "        1., 1., 1., 1., 1., 1., 1., 1., 1., 1., 1., 1., 1., 1., 1., 1., 1., 1.,\n",
      "        1., 1., 1., 1., 1., 1., 1., 1., 1., 1., 1., 1., 1., 1., 1., 1., 1., 1.,\n",
      "        1., 1., 1., 1., 1., 1., 1., 1., 1., 1., 1., 1., 1., 1., 1., 1., 1., 1.,\n",
      "        1., 1., 1., 1., 1., 1., 1., 1., 1., 1., 1., 1., 1., 1., 1., 1., 1., 1.,\n",
      "        1., 1., 1., 1., 1., 1., 1., 1., 1., 1., 1., 1., 1., 1., 1., 1., 1., 1.,\n",
      "        1., 1., 1., 1., 1., 1., 1., 1., 1., 1., 1., 1., 1., 1., 1., 1., 1., 1.,\n",
      "        1., 1., 1., 1., 1., 1., 1., 1., 1., 1., 1., 1., 1., 1., 1., 1., 1., 1.,\n",
      "        1., 1., 1., 1., 1., 1., 1., 1., 1., 1., 1., 1., 1., 1., 1., 1., 1., 1.,\n",
      "        1., 1., 1., 1., 1., 1., 1., 1., 1., 1., 1., 1., 1., 1., 1., 1., 1., 1.,\n",
      "        1., 1., 1., 1., 1., 1., 1., 1., 1., 1., 1., 1., 1., 1., 1., 1., 1., 1.,\n",
      "        1., 1., 1., 1., 1., 1., 1., 1., 1., 1., 1., 1., 1., 1., 1., 1., 1., 1.,\n",
      "        1., 1., 1., 1., 1., 1., 1., 1., 1., 1., 1., 1., 1., 1., 1., 1., 1., 1.,\n",
      "        1., 1., 1., 1.], device='cuda:0', requires_grad=True)\n",
      "Parameter containing:\n",
      "tensor([0., 0., 0., 0., 0., 0., 0., 0., 0., 0., 0., 0., 0., 0., 0., 0., 0., 0., 0., 0., 0., 0., 0., 0.,\n",
      "        0., 0., 0., 0., 0., 0., 0., 0., 0., 0., 0., 0., 0., 0., 0., 0., 0., 0., 0., 0., 0., 0., 0., 0.,\n",
      "        0., 0., 0., 0., 0., 0., 0., 0., 0., 0., 0., 0., 0., 0., 0., 0., 0., 0., 0., 0., 0., 0., 0., 0.,\n",
      "        0., 0., 0., 0., 0., 0., 0., 0., 0., 0., 0., 0., 0., 0., 0., 0., 0., 0., 0., 0., 0., 0., 0., 0.,\n",
      "        0., 0., 0., 0., 0., 0., 0., 0., 0., 0., 0., 0., 0., 0., 0., 0., 0., 0., 0., 0., 0., 0., 0., 0.,\n",
      "        0., 0., 0., 0., 0., 0., 0., 0., 0., 0., 0., 0., 0., 0., 0., 0., 0., 0., 0., 0., 0., 0., 0., 0.,\n",
      "        0., 0., 0., 0., 0., 0., 0., 0., 0., 0., 0., 0., 0., 0., 0., 0., 0., 0., 0., 0., 0., 0., 0., 0.,\n",
      "        0., 0., 0., 0., 0., 0., 0., 0., 0., 0., 0., 0., 0., 0., 0., 0., 0., 0., 0., 0., 0., 0., 0., 0.,\n",
      "        0., 0., 0., 0., 0., 0., 0., 0., 0., 0., 0., 0., 0., 0., 0., 0., 0., 0., 0., 0., 0., 0., 0., 0.,\n",
      "        0., 0., 0., 0., 0., 0., 0., 0., 0., 0., 0., 0., 0., 0., 0., 0., 0., 0., 0., 0., 0., 0., 0., 0.,\n",
      "        0., 0., 0., 0., 0., 0., 0., 0., 0., 0., 0., 0., 0., 0., 0., 0.],\n",
      "       device='cuda:0', requires_grad=True)\n",
      "Parameter containing:\n",
      "tensor([[ 0.0582, -0.0157, -0.0045,  ..., -0.0085, -0.0624, -0.0381],\n",
      "        [ 0.0262, -0.0088, -0.0437,  ...,  0.0085,  0.0437, -0.0142],\n",
      "        [-0.0614, -0.0481, -0.0329,  ...,  0.0087,  0.0340,  0.0408],\n",
      "        ...,\n",
      "        [ 0.0567,  0.0343, -0.0579,  ..., -0.0332,  0.0007, -0.0259],\n",
      "        [-0.0010,  0.0207,  0.0422,  ..., -0.0440,  0.0586,  0.0538],\n",
      "        [ 0.0493, -0.0420,  0.0254,  ..., -0.0153, -0.0268, -0.0302]],\n",
      "       device='cuda:0', requires_grad=True)\n",
      "Parameter containing:\n",
      "tensor([-0.0605, -0.0532,  0.0273,  ...,  0.0345,  0.0213, -0.0517],\n",
      "       device='cuda:0', requires_grad=True)\n",
      "Parameter containing:\n",
      "tensor([[-0.0308, -0.0135, -0.0141,  ..., -0.0087, -0.0089,  0.0281],\n",
      "        [ 0.0266, -0.0251, -0.0145,  ..., -0.0070, -0.0026,  0.0120],\n",
      "        [-0.0162, -0.0268,  0.0029,  ...,  0.0137, -0.0158, -0.0307],\n",
      "        ...,\n",
      "        [ 0.0261,  0.0255, -0.0033,  ..., -0.0245, -0.0193,  0.0114],\n",
      "        [-0.0041,  0.0028, -0.0149,  ..., -0.0220, -0.0100,  0.0122],\n",
      "        [ 0.0158,  0.0113,  0.0017,  ..., -0.0171, -0.0013,  0.0054]],\n",
      "       device='cuda:0', requires_grad=True)\n",
      "Parameter containing:\n",
      "tensor([ 0.0021, -0.0091, -0.0102, -0.0141, -0.0246, -0.0145, -0.0187,  0.0003,\n",
      "         0.0203,  0.0233, -0.0273, -0.0051,  0.0195, -0.0084,  0.0141,  0.0105,\n",
      "         0.0072,  0.0222,  0.0178, -0.0155,  0.0095,  0.0117, -0.0256, -0.0075,\n",
      "         0.0255, -0.0214, -0.0077, -0.0189,  0.0029, -0.0288,  0.0170,  0.0242,\n",
      "        -0.0116, -0.0276,  0.0232, -0.0021, -0.0240,  0.0249, -0.0308,  0.0122,\n",
      "        -0.0080,  0.0221, -0.0239,  0.0015, -0.0287, -0.0229,  0.0304, -0.0094,\n",
      "         0.0081,  0.0030, -0.0036,  0.0044,  0.0286, -0.0296,  0.0284,  0.0139,\n",
      "         0.0006,  0.0258,  0.0043, -0.0066,  0.0066, -0.0273, -0.0268,  0.0304,\n",
      "         0.0011,  0.0198,  0.0201, -0.0289, -0.0049,  0.0013,  0.0268,  0.0177,\n",
      "        -0.0179,  0.0197, -0.0190, -0.0192, -0.0242, -0.0266,  0.0122,  0.0264,\n",
      "         0.0077, -0.0279,  0.0106, -0.0061, -0.0067,  0.0206,  0.0254,  0.0130,\n",
      "        -0.0182, -0.0282, -0.0130, -0.0215, -0.0154, -0.0050, -0.0119,  0.0017,\n",
      "         0.0067, -0.0272, -0.0126,  0.0177, -0.0234, -0.0009,  0.0300,  0.0219,\n",
      "        -0.0287,  0.0225, -0.0195,  0.0185,  0.0246, -0.0136, -0.0040, -0.0023,\n",
      "        -0.0208,  0.0178,  0.0170, -0.0291, -0.0140, -0.0033, -0.0278,  0.0204,\n",
      "        -0.0222,  0.0164,  0.0307, -0.0078,  0.0110,  0.0282,  0.0063, -0.0305,\n",
      "         0.0066,  0.0028, -0.0077, -0.0056,  0.0306,  0.0056, -0.0186, -0.0091,\n",
      "        -0.0003,  0.0301,  0.0308,  0.0292,  0.0145,  0.0022, -0.0203,  0.0214,\n",
      "         0.0161,  0.0033, -0.0020, -0.0090,  0.0207,  0.0285, -0.0294,  0.0218,\n",
      "        -0.0250,  0.0099,  0.0014, -0.0247,  0.0227, -0.0209,  0.0099, -0.0096,\n",
      "        -0.0235,  0.0112,  0.0286,  0.0134, -0.0157, -0.0106, -0.0065, -0.0119,\n",
      "         0.0207, -0.0195, -0.0056, -0.0043, -0.0261, -0.0206,  0.0171,  0.0034,\n",
      "         0.0302,  0.0276, -0.0187, -0.0230,  0.0089,  0.0250, -0.0247,  0.0081,\n",
      "         0.0141,  0.0210,  0.0127, -0.0254, -0.0307,  0.0109,  0.0146, -0.0095,\n",
      "        -0.0257, -0.0268,  0.0274,  0.0010, -0.0092,  0.0027,  0.0043,  0.0163,\n",
      "         0.0027, -0.0089, -0.0189,  0.0284, -0.0014, -0.0210, -0.0140,  0.0257,\n",
      "        -0.0301, -0.0063, -0.0197, -0.0179,  0.0058,  0.0307, -0.0190,  0.0131,\n",
      "         0.0247,  0.0199, -0.0202,  0.0152,  0.0262,  0.0208,  0.0154,  0.0075,\n",
      "         0.0283,  0.0195,  0.0038, -0.0233,  0.0215,  0.0090, -0.0207, -0.0234,\n",
      "        -0.0239,  0.0246,  0.0050, -0.0176, -0.0012,  0.0158,  0.0228,  0.0148,\n",
      "         0.0024, -0.0232, -0.0278,  0.0046,  0.0069,  0.0095, -0.0082,  0.0145,\n",
      "         0.0256,  0.0072,  0.0308,  0.0055,  0.0086,  0.0263, -0.0275,  0.0004],\n",
      "       device='cuda:0', requires_grad=True)\n"
     ]
    }
   ],
   "source": [
    "for p in text_encoder.parameters():\n",
    "    print(p)"
   ]
  },
  {
   "cell_type": "code",
   "execution_count": null,
   "metadata": {},
   "outputs": [],
   "source": [
    "para = list(text_encoder.parameters())\n",
    "for v in image_encoder.parameters():\n",
    "    if v.requires_grad:\n",
    "        para.append(v)\n",
    "# optimizer = optim.Adam(para, lr=cfg.TRAIN.ENCODER_LR, betas=(0.5, 0.999))\n",
    "# At any point you can hit Ctrl + C to break out of training early.\n"
   ]
  },
  {
   "cell_type": "code",
   "execution_count": null,
   "metadata": {},
   "outputs": [],
   "source": [
    "tb_dir = '../tensorboard/transfomer_test_{0}_{1}_{2}'.format(cfg.DATASET_NAME, cfg.CONFIG_NAME, timestamp)\n",
    "mkdir_p(tb_dir)\n",
    "tbw = SummaryWriter(log_dir=tb_dir) # Tensorboard logging\n"
   ]
  },
  {
   "cell_type": "code",
   "execution_count": null,
   "metadata": {
    "scrolled": true
   },
   "outputs": [],
   "source": [
    "try:\n",
    "    lr = cfg.TRAIN.ENCODER_LR\n",
    "    for epoch in range(start_epoch, cfg.TRAIN.MAX_EPOCH):\n",
    "        optimizer = optim.Adam(para, lr=lr, betas=(0.5, 0.999))\n",
    "        epoch_start_time = time.time()\n",
    "\n",
    "        count = train(dataloader, image_encoder, text_encoder,\n",
    "              batch_size, labels, optimizer, epoch,\n",
    "              dataset.ixtoword, image_dir)\n",
    "        print('-' * 89)\n",
    "        if len(dataloader_val) > 0:\n",
    "            s_loss, w_loss = evaluate(dataloader_val, image_encoder,\n",
    "                                      text_encoder, batch_size)\n",
    "            wlosses.append(w_loss)\n",
    "            slosses.append(s_loss)\n",
    "            print('| end epoch {:3d} | valid loss '\n",
    "                  '{:5.2f} {:5.2f} | lr {:.5f}|'\n",
    "                  .format(epoch, s_loss, w_loss, lr))\n",
    "            tbw.add_scalar('val_w_loss', float(w_loss.item()), epoch)\n",
    "            tbw.add_scalar('val_s_loss', float(s_loss.item()), epoch)\n",
    "        print('-' * 89)\n",
    "        if lr > cfg.TRAIN.ENCODER_LR/10.:\n",
    "            lr *= 0.98\n",
    "\n",
    "        if (epoch % cfg.TRAIN.SNAPSHOT_INTERVAL == 0 or\n",
    "            epoch == cfg.TRAIN.MAX_EPOCH):\n",
    "            torch.save(image_encoder.state_dict(),\n",
    "                       '{0}/image_encoder{1}.pth'.format(model_dir, epoch))\n",
    "            torch.save(text_encoder.state_dict(),\n",
    "                       '{0}/text_encoder{1}.pth'.format(model_dir, epoch))\n",
    "            print('Save G/Ds models.')\n",
    "    df = pd.DataFrame()\n",
    "    df['eval_wlosses']=wlosses\n",
    "    df['eval_slosses']=slosses\n",
    "    df.to_csv('{0}/val_losses.csv'.format(metrics_dir))\n",
    "except KeyboardInterrupt:\n",
    "    print('-' * 89)\n",
    "    print('Exiting from training early')\n"
   ]
  },
  {
   "cell_type": "code",
   "execution_count": null,
   "metadata": {},
   "outputs": [],
   "source": [
    "# captions: tensor([[   10,   115,   485,  ...,    21,     8,   423],\n",
    "#         [   10,    78,   946,  ...,    11,    10,   423],\n",
    "#         [   56,   673,   674,  ...,    47,   795,    11],\n",
    "#         ...,\n",
    "#         [   56,    89,   868,  ...,     0,     0,     0],\n",
    "#         [   10,  1353,   115,  ...,     0,     0,     0],\n",
    "#         [   10, 14329,   115,  ...,     0,     0,     0]], device='cuda:3') torch.Size([96, 15])\n",
    "# b:96, t:15, e:256\n",
    "# positions: torch.Size([96, 15, 256])\n",
    "# x: torch.Size([96, 15, 256])\n",
    "# words_emb: torch.Size([96, 15, 256]) sent_emb: torch.Size([96, 256])\n",
    "# words_emb: torch.Size([96, 15, 256]) , sent_emb: torch.Size([96, 256])\n",
    "# contextT: torch.Size([96, 289, 256]) query: torch.Size([96, 15, 15])"
   ]
  },
  {
   "cell_type": "code",
   "execution_count": 35,
   "metadata": {},
   "outputs": [
    {
     "name": "stdout",
     "output_type": "stream",
     "text": [
      "Files already downloaded and verified\n"
     ]
    }
   ],
   "source": [
    "import torchvision.datasets as dset\n",
    "import torchvision.transforms as transforms\n",
    "import torch\n",
    "from torch import nn\n",
    "from torch.autograd import Variable\n",
    "from torch.nn import functional as F\n",
    "import torch.utils.data\n",
    "\n",
    "from torchvision.models.inception import inception_v3\n",
    "\n",
    "import numpy as np\n",
    "from scipy.stats import entropy\n",
    "\n",
    "cifar = dset.CIFAR10(root='data/', download=True,\n",
    "                         transform=transforms.Compose([\n",
    "                             transforms.ToTensor()\n",
    "                         ])\n",
    ")"
   ]
  },
  {
   "cell_type": "code",
   "execution_count": 36,
   "metadata": {},
   "outputs": [],
   "source": [
    "batch_size=100\n",
    "c_dataloader = torch.utils.data.DataLoader(cifar, batch_size=batch_size,)\n"
   ]
  },
  {
   "cell_type": "code",
   "execution_count": 7,
   "metadata": {
    "scrolled": true
   },
   "outputs": [],
   "source": [
    "from math import floor\n",
    "from numpy import ones\n",
    "from numpy import expand_dims\n",
    "from numpy import log\n",
    "from numpy import mean\n",
    "from numpy import std\n",
    "from numpy import exp\n",
    "from numpy.random import shuffle\n",
    "from keras.applications.inception_v3 import InceptionV3\n",
    "from keras.applications.inception_v3 import preprocess_input\n",
    "from keras.datasets import cifar10\n",
    "from skimage.transform import resize\n",
    "from numpy import asarray\n",
    "import os\n",
    "os.environ[\"CUDA_VISIBLE_DEVICES\"] = \"0\"\n",
    "\n",
    "def calculate_inception_score(images, n_split=10, eps=1E-16):\n",
    "    # load inception v3 model\n",
    "    model = InceptionV3()\n",
    "    # enumerate splits of images/predictions\n",
    "    scores = list()\n",
    "    n_part = floor(images.shape[0] / n_split)\n",
    "    for i in range(n_split):\n",
    "        # retrieve images\n",
    "        ix_start, ix_end = i * n_part, (i+1) * n_part\n",
    "        subset = images[ix_start:ix_end]\n",
    "        # convert from uint8 to float32\n",
    "        subset = subset.astype('float32')\n",
    "        # scale images to the required size\n",
    "        subset = scale_images(subset, (299,299,3))\n",
    "        # pre-process images, scale to [-1,1]\n",
    "        subset = preprocess_input(subset)\n",
    "        # predict p(y|x)\n",
    "        p_yx = model.predict(subset)\n",
    "        # calculate p(y)\n",
    "        p_y = expand_dims(p_yx.mean(axis=0), 0)\n",
    "        # calculate KL divergence using log probabilities\n",
    "        kl_d = p_yx * (log(p_yx + eps) - log(p_y + eps))\n",
    "        # sum over classes\n",
    "        sum_kl_d = kl_d.sum(axis=1)\n",
    "        # average over images\n",
    "        avg_kl_d = mean(sum_kl_d)\n",
    "        # undo the log\n",
    "        is_score = exp(avg_kl_d)\n",
    "        # store\n",
    "        scores.append(is_score)\n",
    "    # average across images\n",
    "    is_avg, is_std = mean(scores), std(scores)\n",
    "    return is_avg, is_std\n",
    "\n",
    "# scale an array of images to a new size\n",
    "def scale_images(images, new_shape):\n",
    "    images_list = list()\n",
    "    for image in images:\n",
    "        # resize with nearest neighbor interpolation\n",
    "        new_image = resize(image, new_shape, 0)\n",
    "        # store\n",
    "        images_list.append(new_image)\n",
    "    return asarray(images_list)"
   ]
  },
  {
   "cell_type": "code",
   "execution_count": 8,
   "metadata": {},
   "outputs": [
    {
     "name": "stdout",
     "output_type": "stream",
     "text": [
      "loaded (50000, 32, 32, 3)\n",
      "A local file was found, but it seems to be incomplete or outdated because the auto file hash does not match the original value of 9a0d58056eeedaa3f26cb7ebd46da564 so we will re-download the data.\n",
      "Downloading data from https://github.com/fchollet/deep-learning-models/releases/download/v0.5/inception_v3_weights_tf_dim_ordering_tf_kernels.h5\n",
      "96116736/96112376 [==============================] - 8s 0us/step\n"
     ]
    },
    {
     "ename": "NameError",
     "evalue": "name 'resize' is not defined",
     "output_type": "error",
     "traceback": [
      "\u001b[0;31m---------------------------------------------------------------------------\u001b[0m",
      "\u001b[0;31mNameError\u001b[0m                                 Traceback (most recent call last)",
      "\u001b[0;32m<ipython-input-8-70d4a7f40741>\u001b[0m in \u001b[0;36m<module>\u001b[0;34m\u001b[0m\n\u001b[1;32m      5\u001b[0m \u001b[0mprint\u001b[0m\u001b[0;34m(\u001b[0m\u001b[0;34m'loaded'\u001b[0m\u001b[0;34m,\u001b[0m \u001b[0mimages\u001b[0m\u001b[0;34m.\u001b[0m\u001b[0mshape\u001b[0m\u001b[0;34m)\u001b[0m\u001b[0;34m\u001b[0m\u001b[0;34m\u001b[0m\u001b[0m\n\u001b[1;32m      6\u001b[0m \u001b[0;31m# calculate inception score\u001b[0m\u001b[0;34m\u001b[0m\u001b[0;34m\u001b[0m\u001b[0;34m\u001b[0m\u001b[0m\n\u001b[0;32m----> 7\u001b[0;31m \u001b[0mis_avg\u001b[0m\u001b[0;34m,\u001b[0m \u001b[0mis_std\u001b[0m \u001b[0;34m=\u001b[0m \u001b[0mcalculate_inception_score\u001b[0m\u001b[0;34m(\u001b[0m\u001b[0mimages\u001b[0m\u001b[0;34m)\u001b[0m\u001b[0;34m\u001b[0m\u001b[0;34m\u001b[0m\u001b[0m\n\u001b[0m\u001b[1;32m      8\u001b[0m \u001b[0mprint\u001b[0m\u001b[0;34m(\u001b[0m\u001b[0;34m'score'\u001b[0m\u001b[0;34m,\u001b[0m \u001b[0mis_avg\u001b[0m\u001b[0;34m,\u001b[0m \u001b[0mis_std\u001b[0m\u001b[0;34m)\u001b[0m\u001b[0;34m\u001b[0m\u001b[0;34m\u001b[0m\u001b[0m\n",
      "\u001b[0;32m<ipython-input-7-ebe6fa6b1a69>\u001b[0m in \u001b[0;36mcalculate_inception_score\u001b[0;34m(images, n_split, eps)\u001b[0m\n\u001b[1;32m     27\u001b[0m         \u001b[0msubset\u001b[0m \u001b[0;34m=\u001b[0m \u001b[0msubset\u001b[0m\u001b[0;34m.\u001b[0m\u001b[0mastype\u001b[0m\u001b[0;34m(\u001b[0m\u001b[0;34m'float32'\u001b[0m\u001b[0;34m)\u001b[0m\u001b[0;34m\u001b[0m\u001b[0;34m\u001b[0m\u001b[0m\n\u001b[1;32m     28\u001b[0m         \u001b[0;31m# scale images to the required size\u001b[0m\u001b[0;34m\u001b[0m\u001b[0;34m\u001b[0m\u001b[0;34m\u001b[0m\u001b[0m\n\u001b[0;32m---> 29\u001b[0;31m         \u001b[0msubset\u001b[0m \u001b[0;34m=\u001b[0m \u001b[0mscale_images\u001b[0m\u001b[0;34m(\u001b[0m\u001b[0msubset\u001b[0m\u001b[0;34m,\u001b[0m \u001b[0;34m(\u001b[0m\u001b[0;36m299\u001b[0m\u001b[0;34m,\u001b[0m\u001b[0;36m299\u001b[0m\u001b[0;34m,\u001b[0m\u001b[0;36m3\u001b[0m\u001b[0;34m)\u001b[0m\u001b[0;34m)\u001b[0m\u001b[0;34m\u001b[0m\u001b[0;34m\u001b[0m\u001b[0m\n\u001b[0m\u001b[1;32m     30\u001b[0m         \u001b[0;31m# pre-process images, scale to [-1,1]\u001b[0m\u001b[0;34m\u001b[0m\u001b[0;34m\u001b[0m\u001b[0;34m\u001b[0m\u001b[0m\n\u001b[1;32m     31\u001b[0m         \u001b[0msubset\u001b[0m \u001b[0;34m=\u001b[0m \u001b[0mpreprocess_input\u001b[0m\u001b[0;34m(\u001b[0m\u001b[0msubset\u001b[0m\u001b[0;34m)\u001b[0m\u001b[0;34m\u001b[0m\u001b[0;34m\u001b[0m\u001b[0m\n",
      "\u001b[0;32m<ipython-input-7-ebe6fa6b1a69>\u001b[0m in \u001b[0;36mscale_images\u001b[0;34m(images, new_shape)\u001b[0m\n\u001b[1;32m     53\u001b[0m     \u001b[0;32mfor\u001b[0m \u001b[0mimage\u001b[0m \u001b[0;32min\u001b[0m \u001b[0mimages\u001b[0m\u001b[0;34m:\u001b[0m\u001b[0;34m\u001b[0m\u001b[0;34m\u001b[0m\u001b[0m\n\u001b[1;32m     54\u001b[0m         \u001b[0;31m# resize with nearest neighbor interpolation\u001b[0m\u001b[0;34m\u001b[0m\u001b[0;34m\u001b[0m\u001b[0;34m\u001b[0m\u001b[0m\n\u001b[0;32m---> 55\u001b[0;31m         \u001b[0mnew_image\u001b[0m \u001b[0;34m=\u001b[0m \u001b[0mresize\u001b[0m\u001b[0;34m(\u001b[0m\u001b[0mimage\u001b[0m\u001b[0;34m,\u001b[0m \u001b[0mnew_shape\u001b[0m\u001b[0;34m,\u001b[0m \u001b[0;36m0\u001b[0m\u001b[0;34m)\u001b[0m\u001b[0;34m\u001b[0m\u001b[0;34m\u001b[0m\u001b[0m\n\u001b[0m\u001b[1;32m     56\u001b[0m         \u001b[0;31m# store\u001b[0m\u001b[0;34m\u001b[0m\u001b[0;34m\u001b[0m\u001b[0;34m\u001b[0m\u001b[0m\n\u001b[1;32m     57\u001b[0m         \u001b[0mimages_list\u001b[0m\u001b[0;34m.\u001b[0m\u001b[0mappend\u001b[0m\u001b[0;34m(\u001b[0m\u001b[0mnew_image\u001b[0m\u001b[0;34m)\u001b[0m\u001b[0;34m\u001b[0m\u001b[0;34m\u001b[0m\u001b[0m\n",
      "\u001b[0;31mNameError\u001b[0m: name 'resize' is not defined"
     ]
    }
   ],
   "source": [
    "# load cifar10 images\n",
    "(images, _), (_, _) = cifar10.load_data()\n",
    "# shuffle images\n",
    "shuffle(images)\n",
    "print('loaded', images.shape)\n",
    "# calculate inception score\n",
    "is_avg, is_std = calculate_inception_score(images)\n",
    "print('score', is_avg, is_std)"
   ]
  },
  {
   "cell_type": "code",
   "execution_count": null,
   "metadata": {},
   "outputs": [],
   "source": [
    "\n",
    "# pretend to load images\n",
    "images = ones((50, 299, 299, 3))\n",
    "print('loaded', images.shape)\n",
    "# calculate inception score\n",
    "is_avg, is_std = calculate_inception_score(images)\n",
    "print('score', is_avg, is_std)"
   ]
  },
  {
   "cell_type": "code",
   "execution_count": 42,
   "metadata": {},
   "outputs": [],
   "source": [
    "# split_scores = []\n",
    "\n",
    "# for k in range(splits):\n",
    "#     print('k * (N // splits), (k+1) * (N // splits)',k * (N // splits), (k+1) * (N // splits))\n",
    "#     part = preds[k * (N // splits): (k+1) * (N // splits), :]\n",
    "#     py = np.mean(part, axis=0)\n",
    "#     print('k:',k,', py:',py)\n",
    "#     scores = []\n",
    "#     for i in range(part.shape[0]):\n",
    "#         pyx = part[i, :]\n",
    "# #             print( entropy(pyx, py))\n",
    "#         scores.append(entropy(pyx, py))\n",
    "#         print('np.mean(scores):',np.mean(scores))\n",
    "#         print('np.exp(np.mean(scores)):',np.exp(np.mean(scores)))\n",
    "#     split_scores.append(np.exp(np.mean(scores)))\n",
    "#     print(split_scores)"
   ]
  },
  {
   "cell_type": "code",
   "execution_count": 43,
   "metadata": {
    "scrolled": true
   },
   "outputs": [
    {
     "name": "stdout",
     "output_type": "stream",
     "text": [
      "500\n"
     ]
    },
    {
     "name": "stderr",
     "output_type": "stream",
     "text": [
      "/home/mshaikh2/anaconda3/envs/pytorch-gpu/lib/python3.7/site-packages/ipykernel_launcher.py:30: UserWarning: Implicit dimension choice for softmax has been deprecated. Change the call to include dim=X as an argument.\n"
     ]
    },
    {
     "name": "stdout",
     "output_type": "stream",
     "text": [
      "(1.1119659, 0.0)\n"
     ]
    }
   ],
   "source": [
    "print (inception_score(c_dataloader, cuda=True, resize=True, splits=1))"
   ]
  },
  {
   "cell_type": "code",
   "execution_count": 30,
   "metadata": {},
   "outputs": [],
   "source": [
    "img,_,_,_,_ = dataloader_val.dataset[0]"
   ]
  },
  {
   "cell_type": "code",
   "execution_count": 73,
   "metadata": {},
   "outputs": [
    {
     "data": {
      "text/plain": [
       "862"
      ]
     },
     "execution_count": 73,
     "metadata": {},
     "output_type": "execute_result"
    }
   ],
   "source": [
    "len(dataloader)"
   ]
  },
  {
   "cell_type": "code",
   "execution_count": 65,
   "metadata": {},
   "outputs": [
    {
     "name": "stderr",
     "output_type": "stream",
     "text": [
      "Clipping input data to the valid range for imshow with RGB data ([0..1] for floats or [0..255] for integers).\n"
     ]
    },
    {
     "name": "stdout",
     "output_type": "stream",
     "text": [
      "-1.0 1.0\n",
      "(299, 299, 3)\n"
     ]
    },
    {
     "data": {
      "text/plain": [
       "<matplotlib.image.AxesImage at 0x7f7519c5dc50>"
      ]
     },
     "execution_count": 65,
     "metadata": {},
     "output_type": "execute_result"
    },
    {
     "data": {
      "image/png": "[encoded data removed]",
      "text/plain": [
       "<Figure size 432x288 with 1 Axes>"
      ]
     },
     "metadata": {
      "needs_background": "light"
     },
     "output_type": "display_data"
    }
   ],
   "source": [
    "from matplotlib import pyplot as plt\n",
    "\n",
    "im = np.asarray(img[-1].permute((1,2,0)).cpu())\n",
    "print(im.min(),im.max())\n",
    "# im = np.rollaxis(a=im,shift=(2,2,2),axis=0)\n",
    "print(im.shape)\n",
    "plt.imshow(im)"
   ]
  },
  {
   "cell_type": "code",
   "execution_count": 40,
   "metadata": {},
   "outputs": [
    {
     "name": "stdout",
     "output_type": "stream",
     "text": [
      "0 torch.Size([100, 3, 32, 32]) tensor(0.) tensor(255.)\n"
     ]
    }
   ],
   "source": [
    "for i, data in enumerate(c_dataloader,0):\n",
    "    batch,_ = data\n",
    "    batch = batch*255.0\n",
    "    print(i,batch.size(),batch.min(),batch.max())\n",
    "    break"
   ]
  },
  {
   "cell_type": "code",
   "execution_count": 107,
   "metadata": {
    "scrolled": true
   },
   "outputs": [],
   "source": [
    "def calculate_inception_score(p_yx, eps=1e-16):\n",
    "    # calculate p(y)\n",
    "    p_y = np.expand_dims(p_yx.mean(axis=0),0)\n",
    "    print('p_y:',p_y)\n",
    "    # kl divergence for each image\n",
    "    kl_d = p_yx * (np.log(p_yx + eps) - np.log(p_y + eps))\n",
    "#     print(kl_d)\n",
    "    # sum over classes\n",
    "    sum_kl_d = kl_d.sum(axis=1)\n",
    "    # average over images\n",
    "    avg_kl_d = np.mean(sum_kl_d)\n",
    "    # undo the logs\n",
    "    is_score = np.exp(avg_kl_d)\n",
    "    return is_score"
   ]
  },
  {
   "cell_type": "code",
   "execution_count": 108,
   "metadata": {},
   "outputs": [
    {
     "name": "stdout",
     "output_type": "stream",
     "text": [
      "p_y: [[[[-0.0754085  -0.08496732 -0.09027777 ... -0.03619279 -0.04436273\n",
      "    -0.04379084]\n",
      "   [-0.07352941 -0.08398691 -0.09714052 ... -0.0482026  -0.0482843\n",
      "    -0.04044115]\n",
      "   [-0.09027778 -0.09820259 -0.10498367 ... -0.03455881 -0.03153593\n",
      "    -0.04166666]\n",
      "   ...\n",
      "   [-0.07941174 -0.09117645 -0.09681374 ... -0.09763071 -0.11609477\n",
      "    -0.12083331]\n",
      "   [-0.07655227 -0.07663397 -0.07875815 ... -0.09558823 -0.10122546\n",
      "    -0.1120098 ]\n",
      "   [-0.09370913 -0.09901959 -0.10032678 ... -0.11045748 -0.11723857\n",
      "    -0.11200979]]\n",
      "\n",
      "  [[-0.1002451  -0.11151958 -0.11666667 ... -0.06331699 -0.06764704\n",
      "    -0.06813723]\n",
      "   [-0.1000817  -0.11062091 -0.12671567 ... -0.06650326 -0.06584967\n",
      "    -0.05833333]\n",
      "   [-0.11993463 -0.12696074 -0.13946076 ... -0.04656862 -0.04640521\n",
      "    -0.05326797]\n",
      "   ...\n",
      "   [-0.1473856  -0.15604572 -0.16184637 ... -0.1493464  -0.16397057\n",
      "    -0.16601302]\n",
      "   [-0.14689542 -0.14150326 -0.14330064 ... -0.14199343 -0.14599672\n",
      "    -0.1553104 ]\n",
      "   [-0.16217317 -0.15923202 -0.16266339 ... -0.15065356 -0.15400322\n",
      "    -0.15130717]]\n",
      "\n",
      "  [[-0.14411761 -0.15710777 -0.1664216  ... -0.09967321 -0.09681371\n",
      "    -0.09330065]\n",
      "   [-0.14264704 -0.15433009 -0.17589869 ... -0.09575162 -0.08700979\n",
      "    -0.07859477]\n",
      "   [-0.16495095 -0.16895425 -0.18292479 ... -0.07508168 -0.06805556\n",
      "    -0.07385621]\n",
      "   ...\n",
      "   [-0.22924834 -0.23406859 -0.23758166 ... -0.21756531 -0.22450978\n",
      "    -0.22598045]\n",
      "   [-0.22908495 -0.22475486 -0.2211601  ... -0.206536   -0.201634\n",
      "    -0.21045749]\n",
      "   [-0.2343954  -0.22973853 -0.23055555 ... -0.21053922 -0.2120098\n",
      "    -0.20988558]]]]\n"
     ]
    },
    {
     "name": "stderr",
     "output_type": "stream",
     "text": [
      "/home/mshaikh2/anaconda3/envs/pytorch-gpu/lib/python3.7/site-packages/ipykernel_launcher.py:6: RuntimeWarning: invalid value encountered in log\n",
      "  \n"
     ]
    },
    {
     "name": "stdout",
     "output_type": "stream",
     "text": [
      "nan\n",
      "p_y: [[[[-0.04869278 -0.03227125 -0.03333332 ... -0.06519609 -0.07418301\n",
      "    -0.08929738]\n",
      "   [-0.04722221 -0.03120912 -0.03316991 ... -0.07009802 -0.08799023\n",
      "    -0.10637257]\n",
      "   [-0.03341503 -0.03145422 -0.02598037 ... -0.09452612 -0.11200982\n",
      "    -0.1285948 ]\n",
      "   ...\n",
      "   [-0.11944444 -0.11625817 -0.1139706  ... -0.14444442 -0.15196072\n",
      "    -0.15343133]\n",
      "   [-0.11013072 -0.11503264 -0.10073527 ... -0.15261441 -0.15972222\n",
      "    -0.15702613]\n",
      "   [-0.11380715 -0.10049019 -0.09411762 ... -0.16593133 -0.16715683\n",
      "    -0.15457512]]\n",
      "\n",
      "  [[-0.05988561 -0.04591501 -0.04820259 ... -0.05236927 -0.06372547\n",
      "    -0.08733658]\n",
      "   [-0.05449343 -0.04060456 -0.04436275 ... -0.06454245 -0.08504898\n",
      "    -0.10367645]\n",
      "   [-0.04542482 -0.04174836 -0.03790847 ... -0.10016336 -0.11086599\n",
      "    -0.12875815]\n",
      "   ...\n",
      "   [-0.16854574 -0.16486928 -0.16233663 ... -0.194281   -0.19926469\n",
      "    -0.20375817]\n",
      "   [-0.15555552 -0.161683   -0.15106209 ... -0.20441173 -0.2069444\n",
      "    -0.20138884]\n",
      "   [-0.1605392  -0.14991832 -0.14338236 ... -0.21160132 -0.21217321\n",
      "    -0.19730389]]\n",
      "\n",
      "  [[-0.09689542 -0.08496734 -0.08921567 ... -0.08039214 -0.09281046\n",
      "    -0.11495095]\n",
      "   [-0.09052286 -0.07606208 -0.07998367 ... -0.09738564 -0.11503267\n",
      "    -0.136683  ]\n",
      "   [-0.08096407 -0.07777778 -0.07401959 ... -0.1406046  -0.1460784\n",
      "    -0.16454239]\n",
      "   ...\n",
      "   [-0.29003268 -0.28611115 -0.28684634 ... -0.29746732 -0.30457518\n",
      "    -0.30980396]\n",
      "   [-0.27802286 -0.2812091  -0.27271238 ... -0.3028595  -0.30563724\n",
      "    -0.303268  ]\n",
      "   [-0.27704248 -0.2645424  -0.2625     ... -0.29738566 -0.29722226\n",
      "    -0.29338232]]]]\n",
      "nan\n",
      "p_y: [[[[-0.03937907 -0.03374182 -0.04183005 ... -0.00580063 -0.00898691\n",
      "    -0.01225489]\n",
      "   [-0.03513069 -0.03700979 -0.03872547 ...  0.00204251 -0.00196077\n",
      "    -0.00939541]\n",
      "   [-0.03709149 -0.0346405  -0.02859477 ...  0.01037584  0.00416668\n",
      "    -0.00343135]\n",
      "   ...\n",
      "   [-0.13145426 -0.12148691 -0.11952615 ... -0.10580066 -0.10980392\n",
      "    -0.10874182]\n",
      "   [-0.10130718 -0.11258164 -0.12450978 ... -0.09599672 -0.08888885\n",
      "    -0.09648693]\n",
      "   [-0.0892157  -0.10571892 -0.1207516  ... -0.10302284 -0.10841504\n",
      "    -0.10776141]]\n",
      "\n",
      "  [[-0.05147057 -0.04101305 -0.04428102 ... -0.01495096 -0.01993462\n",
      "    -0.02671568]\n",
      "   [-0.04591502 -0.04223855 -0.03970587 ... -0.00400325 -0.0116013\n",
      "    -0.02442808]\n",
      "   [-0.05171567 -0.04199345 -0.03390521 ...  0.00073532 -0.00915031\n",
      "    -0.01944443]\n",
      "   ...\n",
      "   [-0.1861111  -0.1831699  -0.18749996 ... -0.18022873 -0.17785947\n",
      "    -0.17606206]\n",
      "   [-0.16209151 -0.1762255  -0.19035947 ... -0.17532676 -0.1620098\n",
      "    -0.17181371]\n",
      "   [-0.1575163  -0.17647058 -0.19035952 ... -0.18341501 -0.18431371\n",
      "    -0.19142155]]\n",
      "\n",
      "  [[-0.12785946 -0.12124179 -0.12336602 ... -0.07867645 -0.07785947\n",
      "    -0.0846405 ]\n",
      "   [-0.12565358 -0.12589869 -0.12279407 ... -0.06633986 -0.07287581\n",
      "    -0.08374181]\n",
      "   [-0.13014702 -0.12581699 -0.12042483 ... -0.05416663 -0.06658495\n",
      "    -0.07655226]\n",
      "   ...\n",
      "   [-0.28480396 -0.26903594 -0.2706699  ... -0.25686273 -0.25196072\n",
      "    -0.2505719 ]\n",
      "   [-0.26307186 -0.26854575 -0.27499998 ... -0.25433007 -0.23749994\n",
      "    -0.24852933]\n",
      "   [-0.25580063 -0.2702615  -0.2793301  ... -0.26511437 -0.26364374\n",
      "    -0.26887247]]]]\n",
      "nan\n"
     ]
    }
   ],
   "source": [
    "for i,b in enumerate(dataloader_val,0):\n",
    "    imgs,_,_,_,_ = b\n",
    "    imgs=np.asarray(imgs[-1].cpu())\n",
    "#     print(imgs)\n",
    "    is_ = calculate_inception_score(imgs)\n",
    "    print(is_)\n",
    "    if i==2:\n",
    "        break"
   ]
  },
  {
   "cell_type": "code",
   "execution_count": null,
   "metadata": {},
   "outputs": [],
   "source": []
  }
 ],
 "metadata": {
  "kernelspec": {
   "display_name": "tf-gpu-2",
   "language": "python",
   "name": "tf-gpu-2"
  },
  "language_info": {
   "codemirror_mode": {
    "name": "ipython",
    "version": 3
   },
   "file_extension": ".py",
   "mimetype": "text/x-python",
   "name": "python",
   "nbconvert_exporter": "python",
   "pygments_lexer": "ipython3",
   "version": "3.7.7"
  }
 },
 "nbformat": 4,
 "nbformat_minor": 2
}
