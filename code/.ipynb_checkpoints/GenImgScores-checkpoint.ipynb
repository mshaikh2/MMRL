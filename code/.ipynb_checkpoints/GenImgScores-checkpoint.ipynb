{
 "cells": [
  {
   "cell_type": "code",
   "execution_count": 1,
   "metadata": {
    "scrolled": true
   },
   "outputs": [
    {
     "name": "stderr",
     "output_type": "stream",
     "text": [
      "Using TensorFlow backend.\n",
      "/home/mshaikh2/anaconda3/envs/pytorch-gpu/lib/python3.7/site-packages/tensorflow/python/framework/dtypes.py:516: FutureWarning: Passing (type, 1) or '1type' as a synonym of type is deprecated; in a future version of numpy, it will be understood as (type, (1,)) / '(1,)type'.\n",
      "  _np_qint8 = np.dtype([(\"qint8\", np.int8, 1)])\n",
      "/home/mshaikh2/anaconda3/envs/pytorch-gpu/lib/python3.7/site-packages/tensorflow/python/framework/dtypes.py:517: FutureWarning: Passing (type, 1) or '1type' as a synonym of type is deprecated; in a future version of numpy, it will be understood as (type, (1,)) / '(1,)type'.\n",
      "  _np_quint8 = np.dtype([(\"quint8\", np.uint8, 1)])\n",
      "/home/mshaikh2/anaconda3/envs/pytorch-gpu/lib/python3.7/site-packages/tensorflow/python/framework/dtypes.py:518: FutureWarning: Passing (type, 1) or '1type' as a synonym of type is deprecated; in a future version of numpy, it will be understood as (type, (1,)) / '(1,)type'.\n",
      "  _np_qint16 = np.dtype([(\"qint16\", np.int16, 1)])\n",
      "/home/mshaikh2/anaconda3/envs/pytorch-gpu/lib/python3.7/site-packages/tensorflow/python/framework/dtypes.py:519: FutureWarning: Passing (type, 1) or '1type' as a synonym of type is deprecated; in a future version of numpy, it will be understood as (type, (1,)) / '(1,)type'.\n",
      "  _np_quint16 = np.dtype([(\"quint16\", np.uint16, 1)])\n",
      "/home/mshaikh2/anaconda3/envs/pytorch-gpu/lib/python3.7/site-packages/tensorflow/python/framework/dtypes.py:520: FutureWarning: Passing (type, 1) or '1type' as a synonym of type is deprecated; in a future version of numpy, it will be understood as (type, (1,)) / '(1,)type'.\n",
      "  _np_qint32 = np.dtype([(\"qint32\", np.int32, 1)])\n",
      "/home/mshaikh2/anaconda3/envs/pytorch-gpu/lib/python3.7/site-packages/tensorflow/python/framework/dtypes.py:525: FutureWarning: Passing (type, 1) or '1type' as a synonym of type is deprecated; in a future version of numpy, it will be understood as (type, (1,)) / '(1,)type'.\n",
      "  np_resource = np.dtype([(\"resource\", np.ubyte, 1)])\n",
      "/home/mshaikh2/anaconda3/envs/pytorch-gpu/lib/python3.7/site-packages/tensorboard/compat/tensorflow_stub/dtypes.py:541: FutureWarning: Passing (type, 1) or '1type' as a synonym of type is deprecated; in a future version of numpy, it will be understood as (type, (1,)) / '(1,)type'.\n",
      "  _np_qint8 = np.dtype([(\"qint8\", np.int8, 1)])\n",
      "/home/mshaikh2/anaconda3/envs/pytorch-gpu/lib/python3.7/site-packages/tensorboard/compat/tensorflow_stub/dtypes.py:542: FutureWarning: Passing (type, 1) or '1type' as a synonym of type is deprecated; in a future version of numpy, it will be understood as (type, (1,)) / '(1,)type'.\n",
      "  _np_quint8 = np.dtype([(\"quint8\", np.uint8, 1)])\n",
      "/home/mshaikh2/anaconda3/envs/pytorch-gpu/lib/python3.7/site-packages/tensorboard/compat/tensorflow_stub/dtypes.py:543: FutureWarning: Passing (type, 1) or '1type' as a synonym of type is deprecated; in a future version of numpy, it will be understood as (type, (1,)) / '(1,)type'.\n",
      "  _np_qint16 = np.dtype([(\"qint16\", np.int16, 1)])\n",
      "/home/mshaikh2/anaconda3/envs/pytorch-gpu/lib/python3.7/site-packages/tensorboard/compat/tensorflow_stub/dtypes.py:544: FutureWarning: Passing (type, 1) or '1type' as a synonym of type is deprecated; in a future version of numpy, it will be understood as (type, (1,)) / '(1,)type'.\n",
      "  _np_quint16 = np.dtype([(\"quint16\", np.uint16, 1)])\n",
      "/home/mshaikh2/anaconda3/envs/pytorch-gpu/lib/python3.7/site-packages/tensorboard/compat/tensorflow_stub/dtypes.py:545: FutureWarning: Passing (type, 1) or '1type' as a synonym of type is deprecated; in a future version of numpy, it will be understood as (type, (1,)) / '(1,)type'.\n",
      "  _np_qint32 = np.dtype([(\"qint32\", np.int32, 1)])\n",
      "/home/mshaikh2/anaconda3/envs/pytorch-gpu/lib/python3.7/site-packages/tensorboard/compat/tensorflow_stub/dtypes.py:550: FutureWarning: Passing (type, 1) or '1type' as a synonym of type is deprecated; in a future version of numpy, it will be understood as (type, (1,)) / '(1,)type'.\n",
      "  np_resource = np.dtype([(\"resource\", np.ubyte, 1)])\n"
     ]
    },
    {
     "name": "stdout",
     "output_type": "stream",
     "text": [
      "WARNING:tensorflow:From /media/MyDataStor1/mmrl/MMRL/code/ScoringGeneratedImages.py:23: The name tf.ConfigProto is deprecated. Please use tf.compat.v1.ConfigProto instead.\n",
      "\n",
      "WARNING:tensorflow:From /media/MyDataStor1/mmrl/MMRL/code/ScoringGeneratedImages.py:26: The name tf.Session is deprecated. Please use tf.compat.v1.Session instead.\n",
      "\n"
     ]
    }
   ],
   "source": [
    "import os\n",
    "os.environ[\"CUDA_VISIBLE_DEVICES\"] = \"1\"\n",
    "import ScoringGeneratedImages\n",
    "from PIL import Image\n",
    "import numpy as np\n",
    "from tqdm import tqdm_notebook\n",
    "import pandas as pd\n",
    "import pickle"
   ]
  },
  {
   "cell_type": "code",
   "execution_count": 19,
   "metadata": {},
   "outputs": [],
   "source": [
    "def datagen(image_root_path,image_path_list,batch_size=32):\n",
    "    counter = 0\n",
    "    idx = 0\n",
    "    img_list = []\n",
    "    while True:\n",
    "        try:\n",
    "            p = os.path.join(image_root_path,image_path_list[idx])\n",
    "            img = Image.open(p).convert('RGB')\n",
    "            img = img.resize((299,299))\n",
    "            img = np.asarray(img,'float32')\n",
    "            if img.shape[-1] != 3:\n",
    "                print(os.path.join(image_root_path,image_path_list[idx]),':',img.shape)\n",
    "            else:\n",
    "                img_list.append(img)\n",
    "            counter+=1\n",
    "            idx+=1\n",
    "            if counter==batch_size:\n",
    "                yield np.array(img_list)\n",
    "                counter=0\n",
    "                img_list = []\n",
    "            if idx==len(image_path_list):\n",
    "                yield np.array(img_list)\n",
    "                counter,idx=0\n",
    "                img_list = []\n",
    "                break\n",
    "        except Exception as ex:            \n",
    "            idx+=1\n",
    "            print(p,'\\n',ex)\n",
    "            pass"
   ]
  },
  {
   "cell_type": "code",
   "execution_count": 3,
   "metadata": {},
   "outputs": [],
   "source": [
    "# img = Image.open('../output/coco_glu-gan2_2020_10_13_23_16_32/Model/netG_epoch_52/valid/single/COCO_val2014_000000000042_s-1.png')\n",
    "# img = np.asarray(img)"
   ]
  },
  {
   "cell_type": "code",
   "execution_count": 4,
   "metadata": {},
   "outputs": [],
   "source": [
    "# img.shape"
   ]
  },
  {
   "cell_type": "code",
   "execution_count": 5,
   "metadata": {},
   "outputs": [],
   "source": [
    "# from matplotlib import pyplot as plt\n",
    "# plt.imshow(img)"
   ]
  },
  {
   "cell_type": "code",
   "execution_count": 6,
   "metadata": {},
   "outputs": [],
   "source": [
    "filename = '../data/coco/val_imgs_stats.pickle'\n",
    "\n",
    "with open(filename , 'rb') as f:\n",
    "    val_imgs_stats = pickle.load(f)"
   ]
  },
  {
   "cell_type": "code",
   "execution_count": 7,
   "metadata": {},
   "outputs": [
    {
     "data": {
      "text/plain": [
       "((2048,), (2048, 2048))"
      ]
     },
     "execution_count": 7,
     "metadata": {},
     "output_type": "execute_result"
    }
   ],
   "source": [
    "m,s = val_imgs_stats['mean'],val_imgs_stats['std']\n",
    "m.shape,s.shape"
   ]
  },
  {
   "cell_type": "code",
   "execution_count": 8,
   "metadata": {},
   "outputs": [
    {
     "name": "stdout",
     "output_type": "stream",
     "text": [
      "WARNING:tensorflow:From /home/mshaikh2/anaconda3/envs/pytorch-gpu/lib/python3.7/site-packages/keras/backend/tensorflow_backend.py:4070: The name tf.nn.max_pool is deprecated. Please use tf.nn.max_pool2d instead.\n",
      "\n",
      "WARNING:tensorflow:From /home/mshaikh2/anaconda3/envs/pytorch-gpu/lib/python3.7/site-packages/keras/backend/tensorflow_backend.py:4074: The name tf.nn.avg_pool is deprecated. Please use tf.nn.avg_pool2d instead.\n",
      "\n"
     ]
    }
   ],
   "source": [
    "# IS = ScoringGeneratedImages.inceptionScore()\n",
    "FID = ScoringGeneratedImages.frechetInceptionDistance(mu1=m,sigma1=s)"
   ]
  },
  {
   "cell_type": "code",
   "execution_count": 9,
   "metadata": {},
   "outputs": [
    {
     "data": {
      "text/plain": [
       "(2048,)"
      ]
     },
     "execution_count": 9,
     "metadata": {},
     "output_type": "execute_result"
    }
   ],
   "source": [
    "FID.mu1.shape"
   ]
  },
  {
   "cell_type": "code",
   "execution_count": 10,
   "metadata": {},
   "outputs": [],
   "source": [
    "# image_root_path = '../output/coco_glu-gan2_2020_10_13_23_16_32/Model/netG_epoch_90/valid/single/'\n",
    "# image_path_list = os.listdir(image_root_path)\n",
    "# dg = datagen(image_root_path,image_path_list,batch_size=batch_size)\n",
    "batch_size = 1024"
   ]
  },
  {
   "cell_type": "code",
   "execution_count": 11,
   "metadata": {
    "scrolled": true
   },
   "outputs": [
    {
     "data": {
      "text/plain": [
       "array([52, 56,  0, 74, 76])"
      ]
     },
     "execution_count": 11,
     "metadata": {},
     "output_type": "execute_result"
    }
   ],
   "source": [
    "# np.shape(next(dg))\n",
    "# 'cfg/coco_attn2.yml'\n",
    "df = pd.read_csv('../plots/IMG_TEXT_TXFMR_COCO_FID_Results_0.csv')\n",
    "dont_run_epochs = df['epoch'].values\n",
    "dont_run_epochs"
   ]
  },
  {
   "cell_type": "code",
   "execution_count": 12,
   "metadata": {},
   "outputs": [],
   "source": [
    "# orig_val_root_dir = '../data/coco/images/'"
   ]
  },
  {
   "cell_type": "code",
   "execution_count": 13,
   "metadata": {},
   "outputs": [],
   "source": [
    "# o_list = os.listdir(orig_val_root_dir)\n",
    "# val_img_list=[]\n",
    "# for k in o_list:\n",
    "#     if 'val' in k:\n",
    "#         val_img_list.append(k)"
   ]
  },
  {
   "cell_type": "code",
   "execution_count": 14,
   "metadata": {},
   "outputs": [],
   "source": [
    "# dg = datagen(orig_val_root_dir,val_img_list,batch_size=batch_size)\n",
    "# val_images = next(dg)\n",
    "# val_images.shape\n"
   ]
  },
  {
   "cell_type": "code",
   "execution_count": 15,
   "metadata": {},
   "outputs": [],
   "source": [
    "# val_images[0].min(),val_images[0].max()"
   ]
  },
  {
   "cell_type": "code",
   "execution_count": 16,
   "metadata": {},
   "outputs": [],
   "source": [
    "# m,s = FID.get_real_img_stats(val_images)"
   ]
  },
  {
   "cell_type": "code",
   "execution_count": 17,
   "metadata": {},
   "outputs": [],
   "source": [
    "# val_imgs_stats = {\n",
    "#     'mean':m,\n",
    "#     'std':s\n",
    "# }"
   ]
  },
  {
   "cell_type": "code",
   "execution_count": null,
   "metadata": {},
   "outputs": [],
   "source": []
  },
  {
   "cell_type": "code",
   "execution_count": 20,
   "metadata": {
    "scrolled": true
   },
   "outputs": [
    {
     "data": {
      "application/vnd.jupyter.widget-view+json": {
       "model_id": "1d26afe57f004a4ebc1848d7fb892e07",
       "version_major": 2,
       "version_minor": 0
      },
      "text/plain": [
       "HBox(children=(IntProgress(value=0, max=109), HTML(value='')))"
      ]
     },
     "metadata": {},
     "output_type": "display_data"
    },
    {
     "name": "stdout",
     "output_type": "stream",
     "text": [
      "../output/coco_glu-gan2_2020_10_13_23_16_32/Model/netG_epoch_90/valid/single/\n"
     ]
    },
    {
     "data": {
      "application/vnd.jupyter.widget-view+json": {
       "model_id": "",
       "version_major": 2,
       "version_minor": 0
      },
      "text/plain": [
       "HBox(children=(IntProgress(value=0, max=40), HTML(value='')))"
      ]
     },
     "metadata": {},
     "output_type": "display_data"
    },
    {
     "name": "stdout",
     "output_type": "stream",
     "text": [
      "../output/coco_glu-gan2_2020_10_13_23_16_32/Model/netG_epoch_90/valid/single/COCO_val2014_000000433156_s-1.png \n",
      " unrecognized data stream contents when reading image file\n",
      "../output/coco_glu-gan2_2020_10_13_23_16_32/Model/netG_epoch_90/valid/single/COCO_val2014_000000453283_s-1.png \n",
      " unrecognized data stream contents when reading image file\n",
      "../output/coco_glu-gan2_2020_10_13_23_16_32/Model/netG_epoch_78/valid/single/\n"
     ]
    },
    {
     "data": {
      "application/vnd.jupyter.widget-view+json": {
       "model_id": "",
       "version_major": 2,
       "version_minor": 0
      },
      "text/plain": [
       "HBox(children=(IntProgress(value=0, max=40), HTML(value='')))"
      ]
     },
     "metadata": {},
     "output_type": "display_data"
    },
    {
     "name": "stdout",
     "output_type": "stream",
     "text": [
      "../output/coco_glu-gan2_2020_10_13_23_16_32/Model/netG_epoch_120/valid/single/\n"
     ]
    },
    {
     "data": {
      "application/vnd.jupyter.widget-view+json": {
       "model_id": "",
       "version_major": 2,
       "version_minor": 0
      },
      "text/plain": [
       "HBox(children=(IntProgress(value=0, max=40), HTML(value='')))"
      ]
     },
     "metadata": {},
     "output_type": "display_data"
    },
    {
     "name": "stdout",
     "output_type": "stream",
     "text": [
      "../output/coco_glu-gan2_2020_10_13_23_16_32/Model/netG_epoch_94/valid/single/\n"
     ]
    },
    {
     "data": {
      "application/vnd.jupyter.widget-view+json": {
       "model_id": "",
       "version_major": 2,
       "version_minor": 0
      },
      "text/plain": [
       "HBox(children=(IntProgress(value=0, max=40), HTML(value='')))"
      ]
     },
     "metadata": {},
     "output_type": "display_data"
    },
    {
     "name": "stdout",
     "output_type": "stream",
     "text": [
      "../output/coco_glu-gan2_2020_10_13_23_16_32/Model/netG_epoch_40/valid/single/\n"
     ]
    },
    {
     "data": {
      "application/vnd.jupyter.widget-view+json": {
       "model_id": "",
       "version_major": 2,
       "version_minor": 0
      },
      "text/plain": [
       "HBox(children=(IntProgress(value=0, max=40), HTML(value='')))"
      ]
     },
     "metadata": {},
     "output_type": "display_data"
    },
    {
     "name": "stdout",
     "output_type": "stream",
     "text": [
      "../output/coco_glu-gan2_2020_10_13_23_16_32/Model/netG_epoch_22/valid/single/\n"
     ]
    },
    {
     "data": {
      "application/vnd.jupyter.widget-view+json": {
       "model_id": "",
       "version_major": 2,
       "version_minor": 0
      },
      "text/plain": [
       "HBox(children=(IntProgress(value=0, max=40), HTML(value='')))"
      ]
     },
     "metadata": {},
     "output_type": "display_data"
    },
    {
     "name": "stdout",
     "output_type": "stream",
     "text": [
      "../output/coco_glu-gan2_2020_10_13_23_16_32/Model/netG_epoch_114/valid/single/\n"
     ]
    },
    {
     "data": {
      "application/vnd.jupyter.widget-view+json": {
       "model_id": "",
       "version_major": 2,
       "version_minor": 0
      },
      "text/plain": [
       "HBox(children=(IntProgress(value=0, max=40), HTML(value='')))"
      ]
     },
     "metadata": {},
     "output_type": "display_data"
    },
    {
     "name": "stdout",
     "output_type": "stream",
     "text": [
      "../output/coco_glu-gan2_2020_10_13_23_16_32/Model/netG_epoch_28/valid/single/\n"
     ]
    },
    {
     "data": {
      "application/vnd.jupyter.widget-view+json": {
       "model_id": "",
       "version_major": 2,
       "version_minor": 0
      },
      "text/plain": [
       "HBox(children=(IntProgress(value=0, max=40), HTML(value='')))"
      ]
     },
     "metadata": {},
     "output_type": "display_data"
    },
    {
     "name": "stdout",
     "output_type": "stream",
     "text": [
      "../output/coco_glu-gan2_2020_10_13_23_16_32/Model/netG_epoch_106/valid/single/\n"
     ]
    },
    {
     "data": {
      "application/vnd.jupyter.widget-view+json": {
       "model_id": "",
       "version_major": 2,
       "version_minor": 0
      },
      "text/plain": [
       "HBox(children=(IntProgress(value=0, max=40), HTML(value='')))"
      ]
     },
     "metadata": {},
     "output_type": "display_data"
    },
    {
     "name": "stdout",
     "output_type": "stream",
     "text": [
      "../output/coco_glu-gan2_2020_10_13_23_16_32/Model/netG_epoch_68/valid/single/\n"
     ]
    },
    {
     "data": {
      "application/vnd.jupyter.widget-view+json": {
       "model_id": "",
       "version_major": 2,
       "version_minor": 0
      },
      "text/plain": [
       "HBox(children=(IntProgress(value=0, max=40), HTML(value='')))"
      ]
     },
     "metadata": {},
     "output_type": "display_data"
    },
    {
     "name": "stdout",
     "output_type": "stream",
     "text": [
      "../output/coco_glu-gan2_2020_10_13_23_16_32/Model/netG_epoch_80/valid/single/\n"
     ]
    },
    {
     "data": {
      "application/vnd.jupyter.widget-view+json": {
       "model_id": "",
       "version_major": 2,
       "version_minor": 0
      },
      "text/plain": [
       "HBox(children=(IntProgress(value=0, max=40), HTML(value='')))"
      ]
     },
     "metadata": {},
     "output_type": "display_data"
    },
    {
     "name": "stdout",
     "output_type": "stream",
     "text": [
      "../output/coco_glu-gan2_2020_10_13_23_16_32/Model/netG_epoch_104/valid/single/\n"
     ]
    },
    {
     "data": {
      "application/vnd.jupyter.widget-view+json": {
       "model_id": "",
       "version_major": 2,
       "version_minor": 0
      },
      "text/plain": [
       "HBox(children=(IntProgress(value=0, max=40), HTML(value='')))"
      ]
     },
     "metadata": {},
     "output_type": "display_data"
    },
    {
     "name": "stdout",
     "output_type": "stream",
     "text": [
      "../output/coco_glu-gan2_2020_10_13_23_16_32/Model/netG_epoch_84/valid/single/\n"
     ]
    },
    {
     "data": {
      "application/vnd.jupyter.widget-view+json": {
       "model_id": "",
       "version_major": 2,
       "version_minor": 0
      },
      "text/plain": [
       "HBox(children=(IntProgress(value=0, max=40), HTML(value='')))"
      ]
     },
     "metadata": {},
     "output_type": "display_data"
    },
    {
     "name": "stdout",
     "output_type": "stream",
     "text": [
      "../output/coco_glu-gan2_2020_10_13_23_16_32/Model/netG_epoch_84/valid/single/COCO_val2014_000000091488_s-1.png \n",
      " unrecognized data stream contents when reading image file\n",
      "../output/coco_glu-gan2_2020_10_13_23_16_32/Model/netG_epoch_112/valid/single/\n"
     ]
    },
    {
     "data": {
      "application/vnd.jupyter.widget-view+json": {
       "model_id": "",
       "version_major": 2,
       "version_minor": 0
      },
      "text/plain": [
       "HBox(children=(IntProgress(value=0, max=40), HTML(value='')))"
      ]
     },
     "metadata": {},
     "output_type": "display_data"
    },
    {
     "name": "stdout",
     "output_type": "stream",
     "text": [
      "../output/coco_glu-gan2_2020_10_13_23_16_32/Model/netG_epoch_100/valid/single/\n"
     ]
    },
    {
     "data": {
      "application/vnd.jupyter.widget-view+json": {
       "model_id": "",
       "version_major": 2,
       "version_minor": 0
      },
      "text/plain": [
       "HBox(children=(IntProgress(value=0, max=40), HTML(value='')))"
      ]
     },
     "metadata": {},
     "output_type": "display_data"
    },
    {
     "name": "stdout",
     "output_type": "stream",
     "text": [
      "../output/coco_glu-gan2_2020_10_13_23_16_32/Model/netG_epoch_88/valid/single/\n"
     ]
    },
    {
     "data": {
      "application/vnd.jupyter.widget-view+json": {
       "model_id": "",
       "version_major": 2,
       "version_minor": 0
      },
      "text/plain": [
       "HBox(children=(IntProgress(value=0, max=40), HTML(value='')))"
      ]
     },
     "metadata": {},
     "output_type": "display_data"
    },
    {
     "name": "stdout",
     "output_type": "stream",
     "text": [
      "../output/coco_glu-gan2_2020_10_13_23_16_32/Model/netG_epoch_82/valid/single/\n"
     ]
    },
    {
     "data": {
      "application/vnd.jupyter.widget-view+json": {
       "model_id": "",
       "version_major": 2,
       "version_minor": 0
      },
      "text/plain": [
       "HBox(children=(IntProgress(value=0, max=40), HTML(value='')))"
      ]
     },
     "metadata": {},
     "output_type": "display_data"
    },
    {
     "name": "stdout",
     "output_type": "stream",
     "text": [
      "../output/coco_glu-gan2_2020_10_13_23_16_32/Model/netG_epoch_24/valid/single/\n"
     ]
    },
    {
     "data": {
      "application/vnd.jupyter.widget-view+json": {
       "model_id": "",
       "version_major": 2,
       "version_minor": 0
      },
      "text/plain": [
       "HBox(children=(IntProgress(value=0, max=40), HTML(value='')))"
      ]
     },
     "metadata": {},
     "output_type": "display_data"
    },
    {
     "name": "stdout",
     "output_type": "stream",
     "text": [
      "../output/coco_glu-gan2_2020_10_13_23_16_32/Model/netG_epoch_54/valid/single/\n"
     ]
    },
    {
     "data": {
      "application/vnd.jupyter.widget-view+json": {
       "model_id": "",
       "version_major": 2,
       "version_minor": 0
      },
      "text/plain": [
       "HBox(children=(IntProgress(value=0, max=40), HTML(value='')))"
      ]
     },
     "metadata": {},
     "output_type": "display_data"
    },
    {
     "name": "stdout",
     "output_type": "stream",
     "text": [
      "../output/coco_glu-gan2_2020_10_13_23_16_32/Model/netG_epoch_54/valid/single/COCO_val2014_000000125944_s-1.png \n",
      " unrecognized data stream contents when reading image file\n",
      "../output/coco_glu-gan2_2020_10_13_23_16_32/Model/netG_epoch_54/valid/single/COCO_val2014_000000254119_s-1.png \n",
      " unrecognized data stream contents when reading image file\n",
      "../output/coco_glu-gan2_2020_10_13_23_16_32/Model/netG_epoch_54/valid/single/COCO_val2014_000000242679_s-1.png \n",
      " unrecognized data stream contents when reading image file\n",
      "../output/coco_glu-gan2_2020_10_13_23_16_32/Model/netG_epoch_54/valid/single/COCO_val2014_000000410554_s-1.png \n",
      " unrecognized data stream contents when reading image file\n",
      "../output/coco_glu-gan2_2020_10_13_23_16_32/Model/netG_epoch_54/valid/single/COCO_val2014_000000113736_s-1.png \n",
      " unrecognized data stream contents when reading image file\n",
      "../output/coco_glu-gan2_2020_10_13_23_16_32/Model/netG_epoch_54/valid/single/COCO_val2014_000000045729_s-1.png \n",
      " unrecognized data stream contents when reading image file\n",
      "../output/coco_glu-gan2_2020_10_13_23_16_32/Model/netG_epoch_54/valid/single/COCO_val2014_000000454326_s-1.png \n",
      " unrecognized data stream contents when reading image file\n",
      "../output/coco_glu-gan2_2020_10_13_23_16_32/Model/netG_epoch_54/valid/single/COCO_val2014_000000089781_s-1.png \n",
      " unrecognized data stream contents when reading image file\n",
      "../output/coco_glu-gan2_2020_10_13_23_16_32/Model/netG_epoch_98/valid/single/\n"
     ]
    },
    {
     "data": {
      "application/vnd.jupyter.widget-view+json": {
       "model_id": "",
       "version_major": 2,
       "version_minor": 0
      },
      "text/plain": [
       "HBox(children=(IntProgress(value=0, max=40), HTML(value='')))"
      ]
     },
     "metadata": {},
     "output_type": "display_data"
    },
    {
     "name": "stdout",
     "output_type": "stream",
     "text": [
      "../output/coco_glu-gan2_2020_10_13_23_16_32/Model/netG_epoch_102/valid/single/\n"
     ]
    },
    {
     "data": {
      "application/vnd.jupyter.widget-view+json": {
       "model_id": "",
       "version_major": 2,
       "version_minor": 0
      },
      "text/plain": [
       "HBox(children=(IntProgress(value=0, max=40), HTML(value='')))"
      ]
     },
     "metadata": {},
     "output_type": "display_data"
    },
    {
     "name": "stdout",
     "output_type": "stream",
     "text": [
      "../output/coco_glu-gan2_2020_10_13_23_16_32/Model/netG_epoch_64/valid/single/\n"
     ]
    },
    {
     "data": {
      "application/vnd.jupyter.widget-view+json": {
       "model_id": "",
       "version_major": 2,
       "version_minor": 0
      },
      "text/plain": [
       "HBox(children=(IntProgress(value=0, max=40), HTML(value='')))"
      ]
     },
     "metadata": {},
     "output_type": "display_data"
    },
    {
     "name": "stdout",
     "output_type": "stream",
     "text": [
      "../output/coco_glu-gan2_2020_10_13_23_16_32/Model/netG_epoch_36/valid/single/\n"
     ]
    },
    {
     "data": {
      "application/vnd.jupyter.widget-view+json": {
       "model_id": "",
       "version_major": 2,
       "version_minor": 0
      },
      "text/plain": [
       "HBox(children=(IntProgress(value=0, max=40), HTML(value='')))"
      ]
     },
     "metadata": {},
     "output_type": "display_data"
    },
    {
     "name": "stdout",
     "output_type": "stream",
     "text": [
      "../output/coco_glu-gan2_2020_10_13_23_16_32/Model/netG_epoch_70/valid/single/\n"
     ]
    },
    {
     "data": {
      "application/vnd.jupyter.widget-view+json": {
       "model_id": "",
       "version_major": 2,
       "version_minor": 0
      },
      "text/plain": [
       "HBox(children=(IntProgress(value=0, max=40), HTML(value='')))"
      ]
     },
     "metadata": {},
     "output_type": "display_data"
    },
    {
     "name": "stdout",
     "output_type": "stream",
     "text": [
      "../output/coco_glu-gan2_2020_10_13_23_16_32/Model/netG_epoch_116/valid/single/\n"
     ]
    },
    {
     "data": {
      "application/vnd.jupyter.widget-view+json": {
       "model_id": "",
       "version_major": 2,
       "version_minor": 0
      },
      "text/plain": [
       "HBox(children=(IntProgress(value=0, max=40), HTML(value='')))"
      ]
     },
     "metadata": {},
     "output_type": "display_data"
    },
    {
     "name": "stdout",
     "output_type": "stream",
     "text": [
      "../output/coco_glu-gan2_2020_10_13_23_16_32/Model/netG_epoch_116/valid/single/COCO_val2014_000000375490_s-1.png \n",
      " unrecognized data stream contents when reading image file\n",
      "../output/coco_glu-gan2_2020_10_13_23_16_32/Model/netG_epoch_116/valid/single/COCO_val2014_000000434915_s-1.png \n",
      " broken data stream when reading image file\n",
      "../output/coco_glu-gan2_2020_10_13_23_16_32/Model/netG_epoch_86/valid/single/\n"
     ]
    },
    {
     "data": {
      "application/vnd.jupyter.widget-view+json": {
       "model_id": "",
       "version_major": 2,
       "version_minor": 0
      },
      "text/plain": [
       "HBox(children=(IntProgress(value=0, max=40), HTML(value='')))"
      ]
     },
     "metadata": {},
     "output_type": "display_data"
    },
    {
     "name": "stdout",
     "output_type": "stream",
     "text": [
      "../output/coco_glu-gan2_2020_10_13_23_16_32/Model/netG_epoch_48/valid/single/\n"
     ]
    },
    {
     "data": {
      "application/vnd.jupyter.widget-view+json": {
       "model_id": "",
       "version_major": 2,
       "version_minor": 0
      },
      "text/plain": [
       "HBox(children=(IntProgress(value=0, max=40), HTML(value='')))"
      ]
     },
     "metadata": {},
     "output_type": "display_data"
    },
    {
     "name": "stdout",
     "output_type": "stream",
     "text": [
      "../output/coco_glu-gan2_2020_10_13_23_16_32/Model/netG_epoch_92/valid/single/\n"
     ]
    },
    {
     "data": {
      "application/vnd.jupyter.widget-view+json": {
       "model_id": "",
       "version_major": 2,
       "version_minor": 0
      },
      "text/plain": [
       "HBox(children=(IntProgress(value=0, max=40), HTML(value='')))"
      ]
     },
     "metadata": {},
     "output_type": "display_data"
    },
    {
     "name": "stdout",
     "output_type": "stream",
     "text": [
      "../output/coco_glu-gan2_2020_10_13_23_16_32/Model/netG_epoch_92/valid/single/COCO_val2014_000000268435_s-1.png \n",
      " unrecognized data stream contents when reading image file\n",
      "../output/coco_glu-gan2_2020_10_13_23_16_32/Model/netG_epoch_92/valid/single/COCO_val2014_000000477820_s-1.png \n",
      " unrecognized data stream contents when reading image file\n",
      "../output/coco_glu-gan2_2020_10_13_23_16_32/Model/netG_epoch_92/valid/single/COCO_val2014_000000128324_s-1.png \n",
      " unrecognized data stream contents when reading image file\n",
      "../output/coco_glu-gan2_2020_10_13_23_16_32/Model/netG_epoch_118/valid/single/\n"
     ]
    },
    {
     "data": {
      "application/vnd.jupyter.widget-view+json": {
       "model_id": "",
       "version_major": 2,
       "version_minor": 0
      },
      "text/plain": [
       "HBox(children=(IntProgress(value=0, max=40), HTML(value='')))"
      ]
     },
     "metadata": {},
     "output_type": "display_data"
    },
    {
     "name": "stdout",
     "output_type": "stream",
     "text": [
      "../output/coco_glu-gan2_2020_10_13_23_16_32/Model/netG_epoch_118/valid/single/COCO_val2014_000000216369_s-1.png \n",
      " unrecognized data stream contents when reading image file\n",
      "../output/coco_glu-gan2_2020_10_13_23_16_32/Model/netG_epoch_118/valid/single/COCO_val2014_000000129706_s-1.png \n",
      " unrecognized data stream contents when reading image file\n",
      "../output/coco_glu-gan2_2020_10_13_23_16_32/Model/netG_epoch_34/valid/single/\n"
     ]
    },
    {
     "data": {
      "application/vnd.jupyter.widget-view+json": {
       "model_id": "",
       "version_major": 2,
       "version_minor": 0
      },
      "text/plain": [
       "HBox(children=(IntProgress(value=0, max=40), HTML(value='')))"
      ]
     },
     "metadata": {},
     "output_type": "display_data"
    },
    {
     "name": "stdout",
     "output_type": "stream",
     "text": [
      "../output/coco_glu-gan2_2020_10_13_23_16_32/Model/netG_epoch_96/valid/single/\n"
     ]
    },
    {
     "data": {
      "application/vnd.jupyter.widget-view+json": {
       "model_id": "",
       "version_major": 2,
       "version_minor": 0
      },
      "text/plain": [
       "HBox(children=(IntProgress(value=0, max=40), HTML(value='')))"
      ]
     },
     "metadata": {},
     "output_type": "display_data"
    },
    {
     "name": "stdout",
     "output_type": "stream",
     "text": [
      "../output/coco_glu-gan2_2020_10_13_23_16_32/Model/netG_epoch_72/valid/single/\n"
     ]
    },
    {
     "data": {
      "application/vnd.jupyter.widget-view+json": {
       "model_id": "",
       "version_major": 2,
       "version_minor": 0
      },
      "text/plain": [
       "HBox(children=(IntProgress(value=0, max=40), HTML(value='')))"
      ]
     },
     "metadata": {},
     "output_type": "display_data"
    },
    {
     "name": "stdout",
     "output_type": "stream",
     "text": [
      "../output/coco_glu-gan2_2020_10_13_23_16_32/Model/netG_epoch_58/valid/single/\n"
     ]
    },
    {
     "data": {
      "application/vnd.jupyter.widget-view+json": {
       "model_id": "",
       "version_major": 2,
       "version_minor": 0
      },
      "text/plain": [
       "HBox(children=(IntProgress(value=0, max=40), HTML(value='')))"
      ]
     },
     "metadata": {},
     "output_type": "display_data"
    },
    {
     "name": "stdout",
     "output_type": "stream",
     "text": [
      "../output/coco_glu-gan2_2020_10_13_23_16_32/Model/netG_epoch_10/valid/single/\n"
     ]
    },
    {
     "data": {
      "application/vnd.jupyter.widget-view+json": {
       "model_id": "",
       "version_major": 2,
       "version_minor": 0
      },
      "text/plain": [
       "HBox(children=(IntProgress(value=0, max=40), HTML(value='')))"
      ]
     },
     "metadata": {},
     "output_type": "display_data"
    },
    {
     "name": "stdout",
     "output_type": "stream",
     "text": [
      "../output/coco_glu-gan2_2020_10_13_23_16_32/Model/netG_epoch_50/valid/single/\n"
     ]
    },
    {
     "data": {
      "application/vnd.jupyter.widget-view+json": {
       "model_id": "",
       "version_major": 2,
       "version_minor": 0
      },
      "text/plain": [
       "HBox(children=(IntProgress(value=0, max=40), HTML(value='')))"
      ]
     },
     "metadata": {},
     "output_type": "display_data"
    },
    {
     "name": "stdout",
     "output_type": "stream",
     "text": [
      "../output/coco_glu-gan2_2020_10_13_23_16_32/Model/netG_epoch_110/valid/single/\n"
     ]
    },
    {
     "data": {
      "application/vnd.jupyter.widget-view+json": {
       "model_id": "",
       "version_major": 2,
       "version_minor": 0
      },
      "text/plain": [
       "HBox(children=(IntProgress(value=0, max=40), HTML(value='')))"
      ]
     },
     "metadata": {},
     "output_type": "display_data"
    },
    {
     "name": "stdout",
     "output_type": "stream",
     "text": [
      "../output/coco_glu-gan2_2020_10_13_23_16_32/Model/netG_epoch_46/valid/single/\n"
     ]
    },
    {
     "data": {
      "application/vnd.jupyter.widget-view+json": {
       "model_id": "",
       "version_major": 2,
       "version_minor": 0
      },
      "text/plain": [
       "HBox(children=(IntProgress(value=0, max=40), HTML(value='')))"
      ]
     },
     "metadata": {},
     "output_type": "display_data"
    },
    {
     "name": "stdout",
     "output_type": "stream",
     "text": [
      "../output/coco_glu-gan2_2020_10_13_23_16_32/Model/netG_epoch_38/valid/single/\n"
     ]
    },
    {
     "data": {
      "application/vnd.jupyter.widget-view+json": {
       "model_id": "",
       "version_major": 2,
       "version_minor": 0
      },
      "text/plain": [
       "HBox(children=(IntProgress(value=0, max=40), HTML(value='')))"
      ]
     },
     "metadata": {},
     "output_type": "display_data"
    },
    {
     "name": "stdout",
     "output_type": "stream",
     "text": [
      "../output/coco_glu-gan2_2020_10_13_23_16_32/Model/netG_epoch_44/valid/single/\n"
     ]
    },
    {
     "data": {
      "application/vnd.jupyter.widget-view+json": {
       "model_id": "",
       "version_major": 2,
       "version_minor": 0
      },
      "text/plain": [
       "HBox(children=(IntProgress(value=0, max=40), HTML(value='')))"
      ]
     },
     "metadata": {},
     "output_type": "display_data"
    },
    {
     "name": "stdout",
     "output_type": "stream",
     "text": [
      "../output/coco_glu-gan2_2020_10_13_23_16_32/Model/netG_epoch_32/valid/single/\n"
     ]
    },
    {
     "data": {
      "application/vnd.jupyter.widget-view+json": {
       "model_id": "",
       "version_major": 2,
       "version_minor": 0
      },
      "text/plain": [
       "HBox(children=(IntProgress(value=0, max=40), HTML(value='')))"
      ]
     },
     "metadata": {},
     "output_type": "display_data"
    },
    {
     "name": "stdout",
     "output_type": "stream",
     "text": [
      "../output/coco_glu-gan2_2020_10_13_23_16_32/Model/netG_epoch_30/valid/single/\n"
     ]
    },
    {
     "data": {
      "application/vnd.jupyter.widget-view+json": {
       "model_id": "",
       "version_major": 2,
       "version_minor": 0
      },
      "text/plain": [
       "HBox(children=(IntProgress(value=0, max=40), HTML(value='')))"
      ]
     },
     "metadata": {},
     "output_type": "display_data"
    },
    {
     "name": "stdout",
     "output_type": "stream",
     "text": [
      "../output/coco_glu-gan2_2020_10_13_23_16_32/Model/netG_epoch_60/valid/single/\n"
     ]
    },
    {
     "data": {
      "application/vnd.jupyter.widget-view+json": {
       "model_id": "",
       "version_major": 2,
       "version_minor": 0
      },
      "text/plain": [
       "HBox(children=(IntProgress(value=0, max=40), HTML(value='')))"
      ]
     },
     "metadata": {},
     "output_type": "display_data"
    },
    {
     "name": "stdout",
     "output_type": "stream",
     "text": [
      "../output/coco_glu-gan2_2020_10_13_23_16_32/Model/netG_epoch_26/valid/single/\n"
     ]
    },
    {
     "data": {
      "application/vnd.jupyter.widget-view+json": {
       "model_id": "",
       "version_major": 2,
       "version_minor": 0
      },
      "text/plain": [
       "HBox(children=(IntProgress(value=0, max=40), HTML(value='')))"
      ]
     },
     "metadata": {},
     "output_type": "display_data"
    },
    {
     "name": "stdout",
     "output_type": "stream",
     "text": [
      "../output/coco_glu-gan2_2020_10_13_23_16_32/Model/netG_epoch_20/valid/single/\n"
     ]
    },
    {
     "data": {
      "application/vnd.jupyter.widget-view+json": {
       "model_id": "",
       "version_major": 2,
       "version_minor": 0
      },
      "text/plain": [
       "HBox(children=(IntProgress(value=0, max=40), HTML(value='')))"
      ]
     },
     "metadata": {},
     "output_type": "display_data"
    },
    {
     "name": "stdout",
     "output_type": "stream",
     "text": [
      "../output/coco_glu-gan2_2020_10_13_23_16_32/Model/netG_epoch_108/valid/single/\n"
     ]
    },
    {
     "data": {
      "application/vnd.jupyter.widget-view+json": {
       "model_id": "",
       "version_major": 2,
       "version_minor": 0
      },
      "text/plain": [
       "HBox(children=(IntProgress(value=0, max=40), HTML(value='')))"
      ]
     },
     "metadata": {},
     "output_type": "display_data"
    },
    {
     "name": "stdout",
     "output_type": "stream",
     "text": [
      "../output/coco_glu-gan2_2020_10_13_23_16_32/Model/netG_epoch_66/valid/single/\n"
     ]
    },
    {
     "data": {
      "application/vnd.jupyter.widget-view+json": {
       "model_id": "",
       "version_major": 2,
       "version_minor": 0
      },
      "text/plain": [
       "HBox(children=(IntProgress(value=0, max=40), HTML(value='')))"
      ]
     },
     "metadata": {},
     "output_type": "display_data"
    },
    {
     "name": "stdout",
     "output_type": "stream",
     "text": [
      "../output/coco_glu-gan2_2020_10_13_23_16_32/Model/netG_epoch_42/valid/single/\n"
     ]
    },
    {
     "data": {
      "application/vnd.jupyter.widget-view+json": {
       "model_id": "",
       "version_major": 2,
       "version_minor": 0
      },
      "text/plain": [
       "HBox(children=(IntProgress(value=0, max=40), HTML(value='')))"
      ]
     },
     "metadata": {},
     "output_type": "display_data"
    },
    {
     "name": "stdout",
     "output_type": "stream",
     "text": [
      "../output/coco_glu-gan2_2020_10_13_23_16_32/Model/netG_epoch_62/valid/single/\n"
     ]
    },
    {
     "data": {
      "application/vnd.jupyter.widget-view+json": {
       "model_id": "",
       "version_major": 2,
       "version_minor": 0
      },
      "text/plain": [
       "HBox(children=(IntProgress(value=0, max=40), HTML(value='')))"
      ]
     },
     "metadata": {},
     "output_type": "display_data"
    },
    {
     "name": "stdout",
     "output_type": "stream",
     "text": [
      "\n"
     ]
    }
   ],
   "source": [
    "batch_size=1024\n",
    "\n",
    "thedir = '../output/coco_glu-gan2_2020_10_13_23_16_32/Model/'\n",
    "fid = 0.0\n",
    "epoch = []\n",
    "fids = []\n",
    "for x in tqdm_notebook(os.listdir(thedir)):\n",
    "    root_path = os.path.join(thedir,x)\n",
    "#     print(root_path)\n",
    "    fid=0.0\n",
    "    if os.path.isdir(root_path):\n",
    "        e = int(root_path.split('_')[-1].replace('/',''))\n",
    "        if e not in dont_run_epochs:\n",
    "            epoch.append(e)\n",
    "    #         score,std=0.0,0.0\n",
    "            image_root_path = os.path.join(root_path,'valid/single/')\n",
    "            print(image_root_path)\n",
    "            image_path_list = os.listdir(image_root_path)\n",
    "            dg = datagen(image_root_path,image_path_list,batch_size=batch_size)\n",
    "            counter=0\n",
    "            for x in tqdm_notebook(range((40460//batch_size)+1),leave=False):\n",
    "                images = next(dg)\n",
    "    #             print(images.min(),images.max())\n",
    "                fid += FID.calculate_fid(images2=images,do_prepocess=True)\n",
    "                counter+=1\n",
    "            fid/=counter\n",
    "            fids.append(fid)\n",
    "#             print(is_mean,is_std)\n",
    "#         break"
   ]
  },
  {
   "cell_type": "code",
   "execution_count": 22,
   "metadata": {},
   "outputs": [
    {
     "data": {
      "text/plain": [
       "[85.74090131441758,\n",
       " 82.94360567933892,\n",
       " 195.11151385584589,\n",
       " 79.04514113756586,\n",
       " 78.79008015500902]"
      ]
     },
     "execution_count": 22,
     "metadata": {},
     "output_type": "execute_result"
    }
   ],
   "source": [
    "fids"
   ]
  },
  {
   "cell_type": "code",
   "execution_count": 21,
   "metadata": {},
   "outputs": [],
   "source": [
    "df = pd.DataFrame()"
   ]
  },
  {
   "cell_type": "code",
   "execution_count": 22,
   "metadata": {},
   "outputs": [],
   "source": [
    "df['epoch'] = epoch\n",
    "df['fid'] = fids"
   ]
  },
  {
   "cell_type": "code",
   "execution_count": 23,
   "metadata": {},
   "outputs": [],
   "source": [
    "df.to_csv('../plots/IMG_TEXT_TXFMR_COCO_FID_Results_1.csv',index=False)"
   ]
  },
  {
   "cell_type": "code",
   "execution_count": null,
   "metadata": {},
   "outputs": [],
   "source": [
    "df"
   ]
  },
  {
   "cell_type": "code",
   "execution_count": 24,
   "metadata": {},
   "outputs": [],
   "source": [
    "p0_df = pd.read_csv('../plots/IMG_TEXT_TXFMR_COCO_FID_Results_0.csv')\n",
    "p1_df = pd.read_csv('../plots/IMG_TEXT_TXFMR_COCO_FID_Results_1.csv')\n",
    "\n",
    "df = pd.concat([p1_df,p0_df])"
   ]
  },
  {
   "cell_type": "code",
   "execution_count": 25,
   "metadata": {},
   "outputs": [],
   "source": [
    "df = df.astype({\"epoch\": int})"
   ]
  },
  {
   "cell_type": "code",
   "execution_count": 29,
   "metadata": {},
   "outputs": [],
   "source": [
    "df = df.sort_values(by='epoch')\n",
    "df.to_csv('../plots/IMG_TEXT_TXFMR_COCO_FID_Results.csv',index=False)"
   ]
  },
  {
   "cell_type": "code",
   "execution_count": 30,
   "metadata": {},
   "outputs": [
    {
     "data": {
      "text/plain": [
       "<matplotlib.axes._subplots.AxesSubplot at 0x7fb860af5ed0>"
      ]
     },
     "execution_count": 30,
     "metadata": {},
     "output_type": "execute_result"
    },
    {
     "data": {
      "image/png": "[encoded data removed]",
      "text/plain": [
       "<Figure size 1152x432 with 1 Axes>"
      ]
     },
     "metadata": {
      "needs_background": "light"
     },
     "output_type": "display_data"
    }
   ],
   "source": [
    "df.plot.line(x='epoch',y='fid',color='green',grid=True,figsize=(16,6))\n"
   ]
  },
  {
   "cell_type": "code",
   "execution_count": 33,
   "metadata": {},
   "outputs": [
    {
     "data": {
      "text/plain": [
       "<matplotlib.axes._subplots.AxesSubplot at 0x7fb8a84d7050>"
      ]
     },
     "execution_count": 33,
     "metadata": {},
     "output_type": "execute_result"
    },
    {
     "data": {
      "image/png": "[encoded data removed]",
      "text/plain": [
       "<Figure size 1152x432 with 1 Axes>"
      ]
     },
     "metadata": {
      "needs_background": "light"
     },
     "output_type": "display_data"
    }
   ],
   "source": [
    "is_df = pd.read_csv('../plots/IMG_TEXT_TXFMR_COCO_IS_Results.csv')\n",
    "is_df.plot.line(x='epoch',y='score',color='green',grid=True,figsize=(16,6))"
   ]
  },
  {
   "cell_type": "code",
   "execution_count": 34,
   "metadata": {},
   "outputs": [
    {
     "data": {
      "text/html": [
       "<div>\n",
       "<style scoped>\n",
       "    .dataframe tbody tr th:only-of-type {\n",
       "        vertical-align: middle;\n",
       "    }\n",
       "\n",
       "    .dataframe tbody tr th {\n",
       "        vertical-align: top;\n",
       "    }\n",
       "\n",
       "    .dataframe thead th {\n",
       "        text-align: right;\n",
       "    }\n",
       "</style>\n",
       "<table border=\"1\" class=\"dataframe\">\n",
       "  <thead>\n",
       "    <tr style=\"text-align: right;\">\n",
       "      <th></th>\n",
       "      <th>epoch</th>\n",
       "      <th>score</th>\n",
       "      <th>std</th>\n",
       "    </tr>\n",
       "  </thead>\n",
       "  <tbody>\n",
       "    <tr>\n",
       "      <td>0</td>\n",
       "      <td>0</td>\n",
       "      <td>9.934981</td>\n",
       "      <td>0.168424</td>\n",
       "    </tr>\n",
       "    <tr>\n",
       "      <td>1</td>\n",
       "      <td>10</td>\n",
       "      <td>21.470434</td>\n",
       "      <td>0.134675</td>\n",
       "    </tr>\n",
       "    <tr>\n",
       "      <td>2</td>\n",
       "      <td>20</td>\n",
       "      <td>24.797615</td>\n",
       "      <td>0.494633</td>\n",
       "    </tr>\n",
       "    <tr>\n",
       "      <td>3</td>\n",
       "      <td>22</td>\n",
       "      <td>24.814852</td>\n",
       "      <td>0.563048</td>\n",
       "    </tr>\n",
       "    <tr>\n",
       "      <td>4</td>\n",
       "      <td>24</td>\n",
       "      <td>24.480371</td>\n",
       "      <td>0.351016</td>\n",
       "    </tr>\n",
       "    <tr>\n",
       "      <td>5</td>\n",
       "      <td>26</td>\n",
       "      <td>25.079138</td>\n",
       "      <td>0.235907</td>\n",
       "    </tr>\n",
       "    <tr>\n",
       "      <td>6</td>\n",
       "      <td>28</td>\n",
       "      <td>25.010929</td>\n",
       "      <td>0.411737</td>\n",
       "    </tr>\n",
       "    <tr>\n",
       "      <td>7</td>\n",
       "      <td>30</td>\n",
       "      <td>24.927599</td>\n",
       "      <td>0.284121</td>\n",
       "    </tr>\n",
       "    <tr>\n",
       "      <td>8</td>\n",
       "      <td>32</td>\n",
       "      <td>24.839054</td>\n",
       "      <td>0.368832</td>\n",
       "    </tr>\n",
       "    <tr>\n",
       "      <td>9</td>\n",
       "      <td>34</td>\n",
       "      <td>24.714005</td>\n",
       "      <td>0.341731</td>\n",
       "    </tr>\n",
       "    <tr>\n",
       "      <td>10</td>\n",
       "      <td>36</td>\n",
       "      <td>22.942514</td>\n",
       "      <td>0.473059</td>\n",
       "    </tr>\n",
       "    <tr>\n",
       "      <td>11</td>\n",
       "      <td>38</td>\n",
       "      <td>25.868647</td>\n",
       "      <td>0.518704</td>\n",
       "    </tr>\n",
       "    <tr>\n",
       "      <td>12</td>\n",
       "      <td>40</td>\n",
       "      <td>25.395697</td>\n",
       "      <td>0.448384</td>\n",
       "    </tr>\n",
       "    <tr>\n",
       "      <td>13</td>\n",
       "      <td>42</td>\n",
       "      <td>24.744808</td>\n",
       "      <td>0.449599</td>\n",
       "    </tr>\n",
       "    <tr>\n",
       "      <td>14</td>\n",
       "      <td>44</td>\n",
       "      <td>24.375769</td>\n",
       "      <td>0.220990</td>\n",
       "    </tr>\n",
       "    <tr>\n",
       "      <td>15</td>\n",
       "      <td>46</td>\n",
       "      <td>24.759296</td>\n",
       "      <td>0.453510</td>\n",
       "    </tr>\n",
       "    <tr>\n",
       "      <td>16</td>\n",
       "      <td>48</td>\n",
       "      <td>24.068607</td>\n",
       "      <td>0.350794</td>\n",
       "    </tr>\n",
       "    <tr>\n",
       "      <td>17</td>\n",
       "      <td>50</td>\n",
       "      <td>23.892147</td>\n",
       "      <td>0.546499</td>\n",
       "    </tr>\n",
       "    <tr>\n",
       "      <td>18</td>\n",
       "      <td>52</td>\n",
       "      <td>23.258625</td>\n",
       "      <td>0.362393</td>\n",
       "    </tr>\n",
       "    <tr>\n",
       "      <td>19</td>\n",
       "      <td>54</td>\n",
       "      <td>25.553493</td>\n",
       "      <td>0.515016</td>\n",
       "    </tr>\n",
       "    <tr>\n",
       "      <td>20</td>\n",
       "      <td>56</td>\n",
       "      <td>25.074511</td>\n",
       "      <td>0.537467</td>\n",
       "    </tr>\n",
       "    <tr>\n",
       "      <td>21</td>\n",
       "      <td>58</td>\n",
       "      <td>25.182882</td>\n",
       "      <td>0.399720</td>\n",
       "    </tr>\n",
       "    <tr>\n",
       "      <td>22</td>\n",
       "      <td>60</td>\n",
       "      <td>23.979969</td>\n",
       "      <td>0.445401</td>\n",
       "    </tr>\n",
       "    <tr>\n",
       "      <td>23</td>\n",
       "      <td>62</td>\n",
       "      <td>22.695482</td>\n",
       "      <td>0.317920</td>\n",
       "    </tr>\n",
       "    <tr>\n",
       "      <td>24</td>\n",
       "      <td>64</td>\n",
       "      <td>24.135801</td>\n",
       "      <td>0.462205</td>\n",
       "    </tr>\n",
       "    <tr>\n",
       "      <td>25</td>\n",
       "      <td>66</td>\n",
       "      <td>24.038425</td>\n",
       "      <td>0.351394</td>\n",
       "    </tr>\n",
       "    <tr>\n",
       "      <td>26</td>\n",
       "      <td>68</td>\n",
       "      <td>24.894115</td>\n",
       "      <td>0.448610</td>\n",
       "    </tr>\n",
       "    <tr>\n",
       "      <td>27</td>\n",
       "      <td>70</td>\n",
       "      <td>24.407038</td>\n",
       "      <td>0.434392</td>\n",
       "    </tr>\n",
       "    <tr>\n",
       "      <td>28</td>\n",
       "      <td>72</td>\n",
       "      <td>24.067539</td>\n",
       "      <td>0.516936</td>\n",
       "    </tr>\n",
       "    <tr>\n",
       "      <td>29</td>\n",
       "      <td>74</td>\n",
       "      <td>25.364819</td>\n",
       "      <td>0.474812</td>\n",
       "    </tr>\n",
       "    <tr>\n",
       "      <td>30</td>\n",
       "      <td>76</td>\n",
       "      <td>25.479530</td>\n",
       "      <td>0.287428</td>\n",
       "    </tr>\n",
       "    <tr>\n",
       "      <td>31</td>\n",
       "      <td>78</td>\n",
       "      <td>24.996325</td>\n",
       "      <td>0.532806</td>\n",
       "    </tr>\n",
       "    <tr>\n",
       "      <td>32</td>\n",
       "      <td>80</td>\n",
       "      <td>25.840649</td>\n",
       "      <td>0.333152</td>\n",
       "    </tr>\n",
       "    <tr>\n",
       "      <td>33</td>\n",
       "      <td>82</td>\n",
       "      <td>25.495502</td>\n",
       "      <td>0.525625</td>\n",
       "    </tr>\n",
       "    <tr>\n",
       "      <td>34</td>\n",
       "      <td>84</td>\n",
       "      <td>24.176010</td>\n",
       "      <td>0.392699</td>\n",
       "    </tr>\n",
       "    <tr>\n",
       "      <td>35</td>\n",
       "      <td>86</td>\n",
       "      <td>24.752775</td>\n",
       "      <td>0.658849</td>\n",
       "    </tr>\n",
       "    <tr>\n",
       "      <td>36</td>\n",
       "      <td>88</td>\n",
       "      <td>25.912537</td>\n",
       "      <td>0.514527</td>\n",
       "    </tr>\n",
       "    <tr>\n",
       "      <td>37</td>\n",
       "      <td>90</td>\n",
       "      <td>23.922749</td>\n",
       "      <td>0.428600</td>\n",
       "    </tr>\n",
       "    <tr>\n",
       "      <td>38</td>\n",
       "      <td>92</td>\n",
       "      <td>24.831268</td>\n",
       "      <td>0.272508</td>\n",
       "    </tr>\n",
       "    <tr>\n",
       "      <td>39</td>\n",
       "      <td>94</td>\n",
       "      <td>24.836660</td>\n",
       "      <td>0.437035</td>\n",
       "    </tr>\n",
       "    <tr>\n",
       "      <td>40</td>\n",
       "      <td>96</td>\n",
       "      <td>25.384968</td>\n",
       "      <td>0.415690</td>\n",
       "    </tr>\n",
       "    <tr>\n",
       "      <td>41</td>\n",
       "      <td>98</td>\n",
       "      <td>24.260273</td>\n",
       "      <td>0.346477</td>\n",
       "    </tr>\n",
       "    <tr>\n",
       "      <td>42</td>\n",
       "      <td>100</td>\n",
       "      <td>24.509306</td>\n",
       "      <td>0.353717</td>\n",
       "    </tr>\n",
       "    <tr>\n",
       "      <td>43</td>\n",
       "      <td>102</td>\n",
       "      <td>24.981794</td>\n",
       "      <td>0.472508</td>\n",
       "    </tr>\n",
       "    <tr>\n",
       "      <td>44</td>\n",
       "      <td>104</td>\n",
       "      <td>25.861212</td>\n",
       "      <td>0.326256</td>\n",
       "    </tr>\n",
       "    <tr>\n",
       "      <td>45</td>\n",
       "      <td>106</td>\n",
       "      <td>24.058743</td>\n",
       "      <td>0.382688</td>\n",
       "    </tr>\n",
       "    <tr>\n",
       "      <td>46</td>\n",
       "      <td>108</td>\n",
       "      <td>26.438564</td>\n",
       "      <td>0.492169</td>\n",
       "    </tr>\n",
       "    <tr>\n",
       "      <td>47</td>\n",
       "      <td>110</td>\n",
       "      <td>24.465885</td>\n",
       "      <td>0.404944</td>\n",
       "    </tr>\n",
       "    <tr>\n",
       "      <td>48</td>\n",
       "      <td>112</td>\n",
       "      <td>26.703726</td>\n",
       "      <td>0.400489</td>\n",
       "    </tr>\n",
       "    <tr>\n",
       "      <td>49</td>\n",
       "      <td>114</td>\n",
       "      <td>25.640430</td>\n",
       "      <td>0.313910</td>\n",
       "    </tr>\n",
       "    <tr>\n",
       "      <td>50</td>\n",
       "      <td>116</td>\n",
       "      <td>25.742443</td>\n",
       "      <td>0.347998</td>\n",
       "    </tr>\n",
       "    <tr>\n",
       "      <td>51</td>\n",
       "      <td>118</td>\n",
       "      <td>24.592464</td>\n",
       "      <td>0.419943</td>\n",
       "    </tr>\n",
       "    <tr>\n",
       "      <td>52</td>\n",
       "      <td>120</td>\n",
       "      <td>24.255524</td>\n",
       "      <td>0.400078</td>\n",
       "    </tr>\n",
       "  </tbody>\n",
       "</table>\n",
       "</div>"
      ],
      "text/plain": [
       "    epoch      score       std\n",
       "0       0   9.934981  0.168424\n",
       "1      10  21.470434  0.134675\n",
       "2      20  24.797615  0.494633\n",
       "3      22  24.814852  0.563048\n",
       "4      24  24.480371  0.351016\n",
       "5      26  25.079138  0.235907\n",
       "6      28  25.010929  0.411737\n",
       "7      30  24.927599  0.284121\n",
       "8      32  24.839054  0.368832\n",
       "9      34  24.714005  0.341731\n",
       "10     36  22.942514  0.473059\n",
       "11     38  25.868647  0.518704\n",
       "12     40  25.395697  0.448384\n",
       "13     42  24.744808  0.449599\n",
       "14     44  24.375769  0.220990\n",
       "15     46  24.759296  0.453510\n",
       "16     48  24.068607  0.350794\n",
       "17     50  23.892147  0.546499\n",
       "18     52  23.258625  0.362393\n",
       "19     54  25.553493  0.515016\n",
       "20     56  25.074511  0.537467\n",
       "21     58  25.182882  0.399720\n",
       "22     60  23.979969  0.445401\n",
       "23     62  22.695482  0.317920\n",
       "24     64  24.135801  0.462205\n",
       "25     66  24.038425  0.351394\n",
       "26     68  24.894115  0.448610\n",
       "27     70  24.407038  0.434392\n",
       "28     72  24.067539  0.516936\n",
       "29     74  25.364819  0.474812\n",
       "30     76  25.479530  0.287428\n",
       "31     78  24.996325  0.532806\n",
       "32     80  25.840649  0.333152\n",
       "33     82  25.495502  0.525625\n",
       "34     84  24.176010  0.392699\n",
       "35     86  24.752775  0.658849\n",
       "36     88  25.912537  0.514527\n",
       "37     90  23.922749  0.428600\n",
       "38     92  24.831268  0.272508\n",
       "39     94  24.836660  0.437035\n",
       "40     96  25.384968  0.415690\n",
       "41     98  24.260273  0.346477\n",
       "42    100  24.509306  0.353717\n",
       "43    102  24.981794  0.472508\n",
       "44    104  25.861212  0.326256\n",
       "45    106  24.058743  0.382688\n",
       "46    108  26.438564  0.492169\n",
       "47    110  24.465885  0.404944\n",
       "48    112  26.703726  0.400489\n",
       "49    114  25.640430  0.313910\n",
       "50    116  25.742443  0.347998\n",
       "51    118  24.592464  0.419943\n",
       "52    120  24.255524  0.400078"
      ]
     },
     "execution_count": 34,
     "metadata": {},
     "output_type": "execute_result"
    }
   ],
   "source": [
    "is_df"
   ]
  },
  {
   "cell_type": "code",
   "execution_count": null,
   "metadata": {},
   "outputs": [],
   "source": []
  }
 ],
 "metadata": {
  "kernelspec": {
   "display_name": "Python (pytorch-gpu)",
   "language": "python",
   "name": "pytorch-gpu"
  },
  "language_info": {
   "codemirror_mode": {
    "name": "ipython",
    "version": 3
   },
   "file_extension": ".py",
   "mimetype": "text/x-python",
   "name": "python",
   "nbconvert_exporter": "python",
   "pygments_lexer": "ipython3",
   "version": "3.7.4"
  }
 },
 "nbformat": 4,
 "nbformat_minor": 2
}
