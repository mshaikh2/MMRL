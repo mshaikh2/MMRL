{
 "cells": [
  {
   "cell_type": "markdown",
   "metadata": {},
   "source": [
    "## CATR Demo"
   ]
  },
  {
   "cell_type": "code",
   "execution_count": 17,
   "metadata": {
    "colab": {
     "base_uri": "https://localhost:8080/",
     "height": 176
    },
    "colab_type": "code",
    "id": "KesOqe40jdak",
    "outputId": "54e430ea-f037-4541-d0d4-ac71ee457ee3"
   },
   "outputs": [
    {
     "name": "stdout",
     "output_type": "stream",
     "text": [
      "2020-10-31 00:20:58.387418: I tensorflow/stream_executor/platform/default/dso_loader.cc:48] Successfully opened dynamic library libcudart.so.10.1\n",
      "Loading Checkpoint v3...\n",
      "A person cutting a cake with a knife.\n"
     ]
    }
   ],
   "source": [
    "!python catr_predict.py --path catr/.github/cake.png"
   ]
  },
  {
   "cell_type": "code",
   "execution_count": 3,
   "metadata": {
    "colab": {
     "base_uri": "https://localhost:8080/",
     "height": 89
    },
    "colab_type": "code",
    "id": "8VAr2dFajs69",
    "outputId": "7c985740-9d46-43a9-bcaf-822a6952b268"
   },
   "outputs": [
    {
     "name": "stdout",
     "output_type": "stream",
     "text": [
      "2020-10-30 23:33:58.259660: I tensorflow/stream_executor/platform/default/dso_loader.cc:48] Successfully opened dynamic library libcudart.so.10.1\n",
      "Loading Checkpoint v3...\n",
      "A woman sitting on a curb holding an umbrella.\n"
     ]
    }
   ],
   "source": [
    "!python catr_predict.py --path catr/.github/girl.png"
   ]
  },
  {
   "cell_type": "code",
   "execution_count": 4,
   "metadata": {
    "colab": {
     "base_uri": "https://localhost:8080/",
     "height": 89
    },
    "colab_type": "code",
    "id": "_evy1rElj3JK",
    "outputId": "37eeaf43-3d7c-41db-bb59-287bd7632da9"
   },
   "outputs": [
    {
     "name": "stdout",
     "output_type": "stream",
     "text": [
      "2020-10-30 23:35:06.706842: I tensorflow/stream_executor/platform/default/dso_loader.cc:48] Successfully opened dynamic library libcudart.so.10.1\n",
      "Loading Checkpoint v3...\n",
      "A group of people sitting at desks with laptops.\n"
     ]
    }
   ],
   "source": [
    "!python catr_predict.py --path catr/.github/office.png"
   ]
  },
  {
   "cell_type": "code",
   "execution_count": 8,
   "metadata": {
    "colab": {
     "base_uri": "https://localhost:8080/",
     "height": 89
    },
    "colab_type": "code",
    "id": "5uqoo0NCj6h-",
    "outputId": "89df63ee-77e6-4acc-e9c3-9e6e05a9f517"
   },
   "outputs": [
    {
     "name": "stdout",
     "output_type": "stream",
     "text": [
      "2020-10-30 23:53:13.989625: I tensorflow/stream_executor/platform/default/dso_loader.cc:48] Successfully opened dynamic library libcudart.so.10.1\n",
      "Loading Checkpoint v3...\n",
      "A man riding a horse on a lush green hillside.\n"
     ]
    }
   ],
   "source": [
    "!python catr_predict.py --path catr/.github/horse.png"
   ]
  },
  {
   "cell_type": "code",
   "execution_count": 9,
   "metadata": {
    "colab": {
     "base_uri": "https://localhost:8080/",
     "height": 89
    },
    "colab_type": "code",
    "id": "CCnUN_H4j7x9",
    "outputId": "c095a09c-eebd-41ce-b7a2-df9af8100dc0"
   },
   "outputs": [
    {
     "name": "stdout",
     "output_type": "stream",
     "text": [
      "2020-10-30 23:54:39.077654: I tensorflow/stream_executor/platform/default/dso_loader.cc:48] Successfully opened dynamic library libcudart.so.10.1\n",
      "Loading Checkpoint v3...\n",
      "A large plane is on a runway with a sky background\n"
     ]
    }
   ],
   "source": [
    "!python catr_predict.py --path catr/.github/airplane.png"
   ]
  },
  {
   "cell_type": "markdown",
   "metadata": {
    "colab": {},
    "colab_type": "code",
    "id": "x8YuZRMokBqT"
   },
   "source": [
    "## Batch Prediction for fast processing"
   ]
  },
  {
   "cell_type": "code",
   "execution_count": 1,
   "metadata": {},
   "outputs": [],
   "source": [
    "import torch\n",
    "from torch.utils.data import DataLoader\n",
    "from torchvision import transforms\n",
    "\n",
    "import numpy as np\n",
    "import time\n",
    "import sys\n",
    "import os\n",
    "import math\n",
    "import tqdm\n",
    "\n",
    "from nltk.tokenize import RegexpTokenizer\n",
    "from transformers import BertTokenizer, AutoTokenizer\n",
    "from PIL import Image\n",
    "import argparse\n",
    "\n",
    "from catr.models import caption\n",
    "from catr.models import utils as mtils\n",
    "from catr.datasets import coco, utils\n",
    "# from catr.cfg_damsm_bert import Config\n",
    "from catr.configuration import Config\n",
    "\n",
    "import json, pickle\n",
    "from pycocotools.coco import COCO as CC\n",
    "import matplotlib.pyplot as plt"
   ]
  },
  {
   "cell_type": "code",
   "execution_count": 2,
   "metadata": {},
   "outputs": [
    {
     "name": "stdout",
     "output_type": "stream",
     "text": [
      "Loading Checkpoint...\n"
     ]
    }
   ],
   "source": [
    "# parser = argparse.ArgumentParser(description='Image Captioning')\n",
    "# parser.add_argument('--path', type=str, help='path to image', required=True)\n",
    "# parser.add_argument('--v', type=str, help='version', default='v3')\n",
    "# args = parser.parse_args()\n",
    "image_path = 'catr/.github/airplane.png'\n",
    "image_path2 = 'catr/.github/cake.png'\n",
    "version = 'v3'\n",
    "\n",
    "config = Config()\n",
    "device = torch.device(config.device)\n",
    "\n",
    "model, criterion = caption.build_model(config)\n",
    "model.to(device)\n",
    "\n",
    "print(\"Loading Checkpoint...\")\n",
    "checkpoint = torch.load('catr/checkpoint_v3.pth', map_location='cpu')\n",
    "model.load_state_dict(checkpoint['model'])\n",
    "# optimizer.load_state_dict(checkpoint['optimizer'])\n",
    "# lr_scheduler.load_state_dict(checkpoint['lr_scheduler'])\n",
    "# config.start_epoch = checkpoint['epoch'] + 1\n",
    "\n",
    "tokenizer = BertTokenizer.from_pretrained('bert-base-uncased')\n",
    "\n",
    "start_token = tokenizer.convert_tokens_to_ids(tokenizer._cls_token)\n",
    "end_token = tokenizer.convert_tokens_to_ids(tokenizer._sep_token)"
   ]
  },
  {
   "cell_type": "code",
   "execution_count": 3,
   "metadata": {
    "collapsed": true,
    "jupyter": {
     "outputs_hidden": true,
     "source_hidden": true
    }
   },
   "outputs": [
    {
     "name": "stderr",
     "output_type": "stream",
     "text": [
      "Using cache found in catr/.cache/hub/saahiluppal_catr_master\n",
      "Downloading: \"https://github.com/saahiluppal/catr/releases/download/0.2/weight493084032.pth\" to catr/.cache/hub/checkpoints/weight493084032.pth\n"
     ]
    },
    {
     "data": {
      "application/vnd.jupyter.widget-view+json": {
       "model_id": "9fbd2a1fb40e4519b9d51d4496c83e4e",
       "version_major": 2,
       "version_minor": 0
      },
      "text/plain": [
       "HBox(children=(HTML(value=''), FloatProgress(value=0.0, max=337711781.0), HTML(value='')))"
      ]
     },
     "metadata": {},
     "output_type": "display_data"
    },
    {
     "name": "stdout",
     "output_type": "stream",
     "text": [
      "\n"
     ]
    }
   ],
   "source": [
    "# # set torch hub path for model cache\n",
    "# torch.hub.set_dir('catr/.cache/hub')\n",
    "# if version == 'v1':\n",
    "#     modelr = torch.hub.load('saahiluppal/catr', 'v1', pretrained=True)\n",
    "# elif version == 'v2':\n",
    "#     modelr = torch.hub.load('saahiluppal/catr', 'v2', pretrained=True)\n",
    "# elif version == 'v3':\n",
    "#     modelr = torch.hub.load('saahiluppal/catr', 'v3', pretrained=True)\n",
    "# else:\n",
    "#     raise NotImplementedError('Version not implemented')"
   ]
  },
  {
   "cell_type": "code",
   "execution_count": 3,
   "metadata": {},
   "outputs": [],
   "source": [
    "def create_caption_and_mask(start_token, max_length):\n",
    "    caption_template = torch.zeros((1, max_length), dtype=torch.long)\n",
    "    mask_template = torch.ones((1, max_length), dtype=torch.bool)\n",
    "\n",
    "    caption_template[:, 0] = start_token\n",
    "    mask_template[:, 0] = False\n",
    "\n",
    "    return caption_template, mask_template"
   ]
  },
  {
   "cell_type": "code",
   "execution_count": 4,
   "metadata": {},
   "outputs": [],
   "source": [
    "# previous version for single image\n",
    "@torch.no_grad()\n",
    "def predict1(f):\n",
    "    model.eval()\n",
    "    image_path = os.path.join(dataPath, split, f['file_name'])\n",
    "    image = Image.open(image_path)\n",
    "    image = coco.val_transform(image)\n",
    "    image = image.unsqueeze(0)\n",
    "    image = image.to(device)\n",
    "    caption, cap_mask = create_caption_and_mask(\n",
    "        start_token, config.max_position_embeddings)\n",
    "    caption = caption.to(device)\n",
    "    cap_mask = cap_mask.to(device)\n",
    "    for i in range(config.max_position_embeddings - 1):\n",
    "        predictions = model(image, caption, cap_mask)\n",
    "        predictions = predictions[:, i, :]\n",
    "        predicted_id = torch.argmax(predictions, axis=-1)\n",
    "\n",
    "        if predicted_id[0] == 102:\n",
    "            return caption\n",
    "\n",
    "        caption[:, i+1] = predicted_id[0]\n",
    "        cap_mask[:, i+1] = False\n",
    "\n",
    "    return caption"
   ]
  },
  {
   "cell_type": "code",
   "execution_count": 5,
   "metadata": {},
   "outputs": [],
   "source": [
    "# modified predict() for predicting all the captions on val_set\n",
    "@torch.no_grad()\n",
    "def predict(imgs):\n",
    "    model.eval()\n",
    "    outputs = []\n",
    "    for f in tqdm.tqdm(imgs):\n",
    "        image_path = os.path.join(dataPath, split, f['file_name'])\n",
    "#         print(image_path)\n",
    "        image = Image.open(image_path)\n",
    "        image = coco.val_transform(image)\n",
    "        image = image.unsqueeze(0)\n",
    "        image = image.to(device)\n",
    "#         print(image.shape)\n",
    "        caption, cap_mask = create_caption_and_mask(\n",
    "            start_token, config.max_position_embeddings)\n",
    "        caption = caption.to(device)\n",
    "        cap_mask = cap_mask.to(device)\n",
    "        for i in range(config.max_position_embeddings - 1):\n",
    "            predictions = model(image, caption, cap_mask)\n",
    "    #         print(predictions.shape)\n",
    "            predictions = predictions[:, i, :]\n",
    "            predicted_id = torch.argmax(predictions, axis=-1)\n",
    "\n",
    "            if predicted_id[0] == 102:\n",
    "#                 return caption\n",
    "                break\n",
    "\n",
    "            caption[:, i+1] = predicted_id[0]\n",
    "            cap_mask[:, i+1] = False\n",
    "#         print(caption)\n",
    "        outputs.append({'image_id': f['id'], 'caption': caption[0].cpu().detach().numpy()})\n",
    "\n",
    "    return outputs"
   ]
  },
  {
   "cell_type": "code",
   "execution_count": 6,
   "metadata": {},
   "outputs": [
    {
     "name": "stdout",
     "output_type": "stream",
     "text": [
      "loading annotations into memory...\n",
      "Done (t=0.14s)\n",
      "creating index...\n",
      "index created!\n"
     ]
    }
   ],
   "source": [
    "dataPath = '/media/MyDataStor2/zhanghex/coco2017'\n",
    "dataType = 'captions'\n",
    "split = 'val2017'\n",
    "annFile = os.path.join(dataPath, 'annotations', '%s_%s.json' % (dataType, split))\n",
    "cc = CC(annFile)"
   ]
  },
  {
   "cell_type": "code",
   "execution_count": 7,
   "metadata": {},
   "outputs": [
    {
     "name": "stdout",
     "output_type": "stream",
     "text": [
      "Total number of images: 5000\n",
      "Image example: {'license': 4, 'file_name': '000000397133.jpg', 'coco_url': 'http://images.cocodataset.org/val2017/000000397133.jpg', 'height': 427, 'width': 640, 'date_captured': '2013-11-14 17:02:52', 'flickr_url': 'http://farm7.staticflickr.com/6116/6255196340_da26cf2c9e_z.jpg', 'id': 397133}\n",
      "\n",
      "Total number of annotations: 25014\n",
      "Annotation example: {'image_id': 179765, 'id': 38, 'caption': 'A black Honda motorcycle parked in front of a garage.'}\n"
     ]
    }
   ],
   "source": [
    "img = cc.dataset['images']\n",
    "print('Total number of images: %d' % len(img))\n",
    "print('Image example: ' + str(img[0]) + '\\n')\n",
    "\n",
    "ann = cc.dataset['annotations']\n",
    "print('Total number of annotations: %d' % len(ann))\n",
    "print('Annotation example: ' + str(ann[0]))"
   ]
  },
  {
   "cell_type": "code",
   "execution_count": 8,
   "metadata": {},
   "outputs": [
    {
     "name": "stderr",
     "output_type": "stream",
     "text": [
      "100%|██████████| 2/2 [00:02<00:00,  1.39s/it]"
     ]
    },
    {
     "name": "stdout",
     "output_type": "stream",
     "text": [
      "[{'image_id': 397133, 'caption': 'A group of people standing around a kitchen preparing food.'}, {'image_id': 37777, 'caption': 'A kitchen with a stove a sink and a refrigerator'}]\n"
     ]
    },
    {
     "name": "stderr",
     "output_type": "stream",
     "text": [
      "\n"
     ]
    }
   ],
   "source": [
    "# predict all the captions for validation set\n",
    "res = predict(img[:2])\n",
    "\n",
    "for i, it in enumerate(res):\n",
    "    cap = tokenizer.decode(it['caption'].tolist(), skip_special_tokens=True)\n",
    "    res[i]['caption'] = cap.capitalize()\n",
    "\n",
    "print(res)"
   ]
  },
  {
   "cell_type": "code",
   "execution_count": 19,
   "metadata": {
    "collapsed": true,
    "jupyter": {
     "outputs_hidden": true
    }
   },
   "outputs": [
    {
     "name": "stderr",
     "output_type": "stream",
     "text": [
      " 21%|██        | 1039/5000 [09:08<34:52,  1.89it/s]\n"
     ]
    },
    {
     "ename": "KeyboardInterrupt",
     "evalue": "",
     "output_type": "error",
     "traceback": [
      "\u001b[0;31m---------------------------------------------------------------------------\u001b[0m",
      "\u001b[0;31mKeyboardInterrupt\u001b[0m                         Traceback (most recent call last)",
      "\u001b[0;32m<ipython-input-19-f543d18b5e05>\u001b[0m in \u001b[0;36m<module>\u001b[0;34m\u001b[0m\n\u001b[1;32m      1\u001b[0m \u001b[0mresCaps\u001b[0m \u001b[0;34m=\u001b[0m \u001b[0;34m[\u001b[0m\u001b[0;34m]\u001b[0m\u001b[0;34m\u001b[0m\u001b[0;34m\u001b[0m\u001b[0m\n\u001b[1;32m      2\u001b[0m \u001b[0;32mfor\u001b[0m \u001b[0mf\u001b[0m \u001b[0;32min\u001b[0m \u001b[0mtqdm\u001b[0m\u001b[0;34m.\u001b[0m\u001b[0mtqdm\u001b[0m\u001b[0;34m(\u001b[0m\u001b[0mimg\u001b[0m\u001b[0;34m)\u001b[0m\u001b[0;34m:\u001b[0m\u001b[0;34m\u001b[0m\u001b[0;34m\u001b[0m\u001b[0m\n\u001b[0;32m----> 3\u001b[0;31m     \u001b[0moutput\u001b[0m \u001b[0;34m=\u001b[0m \u001b[0mpredict1\u001b[0m\u001b[0;34m(\u001b[0m\u001b[0mf\u001b[0m\u001b[0;34m)\u001b[0m\u001b[0;34m\u001b[0m\u001b[0;34m\u001b[0m\u001b[0m\n\u001b[0m\u001b[1;32m      4\u001b[0m     \u001b[0mresult\u001b[0m \u001b[0;34m=\u001b[0m \u001b[0mtokenizer\u001b[0m\u001b[0;34m.\u001b[0m\u001b[0mdecode\u001b[0m\u001b[0;34m(\u001b[0m\u001b[0moutput\u001b[0m\u001b[0;34m[\u001b[0m\u001b[0;36m0\u001b[0m\u001b[0;34m]\u001b[0m\u001b[0;34m.\u001b[0m\u001b[0mtolist\u001b[0m\u001b[0;34m(\u001b[0m\u001b[0;34m)\u001b[0m\u001b[0;34m,\u001b[0m \u001b[0mskip_special_tokens\u001b[0m\u001b[0;34m=\u001b[0m\u001b[0;32mTrue\u001b[0m\u001b[0;34m)\u001b[0m\u001b[0;34m\u001b[0m\u001b[0;34m\u001b[0m\u001b[0m\n\u001b[1;32m      5\u001b[0m \u001b[0;31m#     print(result.capitalize())\u001b[0m\u001b[0;34m\u001b[0m\u001b[0;34m\u001b[0m\u001b[0;34m\u001b[0m\u001b[0m\n",
      "\u001b[0;32m/media/MyDataStor2/zhanghex/anaconda3/lib/python3.7/site-packages/torch/autograd/grad_mode.py\u001b[0m in \u001b[0;36mdecorate_context\u001b[0;34m(*args, **kwargs)\u001b[0m\n\u001b[1;32m     13\u001b[0m         \u001b[0;32mdef\u001b[0m \u001b[0mdecorate_context\u001b[0m\u001b[0;34m(\u001b[0m\u001b[0;34m*\u001b[0m\u001b[0margs\u001b[0m\u001b[0;34m,\u001b[0m \u001b[0;34m**\u001b[0m\u001b[0mkwargs\u001b[0m\u001b[0;34m)\u001b[0m\u001b[0;34m:\u001b[0m\u001b[0;34m\u001b[0m\u001b[0;34m\u001b[0m\u001b[0m\n\u001b[1;32m     14\u001b[0m             \u001b[0;32mwith\u001b[0m \u001b[0mself\u001b[0m\u001b[0;34m:\u001b[0m\u001b[0;34m\u001b[0m\u001b[0;34m\u001b[0m\u001b[0m\n\u001b[0;32m---> 15\u001b[0;31m                 \u001b[0;32mreturn\u001b[0m \u001b[0mfunc\u001b[0m\u001b[0;34m(\u001b[0m\u001b[0;34m*\u001b[0m\u001b[0margs\u001b[0m\u001b[0;34m,\u001b[0m \u001b[0;34m**\u001b[0m\u001b[0mkwargs\u001b[0m\u001b[0;34m)\u001b[0m\u001b[0;34m\u001b[0m\u001b[0;34m\u001b[0m\u001b[0m\n\u001b[0m\u001b[1;32m     16\u001b[0m         \u001b[0;32mreturn\u001b[0m \u001b[0mdecorate_context\u001b[0m\u001b[0;34m\u001b[0m\u001b[0;34m\u001b[0m\u001b[0m\n\u001b[1;32m     17\u001b[0m \u001b[0;34m\u001b[0m\u001b[0m\n",
      "\u001b[0;32m<ipython-input-10-b180942cdae3>\u001b[0m in \u001b[0;36mpredict1\u001b[0;34m(f)\u001b[0m\n\u001b[1;32m     12\u001b[0m     \u001b[0mcap_mask\u001b[0m \u001b[0;34m=\u001b[0m \u001b[0mcap_mask\u001b[0m\u001b[0;34m.\u001b[0m\u001b[0mto\u001b[0m\u001b[0;34m(\u001b[0m\u001b[0mdevice\u001b[0m\u001b[0;34m)\u001b[0m\u001b[0;34m\u001b[0m\u001b[0;34m\u001b[0m\u001b[0m\n\u001b[1;32m     13\u001b[0m     \u001b[0;32mfor\u001b[0m \u001b[0mi\u001b[0m \u001b[0;32min\u001b[0m \u001b[0mrange\u001b[0m\u001b[0;34m(\u001b[0m\u001b[0mconfig\u001b[0m\u001b[0;34m.\u001b[0m\u001b[0mmax_position_embeddings\u001b[0m \u001b[0;34m-\u001b[0m \u001b[0;36m1\u001b[0m\u001b[0;34m)\u001b[0m\u001b[0;34m:\u001b[0m\u001b[0;34m\u001b[0m\u001b[0;34m\u001b[0m\u001b[0m\n\u001b[0;32m---> 14\u001b[0;31m         \u001b[0mpredictions\u001b[0m \u001b[0;34m=\u001b[0m \u001b[0mmodel\u001b[0m\u001b[0;34m(\u001b[0m\u001b[0mimage\u001b[0m\u001b[0;34m,\u001b[0m \u001b[0mcaption\u001b[0m\u001b[0;34m,\u001b[0m \u001b[0mcap_mask\u001b[0m\u001b[0;34m)\u001b[0m\u001b[0;34m\u001b[0m\u001b[0;34m\u001b[0m\u001b[0m\n\u001b[0m\u001b[1;32m     15\u001b[0m         \u001b[0mpredictions\u001b[0m \u001b[0;34m=\u001b[0m \u001b[0mpredictions\u001b[0m\u001b[0;34m[\u001b[0m\u001b[0;34m:\u001b[0m\u001b[0;34m,\u001b[0m \u001b[0mi\u001b[0m\u001b[0;34m,\u001b[0m \u001b[0;34m:\u001b[0m\u001b[0;34m]\u001b[0m\u001b[0;34m\u001b[0m\u001b[0;34m\u001b[0m\u001b[0m\n\u001b[1;32m     16\u001b[0m         \u001b[0mpredicted_id\u001b[0m \u001b[0;34m=\u001b[0m \u001b[0mtorch\u001b[0m\u001b[0;34m.\u001b[0m\u001b[0margmax\u001b[0m\u001b[0;34m(\u001b[0m\u001b[0mpredictions\u001b[0m\u001b[0;34m,\u001b[0m \u001b[0maxis\u001b[0m\u001b[0;34m=\u001b[0m\u001b[0;34m-\u001b[0m\u001b[0;36m1\u001b[0m\u001b[0;34m)\u001b[0m\u001b[0;34m\u001b[0m\u001b[0;34m\u001b[0m\u001b[0m\n",
      "\u001b[0;32m/media/MyDataStor2/zhanghex/anaconda3/lib/python3.7/site-packages/torch/nn/modules/module.py\u001b[0m in \u001b[0;36m_call_impl\u001b[0;34m(self, *input, **kwargs)\u001b[0m\n\u001b[1;32m    720\u001b[0m             \u001b[0mresult\u001b[0m \u001b[0;34m=\u001b[0m \u001b[0mself\u001b[0m\u001b[0;34m.\u001b[0m\u001b[0m_slow_forward\u001b[0m\u001b[0;34m(\u001b[0m\u001b[0;34m*\u001b[0m\u001b[0minput\u001b[0m\u001b[0;34m,\u001b[0m \u001b[0;34m**\u001b[0m\u001b[0mkwargs\u001b[0m\u001b[0;34m)\u001b[0m\u001b[0;34m\u001b[0m\u001b[0;34m\u001b[0m\u001b[0m\n\u001b[1;32m    721\u001b[0m         \u001b[0;32melse\u001b[0m\u001b[0;34m:\u001b[0m\u001b[0;34m\u001b[0m\u001b[0;34m\u001b[0m\u001b[0m\n\u001b[0;32m--> 722\u001b[0;31m             \u001b[0mresult\u001b[0m \u001b[0;34m=\u001b[0m \u001b[0mself\u001b[0m\u001b[0;34m.\u001b[0m\u001b[0mforward\u001b[0m\u001b[0;34m(\u001b[0m\u001b[0;34m*\u001b[0m\u001b[0minput\u001b[0m\u001b[0;34m,\u001b[0m \u001b[0;34m**\u001b[0m\u001b[0mkwargs\u001b[0m\u001b[0;34m)\u001b[0m\u001b[0;34m\u001b[0m\u001b[0;34m\u001b[0m\u001b[0m\n\u001b[0m\u001b[1;32m    723\u001b[0m         for hook in itertools.chain(\n\u001b[1;32m    724\u001b[0m                 \u001b[0m_global_forward_hooks\u001b[0m\u001b[0;34m.\u001b[0m\u001b[0mvalues\u001b[0m\u001b[0;34m(\u001b[0m\u001b[0;34m)\u001b[0m\u001b[0;34m,\u001b[0m\u001b[0;34m\u001b[0m\u001b[0;34m\u001b[0m\u001b[0m\n",
      "\u001b[0;32m/media/MyDataStor2/zhanghex/torch-master/catr/models/caption.py\u001b[0m in \u001b[0;36mforward\u001b[0;34m(self, samples, target, target_mask)\u001b[0m\n\u001b[1;32m     27\u001b[0m \u001b[0;34m\u001b[0m\u001b[0m\n\u001b[1;32m     28\u001b[0m         hs = self.transformer(self.input_proj(src), mask,\n\u001b[0;32m---> 29\u001b[0;31m                               pos[-1], target, target_mask)\n\u001b[0m\u001b[1;32m     30\u001b[0m         \u001b[0mout\u001b[0m \u001b[0;34m=\u001b[0m \u001b[0mself\u001b[0m\u001b[0;34m.\u001b[0m\u001b[0mmlp\u001b[0m\u001b[0;34m(\u001b[0m\u001b[0mhs\u001b[0m\u001b[0;34m.\u001b[0m\u001b[0mpermute\u001b[0m\u001b[0;34m(\u001b[0m\u001b[0;36m1\u001b[0m\u001b[0;34m,\u001b[0m \u001b[0;36m0\u001b[0m\u001b[0;34m,\u001b[0m \u001b[0;36m2\u001b[0m\u001b[0;34m)\u001b[0m\u001b[0;34m)\u001b[0m\u001b[0;34m\u001b[0m\u001b[0;34m\u001b[0m\u001b[0m\n\u001b[1;32m     31\u001b[0m         \u001b[0;32mreturn\u001b[0m \u001b[0mout\u001b[0m\u001b[0;34m\u001b[0m\u001b[0;34m\u001b[0m\u001b[0m\n",
      "\u001b[0;32m/media/MyDataStor2/zhanghex/anaconda3/lib/python3.7/site-packages/torch/nn/modules/module.py\u001b[0m in \u001b[0;36m_call_impl\u001b[0;34m(self, *input, **kwargs)\u001b[0m\n\u001b[1;32m    720\u001b[0m             \u001b[0mresult\u001b[0m \u001b[0;34m=\u001b[0m \u001b[0mself\u001b[0m\u001b[0;34m.\u001b[0m\u001b[0m_slow_forward\u001b[0m\u001b[0;34m(\u001b[0m\u001b[0;34m*\u001b[0m\u001b[0minput\u001b[0m\u001b[0;34m,\u001b[0m \u001b[0;34m**\u001b[0m\u001b[0mkwargs\u001b[0m\u001b[0;34m)\u001b[0m\u001b[0;34m\u001b[0m\u001b[0;34m\u001b[0m\u001b[0m\n\u001b[1;32m    721\u001b[0m         \u001b[0;32melse\u001b[0m\u001b[0;34m:\u001b[0m\u001b[0;34m\u001b[0m\u001b[0;34m\u001b[0m\u001b[0m\n\u001b[0;32m--> 722\u001b[0;31m             \u001b[0mresult\u001b[0m \u001b[0;34m=\u001b[0m \u001b[0mself\u001b[0m\u001b[0;34m.\u001b[0m\u001b[0mforward\u001b[0m\u001b[0;34m(\u001b[0m\u001b[0;34m*\u001b[0m\u001b[0minput\u001b[0m\u001b[0;34m,\u001b[0m \u001b[0;34m**\u001b[0m\u001b[0mkwargs\u001b[0m\u001b[0;34m)\u001b[0m\u001b[0;34m\u001b[0m\u001b[0;34m\u001b[0m\u001b[0m\n\u001b[0m\u001b[1;32m    723\u001b[0m         for hook in itertools.chain(\n\u001b[1;32m    724\u001b[0m                 \u001b[0m_global_forward_hooks\u001b[0m\u001b[0;34m.\u001b[0m\u001b[0mvalues\u001b[0m\u001b[0;34m(\u001b[0m\u001b[0;34m)\u001b[0m\u001b[0;34m,\u001b[0m\u001b[0;34m\u001b[0m\u001b[0;34m\u001b[0m\u001b[0m\n",
      "\u001b[0;32m/media/MyDataStor2/zhanghex/torch-master/catr/models/transformer.py\u001b[0m in \u001b[0;36mforward\u001b[0;34m(self, src, mask, pos_embed, tgt, tgt_mask)\u001b[0m\n\u001b[1;32m     53\u001b[0m         hs = self.decoder(tgt, memory, memory_key_padding_mask=mask, tgt_key_padding_mask=tgt_mask,\n\u001b[1;32m     54\u001b[0m                           \u001b[0mpos\u001b[0m\u001b[0;34m=\u001b[0m\u001b[0mpos_embed\u001b[0m\u001b[0;34m,\u001b[0m \u001b[0mquery_pos\u001b[0m\u001b[0;34m=\u001b[0m\u001b[0mquery_embed\u001b[0m\u001b[0;34m,\u001b[0m\u001b[0;34m\u001b[0m\u001b[0;34m\u001b[0m\u001b[0m\n\u001b[0;32m---> 55\u001b[0;31m                           tgt_mask=generate_square_subsequent_mask(len(tgt)).to(tgt.device))\n\u001b[0m\u001b[1;32m     56\u001b[0m \u001b[0;34m\u001b[0m\u001b[0m\n\u001b[1;32m     57\u001b[0m         \u001b[0;32mreturn\u001b[0m \u001b[0mhs\u001b[0m\u001b[0;34m\u001b[0m\u001b[0;34m\u001b[0m\u001b[0m\n",
      "\u001b[0;32m/media/MyDataStor2/zhanghex/anaconda3/lib/python3.7/site-packages/torch/nn/modules/module.py\u001b[0m in \u001b[0;36m_call_impl\u001b[0;34m(self, *input, **kwargs)\u001b[0m\n\u001b[1;32m    720\u001b[0m             \u001b[0mresult\u001b[0m \u001b[0;34m=\u001b[0m \u001b[0mself\u001b[0m\u001b[0;34m.\u001b[0m\u001b[0m_slow_forward\u001b[0m\u001b[0;34m(\u001b[0m\u001b[0;34m*\u001b[0m\u001b[0minput\u001b[0m\u001b[0;34m,\u001b[0m \u001b[0;34m**\u001b[0m\u001b[0mkwargs\u001b[0m\u001b[0;34m)\u001b[0m\u001b[0;34m\u001b[0m\u001b[0;34m\u001b[0m\u001b[0m\n\u001b[1;32m    721\u001b[0m         \u001b[0;32melse\u001b[0m\u001b[0;34m:\u001b[0m\u001b[0;34m\u001b[0m\u001b[0;34m\u001b[0m\u001b[0m\n\u001b[0;32m--> 722\u001b[0;31m             \u001b[0mresult\u001b[0m \u001b[0;34m=\u001b[0m \u001b[0mself\u001b[0m\u001b[0;34m.\u001b[0m\u001b[0mforward\u001b[0m\u001b[0;34m(\u001b[0m\u001b[0;34m*\u001b[0m\u001b[0minput\u001b[0m\u001b[0;34m,\u001b[0m \u001b[0;34m**\u001b[0m\u001b[0mkwargs\u001b[0m\u001b[0;34m)\u001b[0m\u001b[0;34m\u001b[0m\u001b[0;34m\u001b[0m\u001b[0m\n\u001b[0m\u001b[1;32m    723\u001b[0m         for hook in itertools.chain(\n\u001b[1;32m    724\u001b[0m                 \u001b[0m_global_forward_hooks\u001b[0m\u001b[0;34m.\u001b[0m\u001b[0mvalues\u001b[0m\u001b[0;34m(\u001b[0m\u001b[0;34m)\u001b[0m\u001b[0;34m,\u001b[0m\u001b[0;34m\u001b[0m\u001b[0;34m\u001b[0m\u001b[0m\n",
      "\u001b[0;32m/media/MyDataStor2/zhanghex/torch-master/catr/models/transformer.py\u001b[0m in \u001b[0;36mforward\u001b[0;34m(self, tgt, memory, tgt_mask, memory_mask, tgt_key_padding_mask, memory_key_padding_mask, pos, query_pos)\u001b[0m\n\u001b[1;32m    107\u001b[0m                            \u001b[0mtgt_key_padding_mask\u001b[0m\u001b[0;34m=\u001b[0m\u001b[0mtgt_key_padding_mask\u001b[0m\u001b[0;34m,\u001b[0m\u001b[0;34m\u001b[0m\u001b[0;34m\u001b[0m\u001b[0m\n\u001b[1;32m    108\u001b[0m                            \u001b[0mmemory_key_padding_mask\u001b[0m\u001b[0;34m=\u001b[0m\u001b[0mmemory_key_padding_mask\u001b[0m\u001b[0;34m,\u001b[0m\u001b[0;34m\u001b[0m\u001b[0;34m\u001b[0m\u001b[0m\n\u001b[0;32m--> 109\u001b[0;31m                            pos=pos, query_pos=query_pos)\n\u001b[0m\u001b[1;32m    110\u001b[0m             \u001b[0;32mif\u001b[0m \u001b[0mself\u001b[0m\u001b[0;34m.\u001b[0m\u001b[0mreturn_intermediate\u001b[0m\u001b[0;34m:\u001b[0m\u001b[0;34m\u001b[0m\u001b[0;34m\u001b[0m\u001b[0m\n\u001b[1;32m    111\u001b[0m                 \u001b[0mintermediate\u001b[0m\u001b[0;34m.\u001b[0m\u001b[0mappend\u001b[0m\u001b[0;34m(\u001b[0m\u001b[0mself\u001b[0m\u001b[0;34m.\u001b[0m\u001b[0mnorm\u001b[0m\u001b[0;34m(\u001b[0m\u001b[0moutput\u001b[0m\u001b[0;34m)\u001b[0m\u001b[0;34m)\u001b[0m\u001b[0;34m\u001b[0m\u001b[0;34m\u001b[0m\u001b[0m\n",
      "\u001b[0;32m/media/MyDataStor2/zhanghex/anaconda3/lib/python3.7/site-packages/torch/nn/modules/module.py\u001b[0m in \u001b[0;36m_call_impl\u001b[0;34m(self, *input, **kwargs)\u001b[0m\n\u001b[1;32m    720\u001b[0m             \u001b[0mresult\u001b[0m \u001b[0;34m=\u001b[0m \u001b[0mself\u001b[0m\u001b[0;34m.\u001b[0m\u001b[0m_slow_forward\u001b[0m\u001b[0;34m(\u001b[0m\u001b[0;34m*\u001b[0m\u001b[0minput\u001b[0m\u001b[0;34m,\u001b[0m \u001b[0;34m**\u001b[0m\u001b[0mkwargs\u001b[0m\u001b[0;34m)\u001b[0m\u001b[0;34m\u001b[0m\u001b[0;34m\u001b[0m\u001b[0m\n\u001b[1;32m    721\u001b[0m         \u001b[0;32melse\u001b[0m\u001b[0;34m:\u001b[0m\u001b[0;34m\u001b[0m\u001b[0;34m\u001b[0m\u001b[0m\n\u001b[0;32m--> 722\u001b[0;31m             \u001b[0mresult\u001b[0m \u001b[0;34m=\u001b[0m \u001b[0mself\u001b[0m\u001b[0;34m.\u001b[0m\u001b[0mforward\u001b[0m\u001b[0;34m(\u001b[0m\u001b[0;34m*\u001b[0m\u001b[0minput\u001b[0m\u001b[0;34m,\u001b[0m \u001b[0;34m**\u001b[0m\u001b[0mkwargs\u001b[0m\u001b[0;34m)\u001b[0m\u001b[0;34m\u001b[0m\u001b[0;34m\u001b[0m\u001b[0m\n\u001b[0m\u001b[1;32m    723\u001b[0m         for hook in itertools.chain(\n\u001b[1;32m    724\u001b[0m                 \u001b[0m_global_forward_hooks\u001b[0m\u001b[0;34m.\u001b[0m\u001b[0mvalues\u001b[0m\u001b[0;34m(\u001b[0m\u001b[0;34m)\u001b[0m\u001b[0;34m,\u001b[0m\u001b[0;34m\u001b[0m\u001b[0;34m\u001b[0m\u001b[0m\n",
      "\u001b[0;32m/media/MyDataStor2/zhanghex/torch-master/catr/models/transformer.py\u001b[0m in \u001b[0;36mforward\u001b[0;34m(self, tgt, memory, tgt_mask, memory_mask, tgt_key_padding_mask, memory_key_padding_mask, pos, query_pos)\u001b[0m\n\u001b[1;32m    264\u001b[0m         \u001b[0;32mif\u001b[0m \u001b[0mself\u001b[0m\u001b[0;34m.\u001b[0m\u001b[0mnormalize_before\u001b[0m\u001b[0;34m:\u001b[0m\u001b[0;34m\u001b[0m\u001b[0;34m\u001b[0m\u001b[0m\n\u001b[1;32m    265\u001b[0m             return self.forward_pre(tgt, memory, tgt_mask, memory_mask,\n\u001b[0;32m--> 266\u001b[0;31m                                     tgt_key_padding_mask, memory_key_padding_mask, pos, query_pos)\n\u001b[0m\u001b[1;32m    267\u001b[0m         return self.forward_post(tgt, memory, tgt_mask, memory_mask,\n\u001b[1;32m    268\u001b[0m                                  tgt_key_padding_mask, memory_key_padding_mask, pos, query_pos)\n",
      "\u001b[0;32m/media/MyDataStor2/zhanghex/torch-master/catr/models/transformer.py\u001b[0m in \u001b[0;36mforward_pre\u001b[0;34m(self, tgt, memory, tgt_mask, memory_mask, tgt_key_padding_mask, memory_key_padding_mask, pos, query_pos)\u001b[0m\n\u001b[1;32m    242\u001b[0m         \u001b[0mq\u001b[0m \u001b[0;34m=\u001b[0m \u001b[0mk\u001b[0m \u001b[0;34m=\u001b[0m \u001b[0mself\u001b[0m\u001b[0;34m.\u001b[0m\u001b[0mwith_pos_embed\u001b[0m\u001b[0;34m(\u001b[0m\u001b[0mtgt2\u001b[0m\u001b[0;34m,\u001b[0m \u001b[0mquery_pos\u001b[0m\u001b[0;34m)\u001b[0m\u001b[0;34m\u001b[0m\u001b[0;34m\u001b[0m\u001b[0m\n\u001b[1;32m    243\u001b[0m         tgt2 = self.self_attn(q, k, value=tgt2, attn_mask=tgt_mask,\n\u001b[0;32m--> 244\u001b[0;31m                               key_padding_mask=tgt_key_padding_mask)[0]\n\u001b[0m\u001b[1;32m    245\u001b[0m         \u001b[0mtgt\u001b[0m \u001b[0;34m=\u001b[0m \u001b[0mtgt\u001b[0m \u001b[0;34m+\u001b[0m \u001b[0mself\u001b[0m\u001b[0;34m.\u001b[0m\u001b[0mdropout1\u001b[0m\u001b[0;34m(\u001b[0m\u001b[0mtgt2\u001b[0m\u001b[0;34m)\u001b[0m\u001b[0;34m\u001b[0m\u001b[0;34m\u001b[0m\u001b[0m\n\u001b[1;32m    246\u001b[0m         \u001b[0mtgt2\u001b[0m \u001b[0;34m=\u001b[0m \u001b[0mself\u001b[0m\u001b[0;34m.\u001b[0m\u001b[0mnorm2\u001b[0m\u001b[0;34m(\u001b[0m\u001b[0mtgt\u001b[0m\u001b[0;34m)\u001b[0m\u001b[0;34m\u001b[0m\u001b[0;34m\u001b[0m\u001b[0m\n",
      "\u001b[0;32m/media/MyDataStor2/zhanghex/anaconda3/lib/python3.7/site-packages/torch/nn/modules/module.py\u001b[0m in \u001b[0;36m_call_impl\u001b[0;34m(self, *input, **kwargs)\u001b[0m\n\u001b[1;32m    720\u001b[0m             \u001b[0mresult\u001b[0m \u001b[0;34m=\u001b[0m \u001b[0mself\u001b[0m\u001b[0;34m.\u001b[0m\u001b[0m_slow_forward\u001b[0m\u001b[0;34m(\u001b[0m\u001b[0;34m*\u001b[0m\u001b[0minput\u001b[0m\u001b[0;34m,\u001b[0m \u001b[0;34m**\u001b[0m\u001b[0mkwargs\u001b[0m\u001b[0;34m)\u001b[0m\u001b[0;34m\u001b[0m\u001b[0;34m\u001b[0m\u001b[0m\n\u001b[1;32m    721\u001b[0m         \u001b[0;32melse\u001b[0m\u001b[0;34m:\u001b[0m\u001b[0;34m\u001b[0m\u001b[0;34m\u001b[0m\u001b[0m\n\u001b[0;32m--> 722\u001b[0;31m             \u001b[0mresult\u001b[0m \u001b[0;34m=\u001b[0m \u001b[0mself\u001b[0m\u001b[0;34m.\u001b[0m\u001b[0mforward\u001b[0m\u001b[0;34m(\u001b[0m\u001b[0;34m*\u001b[0m\u001b[0minput\u001b[0m\u001b[0;34m,\u001b[0m \u001b[0;34m**\u001b[0m\u001b[0mkwargs\u001b[0m\u001b[0;34m)\u001b[0m\u001b[0;34m\u001b[0m\u001b[0;34m\u001b[0m\u001b[0m\n\u001b[0m\u001b[1;32m    723\u001b[0m         for hook in itertools.chain(\n\u001b[1;32m    724\u001b[0m                 \u001b[0m_global_forward_hooks\u001b[0m\u001b[0;34m.\u001b[0m\u001b[0mvalues\u001b[0m\u001b[0;34m(\u001b[0m\u001b[0;34m)\u001b[0m\u001b[0;34m,\u001b[0m\u001b[0;34m\u001b[0m\u001b[0;34m\u001b[0m\u001b[0m\n",
      "\u001b[0;32m/media/MyDataStor2/zhanghex/anaconda3/lib/python3.7/site-packages/torch/nn/modules/activation.py\u001b[0m in \u001b[0;36mforward\u001b[0;34m(self, query, key, value, key_padding_mask, need_weights, attn_mask)\u001b[0m\n\u001b[1;32m    925\u001b[0m                 \u001b[0mtraining\u001b[0m\u001b[0;34m=\u001b[0m\u001b[0mself\u001b[0m\u001b[0;34m.\u001b[0m\u001b[0mtraining\u001b[0m\u001b[0;34m,\u001b[0m\u001b[0;34m\u001b[0m\u001b[0;34m\u001b[0m\u001b[0m\n\u001b[1;32m    926\u001b[0m                 \u001b[0mkey_padding_mask\u001b[0m\u001b[0;34m=\u001b[0m\u001b[0mkey_padding_mask\u001b[0m\u001b[0;34m,\u001b[0m \u001b[0mneed_weights\u001b[0m\u001b[0;34m=\u001b[0m\u001b[0mneed_weights\u001b[0m\u001b[0;34m,\u001b[0m\u001b[0;34m\u001b[0m\u001b[0;34m\u001b[0m\u001b[0m\n\u001b[0;32m--> 927\u001b[0;31m                 attn_mask=attn_mask)\n\u001b[0m\u001b[1;32m    928\u001b[0m \u001b[0;34m\u001b[0m\u001b[0m\n\u001b[1;32m    929\u001b[0m \u001b[0;34m\u001b[0m\u001b[0m\n",
      "\u001b[0;32m/media/MyDataStor2/zhanghex/anaconda3/lib/python3.7/site-packages/torch/nn/functional.py\u001b[0m in \u001b[0;36mmulti_head_attention_forward\u001b[0;34m(query, key, value, embed_dim_to_check, num_heads, in_proj_weight, in_proj_bias, bias_k, bias_v, add_zero_attn, dropout_p, out_proj_weight, out_proj_bias, training, key_padding_mask, need_weights, attn_mask, use_separate_proj_weight, q_proj_weight, k_proj_weight, v_proj_weight, static_k, static_v)\u001b[0m\n\u001b[1;32m   4012\u001b[0m             \u001b[0;32mif\u001b[0m \u001b[0m_b\u001b[0m \u001b[0;32mis\u001b[0m \u001b[0;32mnot\u001b[0m \u001b[0;32mNone\u001b[0m\u001b[0;34m:\u001b[0m\u001b[0;34m\u001b[0m\u001b[0;34m\u001b[0m\u001b[0m\n\u001b[1;32m   4013\u001b[0m                 \u001b[0m_b\u001b[0m \u001b[0;34m=\u001b[0m \u001b[0m_b\u001b[0m\u001b[0;34m[\u001b[0m\u001b[0m_start\u001b[0m\u001b[0;34m:\u001b[0m\u001b[0;34m]\u001b[0m\u001b[0;34m\u001b[0m\u001b[0;34m\u001b[0m\u001b[0m\n\u001b[0;32m-> 4014\u001b[0;31m             \u001b[0mv\u001b[0m \u001b[0;34m=\u001b[0m \u001b[0mlinear\u001b[0m\u001b[0;34m(\u001b[0m\u001b[0mvalue\u001b[0m\u001b[0;34m,\u001b[0m \u001b[0m_w\u001b[0m\u001b[0;34m,\u001b[0m \u001b[0m_b\u001b[0m\u001b[0;34m)\u001b[0m\u001b[0;34m\u001b[0m\u001b[0;34m\u001b[0m\u001b[0m\n\u001b[0m\u001b[1;32m   4015\u001b[0m     \u001b[0;32melse\u001b[0m\u001b[0;34m:\u001b[0m\u001b[0;34m\u001b[0m\u001b[0;34m\u001b[0m\u001b[0m\n\u001b[1;32m   4016\u001b[0m         \u001b[0mq_proj_weight_non_opt\u001b[0m \u001b[0;34m=\u001b[0m \u001b[0mtorch\u001b[0m\u001b[0;34m.\u001b[0m\u001b[0mjit\u001b[0m\u001b[0;34m.\u001b[0m\u001b[0m_unwrap_optional\u001b[0m\u001b[0;34m(\u001b[0m\u001b[0mq_proj_weight\u001b[0m\u001b[0;34m)\u001b[0m\u001b[0;34m\u001b[0m\u001b[0;34m\u001b[0m\u001b[0m\n",
      "\u001b[0;32m/media/MyDataStor2/zhanghex/anaconda3/lib/python3.7/site-packages/torch/nn/functional.py\u001b[0m in \u001b[0;36mlinear\u001b[0;34m(input, weight, bias)\u001b[0m\n\u001b[1;32m   1674\u001b[0m         \u001b[0mret\u001b[0m \u001b[0;34m=\u001b[0m \u001b[0mtorch\u001b[0m\u001b[0;34m.\u001b[0m\u001b[0maddmm\u001b[0m\u001b[0;34m(\u001b[0m\u001b[0mbias\u001b[0m\u001b[0;34m,\u001b[0m \u001b[0minput\u001b[0m\u001b[0;34m,\u001b[0m \u001b[0mweight\u001b[0m\u001b[0;34m.\u001b[0m\u001b[0mt\u001b[0m\u001b[0;34m(\u001b[0m\u001b[0;34m)\u001b[0m\u001b[0;34m)\u001b[0m\u001b[0;34m\u001b[0m\u001b[0;34m\u001b[0m\u001b[0m\n\u001b[1;32m   1675\u001b[0m     \u001b[0;32melse\u001b[0m\u001b[0;34m:\u001b[0m\u001b[0;34m\u001b[0m\u001b[0;34m\u001b[0m\u001b[0m\n\u001b[0;32m-> 1676\u001b[0;31m         \u001b[0moutput\u001b[0m \u001b[0;34m=\u001b[0m \u001b[0minput\u001b[0m\u001b[0;34m.\u001b[0m\u001b[0mmatmul\u001b[0m\u001b[0;34m(\u001b[0m\u001b[0mweight\u001b[0m\u001b[0;34m.\u001b[0m\u001b[0mt\u001b[0m\u001b[0;34m(\u001b[0m\u001b[0;34m)\u001b[0m\u001b[0;34m)\u001b[0m\u001b[0;34m\u001b[0m\u001b[0;34m\u001b[0m\u001b[0m\n\u001b[0m\u001b[1;32m   1677\u001b[0m         \u001b[0;32mif\u001b[0m \u001b[0mbias\u001b[0m \u001b[0;32mis\u001b[0m \u001b[0;32mnot\u001b[0m \u001b[0;32mNone\u001b[0m\u001b[0;34m:\u001b[0m\u001b[0;34m\u001b[0m\u001b[0;34m\u001b[0m\u001b[0m\n\u001b[1;32m   1678\u001b[0m             \u001b[0moutput\u001b[0m \u001b[0;34m+=\u001b[0m \u001b[0mbias\u001b[0m\u001b[0;34m\u001b[0m\u001b[0;34m\u001b[0m\u001b[0m\n",
      "\u001b[0;31mKeyboardInterrupt\u001b[0m: "
     ]
    }
   ],
   "source": [
    "resCaps = []\n",
    "for f in tqdm.tqdm(img): \n",
    "    output = predict1(f)\n",
    "    result = tokenizer.decode(output[0].tolist(), skip_special_tokens=True)\n",
    "#     print(result.capitalize())\n",
    "    resCaps.append({'image_id': f['id'], 'caption': result.capitalize()})"
   ]
  },
  {
   "cell_type": "code",
   "execution_count": 24,
   "metadata": {},
   "outputs": [],
   "source": [
    "# save the predicted captions to json for cocoeval\n",
    "with open('./results/captions_val2017_results.json', 'w') as ff:\n",
    "    json.dump(resCaps, ff)"
   ]
  },
  {
   "cell_type": "markdown",
   "metadata": {},
   "source": [
    "## Test evaluate() on data_loaders"
   ]
  },
  {
   "cell_type": "code",
   "execution_count": 9,
   "metadata": {},
   "outputs": [
    {
     "name": "stderr",
     "output_type": "stream",
     "text": [
      "Calling BertTokenizer.from_pretrained() with the path to a single file or url is deprecated\n",
      "Special tokens have been added in the vocabulary, make sure the associated word embedding are fine-tuned or trained.\n"
     ]
    }
   ],
   "source": [
    "tokenizer = BertTokenizer.from_pretrained(\"catr/damsm_vocab.txt\", do_lower=True)"
   ]
  },
  {
   "cell_type": "code",
   "execution_count": 10,
   "metadata": {},
   "outputs": [
    {
     "name": "stdout",
     "output_type": "stream",
     "text": [
      "Train: 414113\n",
      "Valid: 202654\n"
     ]
    }
   ],
   "source": [
    "from catr.cfg_damsm_vocab import Config\n",
    "config = Config()\n",
    "\n",
    "dataset_train = coco.build_dataset_v3(config, mode='training')\n",
    "dataset_val = coco.build_dataset_v3(config, mode='validation')\n",
    "print(f\"Train: {len(dataset_train)}\")\n",
    "print(f\"Valid: {len(dataset_val)}\")\n",
    "\n",
    "sampler_train = torch.utils.data.RandomSampler(dataset_train)\n",
    "sampler_val = torch.utils.data.SequentialSampler(dataset_val)\n",
    "\n",
    "batch_sampler_train = torch.utils.data.BatchSampler(\n",
    "    sampler_train, config.batch_size, drop_last=True\n",
    ")\n",
    "\n",
    "data_loader_train = DataLoader(\n",
    "    dataset_train, batch_sampler=batch_sampler_train)\n",
    "data_loader_val = DataLoader(dataset_val, config.batch_size,\n",
    "                             sampler=sampler_val, drop_last=False)"
   ]
  },
  {
   "cell_type": "markdown",
   "metadata": {},
   "source": [
    "<font size=\"5\" color='brown'>\n",
    "Here is a short visualization for the dataloader\n",
    "</font>"
   ]
  },
  {
   "cell_type": "code",
   "execution_count": 22,
   "metadata": {
    "jupyter": {
     "source_hidden": true
    }
   },
   "outputs": [],
   "source": [
    "it = iter(data_loader_train).next()\n",
    "img, mask, cap, cap_mask = it"
   ]
  },
  {
   "cell_type": "code",
   "execution_count": 23,
   "metadata": {
    "collapsed": true,
    "jupyter": {
     "outputs_hidden": true,
     "source_hidden": true
    }
   },
   "outputs": [
    {
     "name": "stdout",
     "output_type": "stream",
     "text": [
      "tensor([27297,    10,    59,   604,   379,    82,    34,    10,    38,    21,\n",
      "          811,   805, 27298,     0,     0,     0,     0,     0,     0,     0])\n",
      "tensor([False, False, False, False, False, False, False, False, False, False,\n",
      "        False, False, False,  True,  True,  True,  True,  True,  True,  True])\n",
      "tensor([27297,    10,    59,   604,   379,    82,    34,    10,    38,    21,\n",
      "          811,   805, 27298])\n",
      "torch.Size([32, 129])\n"
     ]
    }
   ],
   "source": [
    "print(cap[15][:20])\n",
    "print(cap_mask[15][:20])\n",
    "print(cap[15][~cap_mask[15]])\n",
    "print(cap.shape)"
   ]
  },
  {
   "cell_type": "code",
   "execution_count": 37,
   "metadata": {
    "collapsed": true,
    "jupyter": {
     "outputs_hidden": true,
     "source_hidden": true
    },
    "scrolled": true
   },
   "outputs": [
    {
     "name": "stdout",
     "output_type": "stream",
     "text": [
      "00: Phone on dock with speakers and glass live digitally\n",
      "01: A person in a wet suite running beside the water holding a surfboard\n",
      "02: A young man is holding an umbrella in the rain\n",
      "03: A stop sign is in the middle of trees\n",
      "04: A man is spray painting a light blue tarp\n",
      "05: A brown clock tower with skyline in the background\n",
      "06: A man and woman sitting on a couch near a cake stand and dishes\n",
      "07: Small cart with assorted suitcases at curbside on sidewalk\n",
      "08: A person with a bottle and a backpack\n",
      "09: A policeman sitting with a dalmatian near a building with another couple at the other end with another dog\n",
      "10: A one way sign that is hanging next to a red light in front of a building\n",
      "11: A young woman standing on the edge of a boat looking over the railing\n",
      "12: A tray with a variety of food including carrots\n",
      "13: A tennis player preparing to swing her racket\n",
      "14: A man in mid air doing a water skiing trick\n",
      "15: A white plate filled up with a lot of glazed donuts\n",
      "16: A kitchen filled with an empty refrigerator and microwave\n",
      "17: A young woman in a swimsuit carries a surfboard\n",
      "18: An ornate store front with grand clocks on it\n",
      "19: An old baseball game with many spectators during an at bat\n",
      "20: A stone wall in front of a clock tower\n",
      "21: Small child in baseball uniform standing next to players\n",
      "22: A table outside with a umbrella and some chairs\n",
      "23: A vase with flowers next to a clock in front of a window\n",
      "24: A couple of skiiers that are skiing across some snow\n",
      "25: A very big bright window in a very dim lit room\n",
      "26: A group of people having a party a woman holding a cake\n",
      "27: A left handed batter about to hit the ball\n",
      "28: Kitchen with an island stove and clear cabinet spaces\n",
      "29: Motorcycle lying on it s side in muddy terrain\n",
      "30: A row of green and yellow banana s sitting on a counter\n",
      "31: A bowl and two spoons in a sink with a sponge\n"
     ]
    }
   ],
   "source": [
    "result = tokenizer.batch_decode(cap.tolist(), skip_special_tokens=True)\n",
    "for j, rcap in enumerate(result): \n",
    "    print('%02d: ' % j + rcap.capitalize(), sep='\\n')"
   ]
  },
  {
   "cell_type": "code",
   "execution_count": 39,
   "metadata": {},
   "outputs": [
    {
     "name": "stdout",
     "output_type": "stream",
     "text": [
      "tensor(-0.9294) tensor(1.)\n"
     ]
    },
    {
     "data": {
      "image/png": "[encoded data removed]",
      "text/plain": [
       "<Figure size 576x576 with 2 Axes>"
      ]
     },
     "metadata": {
      "needs_background": "light"
     },
     "output_type": "display_data"
    }
   ],
   "source": [
    "i = 10\n",
    "# print(img[i].min(), img[i].max())\n",
    "fig = plt.figure(figsize=(8, 8))\n",
    "fig.add_subplot(1,2,1)\n",
    "plt.imshow((img[i].numpy().transpose((1,2,0)) - img[i].min().numpy()) / (img[i].max() - img[i].min()).numpy())\n",
    "fig.add_subplot(1,2,2)\n",
    "plt.imshow(mask[i].numpy().astype(int))\n",
    "plt.show()"
   ]
  },
  {
   "cell_type": "code",
   "execution_count": 11,
   "metadata": {},
   "outputs": [],
   "source": [
    "@torch.no_grad()\n",
    "def evaluate(data_loader):\n",
    "    model.eval()\n",
    "#     total = len(data_loader)\n",
    "\n",
    "    for images, masks, caps, cap_masks in data_loader:\n",
    "        samples = mtils.NestedTensor(images, masks).to(device)\n",
    "        caps = caps.to(device)\n",
    "        cap_masks = cap_masks.to(device)\n",
    "        outputs = model(samples, caps[:, :-1], cap_masks[:, :-1])\n",
    "        break   # only used for debug, inspect 1st iter\n",
    "                \n",
    "    return outputs"
   ]
  },
  {
   "cell_type": "code",
   "execution_count": 16,
   "metadata": {},
   "outputs": [
    {
     "name": "stdout",
     "output_type": "stream",
     "text": [
      "Train: 414113\n",
      "Valid: 202654\n"
     ]
    }
   ],
   "source": [
    "from catr.cfg_damsm_bert import Config\n",
    "config = Config()\n",
    "\n",
    "dataset_train = coco.build_dataset14(config, mode='training')\n",
    "dataset_val = coco.build_dataset14(config, mode='validation')\n",
    "print(f\"Train: {len(dataset_train)}\")\n",
    "print(f\"Valid: {len(dataset_val)}\")\n",
    "\n",
    "sampler_train = torch.utils.data.RandomSampler(dataset_train)\n",
    "sampler_val = torch.utils.data.SequentialSampler(dataset_val)\n",
    "\n",
    "batch_sampler_train = torch.utils.data.BatchSampler(\n",
    "    sampler_train, config.batch_size, drop_last=True\n",
    ")\n",
    "\n",
    "data_loader_train = DataLoader(\n",
    "    dataset_train, batch_sampler=batch_sampler_train)\n",
    "data_loader_val = DataLoader(dataset_val, config.batch_size,\n",
    "                             sampler=sampler_val, drop_last=False)"
   ]
  },
  {
   "cell_type": "code",
   "execution_count": 20,
   "metadata": {
    "collapsed": true,
    "jupyter": {
     "outputs_hidden": true
    },
    "scrolled": true
   },
   "outputs": [
    {
     "name": "stdout",
     "output_type": "stream",
     "text": [
      "a bicycle with clock a clock on roman bottom wheel.\n",
      "a motorcycle motorcycle motorcycle parked in a of a house.\n",
      "a bathroom with a walls and a white sink. a.\n",
      "a car is is to be parked on on a bench. car.\n",
      "a large jet jet taking through the sky.\n",
      "a is a largeur plane taking off from the clear cloudy sky\n",
      "a bathroom white bathroom bathroom with a blue bathroom.\n",
      "a bathroom a bathroom bathroom white bathroom with a white toilet mirror mirror sizede the wall.\n",
      "a bathroom bathroom with bathroom with a reflection saver. the wall.\n",
      "a bike is a clock on well man.\n",
      "a motorcycle motorcycle is in a yard field.\n",
      "a cars parked on a side next a sidewalk.\n",
      "a airplane taking is flying flying taking flying or taking taking off.\n",
      "a bathroom with a and has white blue..\n",
      "a bathroom with a toilet, sink, and bath.\n",
      "a kitchen narrow kitchen emptyist kitchenhen kitchen kitchen\n",
      "a office withle with a computers computers of computers.\n",
      "a bathroom sink with aries on the counter.\n",
      "a toilet bathroom toilet in a small bathroom\n",
      "a people are at a bus in to a street.\n",
      "a bathroom sink with mirror hygiene care items on\n",
      "a is a image box with a differentcumber.\n",
      "a old car fashioned car car wagon with parked on the street street.\n",
      "a kitchen stove and to a sink steel stove stove. atop.\n",
      "a bicycle and bicycle with a clock on of back..\n",
      "a motorcycle motorcycle motorcycle parked a red leather helmet.\n",
      "a toilet toilet and sink in in a bathroom bathroom.\n",
      "a people are down the road in front.\n",
      "a black cat is drinking of white toilet.\n",
      "a street with cars cars and a bench on\n",
      "a office office has is to be small messyuttered.\n",
      "two couple and a wheelchair and a man on a bench by is in the ocean.\n"
     ]
    }
   ],
   "source": [
    "# captions from evaluate() on train/val_set\n",
    "output = evaluate(data_loader_val)\n",
    "pred = torch.argmax(output, axis=-1).cpu().detach().numpy()\n",
    "\n",
    "cp = tokenizer.batch_decode(pred.tolist(), skip_special_tokens=True)\n",
    "for p in cp:\n",
    "    print(p, sep='\\n')"
   ]
  },
  {
   "cell_type": "markdown",
   "metadata": {},
   "source": [
    "## Predict captions in batch"
   ]
  },
  {
   "cell_type": "code",
   "execution_count": 1,
   "metadata": {},
   "outputs": [],
   "source": [
    "import torch\n",
    "from torch.utils.data import DataLoader\n",
    "from torchvision import transforms\n",
    "\n",
    "import numpy as np\n",
    "import time\n",
    "import sys\n",
    "import os\n",
    "import math\n",
    "import tqdm\n",
    "\n",
    "from nltk.tokenize import RegexpTokenizer\n",
    "from transformers import BertTokenizer, AutoTokenizer\n",
    "from PIL import Image\n",
    "import argparse\n",
    "\n",
    "from catr.models import caption\n",
    "from catr.models import utils as mtils\n",
    "from catr.datasets import coco, utils\n",
    "# from catr.cfg_damsm_bert import Config\n",
    "from catr.configuration import Config\n",
    "\n",
    "import json, pickle\n",
    "from pycocotools.coco import COCO as CC\n",
    "import matplotlib.pyplot as plt"
   ]
  },
  {
   "cell_type": "code",
   "execution_count": 5,
   "metadata": {},
   "outputs": [
    {
     "name": "stdout",
     "output_type": "stream",
     "text": [
      "Loading Checkpoint...\n"
     ]
    }
   ],
   "source": [
    "# parser = argparse.ArgumentParser(description='Image Captioning')\n",
    "# parser.add_argument('--path', type=str, help='path to image', required=True)\n",
    "# parser.add_argument('--v', type=str, help='version', default='v3')\n",
    "# args = parser.parse_args()\n",
    "image_path1 = 'catr/.github/airplane.png'\n",
    "image_path2 = 'catr/.github/cake.png'\n",
    "version = 'v3'\n",
    "\n",
    "config = Config()\n",
    "device = torch.device(config.device)\n",
    "\n",
    "model, criterion = caption.build_model(config)\n",
    "model.to(device)\n",
    "\n",
    "print(\"Loading Checkpoint...\")\n",
    "checkpoint = torch.load('catr/checkpoint_v3.pth', map_location='cpu')\n",
    "model.load_state_dict(checkpoint['model'])\n",
    "# optimizer.load_state_dict(checkpoint['optimizer'])\n",
    "# lr_scheduler.load_state_dict(checkpoint['lr_scheduler'])\n",
    "# config.start_epoch = checkpoint['epoch'] + 1\n",
    "\n",
    "tokenizer = BertTokenizer.from_pretrained('bert-base-uncased')\n",
    "\n",
    "start_token = tokenizer.convert_tokens_to_ids(tokenizer._cls_token)\n",
    "end_token = tokenizer.convert_tokens_to_ids(tokenizer._sep_token)"
   ]
  },
  {
   "cell_type": "code",
   "execution_count": 2,
   "metadata": {},
   "outputs": [],
   "source": [
    "def create_caption_and_mask(start_token, max_length, bn=1):\n",
    "    caption_template = torch.zeros((bn, max_length), dtype=torch.long)\n",
    "    mask_template = torch.ones((bn, max_length), dtype=torch.bool)\n",
    "\n",
    "    caption_template[:, 0] = start_token\n",
    "    mask_template[:, 0] = False\n",
    "\n",
    "    return caption_template, mask_template"
   ]
  },
  {
   "cell_type": "code",
   "execution_count": 3,
   "metadata": {},
   "outputs": [],
   "source": [
    "# used for batch prediction for speed up\n",
    "@torch.no_grad()\n",
    "def predict_batch_test(model, imgs, end_token):\n",
    "    model.eval()\n",
    "    caption, cap_mask = create_caption_and_mask(\n",
    "            start_token, config.max_position_embeddings, bn=2)\n",
    "    caption = caption.to(device)\n",
    "    cap_mask = cap_mask.to(device)\n",
    "#     imgs = mtils.NestedTensor(imgs.tensors, imgs.mask).to(device)\n",
    "    imgs = imgs.to(device)\n",
    "#     print(isinstance(samples, NestedTensor))\n",
    "#     image, mask = imgs.decompose()\n",
    "    b = torch.zeros((caption.shape[0])).bool().to(device)\n",
    "    for i in range(config.max_position_embeddings - 1):\n",
    "        predictions = model(imgs, caption, cap_mask)\n",
    "        predictions = predictions[:, i, :]\n",
    "        predicted_id = torch.argmax(predictions, axis=-1)\n",
    "        end_flag = predicted_id == end_token\n",
    "        b = b.logical_or(end_flag)\n",
    "\n",
    "        if b.all(): # all the caption predictions reaches end_token, return\n",
    "            break\n",
    "\n",
    "        caption[~b, i+1] = predicted_id[~b]\n",
    "        cap_mask[~b, i+1] = False\n",
    "\n",
    "    return caption"
   ]
  },
  {
   "cell_type": "code",
   "execution_count": 6,
   "metadata": {},
   "outputs": [
    {
     "name": "stdout",
     "output_type": "stream",
     "text": [
      "torch.Size([2, 3, 299, 299]) torch.Size([2, 299, 299])\n",
      "True\n"
     ]
    }
   ],
   "source": [
    "image1 = Image.open(image_path1)\n",
    "image1 = coco.val_transform(image1)\n",
    "# image1 = image1.unsqueeze(0)\n",
    "image2 = Image.open(image_path2)\n",
    "image2 = coco.val_transform(image2)\n",
    "# image2 = image2.unsqueeze(0)\n",
    "image = [image1, image2]\n",
    "image = utils.nested_tensor_from_tensor_list(image)\n",
    "image = mtils.NestedTensor(image.tensors, image.mask) # have to use NestedTensor from models.utils\n",
    "print(image.tensors.shape, image.mask.shape)\n",
    "print(isinstance(image, mtils.NestedTensor))"
   ]
  },
  {
   "cell_type": "code",
   "execution_count": 7,
   "metadata": {
    "collapsed": true,
    "jupyter": {
     "outputs_hidden": true
    }
   },
   "outputs": [
    {
     "name": "stdout",
     "output_type": "stream",
     "text": [
      "tensor([[ 101, 1037, 2312, 4946, 2003, 2006, 1037, 9271, 2007, 1037, 3712, 4281,\n",
      "            0,    0,    0,    0,    0,    0,    0,    0,    0,    0,    0,    0,\n",
      "            0,    0,    0,    0,    0,    0,    0,    0,    0,    0,    0,    0,\n",
      "            0,    0,    0,    0,    0,    0,    0,    0,    0,    0,    0,    0,\n",
      "            0,    0,    0,    0,    0,    0,    0,    0,    0,    0,    0,    0,\n",
      "            0,    0,    0,    0,    0,    0,    0,    0,    0,    0,    0,    0,\n",
      "            0,    0,    0,    0,    0,    0,    0,    0,    0,    0,    0,    0,\n",
      "            0,    0,    0,    0,    0,    0,    0,    0,    0,    0,    0,    0,\n",
      "            0,    0,    0,    0,    0,    0,    0,    0,    0,    0,    0,    0,\n",
      "            0,    0,    0,    0,    0,    0,    0,    0,    0,    0,    0,    0,\n",
      "            0,    0,    0,    0,    0,    0,    0,    0],\n",
      "        [ 101, 1037, 2711, 6276, 1037, 9850, 2007, 1037, 5442, 1012,    0,    0,\n",
      "            0,    0,    0,    0,    0,    0,    0,    0,    0,    0,    0,    0,\n",
      "            0,    0,    0,    0,    0,    0,    0,    0,    0,    0,    0,    0,\n",
      "            0,    0,    0,    0,    0,    0,    0,    0,    0,    0,    0,    0,\n",
      "            0,    0,    0,    0,    0,    0,    0,    0,    0,    0,    0,    0,\n",
      "            0,    0,    0,    0,    0,    0,    0,    0,    0,    0,    0,    0,\n",
      "            0,    0,    0,    0,    0,    0,    0,    0,    0,    0,    0,    0,\n",
      "            0,    0,    0,    0,    0,    0,    0,    0,    0,    0,    0,    0,\n",
      "            0,    0,    0,    0,    0,    0,    0,    0,    0,    0,    0,    0,\n",
      "            0,    0,    0,    0,    0,    0,    0,    0,    0,    0,    0,    0,\n",
      "            0,    0,    0,    0,    0,    0,    0,    0]], device='cuda:2')\n",
      "a large plane is on a runway with a sky background\n",
      "a person cutting a cake with a knife.\n"
     ]
    }
   ],
   "source": [
    "results = predict_batch_test(model, image, end_token)\n",
    "print(results)\n",
    "captions = tokenizer.batch_decode(results.tolist(), skip_special_tokens=True)\n",
    "for p in captions:\n",
    "    print(p, sep='\\n')"
   ]
  },
  {
   "cell_type": "markdown",
   "metadata": {},
   "source": [
    "### Batch prediction on val set"
   ]
  },
  {
   "cell_type": "code",
   "execution_count": 9,
   "metadata": {},
   "outputs": [
    {
     "name": "stdout",
     "output_type": "stream",
     "text": [
      "Valid: 25014\n"
     ]
    }
   ],
   "source": [
    "from catr.configuration import Config\n",
    "config = Config()\n",
    "\n",
    "# dataset_train = coco.build_dataset(config, mode='training')\n",
    "dataset_val = coco.build_dataset(config, mode='validation')\n",
    "# print(f\"Train: {len(dataset_train)}\")\n",
    "print(f\"Valid: {len(dataset_val)}\")\n",
    "\n",
    "# sampler_train = torch.utils.data.RandomSampler(dataset_train)\n",
    "sampler_val = torch.utils.data.SequentialSampler(dataset_val)\n",
    "\n",
    "# batch_sampler_train = torch.utils.data.BatchSampler(\n",
    "#     sampler_train, config.batch_size, drop_last=True\n",
    "# )\n",
    "\n",
    "# data_loader_train = DataLoader(\n",
    "#     dataset_train, batch_sampler=batch_sampler_train)\n",
    "data_loader_val = DataLoader(dataset_val, config.batch_size,\n",
    "                             sampler=sampler_val, drop_last=False)"
   ]
  },
  {
   "cell_type": "code",
   "execution_count": 18,
   "metadata": {},
   "outputs": [],
   "source": [
    "# used for batch prediction for speed up\n",
    "@torch.no_grad()\n",
    "def predict_batch(model, data_loader, end_token):\n",
    "    model.eval()\n",
    "    outputs = []\n",
    "    for images, masks, _, _ in data_loader:\n",
    "        caption, cap_mask = create_caption_and_mask(\n",
    "                start_token, config.max_position_embeddings, bn=images.shape[0])\n",
    "        caption = caption.to(device)\n",
    "        cap_mask = cap_mask.to(device)\n",
    "        imgs = mtils.NestedTensor(images, masks).to(device)\n",
    "        b = torch.zeros((caption.shape[0])).bool().to(device)\n",
    "        for i in range(config.max_position_embeddings - 1):\n",
    "            predictions = model(imgs, caption, cap_mask)\n",
    "            predictions = predictions[:, i, :]\n",
    "            predicted_id = torch.argmax(predictions, axis=-1)\n",
    "            end_flag = predicted_id == end_token\n",
    "            b = b.logical_or(end_flag)\n",
    "\n",
    "            if b.all(): # all the caption predictions reaches end_token, return\n",
    "                break\n",
    "\n",
    "            caption[~b, i+1] = predicted_id[~b]\n",
    "            cap_mask[~b, i+1] = False\n",
    "        \n",
    "        outputs.append(caption)\n",
    "        break\n",
    "\n",
    "    return outputs"
   ]
  },
  {
   "cell_type": "code",
   "execution_count": 19,
   "metadata": {
    "collapsed": true,
    "jupyter": {
     "outputs_hidden": true
    },
    "scrolled": true
   },
   "outputs": [
    {
     "name": "stdout",
     "output_type": "stream",
     "text": [
      "[tensor([[ 101, 1037, 9055,  ...,    0,    0,    0],\n",
      "        [ 101, 1037, 9055,  ...,    0,    0,    0],\n",
      "        [ 101, 1037, 4624,  ...,    0,    0,    0],\n",
      "        ...,\n",
      "        [ 101, 1037, 4624,  ...,    0,    0,    0],\n",
      "        [ 101, 1037, 3829,  ...,    0,    0,    0],\n",
      "        [ 101, 1037, 5127,  ...,    0,    0,    0]], device='cuda:2')]\n",
      "a motorcycle parked in a field of grass.\n",
      "a motorcycle parked in a field of grass.\n",
      "a desk with a computer and a laptop on it.\n",
      "a toilet with a wooden seat and a sink\n",
      "a woman is riding a bike down the street\n",
      "a motorcycle parked in a field of grass.\n",
      "a toilet with a wooden seat and a sink\n",
      "a desk with a computer and a laptop on it.\n",
      "a plate with a piece of cake and a fork on it.\n",
      "a woman is riding a bike down the street\n",
      "a woman is riding a bike down the street\n",
      "a toilet with a wooden seat and a sink\n",
      "a cat is sniffing a dead bird on the ground.\n",
      "a toilet with a wooden seat and a sink\n",
      "a man in a blue shirt is holding a spoon\n",
      "a cat walking on the grass next to a car.\n",
      "a woman is riding a bike down the street\n",
      "a computer desk with a computer monitor and a keyboard.\n",
      "a man in a blue shirt is holding a spoon\n",
      "a group of people walking down a street next to a forest.\n",
      "a man laying on a couch with his head on his head.\n",
      "a kitchen with a stove, microwave, and refrigerator.\n",
      "a desk with a computer and a laptop on it.\n",
      "a banana sitting on top of a table next to a cell phone.\n",
      "a toilet with a wooden seat and a sink\n",
      "a kitchen with a stove, microwave, and refrigerator.\n",
      "a woman is riding a bike down the street\n",
      "a desk with a computer and a laptop on it.\n",
      "a kitchen with a stove, microwave, and refrigerator.\n",
      "a desk with a computer and a laptop on it.\n",
      "a kitchen with a stove, microwave, and refrigerator.\n",
      "a plate with a piece of cake and a fork on it.\n"
     ]
    }
   ],
   "source": [
    "# the results look good enough\n",
    "results = predict_batch(model, data_loader_val, end_token)\n",
    "print(results)\n",
    "captions = tokenizer.batch_decode(results[0].tolist(), skip_special_tokens=True)\n",
    "for p in captions:\n",
    "    print(p, sep='\\n')"
   ]
  },
  {
   "cell_type": "code",
   "execution_count": 34,
   "metadata": {},
   "outputs": [],
   "source": [
    "######## make the data_loader only load images once #############\n",
    "from torch.utils.data import Dataset\n",
    "import torchvision.transforms.functional as TF\n",
    "import torchvision as tv\n",
    "\n",
    "from PIL import Image\n",
    "import numpy as np\n",
    "import random\n",
    "import os, pickle, json\n",
    "\n",
    "from catr.configuration import Config\n",
    "\n",
    "# from transformers import BertTokenizer\n",
    "\n",
    "from catr.datasets.utils import nested_tensor_from_tensor_list\n",
    "\n",
    "MAX_DIM = 299\n",
    "\n",
    "\n",
    "def under_max(image):\n",
    "    if image.mode != 'RGB':\n",
    "        image = image.convert(\"RGB\")\n",
    "\n",
    "    shape = np.array(image.size, dtype=np.float)\n",
    "    long_dim = max(shape)\n",
    "    scale = MAX_DIM / long_dim\n",
    "\n",
    "    new_shape = (shape * scale).astype(int)\n",
    "    image = image.resize(new_shape)\n",
    "\n",
    "    return image\n",
    "\n",
    "\n",
    "class RandomRotation:\n",
    "    def __init__(self, angles=[0, 90, 180, 270]):\n",
    "        self.angles = angles\n",
    "\n",
    "    def __call__(self, x):\n",
    "        angle = random.choice(self.angles)\n",
    "        return TF.rotate(x, angle, expand=True)\n",
    "\n",
    "\n",
    "train_transform = tv.transforms.Compose([\n",
    "    RandomRotation(),\n",
    "    tv.transforms.Lambda(under_max),\n",
    "    tv.transforms.ColorJitter(brightness=[0.5, 1.3], contrast=[\n",
    "                              0.8, 1.5], saturation=[0.2, 1.5]),\n",
    "    tv.transforms.RandomHorizontalFlip(),\n",
    "    tv.transforms.ToTensor(),\n",
    "    tv.transforms.Normalize((0.5, 0.5, 0.5), (0.5, 0.5, 0.5)),\n",
    "])\n",
    "\n",
    "val_transform = tv.transforms.Compose([\n",
    "    tv.transforms.Lambda(under_max),\n",
    "    tv.transforms.ToTensor(),\n",
    "    tv.transforms.Normalize((0.5, 0.5, 0.5), (0.5, 0.5, 0.5))\n",
    "])\n",
    "\n",
    "\n",
    "class CocoImage17(Dataset):\n",
    "    def __init__(self, root, ann, transform=train_transform, mode='training'):\n",
    "        super().__init__()\n",
    "\n",
    "        self.root = root\n",
    "        self.transform = transform\n",
    "        self.annot = [val['id'] for val in ann['images']]\n",
    "        if mode == 'validation':\n",
    "            self.annot = self.annot\n",
    "        if mode == 'training':\n",
    "            self.annot = self.annot\n",
    "\n",
    "    def _process(self, image_id):\n",
    "        val = '%012d.jpg' % image_id\n",
    "        return val\n",
    "\n",
    "    def __len__(self):\n",
    "        return len(self.annot)\n",
    "\n",
    "    def __getitem__(self, idx):\n",
    "        image_id = self.annot[idx]\n",
    "        image = Image.open(os.path.join(self.root, self._process(image_id)))\n",
    "\n",
    "        if self.transform:\n",
    "            image = self.transform(image)\n",
    "        image = nested_tensor_from_tensor_list(image.unsqueeze(0))\n",
    "\n",
    "        return image.tensors.squeeze(0), image.mask.squeeze(0), image_id\n",
    "    \n",
    "    \n",
    "def data_maker(config, mode='training'):\n",
    "    if mode == 'training':\n",
    "        train_dir = os.path.join(config.dir, 'train2017')\n",
    "        train_file = os.path.join(\n",
    "            config.dir, 'annotations', 'captions_train2017.json')\n",
    "        with open(train_file, 'r') as f:\n",
    "            trf = json.load(f)\n",
    "        data = CocoImage17(train_dir, trf, transform=train_transform, mode='training')\n",
    "        return data\n",
    "\n",
    "    elif mode == 'validation':\n",
    "        val_dir = os.path.join(config.dir, 'val2017')\n",
    "        val_file = os.path.join(\n",
    "            config.dir, 'annotations', 'captions_val2017.json')\n",
    "        with open(val_file, 'r') as f:\n",
    "            vlf = json.load(f)\n",
    "        data = CocoImage17(val_dir, vlf, transform=val_transform, mode='validation')\n",
    "        return data\n",
    "\n",
    "    else:\n",
    "        raise NotImplementedError(f\"{mode} not supported\")"
   ]
  },
  {
   "cell_type": "code",
   "execution_count": 38,
   "metadata": {},
   "outputs": [],
   "source": [
    "# used for batch prediction for speed up\n",
    "@torch.no_grad()\n",
    "def predict_final(model, data_loader, tokenizer):\n",
    "    model.eval()\n",
    "    outputs = []\n",
    "    start_token = tokenizer.convert_tokens_to_ids(tokenizer._cls_token)\n",
    "    end_token = tokenizer.convert_tokens_to_ids(tokenizer._sep_token)\n",
    "    for images, masks, fn in data_loader:\n",
    "        caption, cap_mask = create_caption_and_mask(\n",
    "                start_token, 128, bn=images.shape[0])\n",
    "        caption = caption.to(device)\n",
    "        cap_mask = cap_mask.to(device)\n",
    "        imgs = mtils.NestedTensor(images, masks).to(device)\n",
    "        b = torch.zeros((caption.shape[0])).bool().to(device)\n",
    "        for i in range(config.max_position_embeddings - 1):\n",
    "            predictions = model(imgs, caption, cap_mask)\n",
    "            predictions = predictions[:, i, :]\n",
    "            predicted_id = torch.argmax(predictions, axis=-1)\n",
    "            end_flag = predicted_id == end_token\n",
    "            b = b.logical_or(end_flag)\n",
    "\n",
    "            if b.all(): # all the caption predictions reaches end_token, return\n",
    "                break\n",
    "\n",
    "            caption[~b, i+1] = predicted_id[~b]\n",
    "            cap_mask[~b, i+1] = False\n",
    "        \n",
    "        results = tokenizer.batch_decode(caption.tolist(), skip_special_tokens=True)\n",
    "        for i in range(len(results)):\n",
    "            outputs.append({'image_id': fn[i].item(), 'caption': results[i].capitalize()})\n",
    "        break\n",
    "\n",
    "    return outputs"
   ]
  },
  {
   "cell_type": "code",
   "execution_count": 36,
   "metadata": {},
   "outputs": [
    {
     "name": "stdout",
     "output_type": "stream",
     "text": [
      "Valid: 5000\n"
     ]
    }
   ],
   "source": [
    "tokenizer = BertTokenizer.from_pretrained('bert-base-uncased')\n",
    "\n",
    "config = Config()\n",
    "\n",
    "# dataset_train = coco.build_dataset(config, mode='training')\n",
    "dataset_val = data_maker(config, mode='validation')\n",
    "# print(f\"Train: {len(dataset_train)}\")\n",
    "print(f\"Valid: {len(dataset_val)}\")\n",
    "\n",
    "# sampler_train = torch.utils.data.RandomSampler(dataset_train)\n",
    "sampler_val = torch.utils.data.SequentialSampler(dataset_val)\n",
    "\n",
    "# batch_sampler_train = torch.utils.data.BatchSampler(\n",
    "#     sampler_train, config.batch_size, drop_last=True\n",
    "# )\n",
    "\n",
    "# data_loader_train = DataLoader(\n",
    "#     dataset_train, batch_sampler=batch_sampler_train)\n",
    "data_loader_val = DataLoader(dataset_val, 64,\n",
    "                             sampler=sampler_val, drop_last=False)"
   ]
  },
  {
   "cell_type": "code",
   "execution_count": 39,
   "metadata": {
    "scrolled": true
   },
   "outputs": [
    {
     "name": "stdout",
     "output_type": "stream",
     "text": [
      "{'image_id': 397133, 'caption': 'A group of people standing around a kitchen preparing food.'}\n",
      "{'image_id': 37777, 'caption': 'A kitchen with a stove a sink and a refrigerator'}\n",
      "{'image_id': 252219, 'caption': 'A group of people standing outside of a blue train.'}\n",
      "{'image_id': 87038, 'caption': 'A man riding a skateboard down a flight of steps.'}\n",
      "{'image_id': 174482, 'caption': 'A bike is parked on the side of the street'}\n",
      "{'image_id': 403385, 'caption': 'A bathroom with a toilet, bathtub and a bathtub.'}\n",
      "{'image_id': 6818, 'caption': 'A bathroom with a toilet and a sink.'}\n",
      "{'image_id': 480985, 'caption': 'A motorcycle is displayed in a store window.'}\n",
      "{'image_id': 458054, 'caption': 'A row of toilets sitting on top of a dirt field.'}\n",
      "{'image_id': 331352, 'caption': 'A toilet with a wooden seat and a sink'}\n",
      "{'image_id': 296649, 'caption': 'A group of people riding motorcycles down a street.'}\n",
      "{'image_id': 386912, 'caption': 'A woman sitting at a desk with a laptop.'}\n",
      "{'image_id': 502136, 'caption': 'A run down building with a broken door.'}\n",
      "{'image_id': 491497, 'caption': 'A bed sitting in a bedroom next to a book shelf.'}\n",
      "{'image_id': 184791, 'caption': 'A picture of a vase and a vase with a candle.'}\n",
      "{'image_id': 348881, 'caption': 'A plane is being loaded with cargo on the tarmac.'}\n",
      "{'image_id': 289393, 'caption': 'A couple of chickens standing next to each other.'}\n",
      "{'image_id': 522713, 'caption': 'A bench sitting on top of a lush green field.'}\n",
      "{'image_id': 181666, 'caption': 'A man is herding a herd of sheep in a field.'}\n",
      "{'image_id': 17627, 'caption': 'A city street with cars and a car on it'}\n",
      "{'image_id': 143931, 'caption': 'A bus parked in front of a building.'}\n",
      "{'image_id': 303818, 'caption': 'A group of people walking across a street.'}\n",
      "{'image_id': 463730, 'caption': 'A man is walking down the street with a bus.'}\n",
      "{'image_id': 460347, 'caption': 'A bus is driving down the road in a parking lot.'}\n",
      "{'image_id': 322864, 'caption': 'A yellow sign that is on a pole.'}\n",
      "{'image_id': 226111, 'caption': 'A sign that says \" no parking \" on it.'}\n",
      "{'image_id': 153299, 'caption': 'Two giraffes standing next to each other in a pen.'}\n",
      "{'image_id': 308394, 'caption': 'A man sitting on a bus with a laptop computer.'}\n",
      "{'image_id': 456496, 'caption': 'A man sitting on a bench next to a dog.'}\n",
      "{'image_id': 58636, 'caption': 'A street sign on a pole with a sky background'}\n",
      "{'image_id': 41888, 'caption': 'Two ostriches standing in a field with a tree in the background.'}\n",
      "{'image_id': 184321, 'caption': 'A train is coming down the tracks near a platform.'}\n"
     ]
    }
   ],
   "source": [
    "results = predict_final(model, data_loader_val, tokenizer)\n",
    "for res in results:\n",
    "    print(res, sep='\\n')"
   ]
  },
  {
   "cell_type": "code",
   "execution_count": 20,
   "metadata": {},
   "outputs": [],
   "source": [
    "with open('/media/MyDataStor2/zhanghex/coco2017/annotations/captions_train2017.json', 'r') as f:\n",
    "    cocod = json.load(f)"
   ]
  },
  {
   "cell_type": "code",
   "execution_count": 24,
   "metadata": {},
   "outputs": [
    {
     "data": {
      "text/plain": [
       "{'license': 3,\n",
       " 'file_name': '000000391895.jpg',\n",
       " 'coco_url': 'http://images.cocodataset.org/train2017/000000391895.jpg',\n",
       " 'height': 360,\n",
       " 'width': 640,\n",
       " 'date_captured': '2013-11-14 11:18:45',\n",
       " 'flickr_url': 'http://farm9.staticflickr.com/8186/8119368305_4e622c8349_z.jpg',\n",
       " 'id': 391895}"
      ]
     },
     "execution_count": 24,
     "metadata": {},
     "output_type": "execute_result"
    }
   ],
   "source": [
    "cocod['images'][0]"
   ]
  },
  {
   "cell_type": "code",
   "execution_count": null,
   "metadata": {},
   "outputs": [],
   "source": []
  },
  {
   "cell_type": "markdown",
   "metadata": {},
   "source": [
    "Logic of batch prediction (below)"
   ]
  },
  {
   "cell_type": "code",
   "execution_count": 16,
   "metadata": {},
   "outputs": [
    {
     "name": "stdout",
     "output_type": "stream",
     "text": [
      "tensor([[1, 1, 1, 0],\n",
      "        [1, 0, 0, 0],\n",
      "        [1, 1, 0, 0]])\n",
      "torch.Size([3])\n",
      "tensor([[ 3,  6,  9],\n",
      "        [ 4,  7, 10],\n",
      "        [ 5,  8, 11]])\n"
     ]
    }
   ],
   "source": [
    "a = torch.Tensor([[1,1,1,0], [1,0,0,0], [1,1,0,0]]).long()\n",
    "b = torch.Tensor([True, True, True]).bool()\n",
    "c = torch.Tensor([[3,4,5], [6,7,8], [9,10,11]]).long().t()\n",
    "print(a, b.shape, c, sep='\\n')"
   ]
  },
  {
   "cell_type": "code",
   "execution_count": 71,
   "metadata": {},
   "outputs": [
    {
     "name": "stdout",
     "output_type": "stream",
     "text": [
      "tensor(True)\n",
      "tensor(True)\n",
      "tensor(False)\n",
      "tensor([[1, 3, 6, 0],\n",
      "        [1, 0, 0, 0],\n",
      "        [1, 5, 0, 0]])\n"
     ]
    }
   ],
   "source": [
    "for i in range(len(a[0])-1):\n",
    "    b = b.logical_and(a[:,i+1] == 1)\n",
    "    a[b,i+1] = c[b,i]\n",
    "    print(b.any())\n",
    "print(a)"
   ]
  },
  {
   "cell_type": "code",
   "execution_count": 75,
   "metadata": {},
   "outputs": [
    {
     "data": {
      "text/plain": [
       "tensor(True)"
      ]
     },
     "execution_count": 75,
     "metadata": {},
     "output_type": "execute_result"
    }
   ],
   "source": [
    "(a[:,-1] == 0).all() # .any()"
   ]
  },
  {
   "cell_type": "code",
   "execution_count": null,
   "metadata": {},
   "outputs": [],
   "source": []
  },
  {
   "cell_type": "code",
   "execution_count": 75,
   "metadata": {},
   "outputs": [
    {
     "name": "stderr",
     "output_type": "stream",
     "text": [
      "Clipping input data to the valid range for imshow with RGB data ([0..1] for floats or [0..255] for integers).\n"
     ]
    },
    {
     "name": "stdout",
     "output_type": "stream",
     "text": [
      "torch.Size([3, 199, 299])\n"
     ]
    },
    {
     "data": {
      "text/plain": [
       "<matplotlib.image.AxesImage at 0x7fbfb52fd2d0>"
      ]
     },
     "execution_count": 75,
     "metadata": {},
     "output_type": "execute_result"
    },
    {
     "data": {
      "image/png": "[encoded data removed]",
      "text/plain": [
       "<Figure size 432x288 with 1 Axes>"
      ]
     },
     "metadata": {
      "needs_background": "light"
     },
     "output_type": "display_data"
    }
   ],
   "source": [
    "image_path = os.path.join(dataPath, split, img[0]['file_name'])\n",
    "image = Image.open(image_path)\n",
    "image = coco.val_transform(image)\n",
    "print(image.shape)\n",
    "plt.imshow(image.cpu().numpy().transpose((1,2,0)))"
   ]
  },
  {
   "cell_type": "code",
   "execution_count": 81,
   "metadata": {},
   "outputs": [
    {
     "name": "stderr",
     "output_type": "stream",
     "text": [
      "Clipping input data to the valid range for imshow with RGB data ([0..1] for floats or [0..255] for integers).\n"
     ]
    },
    {
     "name": "stdout",
     "output_type": "stream",
     "text": [
      "torch.Size([3, 299, 299])\n"
     ]
    },
    {
     "data": {
      "text/plain": [
       "<matplotlib.image.AxesImage at 0x7fbfc010ebd0>"
      ]
     },
     "execution_count": 81,
     "metadata": {},
     "output_type": "execute_result"
    },
    {
     "data": {
      "image/png": "[encoded data removed]",
      "text/plain": [
       "<Figure size 432x288 with 1 Axes>"
      ]
     },
     "metadata": {
      "needs_background": "light"
     },
     "output_type": "display_data"
    }
   ],
   "source": [
    "tr_transform = transforms.Compose([\n",
    "    transforms.Scale(299),\n",
    "    transforms.RandomCrop(299),\n",
    "    transforms.RandomHorizontalFlip(),\n",
    "    transforms.ToTensor(),\n",
    "    transforms.Normalize((0.5, 0.5, 0.5), (0.5, 0.5, 0.5))])\n",
    "image_path = os.path.join(dataPath, split, img[0]['file_name'])\n",
    "image = Image.open(image_path)\n",
    "image = tr_transform(image)\n",
    "print(image.shape)\n",
    "plt.imshow(image.cpu().numpy().transpose((1,2,0)))"
   ]
  },
  {
   "cell_type": "code",
   "execution_count": 1,
   "metadata": {},
   "outputs": [],
   "source": [
    "import torch"
   ]
  },
  {
   "cell_type": "code",
   "execution_count": 3,
   "metadata": {},
   "outputs": [],
   "source": [
    "check = torch.load('/media/MyDataStor2/zhanghex/torch-master/MMRL/code/catr/checkpoints/catr_damsm256_proj_vocab_coco2014_ep09.pth', map_location='cpu')"
   ]
  },
  {
   "cell_type": "code",
   "execution_count": 7,
   "metadata": {},
   "outputs": [
    {
     "name": "stdout",
     "output_type": "stream",
     "text": [
      "dict_keys(['model', 'optimizer', 'lr_scheduler', 'epoch'])\n",
      "dict_keys(['state', 'param_groups'])\n",
      "dict_keys(['lr', 'betas', 'eps', 'weight_decay', 'amsgrad', 'initial_lr', 'params'])\n",
      "dict_keys(['step_size', 'gamma', 'base_lrs', 'last_epoch', '_step_count', '_get_lr_called_within_step', '_last_lr'])\n"
     ]
    }
   ],
   "source": [
    "print(check.keys())\n",
    "print(check['optimizer'].keys())\n",
    "print(check['optimizer']['param_groups'][0].keys())\n",
    "print(check['lr_scheduler'].keys())"
   ]
  },
  {
   "cell_type": "code",
   "execution_count": 8,
   "metadata": {},
   "outputs": [
    {
     "name": "stdout",
     "output_type": "stream",
     "text": [
      "{'lr': 0.0001, 'betas': (0.9, 0.999), 'eps': 1e-08, 'weight_decay': 0.0001, 'amsgrad': False, 'initial_lr': 0.0001, 'params': [0, 1, 2, 3, 4, 5, 6, 7, 8, 9, 10, 11, 12, 13, 14, 15, 16, 17, 18, 19, 20, 21, 22, 23, 24, 25, 26, 27, 28, 29, 30, 31, 32, 33, 34, 35, 36, 37, 38, 39, 40, 41, 42, 43, 44, 45, 46, 47, 48, 49, 50, 51, 52, 53, 54, 55, 56, 57, 58, 59, 60, 61, 62, 63, 64, 65, 66, 67, 68, 69, 70, 71, 72, 73, 74, 75, 76, 77, 78, 79, 80, 81, 82, 83, 84, 85, 86, 87, 88, 89, 90, 91, 92, 93, 94, 95, 96, 97, 98, 99, 100, 101, 102, 103, 104, 105, 106, 107, 108, 109, 110, 111, 112, 113, 114, 115, 116, 117, 118, 119, 120, 121, 122, 123, 124, 125, 126, 127, 128, 129, 130, 131, 132, 133, 134, 135, 136, 137, 138, 139, 140, 141, 142, 143, 144, 145, 146, 147, 148, 149, 150, 151, 152, 153, 154, 155, 156, 157, 158, 159, 160, 161, 162, 163, 164, 165, 166, 167, 168, 169, 170, 171, 172, 173, 174, 175, 176, 177, 178, 179, 180, 181, 182, 183, 184, 185, 186, 187, 188, 189, 190, 191, 192, 193, 194, 195]}\n",
      "{'step_size': 20, 'gamma': 0.1, 'base_lrs': [0.0001, 0], 'last_epoch': 10, '_step_count': 11, '_get_lr_called_within_step': False, '_last_lr': [0.0001, 0]}\n"
     ]
    }
   ],
   "source": [
    "print(check['optimizer']['param_groups'][0])\n",
    "print(check['lr_scheduler'])"
   ]
  },
  {
   "cell_type": "code",
   "execution_count": 8,
   "metadata": {},
   "outputs": [
    {
     "name": "stdout",
     "output_type": "stream",
     "text": [
      "{'step_size': 3, 'gamma': 0.1, 'base_lrs': [0.0001], 'last_epoch': 0, '_step_count': 1, '_get_lr_called_within_step': False, '_last_lr': [0.0001]}\n",
      "{'lr': 0.0001, 'betas': (0.9, 0.999), 'eps': 1e-08, 'weight_decay': 0.0001, 'amsgrad': False, 'initial_lr': 0.0001, 'params': [0, 1, 2, 3, 4, 5, 6, 7, 8, 9, 10, 11, 12, 13, 14, 15, 16, 17, 18, 19, 20, 21, 22, 23, 24, 25, 26, 27, 28, 29, 30, 31, 32, 33, 34, 35, 36, 37, 38, 39, 40, 41, 42, 43, 44, 45, 46, 47, 48, 49, 50, 51, 52, 53, 54, 55, 56, 57, 58, 59, 60, 61, 62, 63, 64, 65, 66, 67, 68, 69, 70, 71, 72, 73, 74, 75, 76, 77, 78, 79, 80, 81, 82, 83, 84, 85, 86, 87, 88, 89, 90, 91, 92, 93, 94, 95, 96, 97, 98, 99, 100, 101, 102, 103, 104, 105, 106, 107, 108, 109, 110, 111, 112, 113, 114, 115, 116, 117, 118, 119, 120, 121, 122, 123, 124, 125, 126, 127, 128, 129, 130, 131, 132, 133, 134, 135, 136, 137, 138, 139, 140, 141, 142, 143, 144, 145, 146, 147, 148, 149, 150, 151, 152, 153, 154, 155, 156, 157, 158, 159, 160, 161, 162, 163, 164, 165, 166, 167, 168, 169, 170, 171, 172, 173, 174, 175, 176, 177, 178, 179, 180, 181, 182, 183, 184, 185, 186, 187, 188, 189, 190, 191, 192, 193, 194, 195, 196, 197, 198, 199, 200, 201, 202, 203, 204, 205, 206, 207, 208, 209, 210, 211, 212, 213, 214, 215, 216, 217, 218, 219, 220, 221, 222, 223, 224, 225, 226, 227, 228, 229, 230, 231, 232, 233, 234, 235, 236, 237, 238, 239, 240, 241, 242, 243, 244, 245, 246, 247, 248, 249, 250, 251, 252, 253, 254, 255, 256, 257, 258, 259, 260, 261, 262, 263, 264, 265, 266, 267, 268, 269, 270, 271, 272, 273, 274, 275, 276, 277, 278, 279, 280, 281, 282, 283, 284, 285, 286, 287, 288, 289, 290, 291, 292, 293, 294, 295, 296, 297, 298, 299]}\n"
     ]
    }
   ],
   "source": [
    "config = Config()\n",
    "optimizer = torch.optim.AdamW(\n",
    "        model.parameters(), lr=config.lr, weight_decay=config.weight_decay)\n",
    "sch_t = torch.optim.lr_scheduler.StepLR(optimizer, config.lr_drop)\n",
    "print(sch_t.state_dict())\n",
    "print(optimizer.state_dict()['param_groups'][0])"
   ]
  },
  {
   "cell_type": "code",
   "execution_count": 11,
   "metadata": {},
   "outputs": [
    {
     "name": "stdout",
     "output_type": "stream",
     "text": [
      "{'step_size': 3, 'gamma': 0.1, 'base_lrs': [0.0001], 'last_epoch': 3, '_step_count': 4, '_get_lr_called_within_step': False, '_last_lr': [1e-05]}\n",
      "{'lr': 1e-05, 'betas': (0.9, 0.999), 'eps': 1e-08, 'weight_decay': 0.0001, 'amsgrad': False, 'initial_lr': 0.0001, 'params': [0, 1, 2, 3, 4, 5, 6, 7, 8, 9, 10, 11, 12, 13, 14, 15, 16, 17, 18, 19, 20, 21, 22, 23, 24, 25, 26, 27, 28, 29, 30, 31, 32, 33, 34, 35, 36, 37, 38, 39, 40, 41, 42, 43, 44, 45, 46, 47, 48, 49, 50, 51, 52, 53, 54, 55, 56, 57, 58, 59, 60, 61, 62, 63, 64, 65, 66, 67, 68, 69, 70, 71, 72, 73, 74, 75, 76, 77, 78, 79, 80, 81, 82, 83, 84, 85, 86, 87, 88, 89, 90, 91, 92, 93, 94, 95, 96, 97, 98, 99, 100, 101, 102, 103, 104, 105, 106, 107, 108, 109, 110, 111, 112, 113, 114, 115, 116, 117, 118, 119, 120, 121, 122, 123, 124, 125, 126, 127, 128, 129, 130, 131, 132, 133, 134, 135, 136, 137, 138, 139, 140, 141, 142, 143, 144, 145, 146, 147, 148, 149, 150, 151, 152, 153, 154, 155, 156, 157, 158, 159, 160, 161, 162, 163, 164, 165, 166, 167, 168, 169, 170, 171, 172, 173, 174, 175, 176, 177, 178, 179, 180, 181, 182, 183, 184, 185, 186, 187, 188, 189, 190, 191, 192, 193, 194, 195, 196, 197, 198, 199, 200, 201, 202, 203, 204, 205, 206, 207, 208, 209, 210, 211, 212, 213, 214, 215, 216, 217, 218, 219, 220, 221, 222, 223, 224, 225, 226, 227, 228, 229, 230, 231, 232, 233, 234, 235, 236, 237, 238, 239, 240, 241, 242, 243, 244, 245, 246, 247, 248, 249, 250, 251, 252, 253, 254, 255, 256, 257, 258, 259, 260, 261, 262, 263, 264, 265, 266, 267, 268, 269, 270, 271, 272, 273, 274, 275, 276, 277, 278, 279, 280, 281, 282, 283, 284, 285, 286, 287, 288, 289, 290, 291, 292, 293, 294, 295, 296, 297, 298, 299]}\n"
     ]
    }
   ],
   "source": [
    "sch_t.step()\n",
    "print(sch_t.state_dict())\n",
    "print(optimizer.state_dict()['param_groups'][0])"
   ]
  },
  {
   "cell_type": "code",
   "execution_count": 14,
   "metadata": {},
   "outputs": [
    {
     "data": {
      "text/plain": [
       "{'step_size': 0,\n",
       " 'gamma': 0.1,\n",
       " 'base_lrs': [1e-05],\n",
       " 'last_epoch': 0,\n",
       " '_step_count': 1,\n",
       " '_get_lr_called_within_step': False,\n",
       " '_last_lr': [0.0001]}"
      ]
     },
     "execution_count": 14,
     "metadata": {},
     "output_type": "execute_result"
    }
   ],
   "source": [
    "sch_t.base_lrs[0] = 1e-5\n",
    "sch_t._last_lrs[0] = 1e-5\n",
    "sch_t.state_dict()"
   ]
  },
  {
   "cell_type": "code",
   "execution_count": null,
   "metadata": {},
   "outputs": [],
   "source": []
  }
 ],
 "metadata": {
  "kernelspec": {
   "display_name": "Python 3",
   "language": "python",
   "name": "python3"
  },
  "language_info": {
   "codemirror_mode": {
    "name": "ipython",
    "version": 3
   },
   "file_extension": ".py",
   "mimetype": "text/x-python",
   "name": "python",
   "nbconvert_exporter": "python",
   "pygments_lexer": "ipython3",
   "version": "3.7.7"
  }
 },
 "nbformat": 4,
 "nbformat_minor": 4
}
