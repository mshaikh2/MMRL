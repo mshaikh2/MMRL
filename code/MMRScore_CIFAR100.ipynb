{
 "cells": [
  {
   "cell_type": "code",
   "execution_count": 101,
   "metadata": {
    "scrolled": true
   },
   "outputs": [],
   "source": [
    "from __future__ import print_function\n",
    "from six.moves import range\n",
    "\n",
    "import matplotlib.pyplot as plt\n",
    "from mpl_toolkits.axes_grid1 import ImageGrid\n",
    "import numpy as np\n",
    "from sklearn.metrics.pairwise import cosine_similarity,euclidean_distances,cosine_distances\n",
    "import time\n",
    "import sys\n",
    "import warnings\n",
    "import os\n",
    "import pickle\n",
    "import pandas as pd\n",
    "import PIL\n",
    "from tqdm import tqdm_notebook\n",
    "from keras.applications.inception_v3 import preprocess_input\n",
    "os.environ[\"CUDA_VISIBLE_DEVICES\"] = \"1\"\n",
    "if not sys.warnoptions:\n",
    "    warnings.simplefilter(\"ignore\")\n",
    "import torch\n",
    "import torch.nn as nn\n",
    "import torch.optim as optim\n",
    "from torch.autograd import Variable\n",
    "import torch.backends.cudnn as cudnn\n",
    "from miscc.config import cfg, cfg_from_file\n",
    "from PIL import Image\n",
    "import datetime\n",
    "import dateutil.tz\n",
    "from datasets import TextDataset\n",
    "from miscc.utils import mkdir_p\n",
    "from miscc.utils import build_super_images, build_super_images2\n",
    "from miscc.utils import weights_init, load_params, copy_G_params\n",
    "from model import G_DCGAN, G_NET\n",
    "from datasets import prepare_data\n",
    "from model import TEXT_TRANSFORMER_ENCODERv2, CNN_ENCODER\n",
    "# from InceptionScore import calculate_inception_score\n",
    "from miscc.losses import words_loss\n",
    "from miscc.losses import discriminator_loss, generator_loss, KL_loss\n",
    "import torchvision.transforms as transforms\n",
    "from scipy.linalg import sqrtm"
   ]
  },
  {
   "cell_type": "code",
   "execution_count": 2,
   "metadata": {},
   "outputs": [],
   "source": [
    "with open('../data/cifar/cifar_labels.pickle','rb') as f:\n",
    "    cifar_mapping = pickle.load(f)\n",
    "clabel_texts = cifar_mapping['coarse_label']\n",
    "mlabel_texts = cifar_mapping['mapping']"
   ]
  },
  {
   "cell_type": "code",
   "execution_count": 3,
   "metadata": {},
   "outputs": [],
   "source": [
    "# def cosine_similarity(x1, x2, dim=1, eps=1e-8):\n",
    "#     \"\"\"Returns cosine similarity between x1 and x2, computed along dim.\n",
    "#     \"\"\"\n",
    "#     w12 = np.sum(x1 * x2, dim)\n",
    "#     w1 = np.linalg.norm(x1, 2, dim)\n",
    "#     w2 = np.linalg.norm(x2, 2, dim)\n",
    "#     return (w12 / np.clip(w1 * w2,a_min=eps,a_max=1e8)).squeeze()"
   ]
  },
  {
   "cell_type": "code",
   "execution_count": 4,
   "metadata": {},
   "outputs": [],
   "source": [
    "class parse_args():\n",
    "    cfg_file='../code/cfg/coco_attn2.yml'\n",
    "    gpu_id=0\n",
    "    data_dir='../data/coco/'\n",
    "    manualSeed=1\n",
    "args = parse_args()"
   ]
  },
  {
   "cell_type": "code",
   "execution_count": 5,
   "metadata": {},
   "outputs": [],
   "source": [
    "def w2i(w=''):\n",
    "    return [i for i, val in enumerate(np.array(clabel_texts)==w) if val]\n",
    "def id2imgidx(i=0):\n",
    "    return [i for i, val in enumerate(y_test==i) if val]\n",
    "def fid(act1,act2):\n",
    "    mu1, sigma1 = act1.mean(axis=0), np.cov(act1, rowvar=False)\n",
    "    mu2, sigma2 = act2.mean(axis=0), np.cov(act2, rowvar=False)\n",
    "    # calculate sum squared difference between means\n",
    "    ssdiff = np.sum((mu1 - mu2)**2.0)\n",
    "    # calculate sqrt of product between cov\n",
    "    covmean = sqrtm(sigma1.dot(sigma2))\n",
    "    # check and correct imaginary numbers from sqrt\n",
    "    if np.iscomplexobj(covmean):\n",
    "        covmean = covmean.real\n",
    "    # calculate score\n",
    "    fid = ssdiff + np.trace(sigma1 + sigma2 - 2.0 * covmean)\n",
    "    return fid"
   ]
  },
  {
   "cell_type": "code",
   "execution_count": 6,
   "metadata": {},
   "outputs": [
    {
     "name": "stdout",
     "output_type": "stream",
     "text": [
      "Using config:\n"
     ]
    },
    {
     "data": {
      "text/plain": [
       "{'DATASET_NAME': 'coco',\n",
       " 'CONFIG_NAME': 'glu-gan2',\n",
       " 'DATA_DIR': '../data/coco/',\n",
       " 'GPU_ID': 0,\n",
       " 'CUDA': True,\n",
       " 'WORKERS': 4,\n",
       " 'RNN_TYPE': 'LSTM',\n",
       " 'B_VALIDATION': False,\n",
       " 'TREE': {'BRANCH_NUM': 3, 'BASE_SIZE': 64},\n",
       " 'TRAIN': {'BATCH_SIZE': 14,\n",
       "  'MAX_EPOCH': 130,\n",
       "  'SNAPSHOT_INTERVAL': 2,\n",
       "  'DISCRIMINATOR_LR': 0.0002,\n",
       "  'GENERATOR_LR': 0.0002,\n",
       "  'ENCODER_LR': 0.0002,\n",
       "  'RNN_GRAD_CLIP': 0.25,\n",
       "  'FLAG': True,\n",
       "  'NET_E': '../DAMSMencoders/coco/text_encoder240.pth',\n",
       "  'NET_G': '../output/coco_glu-gan2_2020_10_13_23_16_32/Model/netG_epoch_120.pth',\n",
       "  'B_NET_D': True,\n",
       "  'SMOOTH': {'GAMMA1': 4.0, 'GAMMA3': 10.0, 'GAMMA2': 5.0, 'LAMBDA': 50.0}},\n",
       " 'GAN': {'DF_DIM': 96,\n",
       "  'GF_DIM': 48,\n",
       "  'Z_DIM': 100,\n",
       "  'CONDITION_DIM': 100,\n",
       "  'R_NUM': 3,\n",
       "  'B_ATTENTION': True,\n",
       "  'B_DCGAN': False},\n",
       " 'TEXT': {'CAPTIONS_PER_IMAGE': 5, 'EMBEDDING_DIM': 256, 'WORDS_NUM': 15}}"
      ]
     },
     "metadata": {},
     "output_type": "display_data"
    }
   ],
   "source": [
    "args = parse_args()\n",
    "if args.cfg_file is not None:\n",
    "    cfg_from_file(args.cfg_file)\n",
    "\n",
    "if args.gpu_id == -1:\n",
    "    cfg.CUDA = False\n",
    "else:\n",
    "    cfg.GPU_ID = args.gpu_id\n",
    "\n",
    "if args.data_dir != '':\n",
    "    cfg.DATA_DIR = args.data_dir\n",
    "    \n",
    "\n",
    "print('Using config:')\n",
    "display(cfg)\n",
    "\n",
    "split_dir, bshuffle = 'train', True\n",
    "if not cfg.TRAIN.FLAG:\n",
    "    # bshuffle = False\n",
    "    split_dir = 'test'"
   ]
  },
  {
   "cell_type": "code",
   "execution_count": 281,
   "metadata": {},
   "outputs": [
    {
     "data": {
      "text/plain": [
       "304.0"
      ]
     },
     "execution_count": 281,
     "metadata": {},
     "output_type": "execute_result"
    }
   ],
   "source": [
    "imsize = cfg.TREE.BASE_SIZE * (2 ** (cfg.TREE.BRANCH_NUM-1))\n",
    "imsize*76/64"
   ]
  },
  {
   "cell_type": "code",
   "execution_count": 7,
   "metadata": {},
   "outputs": [
    {
     "name": "stdout",
     "output_type": "stream",
     "text": [
      "Load filenames from: ../data/coco//train/filenames.pickle (82783)\n",
      "Load filenames from: ../data/coco//test/filenames.pickle (40470)\n",
      "Load from:  ../data/coco/captions.pickle\n",
      "../data/coco/train\n"
     ]
    }
   ],
   "source": [
    "imsize = cfg.TREE.BASE_SIZE * (2 ** (cfg.TREE.BRANCH_NUM - 1))\n",
    "image_transform = transforms.Compose([\n",
    "    transforms.Scale(int(imsize * 76 / 64)),\n",
    "    transforms.RandomCrop(imsize),\n",
    "    transforms.RandomHorizontalFlip()])\n",
    "dataset = TextDataset(cfg.DATA_DIR, split_dir,\n",
    "                      base_size=cfg.TREE.BASE_SIZE,\n",
    "                      transform=image_transform)\n",
    "assert dataset"
   ]
  },
  {
   "cell_type": "code",
   "execution_count": 8,
   "metadata": {},
   "outputs": [
    {
     "name": "stdout",
     "output_type": "stream",
     "text": [
      "Load text encoder from: ../DAMSMencoders/coco/text_encoder240.pth\n",
      "Load pretrained model from  https://download.pytorch.org/models/inception_v3_google-1a9a5a14.pth\n",
      "Load image encoder from: ../DAMSMencoders/coco/image_encoder240.pth\n"
     ]
    }
   ],
   "source": [
    "if cfg.TRAIN.NET_G == '':\n",
    "    print('Error: the path for generator models is not found!')\n",
    "else:\n",
    "    \n",
    "    # Build and load the generator\n",
    "    if cfg.GAN.B_DCGAN:\n",
    "        netG = G_DCGAN()\n",
    "    else:\n",
    "        netG = G_NET()\n",
    "    netG.apply(weights_init)\n",
    "    netG.cuda()\n",
    "    netG.eval()\n",
    "    #\n",
    "    text_encoder = TEXT_TRANSFORMER_ENCODERv2(emb=cfg.TEXT.EMBEDDING_DIM\n",
    "                                    ,heads=8\n",
    "                                    ,depth=1\n",
    "                                    ,seq_length=cfg.TEXT.WORDS_NUM\n",
    "                                    ,num_tokens=dataset.n_words)\n",
    "    state_dict = \\\n",
    "        torch.load(cfg.TRAIN.NET_E, map_location=lambda storage, loc: storage)\n",
    "    text_encoder.load_state_dict(state_dict)\n",
    "    print('Load text encoder from:', cfg.TRAIN.NET_E)\n",
    "    text_encoder = text_encoder.cuda()\n",
    "    text_encoder.eval()\n",
    "\n",
    "    image_encoder = CNN_ENCODER(cfg.TEXT.EMBEDDING_DIM)\n",
    "    img_encoder_path = cfg.TRAIN.NET_E.replace('text_encoder', 'image_encoder')\n",
    "    state_dict = \\\n",
    "        torch.load(img_encoder_path, map_location=lambda storage, loc: storage)\n",
    "    image_encoder.load_state_dict(state_dict)\n",
    "    for p in image_encoder.parameters():\n",
    "        p.requires_grad = False\n",
    "    print('Load image encoder from:', img_encoder_path)\n",
    "    image_encoder.eval()\n"
   ]
  },
  {
   "cell_type": "code",
   "execution_count": 9,
   "metadata": {},
   "outputs": [],
   "source": [
    "from keras.datasets import cifar100"
   ]
  },
  {
   "cell_type": "code",
   "execution_count": 43,
   "metadata": {},
   "outputs": [],
   "source": [
    "(x_train, y_train), (x_test, y_test) = cifar100.load_data()"
   ]
  },
  {
   "cell_type": "code",
   "execution_count": 358,
   "metadata": {},
   "outputs": [],
   "source": [
    "selected_id = w2i('aquarium_fish')[0]\n",
    "ids = id2imgidx(selected_id)"
   ]
  },
  {
   "cell_type": "code",
   "execution_count": 359,
   "metadata": {},
   "outputs": [],
   "source": [
    "# imgs = []\n",
    "# for im in x_test[ids]:\n",
    "#     imgs.append(np.asarray(Image.fromarray(im).resize((299,299),PIL.Image.ANTIALIAS),dtype=np.float32))\n",
    "# imgs = np.array(imgs)"
   ]
  },
  {
   "cell_type": "code",
   "execution_count": 360,
   "metadata": {},
   "outputs": [
    {
     "data": {
      "image/png": "[encoded data removed]",
      "text/plain": [
       "<Figure size 432x432 with 32 Axes>"
      ]
     },
     "metadata": {
      "needs_background": "light"
     },
     "output_type": "display_data"
    },
    {
     "name": "stdout",
     "output_type": "stream",
     "text": [
      "aquarium_fish\n"
     ]
    }
   ],
   "source": [
    "\n",
    "\n",
    "im1 = np.arange(100).reshape((10, 10))\n",
    "im2 = im1.T\n",
    "im3 = np.flipud(im1)\n",
    "im4 = np.fliplr(im2)\n",
    "\n",
    "fig = plt.figure(figsize=(6., 6.))\n",
    "grid = ImageGrid(fig, 111,  # similar to subplot(111)\n",
    "                 nrows_ncols=(4, 4),  # creates 2x2 grid of axes\n",
    "                 axes_pad=0.05,  # pad between axes in inch.\n",
    "         )\n",
    "\n",
    "for ax, im in zip(grid, x_test[ids][:16]):\n",
    "    # Iterating over the grid returns the Axes.\n",
    "    ax.imshow(im)\n",
    "\n",
    "plt.show()\n",
    "print(clabel_texts[selected_id])"
   ]
  },
  {
   "cell_type": "code",
   "execution_count": 47,
   "metadata": {},
   "outputs": [],
   "source": [
    "imgs = preprocess_input(x_test[ids])"
   ]
  },
  {
   "cell_type": "code",
   "execution_count": 48,
   "metadata": {},
   "outputs": [
    {
     "data": {
      "text/plain": [
       "(-1.0, 1.0)"
      ]
     },
     "execution_count": 48,
     "metadata": {},
     "output_type": "execute_result"
    }
   ],
   "source": [
    "imgs.min(),imgs.max()"
   ]
  },
  {
   "cell_type": "code",
   "execution_count": 49,
   "metadata": {},
   "outputs": [
    {
     "name": "stdout",
     "output_type": "stream",
     "text": [
      "(100, 32, 32, 3)\n",
      "(100, 3, 32, 32)\n"
     ]
    }
   ],
   "source": [
    "print(imgs.shape)\n",
    "i = np.rollaxis(imgs,axis=3,start=1)\n",
    "i = np.asarray(i,dtype=np.float32)\n",
    "print(i.shape)"
   ]
  },
  {
   "cell_type": "code",
   "execution_count": null,
   "metadata": {},
   "outputs": [],
   "source": []
  },
  {
   "cell_type": "code",
   "execution_count": 50,
   "metadata": {},
   "outputs": [],
   "source": [
    "img_inp = torch.tensor(i)"
   ]
  },
  {
   "cell_type": "code",
   "execution_count": 51,
   "metadata": {},
   "outputs": [],
   "source": [
    "r_emb, i_emb = image_encoder(img_inp)"
   ]
  },
  {
   "cell_type": "code",
   "execution_count": 52,
   "metadata": {},
   "outputs": [
    {
     "data": {
      "text/plain": [
       "(torch.Size([100, 256, 17, 17]), torch.Size([100, 256]))"
      ]
     },
     "execution_count": 52,
     "metadata": {},
     "output_type": "execute_result"
    }
   ],
   "source": [
    "r_emb.shape,i_emb.shape"
   ]
  },
  {
   "cell_type": "code",
   "execution_count": 53,
   "metadata": {},
   "outputs": [],
   "source": [
    "i_emb = np.asarray(i_emb.detach().cpu())\n"
   ]
  },
  {
   "cell_type": "code",
   "execution_count": 83,
   "metadata": {},
   "outputs": [
    {
     "name": "stdout",
     "output_type": "stream",
     "text": [
      "13\n",
      "bus\n",
      "tensor([[63]], device='cuda:0')\n"
     ]
    }
   ],
   "source": [
    "selected_id = w2i('bus')[0]\n",
    "print(selected_id)\n",
    "print(clabel_texts[selected_id])\n",
    "t_inp = [dataset.wordtoix[x] for x in [clabel_texts[selected_id]]]\n",
    "text_inp = torch.tensor(np.array([t_inp])).cuda()\n",
    "print(text_inp)"
   ]
  },
  {
   "cell_type": "code",
   "execution_count": 84,
   "metadata": {},
   "outputs": [],
   "source": [
    "w_emb,s_emb = text_encoder(text_inp)"
   ]
  },
  {
   "cell_type": "code",
   "execution_count": 85,
   "metadata": {},
   "outputs": [
    {
     "data": {
      "text/plain": [
       "(torch.Size([1, 256, 1]), torch.Size([1, 256]))"
      ]
     },
     "execution_count": 85,
     "metadata": {},
     "output_type": "execute_result"
    }
   ],
   "source": [
    "w_emb.shape, s_emb.shape"
   ]
  },
  {
   "cell_type": "code",
   "execution_count": 86,
   "metadata": {},
   "outputs": [],
   "source": [
    "s_emb = np.asarray(s_emb.detach().cpu())\n"
   ]
  },
  {
   "cell_type": "code",
   "execution_count": 87,
   "metadata": {},
   "outputs": [
    {
     "data": {
      "text/plain": [
       "((1, 256), (100, 256))"
      ]
     },
     "execution_count": 87,
     "metadata": {},
     "output_type": "execute_result"
    }
   ],
   "source": [
    "s_emb.shape,i_emb.shape"
   ]
  },
  {
   "cell_type": "code",
   "execution_count": 88,
   "metadata": {},
   "outputs": [],
   "source": [
    "# [x for x in zip(emb,w_emb[0])]"
   ]
  },
  {
   "cell_type": "code",
   "execution_count": 89,
   "metadata": {
    "scrolled": true
   },
   "outputs": [],
   "source": [
    "sims = []\n",
    "for emb in i_emb:\n",
    "    sims.append(cosine_similarity([emb],s_emb))\n",
    "# sims"
   ]
  },
  {
   "cell_type": "code",
   "execution_count": 90,
   "metadata": {},
   "outputs": [
    {
     "data": {
      "text/plain": [
       "658.765511474636"
      ]
     },
     "execution_count": 90,
     "metadata": {},
     "output_type": "execute_result"
    }
   ],
   "source": [
    "fid(s_emb,np.array(i_emb))"
   ]
  },
  {
   "cell_type": "code",
   "execution_count": 91,
   "metadata": {},
   "outputs": [],
   "source": [
    "df = pd.DataFrame()\n",
    "df['sims'] = [float(x) for x in sims]"
   ]
  },
  {
   "cell_type": "code",
   "execution_count": 130,
   "metadata": {},
   "outputs": [
    {
     "data": {
      "text/html": [
       "<div>\n",
       "<style scoped>\n",
       "    .dataframe tbody tr th:only-of-type {\n",
       "        vertical-align: middle;\n",
       "    }\n",
       "\n",
       "    .dataframe tbody tr th {\n",
       "        vertical-align: top;\n",
       "    }\n",
       "\n",
       "    .dataframe thead th {\n",
       "        text-align: right;\n",
       "    }\n",
       "</style>\n",
       "<table border=\"1\" class=\"dataframe\">\n",
       "  <thead>\n",
       "    <tr style=\"text-align: right;\">\n",
       "      <th></th>\n",
       "      <th>sims</th>\n",
       "    </tr>\n",
       "  </thead>\n",
       "  <tbody>\n",
       "    <tr>\n",
       "      <td>count</td>\n",
       "      <td>100.000000</td>\n",
       "    </tr>\n",
       "    <tr>\n",
       "      <td>mean</td>\n",
       "      <td>0.240041</td>\n",
       "    </tr>\n",
       "    <tr>\n",
       "      <td>std</td>\n",
       "      <td>0.071597</td>\n",
       "    </tr>\n",
       "    <tr>\n",
       "      <td>min</td>\n",
       "      <td>0.043602</td>\n",
       "    </tr>\n",
       "    <tr>\n",
       "      <td>25%</td>\n",
       "      <td>0.189629</td>\n",
       "    </tr>\n",
       "    <tr>\n",
       "      <td>50%</td>\n",
       "      <td>0.235504</td>\n",
       "    </tr>\n",
       "    <tr>\n",
       "      <td>75%</td>\n",
       "      <td>0.291160</td>\n",
       "    </tr>\n",
       "    <tr>\n",
       "      <td>max</td>\n",
       "      <td>0.389651</td>\n",
       "    </tr>\n",
       "  </tbody>\n",
       "</table>\n",
       "</div>"
      ],
      "text/plain": [
       "             sims\n",
       "count  100.000000\n",
       "mean     0.240041\n",
       "std      0.071597\n",
       "min      0.043602\n",
       "25%      0.189629\n",
       "50%      0.235504\n",
       "75%      0.291160\n",
       "max      0.389651"
      ]
     },
     "execution_count": 130,
     "metadata": {},
     "output_type": "execute_result"
    }
   ],
   "source": [
    "# list(sims)\n",
    "df.describe()"
   ]
  },
  {
   "cell_type": "code",
   "execution_count": 100,
   "metadata": {},
   "outputs": [
    {
     "data": {
      "text/plain": [
       "-0.03780492545105517"
      ]
     },
     "execution_count": 100,
     "metadata": {},
     "output_type": "execute_result"
    }
   ],
   "source": [
    "df.describe().T['mean'].values[0]"
   ]
  },
  {
   "cell_type": "code",
   "execution_count": 384,
   "metadata": {
    "scrolled": true
   },
   "outputs": [],
   "source": [
    "clabel_texts[2]='baby'"
   ]
  },
  {
   "cell_type": "code",
   "execution_count": 423,
   "metadata": {
    "scrolled": true
   },
   "outputs": [
    {
     "data": {
      "application/vnd.jupyter.widget-view+json": {
       "model_id": "9cda32725a0848beb79822d9beb5adae",
       "version_major": 2,
       "version_minor": 0
      },
      "text/plain": [
       "HBox(children=(IntProgress(value=0), HTML(value='')))"
      ]
     },
     "metadata": {},
     "output_type": "display_data"
    },
    {
     "data": {
      "application/vnd.jupyter.widget-view+json": {
       "model_id": "",
       "version_major": 2,
       "version_minor": 0
      },
      "text/plain": [
       "HBox(children=(IntProgress(value=0), HTML(value='')))"
      ]
     },
     "metadata": {},
     "output_type": "display_data"
    },
    {
     "data": {
      "application/vnd.jupyter.widget-view+json": {
       "model_id": "",
       "version_major": 2,
       "version_minor": 0
      },
      "text/plain": [
       "HBox(children=(IntProgress(value=0), HTML(value='')))"
      ]
     },
     "metadata": {},
     "output_type": "display_data"
    },
    {
     "data": {
      "application/vnd.jupyter.widget-view+json": {
       "model_id": "",
       "version_major": 2,
       "version_minor": 0
      },
      "text/plain": [
       "HBox(children=(IntProgress(value=0), HTML(value='')))"
      ]
     },
     "metadata": {},
     "output_type": "display_data"
    },
    {
     "data": {
      "application/vnd.jupyter.widget-view+json": {
       "model_id": "",
       "version_major": 2,
       "version_minor": 0
      },
      "text/plain": [
       "HBox(children=(IntProgress(value=0), HTML(value='')))"
      ]
     },
     "metadata": {},
     "output_type": "display_data"
    },
    {
     "data": {
      "application/vnd.jupyter.widget-view+json": {
       "model_id": "",
       "version_major": 2,
       "version_minor": 0
      },
      "text/plain": [
       "HBox(children=(IntProgress(value=0), HTML(value='')))"
      ]
     },
     "metadata": {},
     "output_type": "display_data"
    },
    {
     "data": {
      "application/vnd.jupyter.widget-view+json": {
       "model_id": "",
       "version_major": 2,
       "version_minor": 0
      },
      "text/plain": [
       "HBox(children=(IntProgress(value=0), HTML(value='')))"
      ]
     },
     "metadata": {},
     "output_type": "display_data"
    },
    {
     "data": {
      "application/vnd.jupyter.widget-view+json": {
       "model_id": "",
       "version_major": 2,
       "version_minor": 0
      },
      "text/plain": [
       "HBox(children=(IntProgress(value=0), HTML(value='')))"
      ]
     },
     "metadata": {},
     "output_type": "display_data"
    },
    {
     "data": {
      "application/vnd.jupyter.widget-view+json": {
       "model_id": "",
       "version_major": 2,
       "version_minor": 0
      },
      "text/plain": [
       "HBox(children=(IntProgress(value=0), HTML(value='')))"
      ]
     },
     "metadata": {},
     "output_type": "display_data"
    },
    {
     "data": {
      "application/vnd.jupyter.widget-view+json": {
       "model_id": "",
       "version_major": 2,
       "version_minor": 0
      },
      "text/plain": [
       "HBox(children=(IntProgress(value=0), HTML(value='')))"
      ]
     },
     "metadata": {},
     "output_type": "display_data"
    },
    {
     "data": {
      "application/vnd.jupyter.widget-view+json": {
       "model_id": "",
       "version_major": 2,
       "version_minor": 0
      },
      "text/plain": [
       "HBox(children=(IntProgress(value=0), HTML(value='')))"
      ]
     },
     "metadata": {},
     "output_type": "display_data"
    },
    {
     "data": {
      "application/vnd.jupyter.widget-view+json": {
       "model_id": "",
       "version_major": 2,
       "version_minor": 0
      },
      "text/plain": [
       "HBox(children=(IntProgress(value=0), HTML(value='')))"
      ]
     },
     "metadata": {},
     "output_type": "display_data"
    },
    {
     "data": {
      "application/vnd.jupyter.widget-view+json": {
       "model_id": "",
       "version_major": 2,
       "version_minor": 0
      },
      "text/plain": [
       "HBox(children=(IntProgress(value=0), HTML(value='')))"
      ]
     },
     "metadata": {},
     "output_type": "display_data"
    },
    {
     "data": {
      "application/vnd.jupyter.widget-view+json": {
       "model_id": "",
       "version_major": 2,
       "version_minor": 0
      },
      "text/plain": [
       "HBox(children=(IntProgress(value=0), HTML(value='')))"
      ]
     },
     "metadata": {},
     "output_type": "display_data"
    },
    {
     "data": {
      "application/vnd.jupyter.widget-view+json": {
       "model_id": "",
       "version_major": 2,
       "version_minor": 0
      },
      "text/plain": [
       "HBox(children=(IntProgress(value=0), HTML(value='')))"
      ]
     },
     "metadata": {},
     "output_type": "display_data"
    },
    {
     "data": {
      "application/vnd.jupyter.widget-view+json": {
       "model_id": "",
       "version_major": 2,
       "version_minor": 0
      },
      "text/plain": [
       "HBox(children=(IntProgress(value=0), HTML(value='')))"
      ]
     },
     "metadata": {},
     "output_type": "display_data"
    },
    {
     "data": {
      "application/vnd.jupyter.widget-view+json": {
       "model_id": "",
       "version_major": 2,
       "version_minor": 0
      },
      "text/plain": [
       "HBox(children=(IntProgress(value=0), HTML(value='')))"
      ]
     },
     "metadata": {},
     "output_type": "display_data"
    },
    {
     "data": {
      "application/vnd.jupyter.widget-view+json": {
       "model_id": "",
       "version_major": 2,
       "version_minor": 0
      },
      "text/plain": [
       "HBox(children=(IntProgress(value=0), HTML(value='')))"
      ]
     },
     "metadata": {},
     "output_type": "display_data"
    },
    {
     "data": {
      "application/vnd.jupyter.widget-view+json": {
       "model_id": "",
       "version_major": 2,
       "version_minor": 0
      },
      "text/plain": [
       "HBox(children=(IntProgress(value=0), HTML(value='')))"
      ]
     },
     "metadata": {},
     "output_type": "display_data"
    },
    {
     "data": {
      "application/vnd.jupyter.widget-view+json": {
       "model_id": "",
       "version_major": 2,
       "version_minor": 0
      },
      "text/plain": [
       "HBox(children=(IntProgress(value=0), HTML(value='')))"
      ]
     },
     "metadata": {},
     "output_type": "display_data"
    },
    {
     "data": {
      "application/vnd.jupyter.widget-view+json": {
       "model_id": "",
       "version_major": 2,
       "version_minor": 0
      },
      "text/plain": [
       "HBox(children=(IntProgress(value=0), HTML(value='')))"
      ]
     },
     "metadata": {},
     "output_type": "display_data"
    },
    {
     "data": {
      "application/vnd.jupyter.widget-view+json": {
       "model_id": "",
       "version_major": 2,
       "version_minor": 0
      },
      "text/plain": [
       "HBox(children=(IntProgress(value=0), HTML(value='')))"
      ]
     },
     "metadata": {},
     "output_type": "display_data"
    },
    {
     "data": {
      "application/vnd.jupyter.widget-view+json": {
       "model_id": "",
       "version_major": 2,
       "version_minor": 0
      },
      "text/plain": [
       "HBox(children=(IntProgress(value=0), HTML(value='')))"
      ]
     },
     "metadata": {},
     "output_type": "display_data"
    },
    {
     "data": {
      "application/vnd.jupyter.widget-view+json": {
       "model_id": "",
       "version_major": 2,
       "version_minor": 0
      },
      "text/plain": [
       "HBox(children=(IntProgress(value=0), HTML(value='')))"
      ]
     },
     "metadata": {},
     "output_type": "display_data"
    },
    {
     "data": {
      "application/vnd.jupyter.widget-view+json": {
       "model_id": "",
       "version_major": 2,
       "version_minor": 0
      },
      "text/plain": [
       "HBox(children=(IntProgress(value=0), HTML(value='')))"
      ]
     },
     "metadata": {},
     "output_type": "display_data"
    },
    {
     "data": {
      "application/vnd.jupyter.widget-view+json": {
       "model_id": "",
       "version_major": 2,
       "version_minor": 0
      },
      "text/plain": [
       "HBox(children=(IntProgress(value=0), HTML(value='')))"
      ]
     },
     "metadata": {},
     "output_type": "display_data"
    },
    {
     "data": {
      "application/vnd.jupyter.widget-view+json": {
       "model_id": "",
       "version_major": 2,
       "version_minor": 0
      },
      "text/plain": [
       "HBox(children=(IntProgress(value=0), HTML(value='')))"
      ]
     },
     "metadata": {},
     "output_type": "display_data"
    },
    {
     "data": {
      "application/vnd.jupyter.widget-view+json": {
       "model_id": "",
       "version_major": 2,
       "version_minor": 0
      },
      "text/plain": [
       "HBox(children=(IntProgress(value=0), HTML(value='')))"
      ]
     },
     "metadata": {},
     "output_type": "display_data"
    },
    {
     "data": {
      "application/vnd.jupyter.widget-view+json": {
       "model_id": "",
       "version_major": 2,
       "version_minor": 0
      },
      "text/plain": [
       "HBox(children=(IntProgress(value=0), HTML(value='')))"
      ]
     },
     "metadata": {},
     "output_type": "display_data"
    },
    {
     "data": {
      "application/vnd.jupyter.widget-view+json": {
       "model_id": "",
       "version_major": 2,
       "version_minor": 0
      },
      "text/plain": [
       "HBox(children=(IntProgress(value=0), HTML(value='')))"
      ]
     },
     "metadata": {},
     "output_type": "display_data"
    },
    {
     "data": {
      "application/vnd.jupyter.widget-view+json": {
       "model_id": "",
       "version_major": 2,
       "version_minor": 0
      },
      "text/plain": [
       "HBox(children=(IntProgress(value=0), HTML(value='')))"
      ]
     },
     "metadata": {},
     "output_type": "display_data"
    },
    {
     "data": {
      "application/vnd.jupyter.widget-view+json": {
       "model_id": "",
       "version_major": 2,
       "version_minor": 0
      },
      "text/plain": [
       "HBox(children=(IntProgress(value=0), HTML(value='')))"
      ]
     },
     "metadata": {},
     "output_type": "display_data"
    },
    {
     "data": {
      "application/vnd.jupyter.widget-view+json": {
       "model_id": "",
       "version_major": 2,
       "version_minor": 0
      },
      "text/plain": [
       "HBox(children=(IntProgress(value=0), HTML(value='')))"
      ]
     },
     "metadata": {},
     "output_type": "display_data"
    },
    {
     "data": {
      "application/vnd.jupyter.widget-view+json": {
       "model_id": "",
       "version_major": 2,
       "version_minor": 0
      },
      "text/plain": [
       "HBox(children=(IntProgress(value=0), HTML(value='')))"
      ]
     },
     "metadata": {},
     "output_type": "display_data"
    },
    {
     "data": {
      "application/vnd.jupyter.widget-view+json": {
       "model_id": "",
       "version_major": 2,
       "version_minor": 0
      },
      "text/plain": [
       "HBox(children=(IntProgress(value=0), HTML(value='')))"
      ]
     },
     "metadata": {},
     "output_type": "display_data"
    },
    {
     "data": {
      "application/vnd.jupyter.widget-view+json": {
       "model_id": "",
       "version_major": 2,
       "version_minor": 0
      },
      "text/plain": [
       "HBox(children=(IntProgress(value=0), HTML(value='')))"
      ]
     },
     "metadata": {},
     "output_type": "display_data"
    },
    {
     "data": {
      "application/vnd.jupyter.widget-view+json": {
       "model_id": "",
       "version_major": 2,
       "version_minor": 0
      },
      "text/plain": [
       "HBox(children=(IntProgress(value=0), HTML(value='')))"
      ]
     },
     "metadata": {},
     "output_type": "display_data"
    },
    {
     "data": {
      "application/vnd.jupyter.widget-view+json": {
       "model_id": "",
       "version_major": 2,
       "version_minor": 0
      },
      "text/plain": [
       "HBox(children=(IntProgress(value=0), HTML(value='')))"
      ]
     },
     "metadata": {},
     "output_type": "display_data"
    },
    {
     "data": {
      "application/vnd.jupyter.widget-view+json": {
       "model_id": "",
       "version_major": 2,
       "version_minor": 0
      },
      "text/plain": [
       "HBox(children=(IntProgress(value=0), HTML(value='')))"
      ]
     },
     "metadata": {},
     "output_type": "display_data"
    },
    {
     "data": {
      "application/vnd.jupyter.widget-view+json": {
       "model_id": "",
       "version_major": 2,
       "version_minor": 0
      },
      "text/plain": [
       "HBox(children=(IntProgress(value=0), HTML(value='')))"
      ]
     },
     "metadata": {},
     "output_type": "display_data"
    },
    {
     "data": {
      "application/vnd.jupyter.widget-view+json": {
       "model_id": "",
       "version_major": 2,
       "version_minor": 0
      },
      "text/plain": [
       "HBox(children=(IntProgress(value=0), HTML(value='')))"
      ]
     },
     "metadata": {},
     "output_type": "display_data"
    },
    {
     "data": {
      "application/vnd.jupyter.widget-view+json": {
       "model_id": "",
       "version_major": 2,
       "version_minor": 0
      },
      "text/plain": [
       "HBox(children=(IntProgress(value=0), HTML(value='')))"
      ]
     },
     "metadata": {},
     "output_type": "display_data"
    },
    {
     "data": {
      "application/vnd.jupyter.widget-view+json": {
       "model_id": "",
       "version_major": 2,
       "version_minor": 0
      },
      "text/plain": [
       "HBox(children=(IntProgress(value=0), HTML(value='')))"
      ]
     },
     "metadata": {},
     "output_type": "display_data"
    },
    {
     "data": {
      "application/vnd.jupyter.widget-view+json": {
       "model_id": "",
       "version_major": 2,
       "version_minor": 0
      },
      "text/plain": [
       "HBox(children=(IntProgress(value=0), HTML(value='')))"
      ]
     },
     "metadata": {},
     "output_type": "display_data"
    },
    {
     "data": {
      "application/vnd.jupyter.widget-view+json": {
       "model_id": "",
       "version_major": 2,
       "version_minor": 0
      },
      "text/plain": [
       "HBox(children=(IntProgress(value=0), HTML(value='')))"
      ]
     },
     "metadata": {},
     "output_type": "display_data"
    },
    {
     "data": {
      "application/vnd.jupyter.widget-view+json": {
       "model_id": "",
       "version_major": 2,
       "version_minor": 0
      },
      "text/plain": [
       "HBox(children=(IntProgress(value=0), HTML(value='')))"
      ]
     },
     "metadata": {},
     "output_type": "display_data"
    },
    {
     "data": {
      "application/vnd.jupyter.widget-view+json": {
       "model_id": "",
       "version_major": 2,
       "version_minor": 0
      },
      "text/plain": [
       "HBox(children=(IntProgress(value=0), HTML(value='')))"
      ]
     },
     "metadata": {},
     "output_type": "display_data"
    },
    {
     "data": {
      "application/vnd.jupyter.widget-view+json": {
       "model_id": "",
       "version_major": 2,
       "version_minor": 0
      },
      "text/plain": [
       "HBox(children=(IntProgress(value=0), HTML(value='')))"
      ]
     },
     "metadata": {},
     "output_type": "display_data"
    },
    {
     "data": {
      "application/vnd.jupyter.widget-view+json": {
       "model_id": "",
       "version_major": 2,
       "version_minor": 0
      },
      "text/plain": [
       "HBox(children=(IntProgress(value=0), HTML(value='')))"
      ]
     },
     "metadata": {},
     "output_type": "display_data"
    },
    {
     "data": {
      "application/vnd.jupyter.widget-view+json": {
       "model_id": "",
       "version_major": 2,
       "version_minor": 0
      },
      "text/plain": [
       "HBox(children=(IntProgress(value=0), HTML(value='')))"
      ]
     },
     "metadata": {},
     "output_type": "display_data"
    },
    {
     "data": {
      "application/vnd.jupyter.widget-view+json": {
       "model_id": "",
       "version_major": 2,
       "version_minor": 0
      },
      "text/plain": [
       "HBox(children=(IntProgress(value=0), HTML(value='')))"
      ]
     },
     "metadata": {},
     "output_type": "display_data"
    },
    {
     "data": {
      "application/vnd.jupyter.widget-view+json": {
       "model_id": "",
       "version_major": 2,
       "version_minor": 0
      },
      "text/plain": [
       "HBox(children=(IntProgress(value=0), HTML(value='')))"
      ]
     },
     "metadata": {},
     "output_type": "display_data"
    },
    {
     "data": {
      "application/vnd.jupyter.widget-view+json": {
       "model_id": "",
       "version_major": 2,
       "version_minor": 0
      },
      "text/plain": [
       "HBox(children=(IntProgress(value=0), HTML(value='')))"
      ]
     },
     "metadata": {},
     "output_type": "display_data"
    },
    {
     "data": {
      "application/vnd.jupyter.widget-view+json": {
       "model_id": "",
       "version_major": 2,
       "version_minor": 0
      },
      "text/plain": [
       "HBox(children=(IntProgress(value=0), HTML(value='')))"
      ]
     },
     "metadata": {},
     "output_type": "display_data"
    },
    {
     "data": {
      "application/vnd.jupyter.widget-view+json": {
       "model_id": "",
       "version_major": 2,
       "version_minor": 0
      },
      "text/plain": [
       "HBox(children=(IntProgress(value=0), HTML(value='')))"
      ]
     },
     "metadata": {},
     "output_type": "display_data"
    },
    {
     "data": {
      "application/vnd.jupyter.widget-view+json": {
       "model_id": "",
       "version_major": 2,
       "version_minor": 0
      },
      "text/plain": [
       "HBox(children=(IntProgress(value=0), HTML(value='')))"
      ]
     },
     "metadata": {},
     "output_type": "display_data"
    },
    {
     "data": {
      "application/vnd.jupyter.widget-view+json": {
       "model_id": "",
       "version_major": 2,
       "version_minor": 0
      },
      "text/plain": [
       "HBox(children=(IntProgress(value=0), HTML(value='')))"
      ]
     },
     "metadata": {},
     "output_type": "display_data"
    },
    {
     "data": {
      "application/vnd.jupyter.widget-view+json": {
       "model_id": "",
       "version_major": 2,
       "version_minor": 0
      },
      "text/plain": [
       "HBox(children=(IntProgress(value=0), HTML(value='')))"
      ]
     },
     "metadata": {},
     "output_type": "display_data"
    },
    {
     "data": {
      "application/vnd.jupyter.widget-view+json": {
       "model_id": "",
       "version_major": 2,
       "version_minor": 0
      },
      "text/plain": [
       "HBox(children=(IntProgress(value=0), HTML(value='')))"
      ]
     },
     "metadata": {},
     "output_type": "display_data"
    },
    {
     "data": {
      "application/vnd.jupyter.widget-view+json": {
       "model_id": "",
       "version_major": 2,
       "version_minor": 0
      },
      "text/plain": [
       "HBox(children=(IntProgress(value=0), HTML(value='')))"
      ]
     },
     "metadata": {},
     "output_type": "display_data"
    },
    {
     "data": {
      "application/vnd.jupyter.widget-view+json": {
       "model_id": "",
       "version_major": 2,
       "version_minor": 0
      },
      "text/plain": [
       "HBox(children=(IntProgress(value=0), HTML(value='')))"
      ]
     },
     "metadata": {},
     "output_type": "display_data"
    },
    {
     "data": {
      "application/vnd.jupyter.widget-view+json": {
       "model_id": "",
       "version_major": 2,
       "version_minor": 0
      },
      "text/plain": [
       "HBox(children=(IntProgress(value=0), HTML(value='')))"
      ]
     },
     "metadata": {},
     "output_type": "display_data"
    },
    {
     "data": {
      "application/vnd.jupyter.widget-view+json": {
       "model_id": "",
       "version_major": 2,
       "version_minor": 0
      },
      "text/plain": [
       "HBox(children=(IntProgress(value=0), HTML(value='')))"
      ]
     },
     "metadata": {},
     "output_type": "display_data"
    },
    {
     "data": {
      "application/vnd.jupyter.widget-view+json": {
       "model_id": "",
       "version_major": 2,
       "version_minor": 0
      },
      "text/plain": [
       "HBox(children=(IntProgress(value=0), HTML(value='')))"
      ]
     },
     "metadata": {},
     "output_type": "display_data"
    },
    {
     "data": {
      "application/vnd.jupyter.widget-view+json": {
       "model_id": "",
       "version_major": 2,
       "version_minor": 0
      },
      "text/plain": [
       "HBox(children=(IntProgress(value=0), HTML(value='')))"
      ]
     },
     "metadata": {},
     "output_type": "display_data"
    },
    {
     "data": {
      "application/vnd.jupyter.widget-view+json": {
       "model_id": "",
       "version_major": 2,
       "version_minor": 0
      },
      "text/plain": [
       "HBox(children=(IntProgress(value=0), HTML(value='')))"
      ]
     },
     "metadata": {},
     "output_type": "display_data"
    },
    {
     "data": {
      "application/vnd.jupyter.widget-view+json": {
       "model_id": "",
       "version_major": 2,
       "version_minor": 0
      },
      "text/plain": [
       "HBox(children=(IntProgress(value=0), HTML(value='')))"
      ]
     },
     "metadata": {},
     "output_type": "display_data"
    },
    {
     "data": {
      "application/vnd.jupyter.widget-view+json": {
       "model_id": "",
       "version_major": 2,
       "version_minor": 0
      },
      "text/plain": [
       "HBox(children=(IntProgress(value=0), HTML(value='')))"
      ]
     },
     "metadata": {},
     "output_type": "display_data"
    },
    {
     "data": {
      "application/vnd.jupyter.widget-view+json": {
       "model_id": "",
       "version_major": 2,
       "version_minor": 0
      },
      "text/plain": [
       "HBox(children=(IntProgress(value=0), HTML(value='')))"
      ]
     },
     "metadata": {},
     "output_type": "display_data"
    },
    {
     "data": {
      "application/vnd.jupyter.widget-view+json": {
       "model_id": "",
       "version_major": 2,
       "version_minor": 0
      },
      "text/plain": [
       "HBox(children=(IntProgress(value=0), HTML(value='')))"
      ]
     },
     "metadata": {},
     "output_type": "display_data"
    },
    {
     "data": {
      "application/vnd.jupyter.widget-view+json": {
       "model_id": "",
       "version_major": 2,
       "version_minor": 0
      },
      "text/plain": [
       "HBox(children=(IntProgress(value=0), HTML(value='')))"
      ]
     },
     "metadata": {},
     "output_type": "display_data"
    },
    {
     "data": {
      "application/vnd.jupyter.widget-view+json": {
       "model_id": "",
       "version_major": 2,
       "version_minor": 0
      },
      "text/plain": [
       "HBox(children=(IntProgress(value=0), HTML(value='')))"
      ]
     },
     "metadata": {},
     "output_type": "display_data"
    },
    {
     "data": {
      "application/vnd.jupyter.widget-view+json": {
       "model_id": "",
       "version_major": 2,
       "version_minor": 0
      },
      "text/plain": [
       "HBox(children=(IntProgress(value=0), HTML(value='')))"
      ]
     },
     "metadata": {},
     "output_type": "display_data"
    },
    {
     "data": {
      "application/vnd.jupyter.widget-view+json": {
       "model_id": "",
       "version_major": 2,
       "version_minor": 0
      },
      "text/plain": [
       "HBox(children=(IntProgress(value=0), HTML(value='')))"
      ]
     },
     "metadata": {},
     "output_type": "display_data"
    },
    {
     "data": {
      "application/vnd.jupyter.widget-view+json": {
       "model_id": "",
       "version_major": 2,
       "version_minor": 0
      },
      "text/plain": [
       "HBox(children=(IntProgress(value=0), HTML(value='')))"
      ]
     },
     "metadata": {},
     "output_type": "display_data"
    },
    {
     "data": {
      "application/vnd.jupyter.widget-view+json": {
       "model_id": "",
       "version_major": 2,
       "version_minor": 0
      },
      "text/plain": [
       "HBox(children=(IntProgress(value=0), HTML(value='')))"
      ]
     },
     "metadata": {},
     "output_type": "display_data"
    },
    {
     "data": {
      "application/vnd.jupyter.widget-view+json": {
       "model_id": "",
       "version_major": 2,
       "version_minor": 0
      },
      "text/plain": [
       "HBox(children=(IntProgress(value=0), HTML(value='')))"
      ]
     },
     "metadata": {},
     "output_type": "display_data"
    },
    {
     "data": {
      "application/vnd.jupyter.widget-view+json": {
       "model_id": "",
       "version_major": 2,
       "version_minor": 0
      },
      "text/plain": [
       "HBox(children=(IntProgress(value=0), HTML(value='')))"
      ]
     },
     "metadata": {},
     "output_type": "display_data"
    },
    {
     "data": {
      "application/vnd.jupyter.widget-view+json": {
       "model_id": "",
       "version_major": 2,
       "version_minor": 0
      },
      "text/plain": [
       "HBox(children=(IntProgress(value=0), HTML(value='')))"
      ]
     },
     "metadata": {},
     "output_type": "display_data"
    },
    {
     "data": {
      "application/vnd.jupyter.widget-view+json": {
       "model_id": "",
       "version_major": 2,
       "version_minor": 0
      },
      "text/plain": [
       "HBox(children=(IntProgress(value=0), HTML(value='')))"
      ]
     },
     "metadata": {},
     "output_type": "display_data"
    },
    {
     "data": {
      "application/vnd.jupyter.widget-view+json": {
       "model_id": "",
       "version_major": 2,
       "version_minor": 0
      },
      "text/plain": [
       "HBox(children=(IntProgress(value=0), HTML(value='')))"
      ]
     },
     "metadata": {},
     "output_type": "display_data"
    },
    {
     "data": {
      "application/vnd.jupyter.widget-view+json": {
       "model_id": "",
       "version_major": 2,
       "version_minor": 0
      },
      "text/plain": [
       "HBox(children=(IntProgress(value=0), HTML(value='')))"
      ]
     },
     "metadata": {},
     "output_type": "display_data"
    },
    {
     "data": {
      "application/vnd.jupyter.widget-view+json": {
       "model_id": "",
       "version_major": 2,
       "version_minor": 0
      },
      "text/plain": [
       "HBox(children=(IntProgress(value=0), HTML(value='')))"
      ]
     },
     "metadata": {},
     "output_type": "display_data"
    },
    {
     "data": {
      "application/vnd.jupyter.widget-view+json": {
       "model_id": "",
       "version_major": 2,
       "version_minor": 0
      },
      "text/plain": [
       "HBox(children=(IntProgress(value=0), HTML(value='')))"
      ]
     },
     "metadata": {},
     "output_type": "display_data"
    },
    {
     "data": {
      "application/vnd.jupyter.widget-view+json": {
       "model_id": "",
       "version_major": 2,
       "version_minor": 0
      },
      "text/plain": [
       "HBox(children=(IntProgress(value=0), HTML(value='')))"
      ]
     },
     "metadata": {},
     "output_type": "display_data"
    },
    {
     "data": {
      "application/vnd.jupyter.widget-view+json": {
       "model_id": "",
       "version_major": 2,
       "version_minor": 0
      },
      "text/plain": [
       "HBox(children=(IntProgress(value=0), HTML(value='')))"
      ]
     },
     "metadata": {},
     "output_type": "display_data"
    },
    {
     "data": {
      "application/vnd.jupyter.widget-view+json": {
       "model_id": "",
       "version_major": 2,
       "version_minor": 0
      },
      "text/plain": [
       "HBox(children=(IntProgress(value=0), HTML(value='')))"
      ]
     },
     "metadata": {},
     "output_type": "display_data"
    },
    {
     "data": {
      "application/vnd.jupyter.widget-view+json": {
       "model_id": "",
       "version_major": 2,
       "version_minor": 0
      },
      "text/plain": [
       "HBox(children=(IntProgress(value=0), HTML(value='')))"
      ]
     },
     "metadata": {},
     "output_type": "display_data"
    },
    {
     "data": {
      "application/vnd.jupyter.widget-view+json": {
       "model_id": "",
       "version_major": 2,
       "version_minor": 0
      },
      "text/plain": [
       "HBox(children=(IntProgress(value=0), HTML(value='')))"
      ]
     },
     "metadata": {},
     "output_type": "display_data"
    },
    {
     "data": {
      "application/vnd.jupyter.widget-view+json": {
       "model_id": "",
       "version_major": 2,
       "version_minor": 0
      },
      "text/plain": [
       "HBox(children=(IntProgress(value=0), HTML(value='')))"
      ]
     },
     "metadata": {},
     "output_type": "display_data"
    },
    {
     "data": {
      "application/vnd.jupyter.widget-view+json": {
       "model_id": "",
       "version_major": 2,
       "version_minor": 0
      },
      "text/plain": [
       "HBox(children=(IntProgress(value=0), HTML(value='')))"
      ]
     },
     "metadata": {},
     "output_type": "display_data"
    },
    {
     "data": {
      "application/vnd.jupyter.widget-view+json": {
       "model_id": "",
       "version_major": 2,
       "version_minor": 0
      },
      "text/plain": [
       "HBox(children=(IntProgress(value=0), HTML(value='')))"
      ]
     },
     "metadata": {},
     "output_type": "display_data"
    },
    {
     "data": {
      "application/vnd.jupyter.widget-view+json": {
       "model_id": "",
       "version_major": 2,
       "version_minor": 0
      },
      "text/plain": [
       "HBox(children=(IntProgress(value=0), HTML(value='')))"
      ]
     },
     "metadata": {},
     "output_type": "display_data"
    },
    {
     "data": {
      "application/vnd.jupyter.widget-view+json": {
       "model_id": "",
       "version_major": 2,
       "version_minor": 0
      },
      "text/plain": [
       "HBox(children=(IntProgress(value=0), HTML(value='')))"
      ]
     },
     "metadata": {},
     "output_type": "display_data"
    },
    {
     "data": {
      "application/vnd.jupyter.widget-view+json": {
       "model_id": "",
       "version_major": 2,
       "version_minor": 0
      },
      "text/plain": [
       "HBox(children=(IntProgress(value=0), HTML(value='')))"
      ]
     },
     "metadata": {},
     "output_type": "display_data"
    },
    {
     "data": {
      "application/vnd.jupyter.widget-view+json": {
       "model_id": "",
       "version_major": 2,
       "version_minor": 0
      },
      "text/plain": [
       "HBox(children=(IntProgress(value=0), HTML(value='')))"
      ]
     },
     "metadata": {},
     "output_type": "display_data"
    },
    {
     "name": "stdout",
     "output_type": "stream",
     "text": [
      "\n"
     ]
    }
   ],
   "source": [
    "keys = list(dataset.wordtoix.keys())\n",
    "result = {}\n",
    "for word in tqdm_notebook(clabel_texts):\n",
    "    if '_' in word:\n",
    "        word_ = word.split('_')[1]\n",
    "    else:\n",
    "        word_ = word\n",
    "    if word_ in keys:\n",
    "        result[word+'_img']={}\n",
    "        selected_id = w2i(word)[0]\n",
    "        ids = id2imgidx(selected_id)\n",
    "        imgs = []\n",
    "        for im in x_test[ids]:\n",
    "            imgs.append(np.asarray(Image.fromarray(im).resize((299,299),PIL.Image.ADAPTIVE),dtype=np.float32))\n",
    "        imgs = np.array(imgs)\n",
    "        imgs = preprocess_input(imgs)\n",
    "        i = np.rollaxis(imgs,axis=3,start=1)\n",
    "        i = np.asarray(i,dtype=np.float32)\n",
    "        img_inp = torch.tensor(i)\n",
    "        r_emb, i_emb = image_encoder(img_inp)\n",
    "        i_emb = np.asarray(i_emb.detach().cpu())  \n",
    "\n",
    "        for w in tqdm_notebook(clabel_texts,leave=False):\n",
    "            if '_' in w:\n",
    "                w_ = w.split('_')\n",
    "            else:\n",
    "                w_ = [w]\n",
    "            if w_[0] in keys:\n",
    "                result[word+'_img'][w] = {}\n",
    "                t_inp = [dataset.wordtoix[x] for x in w_]\n",
    "                text_inp = torch.tensor(np.array([t_inp])).cuda()\n",
    "                w_emb,s_emb = text_encoder(text_inp)\n",
    "                s_emb = np.asarray(s_emb.detach().cpu())\n",
    "                sims = []\n",
    "                for emb in i_emb:\n",
    "                    sims.append(cosine_similarity([emb],s_emb))\n",
    "                df = pd.DataFrame()\n",
    "                df['sims'] = [float(x) for x in sims]\n",
    "                result[word+'_img'][w]['c_sim_mean'] = np.around(df.describe().T['mean'].values[0],4)\n",
    "                result[word+'_img'][w]['c_sim_std'] = np.around(df.describe().T['std'].values[0],4)\n",
    "                result[word+'_img'][w]['fid'] = np.around(fid(s_emb,np.array(i_emb)),4)"
   ]
  },
  {
   "cell_type": "code",
   "execution_count": 473,
   "metadata": {},
   "outputs": [],
   "source": [
    "def highlight_max(data, color='lightgreen'):\n",
    "    '''\n",
    "    highlight the maximum in a Series or DataFrame\n",
    "    '''\n",
    "    attr = 'background-color: {}'.format(color)\n",
    "    #remove % and cast to float\n",
    "    data = data.replace('%','', regex=True).astype(float)\n",
    "    if data.ndim == 1:  # Series from .apply(axis=0) or axis=1\n",
    "        is_max = data == data.max()\n",
    "        return [attr if v else '' for v in is_max]\n",
    "    else:  # from .apply(axis=None)\n",
    "        is_max = data == data.max().max()\n",
    "        return pd.DataFrame(np.where(is_max, attr, ''),\n",
    "                            index=data.index, columns=data.columns['c_sim_mean'])"
   ]
  },
  {
   "cell_type": "code",
   "execution_count": 488,
   "metadata": {
    "scrolled": true
   },
   "outputs": [],
   "source": [
    "pd.options.display.max_rows = 100\n",
    "dict_of_df = {k: pd.DataFrame(v).T for k,v in result.items()}\n",
    "df_result = pd.concat(dict_of_df, axis=1)\n"
   ]
  },
  {
   "cell_type": "code",
   "execution_count": 489,
   "metadata": {},
   "outputs": [],
   "source": [
    "subset=[]\n",
    "for i in list(df_result.keys()):\n",
    "    if 'c_sim_mean' in i:\n",
    "        subset.append(i)"
   ]
  },
  {
   "cell_type": "code",
   "execution_count": 490,
   "metadata": {
    "scrolled": true
   },
   "outputs": [],
   "source": [
    "df_style = df_result.style.highlight_max(color = 'lightgreen', axis = 0,subset = subset)"
   ]
  },
  {
   "cell_type": "code",
   "execution_count": 495,
   "metadata": {},
   "outputs": [],
   "source": [
    "df_style.to_excel('../plots/cifar_representation_results.xlsx')"
   ]
  },
  {
   "cell_type": "code",
   "execution_count": null,
   "metadata": {},
   "outputs": [],
   "source": []
  },
  {
   "cell_type": "code",
   "execution_count": 464,
   "metadata": {
    "scrolled": true
   },
   "outputs": [],
   "source": [
    "key = 'elephant_img'"
   ]
  },
  {
   "cell_type": "code",
   "execution_count": 465,
   "metadata": {},
   "outputs": [],
   "source": [
    "colors = []\n",
    "sim_list = df_result[key]['c_sim_mean']\n",
    "max_val = sim_list.max()\n",
    "for sim in sim_list:\n",
    "    if max_val == sim:\n",
    "        colors.append('lightgreen')\n",
    "    else:\n",
    "        colors.append('lightblue')"
   ]
  },
  {
   "cell_type": "code",
   "execution_count": 466,
   "metadata": {},
   "outputs": [
    {
     "data": {
      "text/html": [
       "<div>\n",
       "<style scoped>\n",
       "    .dataframe tbody tr th:only-of-type {\n",
       "        vertical-align: middle;\n",
       "    }\n",
       "\n",
       "    .dataframe tbody tr th {\n",
       "        vertical-align: top;\n",
       "    }\n",
       "\n",
       "    .dataframe thead th {\n",
       "        text-align: right;\n",
       "    }\n",
       "</style>\n",
       "<table border=\"1\" class=\"dataframe\">\n",
       "  <thead>\n",
       "    <tr style=\"text-align: right;\">\n",
       "      <th></th>\n",
       "      <th>c_sim_mean</th>\n",
       "      <th>c_sim_std</th>\n",
       "      <th>fid</th>\n",
       "    </tr>\n",
       "  </thead>\n",
       "  <tbody>\n",
       "    <tr>\n",
       "      <td>apple</td>\n",
       "      <td>0.0273</td>\n",
       "      <td>0.0877</td>\n",
       "      <td>579.1119</td>\n",
       "    </tr>\n",
       "    <tr>\n",
       "      <td>aquarium_fish</td>\n",
       "      <td>0.0281</td>\n",
       "      <td>0.0919</td>\n",
       "      <td>558.3511</td>\n",
       "    </tr>\n",
       "    <tr>\n",
       "      <td>baby</td>\n",
       "      <td>-0.0709</td>\n",
       "      <td>0.1248</td>\n",
       "      <td>654.0855</td>\n",
       "    </tr>\n",
       "    <tr>\n",
       "      <td>bear</td>\n",
       "      <td>0.0877</td>\n",
       "      <td>0.1471</td>\n",
       "      <td>538.4381</td>\n",
       "    </tr>\n",
       "    <tr>\n",
       "      <td>beaver</td>\n",
       "      <td>0.1716</td>\n",
       "      <td>0.1542</td>\n",
       "      <td>509.4595</td>\n",
       "    </tr>\n",
       "    <tr>\n",
       "      <td>bed</td>\n",
       "      <td>-0.0186</td>\n",
       "      <td>0.0689</td>\n",
       "      <td>614.3362</td>\n",
       "    </tr>\n",
       "    <tr>\n",
       "      <td>bee</td>\n",
       "      <td>0.0420</td>\n",
       "      <td>0.1059</td>\n",
       "      <td>545.5173</td>\n",
       "    </tr>\n",
       "    <tr>\n",
       "      <td>beetle</td>\n",
       "      <td>0.0133</td>\n",
       "      <td>0.0993</td>\n",
       "      <td>588.2858</td>\n",
       "    </tr>\n",
       "    <tr>\n",
       "      <td>bicycle</td>\n",
       "      <td>-0.0475</td>\n",
       "      <td>0.0751</td>\n",
       "      <td>618.4942</td>\n",
       "    </tr>\n",
       "    <tr>\n",
       "      <td>bottle</td>\n",
       "      <td>-0.0455</td>\n",
       "      <td>0.1039</td>\n",
       "      <td>623.4253</td>\n",
       "    </tr>\n",
       "    <tr>\n",
       "      <td>bowl</td>\n",
       "      <td>-0.0764</td>\n",
       "      <td>0.0717</td>\n",
       "      <td>642.0331</td>\n",
       "    </tr>\n",
       "    <tr>\n",
       "      <td>boy</td>\n",
       "      <td>-0.0710</td>\n",
       "      <td>0.0983</td>\n",
       "      <td>662.1183</td>\n",
       "    </tr>\n",
       "    <tr>\n",
       "      <td>bridge</td>\n",
       "      <td>-0.0067</td>\n",
       "      <td>0.0871</td>\n",
       "      <td>614.7259</td>\n",
       "    </tr>\n",
       "    <tr>\n",
       "      <td>bus</td>\n",
       "      <td>0.0134</td>\n",
       "      <td>0.0773</td>\n",
       "      <td>592.8642</td>\n",
       "    </tr>\n",
       "    <tr>\n",
       "      <td>butterfly</td>\n",
       "      <td>0.0729</td>\n",
       "      <td>0.1075</td>\n",
       "      <td>536.8671</td>\n",
       "    </tr>\n",
       "    <tr>\n",
       "      <td>camel</td>\n",
       "      <td>0.0284</td>\n",
       "      <td>0.1235</td>\n",
       "      <td>571.9349</td>\n",
       "    </tr>\n",
       "    <tr>\n",
       "      <td>can</td>\n",
       "      <td>0.0672</td>\n",
       "      <td>0.0780</td>\n",
       "      <td>586.4878</td>\n",
       "    </tr>\n",
       "    <tr>\n",
       "      <td>castle</td>\n",
       "      <td>0.0882</td>\n",
       "      <td>0.0792</td>\n",
       "      <td>554.0114</td>\n",
       "    </tr>\n",
       "    <tr>\n",
       "      <td>caterpillar</td>\n",
       "      <td>-0.0016</td>\n",
       "      <td>0.1495</td>\n",
       "      <td>582.3692</td>\n",
       "    </tr>\n",
       "    <tr>\n",
       "      <td>cattle</td>\n",
       "      <td>0.1214</td>\n",
       "      <td>0.1410</td>\n",
       "      <td>528.0117</td>\n",
       "    </tr>\n",
       "    <tr>\n",
       "      <td>chair</td>\n",
       "      <td>-0.0676</td>\n",
       "      <td>0.0777</td>\n",
       "      <td>630.2635</td>\n",
       "    </tr>\n",
       "    <tr>\n",
       "      <td>clock</td>\n",
       "      <td>-0.0293</td>\n",
       "      <td>0.0828</td>\n",
       "      <td>619.9565</td>\n",
       "    </tr>\n",
       "    <tr>\n",
       "      <td>cloud</td>\n",
       "      <td>0.1356</td>\n",
       "      <td>0.0880</td>\n",
       "      <td>532.9525</td>\n",
       "    </tr>\n",
       "    <tr>\n",
       "      <td>cockroach</td>\n",
       "      <td>0.0298</td>\n",
       "      <td>0.1352</td>\n",
       "      <td>571.1828</td>\n",
       "    </tr>\n",
       "    <tr>\n",
       "      <td>couch</td>\n",
       "      <td>-0.0220</td>\n",
       "      <td>0.0710</td>\n",
       "      <td>605.4679</td>\n",
       "    </tr>\n",
       "    <tr>\n",
       "      <td>crab</td>\n",
       "      <td>-0.0373</td>\n",
       "      <td>0.1038</td>\n",
       "      <td>625.0570</td>\n",
       "    </tr>\n",
       "    <tr>\n",
       "      <td>crocodile</td>\n",
       "      <td>0.0908</td>\n",
       "      <td>0.1388</td>\n",
       "      <td>544.6698</td>\n",
       "    </tr>\n",
       "    <tr>\n",
       "      <td>cup</td>\n",
       "      <td>-0.0887</td>\n",
       "      <td>0.0808</td>\n",
       "      <td>638.1313</td>\n",
       "    </tr>\n",
       "    <tr>\n",
       "      <td>dinosaur</td>\n",
       "      <td>-0.0258</td>\n",
       "      <td>0.1274</td>\n",
       "      <td>607.8788</td>\n",
       "    </tr>\n",
       "    <tr>\n",
       "      <td>dolphin</td>\n",
       "      <td>-0.0424</td>\n",
       "      <td>0.1071</td>\n",
       "      <td>622.7508</td>\n",
       "    </tr>\n",
       "    <tr>\n",
       "      <td>elephant</td>\n",
       "      <td>0.1844</td>\n",
       "      <td>0.1651</td>\n",
       "      <td>502.7068</td>\n",
       "    </tr>\n",
       "    <tr>\n",
       "      <td>forest</td>\n",
       "      <td>0.2461</td>\n",
       "      <td>0.1428</td>\n",
       "      <td>471.3445</td>\n",
       "    </tr>\n",
       "    <tr>\n",
       "      <td>fox</td>\n",
       "      <td>0.1670</td>\n",
       "      <td>0.1487</td>\n",
       "      <td>527.5221</td>\n",
       "    </tr>\n",
       "    <tr>\n",
       "      <td>girl</td>\n",
       "      <td>-0.0824</td>\n",
       "      <td>0.0988</td>\n",
       "      <td>676.8082</td>\n",
       "    </tr>\n",
       "    <tr>\n",
       "      <td>hamster</td>\n",
       "      <td>0.0354</td>\n",
       "      <td>0.1207</td>\n",
       "      <td>568.6823</td>\n",
       "    </tr>\n",
       "    <tr>\n",
       "      <td>house</td>\n",
       "      <td>0.0457</td>\n",
       "      <td>0.0948</td>\n",
       "      <td>580.5387</td>\n",
       "    </tr>\n",
       "    <tr>\n",
       "      <td>kangaroo</td>\n",
       "      <td>-0.0553</td>\n",
       "      <td>0.1311</td>\n",
       "      <td>608.2423</td>\n",
       "    </tr>\n",
       "    <tr>\n",
       "      <td>computer_keyboard</td>\n",
       "      <td>-0.0820</td>\n",
       "      <td>0.0740</td>\n",
       "      <td>641.3623</td>\n",
       "    </tr>\n",
       "    <tr>\n",
       "      <td>lamp</td>\n",
       "      <td>0.0450</td>\n",
       "      <td>0.0864</td>\n",
       "      <td>580.8619</td>\n",
       "    </tr>\n",
       "    <tr>\n",
       "      <td>lawn_mower</td>\n",
       "      <td>0.0028</td>\n",
       "      <td>0.1200</td>\n",
       "      <td>580.8852</td>\n",
       "    </tr>\n",
       "    <tr>\n",
       "      <td>leopard</td>\n",
       "      <td>0.1065</td>\n",
       "      <td>0.1432</td>\n",
       "      <td>531.4680</td>\n",
       "    </tr>\n",
       "    <tr>\n",
       "      <td>lion</td>\n",
       "      <td>0.2247</td>\n",
       "      <td>0.1324</td>\n",
       "      <td>487.0912</td>\n",
       "    </tr>\n",
       "    <tr>\n",
       "      <td>lizard</td>\n",
       "      <td>0.0162</td>\n",
       "      <td>0.1380</td>\n",
       "      <td>584.8190</td>\n",
       "    </tr>\n",
       "    <tr>\n",
       "      <td>lobster</td>\n",
       "      <td>-0.0751</td>\n",
       "      <td>0.1003</td>\n",
       "      <td>636.8313</td>\n",
       "    </tr>\n",
       "    <tr>\n",
       "      <td>man</td>\n",
       "      <td>-0.0317</td>\n",
       "      <td>0.0827</td>\n",
       "      <td>649.1275</td>\n",
       "    </tr>\n",
       "    <tr>\n",
       "      <td>maple_tree</td>\n",
       "      <td>0.2354</td>\n",
       "      <td>0.1428</td>\n",
       "      <td>461.9435</td>\n",
       "    </tr>\n",
       "    <tr>\n",
       "      <td>motorcycle</td>\n",
       "      <td>-0.0847</td>\n",
       "      <td>0.0844</td>\n",
       "      <td>647.4673</td>\n",
       "    </tr>\n",
       "    <tr>\n",
       "      <td>mountain</td>\n",
       "      <td>0.0766</td>\n",
       "      <td>0.0984</td>\n",
       "      <td>559.7415</td>\n",
       "    </tr>\n",
       "    <tr>\n",
       "      <td>mouse</td>\n",
       "      <td>-0.0132</td>\n",
       "      <td>0.0897</td>\n",
       "      <td>616.3174</td>\n",
       "    </tr>\n",
       "    <tr>\n",
       "      <td>mushroom</td>\n",
       "      <td>0.0495</td>\n",
       "      <td>0.1190</td>\n",
       "      <td>571.0281</td>\n",
       "    </tr>\n",
       "    <tr>\n",
       "      <td>oak_tree</td>\n",
       "      <td>0.2145</td>\n",
       "      <td>0.1530</td>\n",
       "      <td>476.7553</td>\n",
       "    </tr>\n",
       "    <tr>\n",
       "      <td>orange</td>\n",
       "      <td>-0.0066</td>\n",
       "      <td>0.0985</td>\n",
       "      <td>584.9515</td>\n",
       "    </tr>\n",
       "    <tr>\n",
       "      <td>orchid</td>\n",
       "      <td>0.0781</td>\n",
       "      <td>0.1051</td>\n",
       "      <td>539.3147</td>\n",
       "    </tr>\n",
       "    <tr>\n",
       "      <td>otter</td>\n",
       "      <td>0.1103</td>\n",
       "      <td>0.1421</td>\n",
       "      <td>551.1850</td>\n",
       "    </tr>\n",
       "    <tr>\n",
       "      <td>palm_tree</td>\n",
       "      <td>0.1192</td>\n",
       "      <td>0.1307</td>\n",
       "      <td>524.3073</td>\n",
       "    </tr>\n",
       "    <tr>\n",
       "      <td>pear</td>\n",
       "      <td>0.1260</td>\n",
       "      <td>0.1184</td>\n",
       "      <td>537.1983</td>\n",
       "    </tr>\n",
       "    <tr>\n",
       "      <td>pickup_truck</td>\n",
       "      <td>-0.1277</td>\n",
       "      <td>0.0893</td>\n",
       "      <td>677.5429</td>\n",
       "    </tr>\n",
       "    <tr>\n",
       "      <td>pine_tree</td>\n",
       "      <td>0.2276</td>\n",
       "      <td>0.1457</td>\n",
       "      <td>477.5856</td>\n",
       "    </tr>\n",
       "    <tr>\n",
       "      <td>plain</td>\n",
       "      <td>0.0123</td>\n",
       "      <td>0.1054</td>\n",
       "      <td>597.2837</td>\n",
       "    </tr>\n",
       "    <tr>\n",
       "      <td>plate</td>\n",
       "      <td>-0.0463</td>\n",
       "      <td>0.0668</td>\n",
       "      <td>617.3220</td>\n",
       "    </tr>\n",
       "    <tr>\n",
       "      <td>poppy</td>\n",
       "      <td>0.0776</td>\n",
       "      <td>0.0764</td>\n",
       "      <td>555.7566</td>\n",
       "    </tr>\n",
       "    <tr>\n",
       "      <td>porcupine</td>\n",
       "      <td>0.0506</td>\n",
       "      <td>0.1236</td>\n",
       "      <td>558.1203</td>\n",
       "    </tr>\n",
       "    <tr>\n",
       "      <td>possum</td>\n",
       "      <td>0.1267</td>\n",
       "      <td>0.1626</td>\n",
       "      <td>523.3376</td>\n",
       "    </tr>\n",
       "    <tr>\n",
       "      <td>rabbit</td>\n",
       "      <td>0.0526</td>\n",
       "      <td>0.1458</td>\n",
       "      <td>560.9012</td>\n",
       "    </tr>\n",
       "    <tr>\n",
       "      <td>raccoon</td>\n",
       "      <td>0.1802</td>\n",
       "      <td>0.1431</td>\n",
       "      <td>492.7552</td>\n",
       "    </tr>\n",
       "    <tr>\n",
       "      <td>ray</td>\n",
       "      <td>-0.0907</td>\n",
       "      <td>0.0834</td>\n",
       "      <td>633.7620</td>\n",
       "    </tr>\n",
       "    <tr>\n",
       "      <td>road</td>\n",
       "      <td>0.0830</td>\n",
       "      <td>0.1168</td>\n",
       "      <td>568.3007</td>\n",
       "    </tr>\n",
       "    <tr>\n",
       "      <td>rocket</td>\n",
       "      <td>-0.1001</td>\n",
       "      <td>0.1002</td>\n",
       "      <td>650.5419</td>\n",
       "    </tr>\n",
       "    <tr>\n",
       "      <td>rose</td>\n",
       "      <td>0.0420</td>\n",
       "      <td>0.0995</td>\n",
       "      <td>575.3055</td>\n",
       "    </tr>\n",
       "    <tr>\n",
       "      <td>sea</td>\n",
       "      <td>-0.0693</td>\n",
       "      <td>0.1035</td>\n",
       "      <td>647.6422</td>\n",
       "    </tr>\n",
       "    <tr>\n",
       "      <td>seal</td>\n",
       "      <td>0.0220</td>\n",
       "      <td>0.1081</td>\n",
       "      <td>593.0662</td>\n",
       "    </tr>\n",
       "    <tr>\n",
       "      <td>shark</td>\n",
       "      <td>0.0826</td>\n",
       "      <td>0.1123</td>\n",
       "      <td>560.1330</td>\n",
       "    </tr>\n",
       "    <tr>\n",
       "      <td>skyscraper</td>\n",
       "      <td>0.0685</td>\n",
       "      <td>0.0814</td>\n",
       "      <td>567.9879</td>\n",
       "    </tr>\n",
       "    <tr>\n",
       "      <td>snail</td>\n",
       "      <td>0.0966</td>\n",
       "      <td>0.1074</td>\n",
       "      <td>537.1860</td>\n",
       "    </tr>\n",
       "    <tr>\n",
       "      <td>snake</td>\n",
       "      <td>0.0518</td>\n",
       "      <td>0.1249</td>\n",
       "      <td>573.4191</td>\n",
       "    </tr>\n",
       "    <tr>\n",
       "      <td>spider</td>\n",
       "      <td>-0.0480</td>\n",
       "      <td>0.1327</td>\n",
       "      <td>632.4167</td>\n",
       "    </tr>\n",
       "    <tr>\n",
       "      <td>squirrel</td>\n",
       "      <td>0.1634</td>\n",
       "      <td>0.1796</td>\n",
       "      <td>498.9276</td>\n",
       "    </tr>\n",
       "    <tr>\n",
       "      <td>streetcar</td>\n",
       "      <td>0.0114</td>\n",
       "      <td>0.0842</td>\n",
       "      <td>604.6842</td>\n",
       "    </tr>\n",
       "    <tr>\n",
       "      <td>sunflower</td>\n",
       "      <td>0.0535</td>\n",
       "      <td>0.1107</td>\n",
       "      <td>558.3633</td>\n",
       "    </tr>\n",
       "    <tr>\n",
       "      <td>sweet_pepper</td>\n",
       "      <td>0.0940</td>\n",
       "      <td>0.0884</td>\n",
       "      <td>531.1350</td>\n",
       "    </tr>\n",
       "    <tr>\n",
       "      <td>table</td>\n",
       "      <td>-0.0628</td>\n",
       "      <td>0.0874</td>\n",
       "      <td>644.2682</td>\n",
       "    </tr>\n",
       "    <tr>\n",
       "      <td>tank</td>\n",
       "      <td>-0.0290</td>\n",
       "      <td>0.1131</td>\n",
       "      <td>598.6179</td>\n",
       "    </tr>\n",
       "    <tr>\n",
       "      <td>telephone</td>\n",
       "      <td>0.0565</td>\n",
       "      <td>0.0857</td>\n",
       "      <td>589.7508</td>\n",
       "    </tr>\n",
       "    <tr>\n",
       "      <td>television</td>\n",
       "      <td>0.0423</td>\n",
       "      <td>0.0825</td>\n",
       "      <td>577.2362</td>\n",
       "    </tr>\n",
       "    <tr>\n",
       "      <td>tiger</td>\n",
       "      <td>-0.0369</td>\n",
       "      <td>0.0883</td>\n",
       "      <td>617.6719</td>\n",
       "    </tr>\n",
       "    <tr>\n",
       "      <td>tractor</td>\n",
       "      <td>-0.1099</td>\n",
       "      <td>0.0998</td>\n",
       "      <td>668.3514</td>\n",
       "    </tr>\n",
       "    <tr>\n",
       "      <td>train</td>\n",
       "      <td>-0.0659</td>\n",
       "      <td>0.0758</td>\n",
       "      <td>653.4246</td>\n",
       "    </tr>\n",
       "    <tr>\n",
       "      <td>tulip</td>\n",
       "      <td>0.0390</td>\n",
       "      <td>0.1171</td>\n",
       "      <td>569.5575</td>\n",
       "    </tr>\n",
       "    <tr>\n",
       "      <td>turtle</td>\n",
       "      <td>0.0669</td>\n",
       "      <td>0.1288</td>\n",
       "      <td>547.7249</td>\n",
       "    </tr>\n",
       "    <tr>\n",
       "      <td>wardrobe</td>\n",
       "      <td>0.0822</td>\n",
       "      <td>0.0751</td>\n",
       "      <td>556.4060</td>\n",
       "    </tr>\n",
       "    <tr>\n",
       "      <td>whale</td>\n",
       "      <td>-0.0110</td>\n",
       "      <td>0.1025</td>\n",
       "      <td>604.4287</td>\n",
       "    </tr>\n",
       "    <tr>\n",
       "      <td>willow_tree</td>\n",
       "      <td>0.1938</td>\n",
       "      <td>0.1577</td>\n",
       "      <td>488.3376</td>\n",
       "    </tr>\n",
       "    <tr>\n",
       "      <td>wolf</td>\n",
       "      <td>0.2147</td>\n",
       "      <td>0.1361</td>\n",
       "      <td>486.0673</td>\n",
       "    </tr>\n",
       "    <tr>\n",
       "      <td>woman</td>\n",
       "      <td>-0.0625</td>\n",
       "      <td>0.0883</td>\n",
       "      <td>667.0867</td>\n",
       "    </tr>\n",
       "    <tr>\n",
       "      <td>worm</td>\n",
       "      <td>0.0526</td>\n",
       "      <td>0.1213</td>\n",
       "      <td>569.9316</td>\n",
       "    </tr>\n",
       "  </tbody>\n",
       "</table>\n",
       "</div>"
      ],
      "text/plain": [
       "                   c_sim_mean  c_sim_std       fid\n",
       "apple                  0.0273     0.0877  579.1119\n",
       "aquarium_fish          0.0281     0.0919  558.3511\n",
       "baby                  -0.0709     0.1248  654.0855\n",
       "bear                   0.0877     0.1471  538.4381\n",
       "beaver                 0.1716     0.1542  509.4595\n",
       "bed                   -0.0186     0.0689  614.3362\n",
       "bee                    0.0420     0.1059  545.5173\n",
       "beetle                 0.0133     0.0993  588.2858\n",
       "bicycle               -0.0475     0.0751  618.4942\n",
       "bottle                -0.0455     0.1039  623.4253\n",
       "bowl                  -0.0764     0.0717  642.0331\n",
       "boy                   -0.0710     0.0983  662.1183\n",
       "bridge                -0.0067     0.0871  614.7259\n",
       "bus                    0.0134     0.0773  592.8642\n",
       "butterfly              0.0729     0.1075  536.8671\n",
       "camel                  0.0284     0.1235  571.9349\n",
       "can                    0.0672     0.0780  586.4878\n",
       "castle                 0.0882     0.0792  554.0114\n",
       "caterpillar           -0.0016     0.1495  582.3692\n",
       "cattle                 0.1214     0.1410  528.0117\n",
       "chair                 -0.0676     0.0777  630.2635\n",
       "clock                 -0.0293     0.0828  619.9565\n",
       "cloud                  0.1356     0.0880  532.9525\n",
       "cockroach              0.0298     0.1352  571.1828\n",
       "couch                 -0.0220     0.0710  605.4679\n",
       "crab                  -0.0373     0.1038  625.0570\n",
       "crocodile              0.0908     0.1388  544.6698\n",
       "cup                   -0.0887     0.0808  638.1313\n",
       "dinosaur              -0.0258     0.1274  607.8788\n",
       "dolphin               -0.0424     0.1071  622.7508\n",
       "elephant               0.1844     0.1651  502.7068\n",
       "forest                 0.2461     0.1428  471.3445\n",
       "fox                    0.1670     0.1487  527.5221\n",
       "girl                  -0.0824     0.0988  676.8082\n",
       "hamster                0.0354     0.1207  568.6823\n",
       "house                  0.0457     0.0948  580.5387\n",
       "kangaroo              -0.0553     0.1311  608.2423\n",
       "computer_keyboard     -0.0820     0.0740  641.3623\n",
       "lamp                   0.0450     0.0864  580.8619\n",
       "lawn_mower             0.0028     0.1200  580.8852\n",
       "leopard                0.1065     0.1432  531.4680\n",
       "lion                   0.2247     0.1324  487.0912\n",
       "lizard                 0.0162     0.1380  584.8190\n",
       "lobster               -0.0751     0.1003  636.8313\n",
       "man                   -0.0317     0.0827  649.1275\n",
       "maple_tree             0.2354     0.1428  461.9435\n",
       "motorcycle            -0.0847     0.0844  647.4673\n",
       "mountain               0.0766     0.0984  559.7415\n",
       "mouse                 -0.0132     0.0897  616.3174\n",
       "mushroom               0.0495     0.1190  571.0281\n",
       "oak_tree               0.2145     0.1530  476.7553\n",
       "orange                -0.0066     0.0985  584.9515\n",
       "orchid                 0.0781     0.1051  539.3147\n",
       "otter                  0.1103     0.1421  551.1850\n",
       "palm_tree              0.1192     0.1307  524.3073\n",
       "pear                   0.1260     0.1184  537.1983\n",
       "pickup_truck          -0.1277     0.0893  677.5429\n",
       "pine_tree              0.2276     0.1457  477.5856\n",
       "plain                  0.0123     0.1054  597.2837\n",
       "plate                 -0.0463     0.0668  617.3220\n",
       "poppy                  0.0776     0.0764  555.7566\n",
       "porcupine              0.0506     0.1236  558.1203\n",
       "possum                 0.1267     0.1626  523.3376\n",
       "rabbit                 0.0526     0.1458  560.9012\n",
       "raccoon                0.1802     0.1431  492.7552\n",
       "ray                   -0.0907     0.0834  633.7620\n",
       "road                   0.0830     0.1168  568.3007\n",
       "rocket                -0.1001     0.1002  650.5419\n",
       "rose                   0.0420     0.0995  575.3055\n",
       "sea                   -0.0693     0.1035  647.6422\n",
       "seal                   0.0220     0.1081  593.0662\n",
       "shark                  0.0826     0.1123  560.1330\n",
       "skyscraper             0.0685     0.0814  567.9879\n",
       "snail                  0.0966     0.1074  537.1860\n",
       "snake                  0.0518     0.1249  573.4191\n",
       "spider                -0.0480     0.1327  632.4167\n",
       "squirrel               0.1634     0.1796  498.9276\n",
       "streetcar              0.0114     0.0842  604.6842\n",
       "sunflower              0.0535     0.1107  558.3633\n",
       "sweet_pepper           0.0940     0.0884  531.1350\n",
       "table                 -0.0628     0.0874  644.2682\n",
       "tank                  -0.0290     0.1131  598.6179\n",
       "telephone              0.0565     0.0857  589.7508\n",
       "television             0.0423     0.0825  577.2362\n",
       "tiger                 -0.0369     0.0883  617.6719\n",
       "tractor               -0.1099     0.0998  668.3514\n",
       "train                 -0.0659     0.0758  653.4246\n",
       "tulip                  0.0390     0.1171  569.5575\n",
       "turtle                 0.0669     0.1288  547.7249\n",
       "wardrobe               0.0822     0.0751  556.4060\n",
       "whale                 -0.0110     0.1025  604.4287\n",
       "willow_tree            0.1938     0.1577  488.3376\n",
       "wolf                   0.2147     0.1361  486.0673\n",
       "woman                 -0.0625     0.0883  667.0867\n",
       "worm                   0.0526     0.1213  569.9316"
      ]
     },
     "execution_count": 466,
     "metadata": {},
     "output_type": "execute_result"
    }
   ],
   "source": [
    "df_result[key]"
   ]
  },
  {
   "cell_type": "code",
   "execution_count": 467,
   "metadata": {},
   "outputs": [
    {
     "data": {
      "image/png": "[encoded data removed]",
      "text/plain": [
       "<Figure size 576x1728 with 1 Axes>"
      ]
     },
     "metadata": {
      "needs_background": "light"
     },
     "output_type": "display_data"
    }
   ],
   "source": [
    "ax = df_result[key]['c_sim_mean'].plot(kind='barh'\n",
    "                                  , color=colors\n",
    "                                    ,stacked=True\n",
    "                             ,figsize=(8,24)\n",
    "                             ,grid=True,width=0.9\n",
    "                             ,title='Cosine Similarity of Representation Image of \"'+key.split('_')[0]+'\" \\n with various \"Textual Keywords\"')\n",
    "\n",
    "ax.set_xlabel(\"Avg. Cosine Similarity with representation of 100 RGB images of \"+key.split('_')[0])\n",
    "ax.set_ylabel(\"Textual Keywords\")\n",
    "for p in ax.patches:\n",
    "    left, bottom, width, height = p.get_bbox().bounds\n",
    "    ax.annotate(str(width), xy=(left+width/2, bottom+height/2), \n",
    "                ha='center', va='center')"
   ]
  },
  {
   "cell_type": "code",
   "execution_count": null,
   "metadata": {},
   "outputs": [],
   "source": []
  }
 ],
 "metadata": {
  "kernelspec": {
   "display_name": "Python (pytorch-gpu)",
   "language": "python",
   "name": "pytorch-gpu"
  },
  "language_info": {
   "codemirror_mode": {
    "name": "ipython",
    "version": 3
   },
   "file_extension": ".py",
   "mimetype": "text/x-python",
   "name": "python",
   "nbconvert_exporter": "python",
   "pygments_lexer": "ipython3",
   "version": "3.7.4"
  }
 },
 "nbformat": 4,
 "nbformat_minor": 2
}
