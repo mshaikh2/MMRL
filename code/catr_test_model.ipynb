{
 "cells": [
  {
   "cell_type": "code",
   "execution_count": 26,
   "metadata": {},
   "outputs": [],
   "source": [
    "import torch\n",
    "from torch.utils.data import DataLoader\n",
    "from torchvision import transforms\n",
    "\n",
    "import numpy as np\n",
    "import time\n",
    "import sys\n",
    "import os\n",
    "import math\n",
    "import tqdm\n",
    "\n",
    "from nltk.tokenize import RegexpTokenizer\n",
    "from transformers import BertTokenizer, AutoTokenizer\n",
    "from PIL import Image\n",
    "import argparse\n",
    "\n",
    "from catr.models import caption\n",
    "from catr.models import utils as mtils\n",
    "from catr.datasets import coco, utils\n",
    "from catr.cfg_damsm_bert import Config\n",
    "# from catr.configuration import Config\n",
    "\n",
    "import json, pickle\n",
    "from pycocotools.coco import COCO as CC\n",
    "import matplotlib.pyplot as plt\n",
    "\n",
    "\n",
    "from model import CNN_ENCODER\n",
    "from miscc.config import cfg, cfg_from_file\n",
    "from datasets import prepare_data"
   ]
  },
  {
   "cell_type": "code",
   "execution_count": 27,
   "metadata": {},
   "outputs": [
    {
     "name": "stderr",
     "output_type": "stream",
     "text": [
      "Calling BertTokenizer.from_pretrained() with the path to a single file or url is deprecated\n",
      "Special tokens have been added in the vocabulary, make sure the associated word embedding are fine-tuned or trained.\n"
     ]
    }
   ],
   "source": [
    "cfg_from_file('cfg/coco_multimodal.yml')\n",
    "config = Config() # initialize catr config here\n",
    "tokenizer = BertTokenizer.from_pretrained(config.vocab, do_lower=True)\n",
    "retokenizer = BertTokenizer.from_pretrained(\"catr/damsm_vocab.txt\", do_lower=True)\n",
    "frozen_list_image_encoder = ['Conv2d_1a_3x3','Conv2d_2a_3x3','Conv2d_2b_3x3','Conv2d_3b_1x1','Conv2d_4a_3x3']"
   ]
  },
  {
   "cell_type": "code",
   "execution_count": 3,
   "metadata": {},
   "outputs": [
    {
     "name": "stderr",
     "output_type": "stream",
     "text": [
      "/media/MyDataStor2/zhanghex/anaconda3/lib/python3.7/site-packages/torchvision/models/inception.py:77: FutureWarning: The default weight initialization of inception_v3 will be changed in future releases of torchvision. If you wish to keep the old behavior (which leads to long initialization times due to scipy/scipy#11299), please set init_weights=True.\n",
      "  ' due to scipy/scipy#11299), please set init_weights=True.', FutureWarning)\n"
     ]
    },
    {
     "name": "stdout",
     "output_type": "stream",
     "text": [
      "Load pretrained model from  https://download.pytorch.org/models/inception_v3_google-1a9a5a14.pth\n",
      "Load image encoder from: ../DAMSMencoders/coco/image_encoder240.pth\n"
     ]
    }
   ],
   "source": [
    "# image_encoder initialization in trainer_s3\n",
    "image_encoder = CNN_ENCODER(cfg.TEXT.EMBEDDING_DIM)\n",
    "img_encoder_path = cfg.TRAIN.NET_E.replace('text_encoder', 'image_encoder')\n",
    "state_dict = torch.load(img_encoder_path, map_location=lambda storage, loc: storage)\n",
    "image_encoder.load_state_dict(state_dict)\n",
    "for p in image_encoder.parameters(): # make image encoder grad on\n",
    "    p.requires_grad = True\n",
    "for k,v in image_encoder.named_children(): # freeze the layer1-5 (set eval for BNlayer)\n",
    "    if k in frozen_list_image_encoder:\n",
    "        v.train(False)\n",
    "        v.requires_grad_(False)\n",
    "print('Load image encoder from:', img_encoder_path)"
   ]
  },
  {
   "cell_type": "code",
   "execution_count": 4,
   "metadata": {},
   "outputs": [],
   "source": [
    "cnnd = torch.load('../DAMSMencoders/coco/image_encoder240.pth')"
   ]
  },
  {
   "cell_type": "code",
   "execution_count": 5,
   "metadata": {
    "collapsed": true,
    "jupyter": {
     "outputs_hidden": true
    },
    "scrolled": true
   },
   "outputs": [
    {
     "data": {
      "text/plain": [
       "odict_keys(['Conv2d_1a_3x3.conv.weight', 'Conv2d_1a_3x3.bn.weight', 'Conv2d_1a_3x3.bn.bias', 'Conv2d_1a_3x3.bn.running_mean', 'Conv2d_1a_3x3.bn.running_var', 'Conv2d_1a_3x3.bn.num_batches_tracked', 'Conv2d_2a_3x3.conv.weight', 'Conv2d_2a_3x3.bn.weight', 'Conv2d_2a_3x3.bn.bias', 'Conv2d_2a_3x3.bn.running_mean', 'Conv2d_2a_3x3.bn.running_var', 'Conv2d_2a_3x3.bn.num_batches_tracked', 'Conv2d_2b_3x3.conv.weight', 'Conv2d_2b_3x3.bn.weight', 'Conv2d_2b_3x3.bn.bias', 'Conv2d_2b_3x3.bn.running_mean', 'Conv2d_2b_3x3.bn.running_var', 'Conv2d_2b_3x3.bn.num_batches_tracked', 'Conv2d_3b_1x1.conv.weight', 'Conv2d_3b_1x1.bn.weight', 'Conv2d_3b_1x1.bn.bias', 'Conv2d_3b_1x1.bn.running_mean', 'Conv2d_3b_1x1.bn.running_var', 'Conv2d_3b_1x1.bn.num_batches_tracked', 'Conv2d_4a_3x3.conv.weight', 'Conv2d_4a_3x3.bn.weight', 'Conv2d_4a_3x3.bn.bias', 'Conv2d_4a_3x3.bn.running_mean', 'Conv2d_4a_3x3.bn.running_var', 'Conv2d_4a_3x3.bn.num_batches_tracked', 'Mixed_5b.branch1x1.conv.weight', 'Mixed_5b.branch1x1.bn.weight', 'Mixed_5b.branch1x1.bn.bias', 'Mixed_5b.branch1x1.bn.running_mean', 'Mixed_5b.branch1x1.bn.running_var', 'Mixed_5b.branch1x1.bn.num_batches_tracked', 'Mixed_5b.branch5x5_1.conv.weight', 'Mixed_5b.branch5x5_1.bn.weight', 'Mixed_5b.branch5x5_1.bn.bias', 'Mixed_5b.branch5x5_1.bn.running_mean', 'Mixed_5b.branch5x5_1.bn.running_var', 'Mixed_5b.branch5x5_1.bn.num_batches_tracked', 'Mixed_5b.branch5x5_2.conv.weight', 'Mixed_5b.branch5x5_2.bn.weight', 'Mixed_5b.branch5x5_2.bn.bias', 'Mixed_5b.branch5x5_2.bn.running_mean', 'Mixed_5b.branch5x5_2.bn.running_var', 'Mixed_5b.branch5x5_2.bn.num_batches_tracked', 'Mixed_5b.branch3x3dbl_1.conv.weight', 'Mixed_5b.branch3x3dbl_1.bn.weight', 'Mixed_5b.branch3x3dbl_1.bn.bias', 'Mixed_5b.branch3x3dbl_1.bn.running_mean', 'Mixed_5b.branch3x3dbl_1.bn.running_var', 'Mixed_5b.branch3x3dbl_1.bn.num_batches_tracked', 'Mixed_5b.branch3x3dbl_2.conv.weight', 'Mixed_5b.branch3x3dbl_2.bn.weight', 'Mixed_5b.branch3x3dbl_2.bn.bias', 'Mixed_5b.branch3x3dbl_2.bn.running_mean', 'Mixed_5b.branch3x3dbl_2.bn.running_var', 'Mixed_5b.branch3x3dbl_2.bn.num_batches_tracked', 'Mixed_5b.branch3x3dbl_3.conv.weight', 'Mixed_5b.branch3x3dbl_3.bn.weight', 'Mixed_5b.branch3x3dbl_3.bn.bias', 'Mixed_5b.branch3x3dbl_3.bn.running_mean', 'Mixed_5b.branch3x3dbl_3.bn.running_var', 'Mixed_5b.branch3x3dbl_3.bn.num_batches_tracked', 'Mixed_5b.branch_pool.conv.weight', 'Mixed_5b.branch_pool.bn.weight', 'Mixed_5b.branch_pool.bn.bias', 'Mixed_5b.branch_pool.bn.running_mean', 'Mixed_5b.branch_pool.bn.running_var', 'Mixed_5b.branch_pool.bn.num_batches_tracked', 'Mixed_5c.branch1x1.conv.weight', 'Mixed_5c.branch1x1.bn.weight', 'Mixed_5c.branch1x1.bn.bias', 'Mixed_5c.branch1x1.bn.running_mean', 'Mixed_5c.branch1x1.bn.running_var', 'Mixed_5c.branch1x1.bn.num_batches_tracked', 'Mixed_5c.branch5x5_1.conv.weight', 'Mixed_5c.branch5x5_1.bn.weight', 'Mixed_5c.branch5x5_1.bn.bias', 'Mixed_5c.branch5x5_1.bn.running_mean', 'Mixed_5c.branch5x5_1.bn.running_var', 'Mixed_5c.branch5x5_1.bn.num_batches_tracked', 'Mixed_5c.branch5x5_2.conv.weight', 'Mixed_5c.branch5x5_2.bn.weight', 'Mixed_5c.branch5x5_2.bn.bias', 'Mixed_5c.branch5x5_2.bn.running_mean', 'Mixed_5c.branch5x5_2.bn.running_var', 'Mixed_5c.branch5x5_2.bn.num_batches_tracked', 'Mixed_5c.branch3x3dbl_1.conv.weight', 'Mixed_5c.branch3x3dbl_1.bn.weight', 'Mixed_5c.branch3x3dbl_1.bn.bias', 'Mixed_5c.branch3x3dbl_1.bn.running_mean', 'Mixed_5c.branch3x3dbl_1.bn.running_var', 'Mixed_5c.branch3x3dbl_1.bn.num_batches_tracked', 'Mixed_5c.branch3x3dbl_2.conv.weight', 'Mixed_5c.branch3x3dbl_2.bn.weight', 'Mixed_5c.branch3x3dbl_2.bn.bias', 'Mixed_5c.branch3x3dbl_2.bn.running_mean', 'Mixed_5c.branch3x3dbl_2.bn.running_var', 'Mixed_5c.branch3x3dbl_2.bn.num_batches_tracked', 'Mixed_5c.branch3x3dbl_3.conv.weight', 'Mixed_5c.branch3x3dbl_3.bn.weight', 'Mixed_5c.branch3x3dbl_3.bn.bias', 'Mixed_5c.branch3x3dbl_3.bn.running_mean', 'Mixed_5c.branch3x3dbl_3.bn.running_var', 'Mixed_5c.branch3x3dbl_3.bn.num_batches_tracked', 'Mixed_5c.branch_pool.conv.weight', 'Mixed_5c.branch_pool.bn.weight', 'Mixed_5c.branch_pool.bn.bias', 'Mixed_5c.branch_pool.bn.running_mean', 'Mixed_5c.branch_pool.bn.running_var', 'Mixed_5c.branch_pool.bn.num_batches_tracked', 'Mixed_5d.branch1x1.conv.weight', 'Mixed_5d.branch1x1.bn.weight', 'Mixed_5d.branch1x1.bn.bias', 'Mixed_5d.branch1x1.bn.running_mean', 'Mixed_5d.branch1x1.bn.running_var', 'Mixed_5d.branch1x1.bn.num_batches_tracked', 'Mixed_5d.branch5x5_1.conv.weight', 'Mixed_5d.branch5x5_1.bn.weight', 'Mixed_5d.branch5x5_1.bn.bias', 'Mixed_5d.branch5x5_1.bn.running_mean', 'Mixed_5d.branch5x5_1.bn.running_var', 'Mixed_5d.branch5x5_1.bn.num_batches_tracked', 'Mixed_5d.branch5x5_2.conv.weight', 'Mixed_5d.branch5x5_2.bn.weight', 'Mixed_5d.branch5x5_2.bn.bias', 'Mixed_5d.branch5x5_2.bn.running_mean', 'Mixed_5d.branch5x5_2.bn.running_var', 'Mixed_5d.branch5x5_2.bn.num_batches_tracked', 'Mixed_5d.branch3x3dbl_1.conv.weight', 'Mixed_5d.branch3x3dbl_1.bn.weight', 'Mixed_5d.branch3x3dbl_1.bn.bias', 'Mixed_5d.branch3x3dbl_1.bn.running_mean', 'Mixed_5d.branch3x3dbl_1.bn.running_var', 'Mixed_5d.branch3x3dbl_1.bn.num_batches_tracked', 'Mixed_5d.branch3x3dbl_2.conv.weight', 'Mixed_5d.branch3x3dbl_2.bn.weight', 'Mixed_5d.branch3x3dbl_2.bn.bias', 'Mixed_5d.branch3x3dbl_2.bn.running_mean', 'Mixed_5d.branch3x3dbl_2.bn.running_var', 'Mixed_5d.branch3x3dbl_2.bn.num_batches_tracked', 'Mixed_5d.branch3x3dbl_3.conv.weight', 'Mixed_5d.branch3x3dbl_3.bn.weight', 'Mixed_5d.branch3x3dbl_3.bn.bias', 'Mixed_5d.branch3x3dbl_3.bn.running_mean', 'Mixed_5d.branch3x3dbl_3.bn.running_var', 'Mixed_5d.branch3x3dbl_3.bn.num_batches_tracked', 'Mixed_5d.branch_pool.conv.weight', 'Mixed_5d.branch_pool.bn.weight', 'Mixed_5d.branch_pool.bn.bias', 'Mixed_5d.branch_pool.bn.running_mean', 'Mixed_5d.branch_pool.bn.running_var', 'Mixed_5d.branch_pool.bn.num_batches_tracked', 'Mixed_6a.branch3x3.conv.weight', 'Mixed_6a.branch3x3.bn.weight', 'Mixed_6a.branch3x3.bn.bias', 'Mixed_6a.branch3x3.bn.running_mean', 'Mixed_6a.branch3x3.bn.running_var', 'Mixed_6a.branch3x3.bn.num_batches_tracked', 'Mixed_6a.branch3x3dbl_1.conv.weight', 'Mixed_6a.branch3x3dbl_1.bn.weight', 'Mixed_6a.branch3x3dbl_1.bn.bias', 'Mixed_6a.branch3x3dbl_1.bn.running_mean', 'Mixed_6a.branch3x3dbl_1.bn.running_var', 'Mixed_6a.branch3x3dbl_1.bn.num_batches_tracked', 'Mixed_6a.branch3x3dbl_2.conv.weight', 'Mixed_6a.branch3x3dbl_2.bn.weight', 'Mixed_6a.branch3x3dbl_2.bn.bias', 'Mixed_6a.branch3x3dbl_2.bn.running_mean', 'Mixed_6a.branch3x3dbl_2.bn.running_var', 'Mixed_6a.branch3x3dbl_2.bn.num_batches_tracked', 'Mixed_6a.branch3x3dbl_3.conv.weight', 'Mixed_6a.branch3x3dbl_3.bn.weight', 'Mixed_6a.branch3x3dbl_3.bn.bias', 'Mixed_6a.branch3x3dbl_3.bn.running_mean', 'Mixed_6a.branch3x3dbl_3.bn.running_var', 'Mixed_6a.branch3x3dbl_3.bn.num_batches_tracked', 'Mixed_6b.branch1x1.conv.weight', 'Mixed_6b.branch1x1.bn.weight', 'Mixed_6b.branch1x1.bn.bias', 'Mixed_6b.branch1x1.bn.running_mean', 'Mixed_6b.branch1x1.bn.running_var', 'Mixed_6b.branch1x1.bn.num_batches_tracked', 'Mixed_6b.branch7x7_1.conv.weight', 'Mixed_6b.branch7x7_1.bn.weight', 'Mixed_6b.branch7x7_1.bn.bias', 'Mixed_6b.branch7x7_1.bn.running_mean', 'Mixed_6b.branch7x7_1.bn.running_var', 'Mixed_6b.branch7x7_1.bn.num_batches_tracked', 'Mixed_6b.branch7x7_2.conv.weight', 'Mixed_6b.branch7x7_2.bn.weight', 'Mixed_6b.branch7x7_2.bn.bias', 'Mixed_6b.branch7x7_2.bn.running_mean', 'Mixed_6b.branch7x7_2.bn.running_var', 'Mixed_6b.branch7x7_2.bn.num_batches_tracked', 'Mixed_6b.branch7x7_3.conv.weight', 'Mixed_6b.branch7x7_3.bn.weight', 'Mixed_6b.branch7x7_3.bn.bias', 'Mixed_6b.branch7x7_3.bn.running_mean', 'Mixed_6b.branch7x7_3.bn.running_var', 'Mixed_6b.branch7x7_3.bn.num_batches_tracked', 'Mixed_6b.branch7x7dbl_1.conv.weight', 'Mixed_6b.branch7x7dbl_1.bn.weight', 'Mixed_6b.branch7x7dbl_1.bn.bias', 'Mixed_6b.branch7x7dbl_1.bn.running_mean', 'Mixed_6b.branch7x7dbl_1.bn.running_var', 'Mixed_6b.branch7x7dbl_1.bn.num_batches_tracked', 'Mixed_6b.branch7x7dbl_2.conv.weight', 'Mixed_6b.branch7x7dbl_2.bn.weight', 'Mixed_6b.branch7x7dbl_2.bn.bias', 'Mixed_6b.branch7x7dbl_2.bn.running_mean', 'Mixed_6b.branch7x7dbl_2.bn.running_var', 'Mixed_6b.branch7x7dbl_2.bn.num_batches_tracked', 'Mixed_6b.branch7x7dbl_3.conv.weight', 'Mixed_6b.branch7x7dbl_3.bn.weight', 'Mixed_6b.branch7x7dbl_3.bn.bias', 'Mixed_6b.branch7x7dbl_3.bn.running_mean', 'Mixed_6b.branch7x7dbl_3.bn.running_var', 'Mixed_6b.branch7x7dbl_3.bn.num_batches_tracked', 'Mixed_6b.branch7x7dbl_4.conv.weight', 'Mixed_6b.branch7x7dbl_4.bn.weight', 'Mixed_6b.branch7x7dbl_4.bn.bias', 'Mixed_6b.branch7x7dbl_4.bn.running_mean', 'Mixed_6b.branch7x7dbl_4.bn.running_var', 'Mixed_6b.branch7x7dbl_4.bn.num_batches_tracked', 'Mixed_6b.branch7x7dbl_5.conv.weight', 'Mixed_6b.branch7x7dbl_5.bn.weight', 'Mixed_6b.branch7x7dbl_5.bn.bias', 'Mixed_6b.branch7x7dbl_5.bn.running_mean', 'Mixed_6b.branch7x7dbl_5.bn.running_var', 'Mixed_6b.branch7x7dbl_5.bn.num_batches_tracked', 'Mixed_6b.branch_pool.conv.weight', 'Mixed_6b.branch_pool.bn.weight', 'Mixed_6b.branch_pool.bn.bias', 'Mixed_6b.branch_pool.bn.running_mean', 'Mixed_6b.branch_pool.bn.running_var', 'Mixed_6b.branch_pool.bn.num_batches_tracked', 'Mixed_6c.branch1x1.conv.weight', 'Mixed_6c.branch1x1.bn.weight', 'Mixed_6c.branch1x1.bn.bias', 'Mixed_6c.branch1x1.bn.running_mean', 'Mixed_6c.branch1x1.bn.running_var', 'Mixed_6c.branch1x1.bn.num_batches_tracked', 'Mixed_6c.branch7x7_1.conv.weight', 'Mixed_6c.branch7x7_1.bn.weight', 'Mixed_6c.branch7x7_1.bn.bias', 'Mixed_6c.branch7x7_1.bn.running_mean', 'Mixed_6c.branch7x7_1.bn.running_var', 'Mixed_6c.branch7x7_1.bn.num_batches_tracked', 'Mixed_6c.branch7x7_2.conv.weight', 'Mixed_6c.branch7x7_2.bn.weight', 'Mixed_6c.branch7x7_2.bn.bias', 'Mixed_6c.branch7x7_2.bn.running_mean', 'Mixed_6c.branch7x7_2.bn.running_var', 'Mixed_6c.branch7x7_2.bn.num_batches_tracked', 'Mixed_6c.branch7x7_3.conv.weight', 'Mixed_6c.branch7x7_3.bn.weight', 'Mixed_6c.branch7x7_3.bn.bias', 'Mixed_6c.branch7x7_3.bn.running_mean', 'Mixed_6c.branch7x7_3.bn.running_var', 'Mixed_6c.branch7x7_3.bn.num_batches_tracked', 'Mixed_6c.branch7x7dbl_1.conv.weight', 'Mixed_6c.branch7x7dbl_1.bn.weight', 'Mixed_6c.branch7x7dbl_1.bn.bias', 'Mixed_6c.branch7x7dbl_1.bn.running_mean', 'Mixed_6c.branch7x7dbl_1.bn.running_var', 'Mixed_6c.branch7x7dbl_1.bn.num_batches_tracked', 'Mixed_6c.branch7x7dbl_2.conv.weight', 'Mixed_6c.branch7x7dbl_2.bn.weight', 'Mixed_6c.branch7x7dbl_2.bn.bias', 'Mixed_6c.branch7x7dbl_2.bn.running_mean', 'Mixed_6c.branch7x7dbl_2.bn.running_var', 'Mixed_6c.branch7x7dbl_2.bn.num_batches_tracked', 'Mixed_6c.branch7x7dbl_3.conv.weight', 'Mixed_6c.branch7x7dbl_3.bn.weight', 'Mixed_6c.branch7x7dbl_3.bn.bias', 'Mixed_6c.branch7x7dbl_3.bn.running_mean', 'Mixed_6c.branch7x7dbl_3.bn.running_var', 'Mixed_6c.branch7x7dbl_3.bn.num_batches_tracked', 'Mixed_6c.branch7x7dbl_4.conv.weight', 'Mixed_6c.branch7x7dbl_4.bn.weight', 'Mixed_6c.branch7x7dbl_4.bn.bias', 'Mixed_6c.branch7x7dbl_4.bn.running_mean', 'Mixed_6c.branch7x7dbl_4.bn.running_var', 'Mixed_6c.branch7x7dbl_4.bn.num_batches_tracked', 'Mixed_6c.branch7x7dbl_5.conv.weight', 'Mixed_6c.branch7x7dbl_5.bn.weight', 'Mixed_6c.branch7x7dbl_5.bn.bias', 'Mixed_6c.branch7x7dbl_5.bn.running_mean', 'Mixed_6c.branch7x7dbl_5.bn.running_var', 'Mixed_6c.branch7x7dbl_5.bn.num_batches_tracked', 'Mixed_6c.branch_pool.conv.weight', 'Mixed_6c.branch_pool.bn.weight', 'Mixed_6c.branch_pool.bn.bias', 'Mixed_6c.branch_pool.bn.running_mean', 'Mixed_6c.branch_pool.bn.running_var', 'Mixed_6c.branch_pool.bn.num_batches_tracked', 'Mixed_6d.branch1x1.conv.weight', 'Mixed_6d.branch1x1.bn.weight', 'Mixed_6d.branch1x1.bn.bias', 'Mixed_6d.branch1x1.bn.running_mean', 'Mixed_6d.branch1x1.bn.running_var', 'Mixed_6d.branch1x1.bn.num_batches_tracked', 'Mixed_6d.branch7x7_1.conv.weight', 'Mixed_6d.branch7x7_1.bn.weight', 'Mixed_6d.branch7x7_1.bn.bias', 'Mixed_6d.branch7x7_1.bn.running_mean', 'Mixed_6d.branch7x7_1.bn.running_var', 'Mixed_6d.branch7x7_1.bn.num_batches_tracked', 'Mixed_6d.branch7x7_2.conv.weight', 'Mixed_6d.branch7x7_2.bn.weight', 'Mixed_6d.branch7x7_2.bn.bias', 'Mixed_6d.branch7x7_2.bn.running_mean', 'Mixed_6d.branch7x7_2.bn.running_var', 'Mixed_6d.branch7x7_2.bn.num_batches_tracked', 'Mixed_6d.branch7x7_3.conv.weight', 'Mixed_6d.branch7x7_3.bn.weight', 'Mixed_6d.branch7x7_3.bn.bias', 'Mixed_6d.branch7x7_3.bn.running_mean', 'Mixed_6d.branch7x7_3.bn.running_var', 'Mixed_6d.branch7x7_3.bn.num_batches_tracked', 'Mixed_6d.branch7x7dbl_1.conv.weight', 'Mixed_6d.branch7x7dbl_1.bn.weight', 'Mixed_6d.branch7x7dbl_1.bn.bias', 'Mixed_6d.branch7x7dbl_1.bn.running_mean', 'Mixed_6d.branch7x7dbl_1.bn.running_var', 'Mixed_6d.branch7x7dbl_1.bn.num_batches_tracked', 'Mixed_6d.branch7x7dbl_2.conv.weight', 'Mixed_6d.branch7x7dbl_2.bn.weight', 'Mixed_6d.branch7x7dbl_2.bn.bias', 'Mixed_6d.branch7x7dbl_2.bn.running_mean', 'Mixed_6d.branch7x7dbl_2.bn.running_var', 'Mixed_6d.branch7x7dbl_2.bn.num_batches_tracked', 'Mixed_6d.branch7x7dbl_3.conv.weight', 'Mixed_6d.branch7x7dbl_3.bn.weight', 'Mixed_6d.branch7x7dbl_3.bn.bias', 'Mixed_6d.branch7x7dbl_3.bn.running_mean', 'Mixed_6d.branch7x7dbl_3.bn.running_var', 'Mixed_6d.branch7x7dbl_3.bn.num_batches_tracked', 'Mixed_6d.branch7x7dbl_4.conv.weight', 'Mixed_6d.branch7x7dbl_4.bn.weight', 'Mixed_6d.branch7x7dbl_4.bn.bias', 'Mixed_6d.branch7x7dbl_4.bn.running_mean', 'Mixed_6d.branch7x7dbl_4.bn.running_var', 'Mixed_6d.branch7x7dbl_4.bn.num_batches_tracked', 'Mixed_6d.branch7x7dbl_5.conv.weight', 'Mixed_6d.branch7x7dbl_5.bn.weight', 'Mixed_6d.branch7x7dbl_5.bn.bias', 'Mixed_6d.branch7x7dbl_5.bn.running_mean', 'Mixed_6d.branch7x7dbl_5.bn.running_var', 'Mixed_6d.branch7x7dbl_5.bn.num_batches_tracked', 'Mixed_6d.branch_pool.conv.weight', 'Mixed_6d.branch_pool.bn.weight', 'Mixed_6d.branch_pool.bn.bias', 'Mixed_6d.branch_pool.bn.running_mean', 'Mixed_6d.branch_pool.bn.running_var', 'Mixed_6d.branch_pool.bn.num_batches_tracked', 'Mixed_6e.branch1x1.conv.weight', 'Mixed_6e.branch1x1.bn.weight', 'Mixed_6e.branch1x1.bn.bias', 'Mixed_6e.branch1x1.bn.running_mean', 'Mixed_6e.branch1x1.bn.running_var', 'Mixed_6e.branch1x1.bn.num_batches_tracked', 'Mixed_6e.branch7x7_1.conv.weight', 'Mixed_6e.branch7x7_1.bn.weight', 'Mixed_6e.branch7x7_1.bn.bias', 'Mixed_6e.branch7x7_1.bn.running_mean', 'Mixed_6e.branch7x7_1.bn.running_var', 'Mixed_6e.branch7x7_1.bn.num_batches_tracked', 'Mixed_6e.branch7x7_2.conv.weight', 'Mixed_6e.branch7x7_2.bn.weight', 'Mixed_6e.branch7x7_2.bn.bias', 'Mixed_6e.branch7x7_2.bn.running_mean', 'Mixed_6e.branch7x7_2.bn.running_var', 'Mixed_6e.branch7x7_2.bn.num_batches_tracked', 'Mixed_6e.branch7x7_3.conv.weight', 'Mixed_6e.branch7x7_3.bn.weight', 'Mixed_6e.branch7x7_3.bn.bias', 'Mixed_6e.branch7x7_3.bn.running_mean', 'Mixed_6e.branch7x7_3.bn.running_var', 'Mixed_6e.branch7x7_3.bn.num_batches_tracked', 'Mixed_6e.branch7x7dbl_1.conv.weight', 'Mixed_6e.branch7x7dbl_1.bn.weight', 'Mixed_6e.branch7x7dbl_1.bn.bias', 'Mixed_6e.branch7x7dbl_1.bn.running_mean', 'Mixed_6e.branch7x7dbl_1.bn.running_var', 'Mixed_6e.branch7x7dbl_1.bn.num_batches_tracked', 'Mixed_6e.branch7x7dbl_2.conv.weight', 'Mixed_6e.branch7x7dbl_2.bn.weight', 'Mixed_6e.branch7x7dbl_2.bn.bias', 'Mixed_6e.branch7x7dbl_2.bn.running_mean', 'Mixed_6e.branch7x7dbl_2.bn.running_var', 'Mixed_6e.branch7x7dbl_2.bn.num_batches_tracked', 'Mixed_6e.branch7x7dbl_3.conv.weight', 'Mixed_6e.branch7x7dbl_3.bn.weight', 'Mixed_6e.branch7x7dbl_3.bn.bias', 'Mixed_6e.branch7x7dbl_3.bn.running_mean', 'Mixed_6e.branch7x7dbl_3.bn.running_var', 'Mixed_6e.branch7x7dbl_3.bn.num_batches_tracked', 'Mixed_6e.branch7x7dbl_4.conv.weight', 'Mixed_6e.branch7x7dbl_4.bn.weight', 'Mixed_6e.branch7x7dbl_4.bn.bias', 'Mixed_6e.branch7x7dbl_4.bn.running_mean', 'Mixed_6e.branch7x7dbl_4.bn.running_var', 'Mixed_6e.branch7x7dbl_4.bn.num_batches_tracked', 'Mixed_6e.branch7x7dbl_5.conv.weight', 'Mixed_6e.branch7x7dbl_5.bn.weight', 'Mixed_6e.branch7x7dbl_5.bn.bias', 'Mixed_6e.branch7x7dbl_5.bn.running_mean', 'Mixed_6e.branch7x7dbl_5.bn.running_var', 'Mixed_6e.branch7x7dbl_5.bn.num_batches_tracked', 'Mixed_6e.branch_pool.conv.weight', 'Mixed_6e.branch_pool.bn.weight', 'Mixed_6e.branch_pool.bn.bias', 'Mixed_6e.branch_pool.bn.running_mean', 'Mixed_6e.branch_pool.bn.running_var', 'Mixed_6e.branch_pool.bn.num_batches_tracked', 'Mixed_7a.branch3x3_1.conv.weight', 'Mixed_7a.branch3x3_1.bn.weight', 'Mixed_7a.branch3x3_1.bn.bias', 'Mixed_7a.branch3x3_1.bn.running_mean', 'Mixed_7a.branch3x3_1.bn.running_var', 'Mixed_7a.branch3x3_1.bn.num_batches_tracked', 'Mixed_7a.branch3x3_2.conv.weight', 'Mixed_7a.branch3x3_2.bn.weight', 'Mixed_7a.branch3x3_2.bn.bias', 'Mixed_7a.branch3x3_2.bn.running_mean', 'Mixed_7a.branch3x3_2.bn.running_var', 'Mixed_7a.branch3x3_2.bn.num_batches_tracked', 'Mixed_7a.branch7x7x3_1.conv.weight', 'Mixed_7a.branch7x7x3_1.bn.weight', 'Mixed_7a.branch7x7x3_1.bn.bias', 'Mixed_7a.branch7x7x3_1.bn.running_mean', 'Mixed_7a.branch7x7x3_1.bn.running_var', 'Mixed_7a.branch7x7x3_1.bn.num_batches_tracked', 'Mixed_7a.branch7x7x3_2.conv.weight', 'Mixed_7a.branch7x7x3_2.bn.weight', 'Mixed_7a.branch7x7x3_2.bn.bias', 'Mixed_7a.branch7x7x3_2.bn.running_mean', 'Mixed_7a.branch7x7x3_2.bn.running_var', 'Mixed_7a.branch7x7x3_2.bn.num_batches_tracked', 'Mixed_7a.branch7x7x3_3.conv.weight', 'Mixed_7a.branch7x7x3_3.bn.weight', 'Mixed_7a.branch7x7x3_3.bn.bias', 'Mixed_7a.branch7x7x3_3.bn.running_mean', 'Mixed_7a.branch7x7x3_3.bn.running_var', 'Mixed_7a.branch7x7x3_3.bn.num_batches_tracked', 'Mixed_7a.branch7x7x3_4.conv.weight', 'Mixed_7a.branch7x7x3_4.bn.weight', 'Mixed_7a.branch7x7x3_4.bn.bias', 'Mixed_7a.branch7x7x3_4.bn.running_mean', 'Mixed_7a.branch7x7x3_4.bn.running_var', 'Mixed_7a.branch7x7x3_4.bn.num_batches_tracked', 'Mixed_7b.branch1x1.conv.weight', 'Mixed_7b.branch1x1.bn.weight', 'Mixed_7b.branch1x1.bn.bias', 'Mixed_7b.branch1x1.bn.running_mean', 'Mixed_7b.branch1x1.bn.running_var', 'Mixed_7b.branch1x1.bn.num_batches_tracked', 'Mixed_7b.branch3x3_1.conv.weight', 'Mixed_7b.branch3x3_1.bn.weight', 'Mixed_7b.branch3x3_1.bn.bias', 'Mixed_7b.branch3x3_1.bn.running_mean', 'Mixed_7b.branch3x3_1.bn.running_var', 'Mixed_7b.branch3x3_1.bn.num_batches_tracked', 'Mixed_7b.branch3x3_2a.conv.weight', 'Mixed_7b.branch3x3_2a.bn.weight', 'Mixed_7b.branch3x3_2a.bn.bias', 'Mixed_7b.branch3x3_2a.bn.running_mean', 'Mixed_7b.branch3x3_2a.bn.running_var', 'Mixed_7b.branch3x3_2a.bn.num_batches_tracked', 'Mixed_7b.branch3x3_2b.conv.weight', 'Mixed_7b.branch3x3_2b.bn.weight', 'Mixed_7b.branch3x3_2b.bn.bias', 'Mixed_7b.branch3x3_2b.bn.running_mean', 'Mixed_7b.branch3x3_2b.bn.running_var', 'Mixed_7b.branch3x3_2b.bn.num_batches_tracked', 'Mixed_7b.branch3x3dbl_1.conv.weight', 'Mixed_7b.branch3x3dbl_1.bn.weight', 'Mixed_7b.branch3x3dbl_1.bn.bias', 'Mixed_7b.branch3x3dbl_1.bn.running_mean', 'Mixed_7b.branch3x3dbl_1.bn.running_var', 'Mixed_7b.branch3x3dbl_1.bn.num_batches_tracked', 'Mixed_7b.branch3x3dbl_2.conv.weight', 'Mixed_7b.branch3x3dbl_2.bn.weight', 'Mixed_7b.branch3x3dbl_2.bn.bias', 'Mixed_7b.branch3x3dbl_2.bn.running_mean', 'Mixed_7b.branch3x3dbl_2.bn.running_var', 'Mixed_7b.branch3x3dbl_2.bn.num_batches_tracked', 'Mixed_7b.branch3x3dbl_3a.conv.weight', 'Mixed_7b.branch3x3dbl_3a.bn.weight', 'Mixed_7b.branch3x3dbl_3a.bn.bias', 'Mixed_7b.branch3x3dbl_3a.bn.running_mean', 'Mixed_7b.branch3x3dbl_3a.bn.running_var', 'Mixed_7b.branch3x3dbl_3a.bn.num_batches_tracked', 'Mixed_7b.branch3x3dbl_3b.conv.weight', 'Mixed_7b.branch3x3dbl_3b.bn.weight', 'Mixed_7b.branch3x3dbl_3b.bn.bias', 'Mixed_7b.branch3x3dbl_3b.bn.running_mean', 'Mixed_7b.branch3x3dbl_3b.bn.running_var', 'Mixed_7b.branch3x3dbl_3b.bn.num_batches_tracked', 'Mixed_7b.branch_pool.conv.weight', 'Mixed_7b.branch_pool.bn.weight', 'Mixed_7b.branch_pool.bn.bias', 'Mixed_7b.branch_pool.bn.running_mean', 'Mixed_7b.branch_pool.bn.running_var', 'Mixed_7b.branch_pool.bn.num_batches_tracked', 'Mixed_7c.branch1x1.conv.weight', 'Mixed_7c.branch1x1.bn.weight', 'Mixed_7c.branch1x1.bn.bias', 'Mixed_7c.branch1x1.bn.running_mean', 'Mixed_7c.branch1x1.bn.running_var', 'Mixed_7c.branch1x1.bn.num_batches_tracked', 'Mixed_7c.branch3x3_1.conv.weight', 'Mixed_7c.branch3x3_1.bn.weight', 'Mixed_7c.branch3x3_1.bn.bias', 'Mixed_7c.branch3x3_1.bn.running_mean', 'Mixed_7c.branch3x3_1.bn.running_var', 'Mixed_7c.branch3x3_1.bn.num_batches_tracked', 'Mixed_7c.branch3x3_2a.conv.weight', 'Mixed_7c.branch3x3_2a.bn.weight', 'Mixed_7c.branch3x3_2a.bn.bias', 'Mixed_7c.branch3x3_2a.bn.running_mean', 'Mixed_7c.branch3x3_2a.bn.running_var', 'Mixed_7c.branch3x3_2a.bn.num_batches_tracked', 'Mixed_7c.branch3x3_2b.conv.weight', 'Mixed_7c.branch3x3_2b.bn.weight', 'Mixed_7c.branch3x3_2b.bn.bias', 'Mixed_7c.branch3x3_2b.bn.running_mean', 'Mixed_7c.branch3x3_2b.bn.running_var', 'Mixed_7c.branch3x3_2b.bn.num_batches_tracked', 'Mixed_7c.branch3x3dbl_1.conv.weight', 'Mixed_7c.branch3x3dbl_1.bn.weight', 'Mixed_7c.branch3x3dbl_1.bn.bias', 'Mixed_7c.branch3x3dbl_1.bn.running_mean', 'Mixed_7c.branch3x3dbl_1.bn.running_var', 'Mixed_7c.branch3x3dbl_1.bn.num_batches_tracked', 'Mixed_7c.branch3x3dbl_2.conv.weight', 'Mixed_7c.branch3x3dbl_2.bn.weight', 'Mixed_7c.branch3x3dbl_2.bn.bias', 'Mixed_7c.branch3x3dbl_2.bn.running_mean', 'Mixed_7c.branch3x3dbl_2.bn.running_var', 'Mixed_7c.branch3x3dbl_2.bn.num_batches_tracked', 'Mixed_7c.branch3x3dbl_3a.conv.weight', 'Mixed_7c.branch3x3dbl_3a.bn.weight', 'Mixed_7c.branch3x3dbl_3a.bn.bias', 'Mixed_7c.branch3x3dbl_3a.bn.running_mean', 'Mixed_7c.branch3x3dbl_3a.bn.running_var', 'Mixed_7c.branch3x3dbl_3a.bn.num_batches_tracked', 'Mixed_7c.branch3x3dbl_3b.conv.weight', 'Mixed_7c.branch3x3dbl_3b.bn.weight', 'Mixed_7c.branch3x3dbl_3b.bn.bias', 'Mixed_7c.branch3x3dbl_3b.bn.running_mean', 'Mixed_7c.branch3x3dbl_3b.bn.running_var', 'Mixed_7c.branch3x3dbl_3b.bn.num_batches_tracked', 'Mixed_7c.branch_pool.conv.weight', 'Mixed_7c.branch_pool.bn.weight', 'Mixed_7c.branch_pool.bn.bias', 'Mixed_7c.branch_pool.bn.running_mean', 'Mixed_7c.branch_pool.bn.running_var', 'Mixed_7c.branch_pool.bn.num_batches_tracked', 'emb_features.weight', 'emb_cnn_code.weight', 'emb_cnn_code.bias'])"
      ]
     },
     "execution_count": 5,
     "metadata": {},
     "output_type": "execute_result"
    }
   ],
   "source": [
    "cnnd.keys()"
   ]
  },
  {
   "cell_type": "code",
   "execution_count": 18,
   "metadata": {
    "collapsed": true,
    "jupyter": {
     "outputs_hidden": true
    }
   },
   "outputs": [
    {
     "name": "stdout",
     "output_type": "stream",
     "text": [
      "tensor([-0.4605, -0.5155, -0.3081, -0.5765, -0.2425, -0.5707, -0.4499, -0.4905,\n",
      "        -0.4998, -0.5094, -0.5335, -0.4113, -0.4537, -0.4594, -0.3256, -0.4197,\n",
      "        -0.6261, -0.4322, -0.5136, -0.4649])\n",
      "tensor([-0.4605, -0.5155, -0.3081, -0.5765, -0.2425, -0.5707, -0.4499, -0.4905,\n",
      "        -0.4998, -0.5094, -0.5335, -0.4113, -0.4537, -0.4594, -0.3256, -0.4197,\n",
      "        -0.6261, -0.4322, -0.5136, -0.4649], device='cuda:0')\n"
     ]
    }
   ],
   "source": [
    "print(image_encoder.Mixed_6e.branch_pool.bn.running_mean[:20]) # initialized params \n",
    "print(cnnd['Mixed_6e.branch_pool.bn.running_mean'][:20])"
   ]
  },
  {
   "cell_type": "code",
   "execution_count": 14,
   "metadata": {},
   "outputs": [],
   "source": [
    "model, _ = caption.build_model_v2(config) # build the full caption model like CATR\n",
    "# model.to(device)\n",
    "print(\"Loading Checkpoint...\")\n",
    "checkpoint = torch.load('catr/checkpoints/catr_damsm256_proj_coco2014_ep02.pth', map_location='cpu')\n",
    "model.load_state_dict(checkpoint['model'])"
   ]
  },
  {
   "cell_type": "code",
   "execution_count": 8,
   "metadata": {
    "collapsed": true,
    "jupyter": {
     "outputs_hidden": true
    },
    "scrolled": true
   },
   "outputs": [
    {
     "data": {
      "text/plain": [
       "odict_keys(['backbone.0.cnn_enc.Conv2d_1a_3x3.conv.weight', 'backbone.0.cnn_enc.Conv2d_1a_3x3.bn.weight', 'backbone.0.cnn_enc.Conv2d_1a_3x3.bn.bias', 'backbone.0.cnn_enc.Conv2d_1a_3x3.bn.running_mean', 'backbone.0.cnn_enc.Conv2d_1a_3x3.bn.running_var', 'backbone.0.cnn_enc.Conv2d_1a_3x3.bn.num_batches_tracked', 'backbone.0.cnn_enc.Conv2d_2a_3x3.conv.weight', 'backbone.0.cnn_enc.Conv2d_2a_3x3.bn.weight', 'backbone.0.cnn_enc.Conv2d_2a_3x3.bn.bias', 'backbone.0.cnn_enc.Conv2d_2a_3x3.bn.running_mean', 'backbone.0.cnn_enc.Conv2d_2a_3x3.bn.running_var', 'backbone.0.cnn_enc.Conv2d_2a_3x3.bn.num_batches_tracked', 'backbone.0.cnn_enc.Conv2d_2b_3x3.conv.weight', 'backbone.0.cnn_enc.Conv2d_2b_3x3.bn.weight', 'backbone.0.cnn_enc.Conv2d_2b_3x3.bn.bias', 'backbone.0.cnn_enc.Conv2d_2b_3x3.bn.running_mean', 'backbone.0.cnn_enc.Conv2d_2b_3x3.bn.running_var', 'backbone.0.cnn_enc.Conv2d_2b_3x3.bn.num_batches_tracked', 'backbone.0.cnn_enc.Conv2d_3b_1x1.conv.weight', 'backbone.0.cnn_enc.Conv2d_3b_1x1.bn.weight', 'backbone.0.cnn_enc.Conv2d_3b_1x1.bn.bias', 'backbone.0.cnn_enc.Conv2d_3b_1x1.bn.running_mean', 'backbone.0.cnn_enc.Conv2d_3b_1x1.bn.running_var', 'backbone.0.cnn_enc.Conv2d_3b_1x1.bn.num_batches_tracked', 'backbone.0.cnn_enc.Conv2d_4a_3x3.conv.weight', 'backbone.0.cnn_enc.Conv2d_4a_3x3.bn.weight', 'backbone.0.cnn_enc.Conv2d_4a_3x3.bn.bias', 'backbone.0.cnn_enc.Conv2d_4a_3x3.bn.running_mean', 'backbone.0.cnn_enc.Conv2d_4a_3x3.bn.running_var', 'backbone.0.cnn_enc.Conv2d_4a_3x3.bn.num_batches_tracked', 'backbone.0.cnn_enc.Mixed_5b.branch1x1.conv.weight', 'backbone.0.cnn_enc.Mixed_5b.branch1x1.bn.weight', 'backbone.0.cnn_enc.Mixed_5b.branch1x1.bn.bias', 'backbone.0.cnn_enc.Mixed_5b.branch1x1.bn.running_mean', 'backbone.0.cnn_enc.Mixed_5b.branch1x1.bn.running_var', 'backbone.0.cnn_enc.Mixed_5b.branch1x1.bn.num_batches_tracked', 'backbone.0.cnn_enc.Mixed_5b.branch5x5_1.conv.weight', 'backbone.0.cnn_enc.Mixed_5b.branch5x5_1.bn.weight', 'backbone.0.cnn_enc.Mixed_5b.branch5x5_1.bn.bias', 'backbone.0.cnn_enc.Mixed_5b.branch5x5_1.bn.running_mean', 'backbone.0.cnn_enc.Mixed_5b.branch5x5_1.bn.running_var', 'backbone.0.cnn_enc.Mixed_5b.branch5x5_1.bn.num_batches_tracked', 'backbone.0.cnn_enc.Mixed_5b.branch5x5_2.conv.weight', 'backbone.0.cnn_enc.Mixed_5b.branch5x5_2.bn.weight', 'backbone.0.cnn_enc.Mixed_5b.branch5x5_2.bn.bias', 'backbone.0.cnn_enc.Mixed_5b.branch5x5_2.bn.running_mean', 'backbone.0.cnn_enc.Mixed_5b.branch5x5_2.bn.running_var', 'backbone.0.cnn_enc.Mixed_5b.branch5x5_2.bn.num_batches_tracked', 'backbone.0.cnn_enc.Mixed_5b.branch3x3dbl_1.conv.weight', 'backbone.0.cnn_enc.Mixed_5b.branch3x3dbl_1.bn.weight', 'backbone.0.cnn_enc.Mixed_5b.branch3x3dbl_1.bn.bias', 'backbone.0.cnn_enc.Mixed_5b.branch3x3dbl_1.bn.running_mean', 'backbone.0.cnn_enc.Mixed_5b.branch3x3dbl_1.bn.running_var', 'backbone.0.cnn_enc.Mixed_5b.branch3x3dbl_1.bn.num_batches_tracked', 'backbone.0.cnn_enc.Mixed_5b.branch3x3dbl_2.conv.weight', 'backbone.0.cnn_enc.Mixed_5b.branch3x3dbl_2.bn.weight', 'backbone.0.cnn_enc.Mixed_5b.branch3x3dbl_2.bn.bias', 'backbone.0.cnn_enc.Mixed_5b.branch3x3dbl_2.bn.running_mean', 'backbone.0.cnn_enc.Mixed_5b.branch3x3dbl_2.bn.running_var', 'backbone.0.cnn_enc.Mixed_5b.branch3x3dbl_2.bn.num_batches_tracked', 'backbone.0.cnn_enc.Mixed_5b.branch3x3dbl_3.conv.weight', 'backbone.0.cnn_enc.Mixed_5b.branch3x3dbl_3.bn.weight', 'backbone.0.cnn_enc.Mixed_5b.branch3x3dbl_3.bn.bias', 'backbone.0.cnn_enc.Mixed_5b.branch3x3dbl_3.bn.running_mean', 'backbone.0.cnn_enc.Mixed_5b.branch3x3dbl_3.bn.running_var', 'backbone.0.cnn_enc.Mixed_5b.branch3x3dbl_3.bn.num_batches_tracked', 'backbone.0.cnn_enc.Mixed_5b.branch_pool.conv.weight', 'backbone.0.cnn_enc.Mixed_5b.branch_pool.bn.weight', 'backbone.0.cnn_enc.Mixed_5b.branch_pool.bn.bias', 'backbone.0.cnn_enc.Mixed_5b.branch_pool.bn.running_mean', 'backbone.0.cnn_enc.Mixed_5b.branch_pool.bn.running_var', 'backbone.0.cnn_enc.Mixed_5b.branch_pool.bn.num_batches_tracked', 'backbone.0.cnn_enc.Mixed_5c.branch1x1.conv.weight', 'backbone.0.cnn_enc.Mixed_5c.branch1x1.bn.weight', 'backbone.0.cnn_enc.Mixed_5c.branch1x1.bn.bias', 'backbone.0.cnn_enc.Mixed_5c.branch1x1.bn.running_mean', 'backbone.0.cnn_enc.Mixed_5c.branch1x1.bn.running_var', 'backbone.0.cnn_enc.Mixed_5c.branch1x1.bn.num_batches_tracked', 'backbone.0.cnn_enc.Mixed_5c.branch5x5_1.conv.weight', 'backbone.0.cnn_enc.Mixed_5c.branch5x5_1.bn.weight', 'backbone.0.cnn_enc.Mixed_5c.branch5x5_1.bn.bias', 'backbone.0.cnn_enc.Mixed_5c.branch5x5_1.bn.running_mean', 'backbone.0.cnn_enc.Mixed_5c.branch5x5_1.bn.running_var', 'backbone.0.cnn_enc.Mixed_5c.branch5x5_1.bn.num_batches_tracked', 'backbone.0.cnn_enc.Mixed_5c.branch5x5_2.conv.weight', 'backbone.0.cnn_enc.Mixed_5c.branch5x5_2.bn.weight', 'backbone.0.cnn_enc.Mixed_5c.branch5x5_2.bn.bias', 'backbone.0.cnn_enc.Mixed_5c.branch5x5_2.bn.running_mean', 'backbone.0.cnn_enc.Mixed_5c.branch5x5_2.bn.running_var', 'backbone.0.cnn_enc.Mixed_5c.branch5x5_2.bn.num_batches_tracked', 'backbone.0.cnn_enc.Mixed_5c.branch3x3dbl_1.conv.weight', 'backbone.0.cnn_enc.Mixed_5c.branch3x3dbl_1.bn.weight', 'backbone.0.cnn_enc.Mixed_5c.branch3x3dbl_1.bn.bias', 'backbone.0.cnn_enc.Mixed_5c.branch3x3dbl_1.bn.running_mean', 'backbone.0.cnn_enc.Mixed_5c.branch3x3dbl_1.bn.running_var', 'backbone.0.cnn_enc.Mixed_5c.branch3x3dbl_1.bn.num_batches_tracked', 'backbone.0.cnn_enc.Mixed_5c.branch3x3dbl_2.conv.weight', 'backbone.0.cnn_enc.Mixed_5c.branch3x3dbl_2.bn.weight', 'backbone.0.cnn_enc.Mixed_5c.branch3x3dbl_2.bn.bias', 'backbone.0.cnn_enc.Mixed_5c.branch3x3dbl_2.bn.running_mean', 'backbone.0.cnn_enc.Mixed_5c.branch3x3dbl_2.bn.running_var', 'backbone.0.cnn_enc.Mixed_5c.branch3x3dbl_2.bn.num_batches_tracked', 'backbone.0.cnn_enc.Mixed_5c.branch3x3dbl_3.conv.weight', 'backbone.0.cnn_enc.Mixed_5c.branch3x3dbl_3.bn.weight', 'backbone.0.cnn_enc.Mixed_5c.branch3x3dbl_3.bn.bias', 'backbone.0.cnn_enc.Mixed_5c.branch3x3dbl_3.bn.running_mean', 'backbone.0.cnn_enc.Mixed_5c.branch3x3dbl_3.bn.running_var', 'backbone.0.cnn_enc.Mixed_5c.branch3x3dbl_3.bn.num_batches_tracked', 'backbone.0.cnn_enc.Mixed_5c.branch_pool.conv.weight', 'backbone.0.cnn_enc.Mixed_5c.branch_pool.bn.weight', 'backbone.0.cnn_enc.Mixed_5c.branch_pool.bn.bias', 'backbone.0.cnn_enc.Mixed_5c.branch_pool.bn.running_mean', 'backbone.0.cnn_enc.Mixed_5c.branch_pool.bn.running_var', 'backbone.0.cnn_enc.Mixed_5c.branch_pool.bn.num_batches_tracked', 'backbone.0.cnn_enc.Mixed_5d.branch1x1.conv.weight', 'backbone.0.cnn_enc.Mixed_5d.branch1x1.bn.weight', 'backbone.0.cnn_enc.Mixed_5d.branch1x1.bn.bias', 'backbone.0.cnn_enc.Mixed_5d.branch1x1.bn.running_mean', 'backbone.0.cnn_enc.Mixed_5d.branch1x1.bn.running_var', 'backbone.0.cnn_enc.Mixed_5d.branch1x1.bn.num_batches_tracked', 'backbone.0.cnn_enc.Mixed_5d.branch5x5_1.conv.weight', 'backbone.0.cnn_enc.Mixed_5d.branch5x5_1.bn.weight', 'backbone.0.cnn_enc.Mixed_5d.branch5x5_1.bn.bias', 'backbone.0.cnn_enc.Mixed_5d.branch5x5_1.bn.running_mean', 'backbone.0.cnn_enc.Mixed_5d.branch5x5_1.bn.running_var', 'backbone.0.cnn_enc.Mixed_5d.branch5x5_1.bn.num_batches_tracked', 'backbone.0.cnn_enc.Mixed_5d.branch5x5_2.conv.weight', 'backbone.0.cnn_enc.Mixed_5d.branch5x5_2.bn.weight', 'backbone.0.cnn_enc.Mixed_5d.branch5x5_2.bn.bias', 'backbone.0.cnn_enc.Mixed_5d.branch5x5_2.bn.running_mean', 'backbone.0.cnn_enc.Mixed_5d.branch5x5_2.bn.running_var', 'backbone.0.cnn_enc.Mixed_5d.branch5x5_2.bn.num_batches_tracked', 'backbone.0.cnn_enc.Mixed_5d.branch3x3dbl_1.conv.weight', 'backbone.0.cnn_enc.Mixed_5d.branch3x3dbl_1.bn.weight', 'backbone.0.cnn_enc.Mixed_5d.branch3x3dbl_1.bn.bias', 'backbone.0.cnn_enc.Mixed_5d.branch3x3dbl_1.bn.running_mean', 'backbone.0.cnn_enc.Mixed_5d.branch3x3dbl_1.bn.running_var', 'backbone.0.cnn_enc.Mixed_5d.branch3x3dbl_1.bn.num_batches_tracked', 'backbone.0.cnn_enc.Mixed_5d.branch3x3dbl_2.conv.weight', 'backbone.0.cnn_enc.Mixed_5d.branch3x3dbl_2.bn.weight', 'backbone.0.cnn_enc.Mixed_5d.branch3x3dbl_2.bn.bias', 'backbone.0.cnn_enc.Mixed_5d.branch3x3dbl_2.bn.running_mean', 'backbone.0.cnn_enc.Mixed_5d.branch3x3dbl_2.bn.running_var', 'backbone.0.cnn_enc.Mixed_5d.branch3x3dbl_2.bn.num_batches_tracked', 'backbone.0.cnn_enc.Mixed_5d.branch3x3dbl_3.conv.weight', 'backbone.0.cnn_enc.Mixed_5d.branch3x3dbl_3.bn.weight', 'backbone.0.cnn_enc.Mixed_5d.branch3x3dbl_3.bn.bias', 'backbone.0.cnn_enc.Mixed_5d.branch3x3dbl_3.bn.running_mean', 'backbone.0.cnn_enc.Mixed_5d.branch3x3dbl_3.bn.running_var', 'backbone.0.cnn_enc.Mixed_5d.branch3x3dbl_3.bn.num_batches_tracked', 'backbone.0.cnn_enc.Mixed_5d.branch_pool.conv.weight', 'backbone.0.cnn_enc.Mixed_5d.branch_pool.bn.weight', 'backbone.0.cnn_enc.Mixed_5d.branch_pool.bn.bias', 'backbone.0.cnn_enc.Mixed_5d.branch_pool.bn.running_mean', 'backbone.0.cnn_enc.Mixed_5d.branch_pool.bn.running_var', 'backbone.0.cnn_enc.Mixed_5d.branch_pool.bn.num_batches_tracked', 'backbone.0.cnn_enc.Mixed_6a.branch3x3.conv.weight', 'backbone.0.cnn_enc.Mixed_6a.branch3x3.bn.weight', 'backbone.0.cnn_enc.Mixed_6a.branch3x3.bn.bias', 'backbone.0.cnn_enc.Mixed_6a.branch3x3.bn.running_mean', 'backbone.0.cnn_enc.Mixed_6a.branch3x3.bn.running_var', 'backbone.0.cnn_enc.Mixed_6a.branch3x3.bn.num_batches_tracked', 'backbone.0.cnn_enc.Mixed_6a.branch3x3dbl_1.conv.weight', 'backbone.0.cnn_enc.Mixed_6a.branch3x3dbl_1.bn.weight', 'backbone.0.cnn_enc.Mixed_6a.branch3x3dbl_1.bn.bias', 'backbone.0.cnn_enc.Mixed_6a.branch3x3dbl_1.bn.running_mean', 'backbone.0.cnn_enc.Mixed_6a.branch3x3dbl_1.bn.running_var', 'backbone.0.cnn_enc.Mixed_6a.branch3x3dbl_1.bn.num_batches_tracked', 'backbone.0.cnn_enc.Mixed_6a.branch3x3dbl_2.conv.weight', 'backbone.0.cnn_enc.Mixed_6a.branch3x3dbl_2.bn.weight', 'backbone.0.cnn_enc.Mixed_6a.branch3x3dbl_2.bn.bias', 'backbone.0.cnn_enc.Mixed_6a.branch3x3dbl_2.bn.running_mean', 'backbone.0.cnn_enc.Mixed_6a.branch3x3dbl_2.bn.running_var', 'backbone.0.cnn_enc.Mixed_6a.branch3x3dbl_2.bn.num_batches_tracked', 'backbone.0.cnn_enc.Mixed_6a.branch3x3dbl_3.conv.weight', 'backbone.0.cnn_enc.Mixed_6a.branch3x3dbl_3.bn.weight', 'backbone.0.cnn_enc.Mixed_6a.branch3x3dbl_3.bn.bias', 'backbone.0.cnn_enc.Mixed_6a.branch3x3dbl_3.bn.running_mean', 'backbone.0.cnn_enc.Mixed_6a.branch3x3dbl_3.bn.running_var', 'backbone.0.cnn_enc.Mixed_6a.branch3x3dbl_3.bn.num_batches_tracked', 'backbone.0.cnn_enc.Mixed_6b.branch1x1.conv.weight', 'backbone.0.cnn_enc.Mixed_6b.branch1x1.bn.weight', 'backbone.0.cnn_enc.Mixed_6b.branch1x1.bn.bias', 'backbone.0.cnn_enc.Mixed_6b.branch1x1.bn.running_mean', 'backbone.0.cnn_enc.Mixed_6b.branch1x1.bn.running_var', 'backbone.0.cnn_enc.Mixed_6b.branch1x1.bn.num_batches_tracked', 'backbone.0.cnn_enc.Mixed_6b.branch7x7_1.conv.weight', 'backbone.0.cnn_enc.Mixed_6b.branch7x7_1.bn.weight', 'backbone.0.cnn_enc.Mixed_6b.branch7x7_1.bn.bias', 'backbone.0.cnn_enc.Mixed_6b.branch7x7_1.bn.running_mean', 'backbone.0.cnn_enc.Mixed_6b.branch7x7_1.bn.running_var', 'backbone.0.cnn_enc.Mixed_6b.branch7x7_1.bn.num_batches_tracked', 'backbone.0.cnn_enc.Mixed_6b.branch7x7_2.conv.weight', 'backbone.0.cnn_enc.Mixed_6b.branch7x7_2.bn.weight', 'backbone.0.cnn_enc.Mixed_6b.branch7x7_2.bn.bias', 'backbone.0.cnn_enc.Mixed_6b.branch7x7_2.bn.running_mean', 'backbone.0.cnn_enc.Mixed_6b.branch7x7_2.bn.running_var', 'backbone.0.cnn_enc.Mixed_6b.branch7x7_2.bn.num_batches_tracked', 'backbone.0.cnn_enc.Mixed_6b.branch7x7_3.conv.weight', 'backbone.0.cnn_enc.Mixed_6b.branch7x7_3.bn.weight', 'backbone.0.cnn_enc.Mixed_6b.branch7x7_3.bn.bias', 'backbone.0.cnn_enc.Mixed_6b.branch7x7_3.bn.running_mean', 'backbone.0.cnn_enc.Mixed_6b.branch7x7_3.bn.running_var', 'backbone.0.cnn_enc.Mixed_6b.branch7x7_3.bn.num_batches_tracked', 'backbone.0.cnn_enc.Mixed_6b.branch7x7dbl_1.conv.weight', 'backbone.0.cnn_enc.Mixed_6b.branch7x7dbl_1.bn.weight', 'backbone.0.cnn_enc.Mixed_6b.branch7x7dbl_1.bn.bias', 'backbone.0.cnn_enc.Mixed_6b.branch7x7dbl_1.bn.running_mean', 'backbone.0.cnn_enc.Mixed_6b.branch7x7dbl_1.bn.running_var', 'backbone.0.cnn_enc.Mixed_6b.branch7x7dbl_1.bn.num_batches_tracked', 'backbone.0.cnn_enc.Mixed_6b.branch7x7dbl_2.conv.weight', 'backbone.0.cnn_enc.Mixed_6b.branch7x7dbl_2.bn.weight', 'backbone.0.cnn_enc.Mixed_6b.branch7x7dbl_2.bn.bias', 'backbone.0.cnn_enc.Mixed_6b.branch7x7dbl_2.bn.running_mean', 'backbone.0.cnn_enc.Mixed_6b.branch7x7dbl_2.bn.running_var', 'backbone.0.cnn_enc.Mixed_6b.branch7x7dbl_2.bn.num_batches_tracked', 'backbone.0.cnn_enc.Mixed_6b.branch7x7dbl_3.conv.weight', 'backbone.0.cnn_enc.Mixed_6b.branch7x7dbl_3.bn.weight', 'backbone.0.cnn_enc.Mixed_6b.branch7x7dbl_3.bn.bias', 'backbone.0.cnn_enc.Mixed_6b.branch7x7dbl_3.bn.running_mean', 'backbone.0.cnn_enc.Mixed_6b.branch7x7dbl_3.bn.running_var', 'backbone.0.cnn_enc.Mixed_6b.branch7x7dbl_3.bn.num_batches_tracked', 'backbone.0.cnn_enc.Mixed_6b.branch7x7dbl_4.conv.weight', 'backbone.0.cnn_enc.Mixed_6b.branch7x7dbl_4.bn.weight', 'backbone.0.cnn_enc.Mixed_6b.branch7x7dbl_4.bn.bias', 'backbone.0.cnn_enc.Mixed_6b.branch7x7dbl_4.bn.running_mean', 'backbone.0.cnn_enc.Mixed_6b.branch7x7dbl_4.bn.running_var', 'backbone.0.cnn_enc.Mixed_6b.branch7x7dbl_4.bn.num_batches_tracked', 'backbone.0.cnn_enc.Mixed_6b.branch7x7dbl_5.conv.weight', 'backbone.0.cnn_enc.Mixed_6b.branch7x7dbl_5.bn.weight', 'backbone.0.cnn_enc.Mixed_6b.branch7x7dbl_5.bn.bias', 'backbone.0.cnn_enc.Mixed_6b.branch7x7dbl_5.bn.running_mean', 'backbone.0.cnn_enc.Mixed_6b.branch7x7dbl_5.bn.running_var', 'backbone.0.cnn_enc.Mixed_6b.branch7x7dbl_5.bn.num_batches_tracked', 'backbone.0.cnn_enc.Mixed_6b.branch_pool.conv.weight', 'backbone.0.cnn_enc.Mixed_6b.branch_pool.bn.weight', 'backbone.0.cnn_enc.Mixed_6b.branch_pool.bn.bias', 'backbone.0.cnn_enc.Mixed_6b.branch_pool.bn.running_mean', 'backbone.0.cnn_enc.Mixed_6b.branch_pool.bn.running_var', 'backbone.0.cnn_enc.Mixed_6b.branch_pool.bn.num_batches_tracked', 'backbone.0.cnn_enc.Mixed_6c.branch1x1.conv.weight', 'backbone.0.cnn_enc.Mixed_6c.branch1x1.bn.weight', 'backbone.0.cnn_enc.Mixed_6c.branch1x1.bn.bias', 'backbone.0.cnn_enc.Mixed_6c.branch1x1.bn.running_mean', 'backbone.0.cnn_enc.Mixed_6c.branch1x1.bn.running_var', 'backbone.0.cnn_enc.Mixed_6c.branch1x1.bn.num_batches_tracked', 'backbone.0.cnn_enc.Mixed_6c.branch7x7_1.conv.weight', 'backbone.0.cnn_enc.Mixed_6c.branch7x7_1.bn.weight', 'backbone.0.cnn_enc.Mixed_6c.branch7x7_1.bn.bias', 'backbone.0.cnn_enc.Mixed_6c.branch7x7_1.bn.running_mean', 'backbone.0.cnn_enc.Mixed_6c.branch7x7_1.bn.running_var', 'backbone.0.cnn_enc.Mixed_6c.branch7x7_1.bn.num_batches_tracked', 'backbone.0.cnn_enc.Mixed_6c.branch7x7_2.conv.weight', 'backbone.0.cnn_enc.Mixed_6c.branch7x7_2.bn.weight', 'backbone.0.cnn_enc.Mixed_6c.branch7x7_2.bn.bias', 'backbone.0.cnn_enc.Mixed_6c.branch7x7_2.bn.running_mean', 'backbone.0.cnn_enc.Mixed_6c.branch7x7_2.bn.running_var', 'backbone.0.cnn_enc.Mixed_6c.branch7x7_2.bn.num_batches_tracked', 'backbone.0.cnn_enc.Mixed_6c.branch7x7_3.conv.weight', 'backbone.0.cnn_enc.Mixed_6c.branch7x7_3.bn.weight', 'backbone.0.cnn_enc.Mixed_6c.branch7x7_3.bn.bias', 'backbone.0.cnn_enc.Mixed_6c.branch7x7_3.bn.running_mean', 'backbone.0.cnn_enc.Mixed_6c.branch7x7_3.bn.running_var', 'backbone.0.cnn_enc.Mixed_6c.branch7x7_3.bn.num_batches_tracked', 'backbone.0.cnn_enc.Mixed_6c.branch7x7dbl_1.conv.weight', 'backbone.0.cnn_enc.Mixed_6c.branch7x7dbl_1.bn.weight', 'backbone.0.cnn_enc.Mixed_6c.branch7x7dbl_1.bn.bias', 'backbone.0.cnn_enc.Mixed_6c.branch7x7dbl_1.bn.running_mean', 'backbone.0.cnn_enc.Mixed_6c.branch7x7dbl_1.bn.running_var', 'backbone.0.cnn_enc.Mixed_6c.branch7x7dbl_1.bn.num_batches_tracked', 'backbone.0.cnn_enc.Mixed_6c.branch7x7dbl_2.conv.weight', 'backbone.0.cnn_enc.Mixed_6c.branch7x7dbl_2.bn.weight', 'backbone.0.cnn_enc.Mixed_6c.branch7x7dbl_2.bn.bias', 'backbone.0.cnn_enc.Mixed_6c.branch7x7dbl_2.bn.running_mean', 'backbone.0.cnn_enc.Mixed_6c.branch7x7dbl_2.bn.running_var', 'backbone.0.cnn_enc.Mixed_6c.branch7x7dbl_2.bn.num_batches_tracked', 'backbone.0.cnn_enc.Mixed_6c.branch7x7dbl_3.conv.weight', 'backbone.0.cnn_enc.Mixed_6c.branch7x7dbl_3.bn.weight', 'backbone.0.cnn_enc.Mixed_6c.branch7x7dbl_3.bn.bias', 'backbone.0.cnn_enc.Mixed_6c.branch7x7dbl_3.bn.running_mean', 'backbone.0.cnn_enc.Mixed_6c.branch7x7dbl_3.bn.running_var', 'backbone.0.cnn_enc.Mixed_6c.branch7x7dbl_3.bn.num_batches_tracked', 'backbone.0.cnn_enc.Mixed_6c.branch7x7dbl_4.conv.weight', 'backbone.0.cnn_enc.Mixed_6c.branch7x7dbl_4.bn.weight', 'backbone.0.cnn_enc.Mixed_6c.branch7x7dbl_4.bn.bias', 'backbone.0.cnn_enc.Mixed_6c.branch7x7dbl_4.bn.running_mean', 'backbone.0.cnn_enc.Mixed_6c.branch7x7dbl_4.bn.running_var', 'backbone.0.cnn_enc.Mixed_6c.branch7x7dbl_4.bn.num_batches_tracked', 'backbone.0.cnn_enc.Mixed_6c.branch7x7dbl_5.conv.weight', 'backbone.0.cnn_enc.Mixed_6c.branch7x7dbl_5.bn.weight', 'backbone.0.cnn_enc.Mixed_6c.branch7x7dbl_5.bn.bias', 'backbone.0.cnn_enc.Mixed_6c.branch7x7dbl_5.bn.running_mean', 'backbone.0.cnn_enc.Mixed_6c.branch7x7dbl_5.bn.running_var', 'backbone.0.cnn_enc.Mixed_6c.branch7x7dbl_5.bn.num_batches_tracked', 'backbone.0.cnn_enc.Mixed_6c.branch_pool.conv.weight', 'backbone.0.cnn_enc.Mixed_6c.branch_pool.bn.weight', 'backbone.0.cnn_enc.Mixed_6c.branch_pool.bn.bias', 'backbone.0.cnn_enc.Mixed_6c.branch_pool.bn.running_mean', 'backbone.0.cnn_enc.Mixed_6c.branch_pool.bn.running_var', 'backbone.0.cnn_enc.Mixed_6c.branch_pool.bn.num_batches_tracked', 'backbone.0.cnn_enc.Mixed_6d.branch1x1.conv.weight', 'backbone.0.cnn_enc.Mixed_6d.branch1x1.bn.weight', 'backbone.0.cnn_enc.Mixed_6d.branch1x1.bn.bias', 'backbone.0.cnn_enc.Mixed_6d.branch1x1.bn.running_mean', 'backbone.0.cnn_enc.Mixed_6d.branch1x1.bn.running_var', 'backbone.0.cnn_enc.Mixed_6d.branch1x1.bn.num_batches_tracked', 'backbone.0.cnn_enc.Mixed_6d.branch7x7_1.conv.weight', 'backbone.0.cnn_enc.Mixed_6d.branch7x7_1.bn.weight', 'backbone.0.cnn_enc.Mixed_6d.branch7x7_1.bn.bias', 'backbone.0.cnn_enc.Mixed_6d.branch7x7_1.bn.running_mean', 'backbone.0.cnn_enc.Mixed_6d.branch7x7_1.bn.running_var', 'backbone.0.cnn_enc.Mixed_6d.branch7x7_1.bn.num_batches_tracked', 'backbone.0.cnn_enc.Mixed_6d.branch7x7_2.conv.weight', 'backbone.0.cnn_enc.Mixed_6d.branch7x7_2.bn.weight', 'backbone.0.cnn_enc.Mixed_6d.branch7x7_2.bn.bias', 'backbone.0.cnn_enc.Mixed_6d.branch7x7_2.bn.running_mean', 'backbone.0.cnn_enc.Mixed_6d.branch7x7_2.bn.running_var', 'backbone.0.cnn_enc.Mixed_6d.branch7x7_2.bn.num_batches_tracked', 'backbone.0.cnn_enc.Mixed_6d.branch7x7_3.conv.weight', 'backbone.0.cnn_enc.Mixed_6d.branch7x7_3.bn.weight', 'backbone.0.cnn_enc.Mixed_6d.branch7x7_3.bn.bias', 'backbone.0.cnn_enc.Mixed_6d.branch7x7_3.bn.running_mean', 'backbone.0.cnn_enc.Mixed_6d.branch7x7_3.bn.running_var', 'backbone.0.cnn_enc.Mixed_6d.branch7x7_3.bn.num_batches_tracked', 'backbone.0.cnn_enc.Mixed_6d.branch7x7dbl_1.conv.weight', 'backbone.0.cnn_enc.Mixed_6d.branch7x7dbl_1.bn.weight', 'backbone.0.cnn_enc.Mixed_6d.branch7x7dbl_1.bn.bias', 'backbone.0.cnn_enc.Mixed_6d.branch7x7dbl_1.bn.running_mean', 'backbone.0.cnn_enc.Mixed_6d.branch7x7dbl_1.bn.running_var', 'backbone.0.cnn_enc.Mixed_6d.branch7x7dbl_1.bn.num_batches_tracked', 'backbone.0.cnn_enc.Mixed_6d.branch7x7dbl_2.conv.weight', 'backbone.0.cnn_enc.Mixed_6d.branch7x7dbl_2.bn.weight', 'backbone.0.cnn_enc.Mixed_6d.branch7x7dbl_2.bn.bias', 'backbone.0.cnn_enc.Mixed_6d.branch7x7dbl_2.bn.running_mean', 'backbone.0.cnn_enc.Mixed_6d.branch7x7dbl_2.bn.running_var', 'backbone.0.cnn_enc.Mixed_6d.branch7x7dbl_2.bn.num_batches_tracked', 'backbone.0.cnn_enc.Mixed_6d.branch7x7dbl_3.conv.weight', 'backbone.0.cnn_enc.Mixed_6d.branch7x7dbl_3.bn.weight', 'backbone.0.cnn_enc.Mixed_6d.branch7x7dbl_3.bn.bias', 'backbone.0.cnn_enc.Mixed_6d.branch7x7dbl_3.bn.running_mean', 'backbone.0.cnn_enc.Mixed_6d.branch7x7dbl_3.bn.running_var', 'backbone.0.cnn_enc.Mixed_6d.branch7x7dbl_3.bn.num_batches_tracked', 'backbone.0.cnn_enc.Mixed_6d.branch7x7dbl_4.conv.weight', 'backbone.0.cnn_enc.Mixed_6d.branch7x7dbl_4.bn.weight', 'backbone.0.cnn_enc.Mixed_6d.branch7x7dbl_4.bn.bias', 'backbone.0.cnn_enc.Mixed_6d.branch7x7dbl_4.bn.running_mean', 'backbone.0.cnn_enc.Mixed_6d.branch7x7dbl_4.bn.running_var', 'backbone.0.cnn_enc.Mixed_6d.branch7x7dbl_4.bn.num_batches_tracked', 'backbone.0.cnn_enc.Mixed_6d.branch7x7dbl_5.conv.weight', 'backbone.0.cnn_enc.Mixed_6d.branch7x7dbl_5.bn.weight', 'backbone.0.cnn_enc.Mixed_6d.branch7x7dbl_5.bn.bias', 'backbone.0.cnn_enc.Mixed_6d.branch7x7dbl_5.bn.running_mean', 'backbone.0.cnn_enc.Mixed_6d.branch7x7dbl_5.bn.running_var', 'backbone.0.cnn_enc.Mixed_6d.branch7x7dbl_5.bn.num_batches_tracked', 'backbone.0.cnn_enc.Mixed_6d.branch_pool.conv.weight', 'backbone.0.cnn_enc.Mixed_6d.branch_pool.bn.weight', 'backbone.0.cnn_enc.Mixed_6d.branch_pool.bn.bias', 'backbone.0.cnn_enc.Mixed_6d.branch_pool.bn.running_mean', 'backbone.0.cnn_enc.Mixed_6d.branch_pool.bn.running_var', 'backbone.0.cnn_enc.Mixed_6d.branch_pool.bn.num_batches_tracked', 'backbone.0.cnn_enc.Mixed_6e.branch1x1.conv.weight', 'backbone.0.cnn_enc.Mixed_6e.branch1x1.bn.weight', 'backbone.0.cnn_enc.Mixed_6e.branch1x1.bn.bias', 'backbone.0.cnn_enc.Mixed_6e.branch1x1.bn.running_mean', 'backbone.0.cnn_enc.Mixed_6e.branch1x1.bn.running_var', 'backbone.0.cnn_enc.Mixed_6e.branch1x1.bn.num_batches_tracked', 'backbone.0.cnn_enc.Mixed_6e.branch7x7_1.conv.weight', 'backbone.0.cnn_enc.Mixed_6e.branch7x7_1.bn.weight', 'backbone.0.cnn_enc.Mixed_6e.branch7x7_1.bn.bias', 'backbone.0.cnn_enc.Mixed_6e.branch7x7_1.bn.running_mean', 'backbone.0.cnn_enc.Mixed_6e.branch7x7_1.bn.running_var', 'backbone.0.cnn_enc.Mixed_6e.branch7x7_1.bn.num_batches_tracked', 'backbone.0.cnn_enc.Mixed_6e.branch7x7_2.conv.weight', 'backbone.0.cnn_enc.Mixed_6e.branch7x7_2.bn.weight', 'backbone.0.cnn_enc.Mixed_6e.branch7x7_2.bn.bias', 'backbone.0.cnn_enc.Mixed_6e.branch7x7_2.bn.running_mean', 'backbone.0.cnn_enc.Mixed_6e.branch7x7_2.bn.running_var', 'backbone.0.cnn_enc.Mixed_6e.branch7x7_2.bn.num_batches_tracked', 'backbone.0.cnn_enc.Mixed_6e.branch7x7_3.conv.weight', 'backbone.0.cnn_enc.Mixed_6e.branch7x7_3.bn.weight', 'backbone.0.cnn_enc.Mixed_6e.branch7x7_3.bn.bias', 'backbone.0.cnn_enc.Mixed_6e.branch7x7_3.bn.running_mean', 'backbone.0.cnn_enc.Mixed_6e.branch7x7_3.bn.running_var', 'backbone.0.cnn_enc.Mixed_6e.branch7x7_3.bn.num_batches_tracked', 'backbone.0.cnn_enc.Mixed_6e.branch7x7dbl_1.conv.weight', 'backbone.0.cnn_enc.Mixed_6e.branch7x7dbl_1.bn.weight', 'backbone.0.cnn_enc.Mixed_6e.branch7x7dbl_1.bn.bias', 'backbone.0.cnn_enc.Mixed_6e.branch7x7dbl_1.bn.running_mean', 'backbone.0.cnn_enc.Mixed_6e.branch7x7dbl_1.bn.running_var', 'backbone.0.cnn_enc.Mixed_6e.branch7x7dbl_1.bn.num_batches_tracked', 'backbone.0.cnn_enc.Mixed_6e.branch7x7dbl_2.conv.weight', 'backbone.0.cnn_enc.Mixed_6e.branch7x7dbl_2.bn.weight', 'backbone.0.cnn_enc.Mixed_6e.branch7x7dbl_2.bn.bias', 'backbone.0.cnn_enc.Mixed_6e.branch7x7dbl_2.bn.running_mean', 'backbone.0.cnn_enc.Mixed_6e.branch7x7dbl_2.bn.running_var', 'backbone.0.cnn_enc.Mixed_6e.branch7x7dbl_2.bn.num_batches_tracked', 'backbone.0.cnn_enc.Mixed_6e.branch7x7dbl_3.conv.weight', 'backbone.0.cnn_enc.Mixed_6e.branch7x7dbl_3.bn.weight', 'backbone.0.cnn_enc.Mixed_6e.branch7x7dbl_3.bn.bias', 'backbone.0.cnn_enc.Mixed_6e.branch7x7dbl_3.bn.running_mean', 'backbone.0.cnn_enc.Mixed_6e.branch7x7dbl_3.bn.running_var', 'backbone.0.cnn_enc.Mixed_6e.branch7x7dbl_3.bn.num_batches_tracked', 'backbone.0.cnn_enc.Mixed_6e.branch7x7dbl_4.conv.weight', 'backbone.0.cnn_enc.Mixed_6e.branch7x7dbl_4.bn.weight', 'backbone.0.cnn_enc.Mixed_6e.branch7x7dbl_4.bn.bias', 'backbone.0.cnn_enc.Mixed_6e.branch7x7dbl_4.bn.running_mean', 'backbone.0.cnn_enc.Mixed_6e.branch7x7dbl_4.bn.running_var', 'backbone.0.cnn_enc.Mixed_6e.branch7x7dbl_4.bn.num_batches_tracked', 'backbone.0.cnn_enc.Mixed_6e.branch7x7dbl_5.conv.weight', 'backbone.0.cnn_enc.Mixed_6e.branch7x7dbl_5.bn.weight', 'backbone.0.cnn_enc.Mixed_6e.branch7x7dbl_5.bn.bias', 'backbone.0.cnn_enc.Mixed_6e.branch7x7dbl_5.bn.running_mean', 'backbone.0.cnn_enc.Mixed_6e.branch7x7dbl_5.bn.running_var', 'backbone.0.cnn_enc.Mixed_6e.branch7x7dbl_5.bn.num_batches_tracked', 'backbone.0.cnn_enc.Mixed_6e.branch_pool.conv.weight', 'backbone.0.cnn_enc.Mixed_6e.branch_pool.bn.weight', 'backbone.0.cnn_enc.Mixed_6e.branch_pool.bn.bias', 'backbone.0.cnn_enc.Mixed_6e.branch_pool.bn.running_mean', 'backbone.0.cnn_enc.Mixed_6e.branch_pool.bn.running_var', 'backbone.0.cnn_enc.Mixed_6e.branch_pool.bn.num_batches_tracked', 'backbone.0.cnn_enc.emb_features.weight', 'input_proj_v2.weight', 'input_proj_v2.bias', 'transformer.encoder.layers.0.self_attn.in_proj_weight', 'transformer.encoder.layers.0.self_attn.in_proj_bias', 'transformer.encoder.layers.0.self_attn.out_proj.weight', 'transformer.encoder.layers.0.self_attn.out_proj.bias', 'transformer.encoder.layers.0.linear1.weight', 'transformer.encoder.layers.0.linear1.bias', 'transformer.encoder.layers.0.linear2.weight', 'transformer.encoder.layers.0.linear2.bias', 'transformer.encoder.layers.0.norm1.weight', 'transformer.encoder.layers.0.norm1.bias', 'transformer.encoder.layers.0.norm2.weight', 'transformer.encoder.layers.0.norm2.bias', 'transformer.encoder.layers.1.self_attn.in_proj_weight', 'transformer.encoder.layers.1.self_attn.in_proj_bias', 'transformer.encoder.layers.1.self_attn.out_proj.weight', 'transformer.encoder.layers.1.self_attn.out_proj.bias', 'transformer.encoder.layers.1.linear1.weight', 'transformer.encoder.layers.1.linear1.bias', 'transformer.encoder.layers.1.linear2.weight', 'transformer.encoder.layers.1.linear2.bias', 'transformer.encoder.layers.1.norm1.weight', 'transformer.encoder.layers.1.norm1.bias', 'transformer.encoder.layers.1.norm2.weight', 'transformer.encoder.layers.1.norm2.bias', 'transformer.encoder.layers.2.self_attn.in_proj_weight', 'transformer.encoder.layers.2.self_attn.in_proj_bias', 'transformer.encoder.layers.2.self_attn.out_proj.weight', 'transformer.encoder.layers.2.self_attn.out_proj.bias', 'transformer.encoder.layers.2.linear1.weight', 'transformer.encoder.layers.2.linear1.bias', 'transformer.encoder.layers.2.linear2.weight', 'transformer.encoder.layers.2.linear2.bias', 'transformer.encoder.layers.2.norm1.weight', 'transformer.encoder.layers.2.norm1.bias', 'transformer.encoder.layers.2.norm2.weight', 'transformer.encoder.layers.2.norm2.bias', 'transformer.encoder.layers.3.self_attn.in_proj_weight', 'transformer.encoder.layers.3.self_attn.in_proj_bias', 'transformer.encoder.layers.3.self_attn.out_proj.weight', 'transformer.encoder.layers.3.self_attn.out_proj.bias', 'transformer.encoder.layers.3.linear1.weight', 'transformer.encoder.layers.3.linear1.bias', 'transformer.encoder.layers.3.linear2.weight', 'transformer.encoder.layers.3.linear2.bias', 'transformer.encoder.layers.3.norm1.weight', 'transformer.encoder.layers.3.norm1.bias', 'transformer.encoder.layers.3.norm2.weight', 'transformer.encoder.layers.3.norm2.bias', 'transformer.encoder.layers.4.self_attn.in_proj_weight', 'transformer.encoder.layers.4.self_attn.in_proj_bias', 'transformer.encoder.layers.4.self_attn.out_proj.weight', 'transformer.encoder.layers.4.self_attn.out_proj.bias', 'transformer.encoder.layers.4.linear1.weight', 'transformer.encoder.layers.4.linear1.bias', 'transformer.encoder.layers.4.linear2.weight', 'transformer.encoder.layers.4.linear2.bias', 'transformer.encoder.layers.4.norm1.weight', 'transformer.encoder.layers.4.norm1.bias', 'transformer.encoder.layers.4.norm2.weight', 'transformer.encoder.layers.4.norm2.bias', 'transformer.encoder.layers.5.self_attn.in_proj_weight', 'transformer.encoder.layers.5.self_attn.in_proj_bias', 'transformer.encoder.layers.5.self_attn.out_proj.weight', 'transformer.encoder.layers.5.self_attn.out_proj.bias', 'transformer.encoder.layers.5.linear1.weight', 'transformer.encoder.layers.5.linear1.bias', 'transformer.encoder.layers.5.linear2.weight', 'transformer.encoder.layers.5.linear2.bias', 'transformer.encoder.layers.5.norm1.weight', 'transformer.encoder.layers.5.norm1.bias', 'transformer.encoder.layers.5.norm2.weight', 'transformer.encoder.layers.5.norm2.bias', 'transformer.encoder.norm.weight', 'transformer.encoder.norm.bias', 'transformer.embeddings.word_embeddings.weight', 'transformer.embeddings.position_embeddings.weight', 'transformer.embeddings.LayerNorm.weight', 'transformer.embeddings.LayerNorm.bias', 'transformer.decoder.layers.0.self_attn.in_proj_weight', 'transformer.decoder.layers.0.self_attn.in_proj_bias', 'transformer.decoder.layers.0.self_attn.out_proj.weight', 'transformer.decoder.layers.0.self_attn.out_proj.bias', 'transformer.decoder.layers.0.multihead_attn.in_proj_weight', 'transformer.decoder.layers.0.multihead_attn.in_proj_bias', 'transformer.decoder.layers.0.multihead_attn.out_proj.weight', 'transformer.decoder.layers.0.multihead_attn.out_proj.bias', 'transformer.decoder.layers.0.linear1.weight', 'transformer.decoder.layers.0.linear1.bias', 'transformer.decoder.layers.0.linear2.weight', 'transformer.decoder.layers.0.linear2.bias', 'transformer.decoder.layers.0.norm1.weight', 'transformer.decoder.layers.0.norm1.bias', 'transformer.decoder.layers.0.norm2.weight', 'transformer.decoder.layers.0.norm2.bias', 'transformer.decoder.layers.0.norm3.weight', 'transformer.decoder.layers.0.norm3.bias', 'transformer.decoder.layers.1.self_attn.in_proj_weight', 'transformer.decoder.layers.1.self_attn.in_proj_bias', 'transformer.decoder.layers.1.self_attn.out_proj.weight', 'transformer.decoder.layers.1.self_attn.out_proj.bias', 'transformer.decoder.layers.1.multihead_attn.in_proj_weight', 'transformer.decoder.layers.1.multihead_attn.in_proj_bias', 'transformer.decoder.layers.1.multihead_attn.out_proj.weight', 'transformer.decoder.layers.1.multihead_attn.out_proj.bias', 'transformer.decoder.layers.1.linear1.weight', 'transformer.decoder.layers.1.linear1.bias', 'transformer.decoder.layers.1.linear2.weight', 'transformer.decoder.layers.1.linear2.bias', 'transformer.decoder.layers.1.norm1.weight', 'transformer.decoder.layers.1.norm1.bias', 'transformer.decoder.layers.1.norm2.weight', 'transformer.decoder.layers.1.norm2.bias', 'transformer.decoder.layers.1.norm3.weight', 'transformer.decoder.layers.1.norm3.bias', 'transformer.decoder.layers.2.self_attn.in_proj_weight', 'transformer.decoder.layers.2.self_attn.in_proj_bias', 'transformer.decoder.layers.2.self_attn.out_proj.weight', 'transformer.decoder.layers.2.self_attn.out_proj.bias', 'transformer.decoder.layers.2.multihead_attn.in_proj_weight', 'transformer.decoder.layers.2.multihead_attn.in_proj_bias', 'transformer.decoder.layers.2.multihead_attn.out_proj.weight', 'transformer.decoder.layers.2.multihead_attn.out_proj.bias', 'transformer.decoder.layers.2.linear1.weight', 'transformer.decoder.layers.2.linear1.bias', 'transformer.decoder.layers.2.linear2.weight', 'transformer.decoder.layers.2.linear2.bias', 'transformer.decoder.layers.2.norm1.weight', 'transformer.decoder.layers.2.norm1.bias', 'transformer.decoder.layers.2.norm2.weight', 'transformer.decoder.layers.2.norm2.bias', 'transformer.decoder.layers.2.norm3.weight', 'transformer.decoder.layers.2.norm3.bias', 'transformer.decoder.layers.3.self_attn.in_proj_weight', 'transformer.decoder.layers.3.self_attn.in_proj_bias', 'transformer.decoder.layers.3.self_attn.out_proj.weight', 'transformer.decoder.layers.3.self_attn.out_proj.bias', 'transformer.decoder.layers.3.multihead_attn.in_proj_weight', 'transformer.decoder.layers.3.multihead_attn.in_proj_bias', 'transformer.decoder.layers.3.multihead_attn.out_proj.weight', 'transformer.decoder.layers.3.multihead_attn.out_proj.bias', 'transformer.decoder.layers.3.linear1.weight', 'transformer.decoder.layers.3.linear1.bias', 'transformer.decoder.layers.3.linear2.weight', 'transformer.decoder.layers.3.linear2.bias', 'transformer.decoder.layers.3.norm1.weight', 'transformer.decoder.layers.3.norm1.bias', 'transformer.decoder.layers.3.norm2.weight', 'transformer.decoder.layers.3.norm2.bias', 'transformer.decoder.layers.3.norm3.weight', 'transformer.decoder.layers.3.norm3.bias', 'transformer.decoder.layers.4.self_attn.in_proj_weight', 'transformer.decoder.layers.4.self_attn.in_proj_bias', 'transformer.decoder.layers.4.self_attn.out_proj.weight', 'transformer.decoder.layers.4.self_attn.out_proj.bias', 'transformer.decoder.layers.4.multihead_attn.in_proj_weight', 'transformer.decoder.layers.4.multihead_attn.in_proj_bias', 'transformer.decoder.layers.4.multihead_attn.out_proj.weight', 'transformer.decoder.layers.4.multihead_attn.out_proj.bias', 'transformer.decoder.layers.4.linear1.weight', 'transformer.decoder.layers.4.linear1.bias', 'transformer.decoder.layers.4.linear2.weight', 'transformer.decoder.layers.4.linear2.bias', 'transformer.decoder.layers.4.norm1.weight', 'transformer.decoder.layers.4.norm1.bias', 'transformer.decoder.layers.4.norm2.weight', 'transformer.decoder.layers.4.norm2.bias', 'transformer.decoder.layers.4.norm3.weight', 'transformer.decoder.layers.4.norm3.bias', 'transformer.decoder.layers.5.self_attn.in_proj_weight', 'transformer.decoder.layers.5.self_attn.in_proj_bias', 'transformer.decoder.layers.5.self_attn.out_proj.weight', 'transformer.decoder.layers.5.self_attn.out_proj.bias', 'transformer.decoder.layers.5.multihead_attn.in_proj_weight', 'transformer.decoder.layers.5.multihead_attn.in_proj_bias', 'transformer.decoder.layers.5.multihead_attn.out_proj.weight', 'transformer.decoder.layers.5.multihead_attn.out_proj.bias', 'transformer.decoder.layers.5.linear1.weight', 'transformer.decoder.layers.5.linear1.bias', 'transformer.decoder.layers.5.linear2.weight', 'transformer.decoder.layers.5.linear2.bias', 'transformer.decoder.layers.5.norm1.weight', 'transformer.decoder.layers.5.norm1.bias', 'transformer.decoder.layers.5.norm2.weight', 'transformer.decoder.layers.5.norm2.bias', 'transformer.decoder.layers.5.norm3.weight', 'transformer.decoder.layers.5.norm3.bias', 'transformer.decoder.norm.weight', 'transformer.decoder.norm.bias', 'mlp.layers.0.weight', 'mlp.layers.0.bias', 'mlp.layers.1.weight', 'mlp.layers.1.bias', 'mlp.layers.2.weight', 'mlp.layers.2.bias'])"
      ]
     },
     "execution_count": 8,
     "metadata": {},
     "output_type": "execute_result"
    }
   ],
   "source": [
    "checkpoint['model'].keys()"
   ]
  },
  {
   "cell_type": "code",
   "execution_count": 19,
   "metadata": {
    "collapsed": true,
    "jupyter": {
     "outputs_hidden": true
    }
   },
   "outputs": [
    {
     "name": "stdout",
     "output_type": "stream",
     "text": [
      "tensor([ 0.0749, -0.0109,  0.0081, -0.0231, -0.0089,  0.0211, -0.0219, -0.0052,\n",
      "        -0.0149,  0.0397,  0.0272, -0.0468,  0.0276,  0.0150,  0.0170, -0.0284,\n",
      "        -0.0249, -0.0120,  0.0025,  0.0248])\n",
      "tensor([ 0.0749, -0.0109,  0.0081, -0.0231, -0.0089,  0.0211, -0.0219, -0.0052,\n",
      "        -0.0149,  0.0397,  0.0272, -0.0468,  0.0276,  0.0150,  0.0170, -0.0284,\n",
      "        -0.0249, -0.0120,  0.0025,  0.0248], grad_fn=<SelectBackward>)\n"
     ]
    }
   ],
   "source": [
    "print(checkpoint['model']['backbone.0.cnn_enc.Mixed_6e.branch_pool.bn.running_mean'][:20])\n",
    "print(model.backbone[0].cnn_enc.Mixed_6e.branch_pool.bn.running_mean[:20])"
   ]
  },
  {
   "cell_type": "markdown",
   "metadata": {},
   "source": [
    "### Load image encoder checkpoint in CATR model successfully $\\uparrow$"
   ]
  },
  {
   "cell_type": "code",
   "execution_count": 21,
   "metadata": {
    "collapsed": true,
    "jupyter": {
     "outputs_hidden": true
    },
    "scrolled": true
   },
   "outputs": [
    {
     "name": "stdout",
     "output_type": "stream",
     "text": [
      "Initializing from Checkpoint...\n",
      "Load C from: catr/checkpoints/catr_damsm256_proj_coco2014_ep02.pth\n",
      "odict_keys(['input_proj_v2.weight', 'input_proj_v2.bias', 'transformer.encoder.layers.0.self_attn.in_proj_weight', 'transformer.encoder.layers.0.self_attn.in_proj_bias', 'transformer.encoder.layers.0.self_attn.out_proj.weight', 'transformer.encoder.layers.0.self_attn.out_proj.bias', 'transformer.encoder.layers.0.linear1.weight', 'transformer.encoder.layers.0.linear1.bias', 'transformer.encoder.layers.0.linear2.weight', 'transformer.encoder.layers.0.linear2.bias', 'transformer.encoder.layers.0.norm1.weight', 'transformer.encoder.layers.0.norm1.bias', 'transformer.encoder.layers.0.norm2.weight', 'transformer.encoder.layers.0.norm2.bias', 'transformer.encoder.layers.1.self_attn.in_proj_weight', 'transformer.encoder.layers.1.self_attn.in_proj_bias', 'transformer.encoder.layers.1.self_attn.out_proj.weight', 'transformer.encoder.layers.1.self_attn.out_proj.bias', 'transformer.encoder.layers.1.linear1.weight', 'transformer.encoder.layers.1.linear1.bias', 'transformer.encoder.layers.1.linear2.weight', 'transformer.encoder.layers.1.linear2.bias', 'transformer.encoder.layers.1.norm1.weight', 'transformer.encoder.layers.1.norm1.bias', 'transformer.encoder.layers.1.norm2.weight', 'transformer.encoder.layers.1.norm2.bias', 'transformer.encoder.layers.2.self_attn.in_proj_weight', 'transformer.encoder.layers.2.self_attn.in_proj_bias', 'transformer.encoder.layers.2.self_attn.out_proj.weight', 'transformer.encoder.layers.2.self_attn.out_proj.bias', 'transformer.encoder.layers.2.linear1.weight', 'transformer.encoder.layers.2.linear1.bias', 'transformer.encoder.layers.2.linear2.weight', 'transformer.encoder.layers.2.linear2.bias', 'transformer.encoder.layers.2.norm1.weight', 'transformer.encoder.layers.2.norm1.bias', 'transformer.encoder.layers.2.norm2.weight', 'transformer.encoder.layers.2.norm2.bias', 'transformer.encoder.layers.3.self_attn.in_proj_weight', 'transformer.encoder.layers.3.self_attn.in_proj_bias', 'transformer.encoder.layers.3.self_attn.out_proj.weight', 'transformer.encoder.layers.3.self_attn.out_proj.bias', 'transformer.encoder.layers.3.linear1.weight', 'transformer.encoder.layers.3.linear1.bias', 'transformer.encoder.layers.3.linear2.weight', 'transformer.encoder.layers.3.linear2.bias', 'transformer.encoder.layers.3.norm1.weight', 'transformer.encoder.layers.3.norm1.bias', 'transformer.encoder.layers.3.norm2.weight', 'transformer.encoder.layers.3.norm2.bias', 'transformer.encoder.layers.4.self_attn.in_proj_weight', 'transformer.encoder.layers.4.self_attn.in_proj_bias', 'transformer.encoder.layers.4.self_attn.out_proj.weight', 'transformer.encoder.layers.4.self_attn.out_proj.bias', 'transformer.encoder.layers.4.linear1.weight', 'transformer.encoder.layers.4.linear1.bias', 'transformer.encoder.layers.4.linear2.weight', 'transformer.encoder.layers.4.linear2.bias', 'transformer.encoder.layers.4.norm1.weight', 'transformer.encoder.layers.4.norm1.bias', 'transformer.encoder.layers.4.norm2.weight', 'transformer.encoder.layers.4.norm2.bias', 'transformer.encoder.layers.5.self_attn.in_proj_weight', 'transformer.encoder.layers.5.self_attn.in_proj_bias', 'transformer.encoder.layers.5.self_attn.out_proj.weight', 'transformer.encoder.layers.5.self_attn.out_proj.bias', 'transformer.encoder.layers.5.linear1.weight', 'transformer.encoder.layers.5.linear1.bias', 'transformer.encoder.layers.5.linear2.weight', 'transformer.encoder.layers.5.linear2.bias', 'transformer.encoder.layers.5.norm1.weight', 'transformer.encoder.layers.5.norm1.bias', 'transformer.encoder.layers.5.norm2.weight', 'transformer.encoder.layers.5.norm2.bias', 'transformer.encoder.norm.weight', 'transformer.encoder.norm.bias', 'transformer.embeddings.word_embeddings.weight', 'transformer.embeddings.position_embeddings.weight', 'transformer.embeddings.LayerNorm.weight', 'transformer.embeddings.LayerNorm.bias', 'transformer.decoder.layers.0.self_attn.in_proj_weight', 'transformer.decoder.layers.0.self_attn.in_proj_bias', 'transformer.decoder.layers.0.self_attn.out_proj.weight', 'transformer.decoder.layers.0.self_attn.out_proj.bias', 'transformer.decoder.layers.0.multihead_attn.in_proj_weight', 'transformer.decoder.layers.0.multihead_attn.in_proj_bias', 'transformer.decoder.layers.0.multihead_attn.out_proj.weight', 'transformer.decoder.layers.0.multihead_attn.out_proj.bias', 'transformer.decoder.layers.0.linear1.weight', 'transformer.decoder.layers.0.linear1.bias', 'transformer.decoder.layers.0.linear2.weight', 'transformer.decoder.layers.0.linear2.bias', 'transformer.decoder.layers.0.norm1.weight', 'transformer.decoder.layers.0.norm1.bias', 'transformer.decoder.layers.0.norm2.weight', 'transformer.decoder.layers.0.norm2.bias', 'transformer.decoder.layers.0.norm3.weight', 'transformer.decoder.layers.0.norm3.bias', 'transformer.decoder.layers.1.self_attn.in_proj_weight', 'transformer.decoder.layers.1.self_attn.in_proj_bias', 'transformer.decoder.layers.1.self_attn.out_proj.weight', 'transformer.decoder.layers.1.self_attn.out_proj.bias', 'transformer.decoder.layers.1.multihead_attn.in_proj_weight', 'transformer.decoder.layers.1.multihead_attn.in_proj_bias', 'transformer.decoder.layers.1.multihead_attn.out_proj.weight', 'transformer.decoder.layers.1.multihead_attn.out_proj.bias', 'transformer.decoder.layers.1.linear1.weight', 'transformer.decoder.layers.1.linear1.bias', 'transformer.decoder.layers.1.linear2.weight', 'transformer.decoder.layers.1.linear2.bias', 'transformer.decoder.layers.1.norm1.weight', 'transformer.decoder.layers.1.norm1.bias', 'transformer.decoder.layers.1.norm2.weight', 'transformer.decoder.layers.1.norm2.bias', 'transformer.decoder.layers.1.norm3.weight', 'transformer.decoder.layers.1.norm3.bias', 'transformer.decoder.layers.2.self_attn.in_proj_weight', 'transformer.decoder.layers.2.self_attn.in_proj_bias', 'transformer.decoder.layers.2.self_attn.out_proj.weight', 'transformer.decoder.layers.2.self_attn.out_proj.bias', 'transformer.decoder.layers.2.multihead_attn.in_proj_weight', 'transformer.decoder.layers.2.multihead_attn.in_proj_bias', 'transformer.decoder.layers.2.multihead_attn.out_proj.weight', 'transformer.decoder.layers.2.multihead_attn.out_proj.bias', 'transformer.decoder.layers.2.linear1.weight', 'transformer.decoder.layers.2.linear1.bias', 'transformer.decoder.layers.2.linear2.weight', 'transformer.decoder.layers.2.linear2.bias', 'transformer.decoder.layers.2.norm1.weight', 'transformer.decoder.layers.2.norm1.bias', 'transformer.decoder.layers.2.norm2.weight', 'transformer.decoder.layers.2.norm2.bias', 'transformer.decoder.layers.2.norm3.weight', 'transformer.decoder.layers.2.norm3.bias', 'transformer.decoder.layers.3.self_attn.in_proj_weight', 'transformer.decoder.layers.3.self_attn.in_proj_bias', 'transformer.decoder.layers.3.self_attn.out_proj.weight', 'transformer.decoder.layers.3.self_attn.out_proj.bias', 'transformer.decoder.layers.3.multihead_attn.in_proj_weight', 'transformer.decoder.layers.3.multihead_attn.in_proj_bias', 'transformer.decoder.layers.3.multihead_attn.out_proj.weight', 'transformer.decoder.layers.3.multihead_attn.out_proj.bias', 'transformer.decoder.layers.3.linear1.weight', 'transformer.decoder.layers.3.linear1.bias', 'transformer.decoder.layers.3.linear2.weight', 'transformer.decoder.layers.3.linear2.bias', 'transformer.decoder.layers.3.norm1.weight', 'transformer.decoder.layers.3.norm1.bias', 'transformer.decoder.layers.3.norm2.weight', 'transformer.decoder.layers.3.norm2.bias', 'transformer.decoder.layers.3.norm3.weight', 'transformer.decoder.layers.3.norm3.bias', 'transformer.decoder.layers.4.self_attn.in_proj_weight', 'transformer.decoder.layers.4.self_attn.in_proj_bias', 'transformer.decoder.layers.4.self_attn.out_proj.weight', 'transformer.decoder.layers.4.self_attn.out_proj.bias', 'transformer.decoder.layers.4.multihead_attn.in_proj_weight', 'transformer.decoder.layers.4.multihead_attn.in_proj_bias', 'transformer.decoder.layers.4.multihead_attn.out_proj.weight', 'transformer.decoder.layers.4.multihead_attn.out_proj.bias', 'transformer.decoder.layers.4.linear1.weight', 'transformer.decoder.layers.4.linear1.bias', 'transformer.decoder.layers.4.linear2.weight', 'transformer.decoder.layers.4.linear2.bias', 'transformer.decoder.layers.4.norm1.weight', 'transformer.decoder.layers.4.norm1.bias', 'transformer.decoder.layers.4.norm2.weight', 'transformer.decoder.layers.4.norm2.bias', 'transformer.decoder.layers.4.norm3.weight', 'transformer.decoder.layers.4.norm3.bias', 'transformer.decoder.layers.5.self_attn.in_proj_weight', 'transformer.decoder.layers.5.self_attn.in_proj_bias', 'transformer.decoder.layers.5.self_attn.out_proj.weight', 'transformer.decoder.layers.5.self_attn.out_proj.bias', 'transformer.decoder.layers.5.multihead_attn.in_proj_weight', 'transformer.decoder.layers.5.multihead_attn.in_proj_bias', 'transformer.decoder.layers.5.multihead_attn.out_proj.weight', 'transformer.decoder.layers.5.multihead_attn.out_proj.bias', 'transformer.decoder.layers.5.linear1.weight', 'transformer.decoder.layers.5.linear1.bias', 'transformer.decoder.layers.5.linear2.weight', 'transformer.decoder.layers.5.linear2.bias', 'transformer.decoder.layers.5.norm1.weight', 'transformer.decoder.layers.5.norm1.bias', 'transformer.decoder.layers.5.norm2.weight', 'transformer.decoder.layers.5.norm2.bias', 'transformer.decoder.layers.5.norm3.weight', 'transformer.decoder.layers.5.norm3.bias', 'transformer.decoder.norm.weight', 'transformer.decoder.norm.bias', 'mlp.layers.0.weight', 'mlp.layers.0.bias', 'mlp.layers.1.weight', 'mlp.layers.1.bias', 'mlp.layers.2.weight', 'mlp.layers.2.bias'])\n"
     ]
    }
   ],
   "source": [
    "# initialize catr model in trainer_s3\n",
    "cap_model = caption.build_model_v3(config)\n",
    "print(\"Initializing from Checkpoint...\")\n",
    "base_line_path = 'catr/checkpoints/catr_damsm256_proj_coco2014_ep02.pth'\n",
    "print('Load C from: {0}'.format(base_line_path))\n",
    "checkv3 = torch.load(base_line_path, map_location='cpu')\n",
    "cap_model.load_state_dict(checkv3['model'], strict=False)\n",
    "print(cap_model.state_dict().keys())"
   ]
  },
  {
   "cell_type": "code",
   "execution_count": 24,
   "metadata": {
    "collapsed": true,
    "jupyter": {
     "outputs_hidden": true
    }
   },
   "outputs": [
    {
     "name": "stdout",
     "output_type": "stream",
     "text": [
      "tensor([ 0.0749, -0.0109,  0.0081, -0.0231, -0.0089,  0.0211, -0.0219, -0.0052,\n",
      "        -0.0149,  0.0397,  0.0272, -0.0468,  0.0276,  0.0150,  0.0170, -0.0284,\n",
      "        -0.0249, -0.0120,  0.0025,  0.0248])\n",
      "tensor([ 0.0749, -0.0109,  0.0081, -0.0231, -0.0089,  0.0211, -0.0219, -0.0052,\n",
      "        -0.0149,  0.0397,  0.0272, -0.0468,  0.0276,  0.0150,  0.0170, -0.0284,\n",
      "        -0.0249, -0.0120,  0.0025,  0.0248], grad_fn=<SelectBackward>)\n",
      "tensor([ 0.0749, -0.0109,  0.0081, -0.0231, -0.0089,  0.0211, -0.0219, -0.0052,\n",
      "        -0.0149,  0.0397,  0.0272, -0.0468,  0.0276,  0.0150,  0.0170, -0.0284,\n",
      "        -0.0249, -0.0120,  0.0025,  0.0248], grad_fn=<SelectBackward>)\n",
      "tensor([-0.6451, -0.1374, -0.2115, -0.1234, -0.1399, -0.1700, -0.1499, -0.1727,\n",
      "        -0.1674, -0.1452, -0.1300, -0.1602, -0.1683, -0.1396, -0.1389, -0.1459,\n",
      "        -0.1970, -0.1329, -0.1731, -0.1814])\n",
      "tensor([-0.6451, -0.1374, -0.2115, -0.1234, -0.1399, -0.1700, -0.1499, -0.1727,\n",
      "        -0.1674, -0.1452, -0.1300, -0.1602, -0.1683, -0.1396, -0.1389, -0.1459,\n",
      "        -0.1970, -0.1329, -0.1731, -0.1814], grad_fn=<SelectBackward>)\n",
      "tensor([-0.6451, -0.1374, -0.2115, -0.1234, -0.1399, -0.1700, -0.1499, -0.1727,\n",
      "        -0.1674, -0.1452, -0.1300, -0.1602, -0.1683, -0.1396, -0.1389, -0.1459,\n",
      "        -0.1970, -0.1329, -0.1731, -0.1814], grad_fn=<SelectBackward>)\n"
     ]
    }
   ],
   "source": [
    "# check the transformer part of full CATR model \n",
    "print(checkpoint['model']['input_proj_v2.weight'][:20,0,0,0])\n",
    "print(model.input_proj_v2.weight[:20,0,0,0])\n",
    "# check the caption model in trainer_v3\n",
    "print(cap_model.input_proj_v2.weight[:20,0,0,0])\n",
    "\n",
    "print(checkpoint['model']['mlp.layers.2.weight'][:20,0])\n",
    "print(model.mlp.layers[2].weight[:20,0])\n",
    "# check the caption model in trainer_v3\n",
    "print(cap_model.mlp.layers[2].weight[:20,0])"
   ]
  },
  {
   "cell_type": "markdown",
   "metadata": {},
   "source": [
    "### Load cap_model from checkpoint in trainer_v3 successfully $\\uparrow$"
   ]
  },
  {
   "cell_type": "code",
   "execution_count": 31,
   "metadata": {},
   "outputs": [
    {
     "data": {
      "text/plain": [
       "{'step_size': 2,\n",
       " 'gamma': 0.1,\n",
       " 'base_lrs': [0.0001, 0],\n",
       " 'last_epoch': 3,\n",
       " '_step_count': 4,\n",
       " '_get_lr_called_within_step': False,\n",
       " '_last_lr': [1e-05, 0.0]}"
      ]
     },
     "execution_count": 31,
     "metadata": {},
     "output_type": "execute_result"
    }
   ],
   "source": [
    "checkv3['lr_scheduler']"
   ]
  },
  {
   "cell_type": "code",
   "execution_count": 36,
   "metadata": {
    "collapsed": true,
    "jupyter": {
     "outputs_hidden": true
    }
   },
   "outputs": [
    {
     "data": {
      "text/plain": [
       "{'lr': 1e-05,\n",
       " 'betas': (0.9, 0.999),\n",
       " 'eps': 1e-08,\n",
       " 'weight_decay': 0.0001,\n",
       " 'amsgrad': False,\n",
       " 'initial_lr': 0.0001,\n",
       " 'params': [0,\n",
       "  1,\n",
       "  2,\n",
       "  3,\n",
       "  4,\n",
       "  5,\n",
       "  6,\n",
       "  7,\n",
       "  8,\n",
       "  9,\n",
       "  10,\n",
       "  11,\n",
       "  12,\n",
       "  13,\n",
       "  14,\n",
       "  15,\n",
       "  16,\n",
       "  17,\n",
       "  18,\n",
       "  19,\n",
       "  20,\n",
       "  21,\n",
       "  22,\n",
       "  23,\n",
       "  24,\n",
       "  25,\n",
       "  26,\n",
       "  27,\n",
       "  28,\n",
       "  29,\n",
       "  30,\n",
       "  31,\n",
       "  32,\n",
       "  33,\n",
       "  34,\n",
       "  35,\n",
       "  36,\n",
       "  37,\n",
       "  38,\n",
       "  39,\n",
       "  40,\n",
       "  41,\n",
       "  42,\n",
       "  43,\n",
       "  44,\n",
       "  45,\n",
       "  46,\n",
       "  47,\n",
       "  48,\n",
       "  49,\n",
       "  50,\n",
       "  51,\n",
       "  52,\n",
       "  53,\n",
       "  54,\n",
       "  55,\n",
       "  56,\n",
       "  57,\n",
       "  58,\n",
       "  59,\n",
       "  60,\n",
       "  61,\n",
       "  62,\n",
       "  63,\n",
       "  64,\n",
       "  65,\n",
       "  66,\n",
       "  67,\n",
       "  68,\n",
       "  69,\n",
       "  70,\n",
       "  71,\n",
       "  72,\n",
       "  73,\n",
       "  74,\n",
       "  75,\n",
       "  76,\n",
       "  77,\n",
       "  78,\n",
       "  79,\n",
       "  80,\n",
       "  81,\n",
       "  82,\n",
       "  83,\n",
       "  84,\n",
       "  85,\n",
       "  86,\n",
       "  87,\n",
       "  88,\n",
       "  89,\n",
       "  90,\n",
       "  91,\n",
       "  92,\n",
       "  93,\n",
       "  94,\n",
       "  95,\n",
       "  96,\n",
       "  97,\n",
       "  98,\n",
       "  99,\n",
       "  100,\n",
       "  101,\n",
       "  102,\n",
       "  103,\n",
       "  104,\n",
       "  105,\n",
       "  106,\n",
       "  107,\n",
       "  108,\n",
       "  109,\n",
       "  110,\n",
       "  111,\n",
       "  112,\n",
       "  113,\n",
       "  114,\n",
       "  115,\n",
       "  116,\n",
       "  117,\n",
       "  118,\n",
       "  119,\n",
       "  120,\n",
       "  121,\n",
       "  122,\n",
       "  123,\n",
       "  124,\n",
       "  125,\n",
       "  126,\n",
       "  127,\n",
       "  128,\n",
       "  129,\n",
       "  130,\n",
       "  131,\n",
       "  132,\n",
       "  133,\n",
       "  134,\n",
       "  135,\n",
       "  136,\n",
       "  137,\n",
       "  138,\n",
       "  139,\n",
       "  140,\n",
       "  141,\n",
       "  142,\n",
       "  143,\n",
       "  144,\n",
       "  145,\n",
       "  146,\n",
       "  147,\n",
       "  148,\n",
       "  149,\n",
       "  150,\n",
       "  151,\n",
       "  152,\n",
       "  153,\n",
       "  154,\n",
       "  155,\n",
       "  156,\n",
       "  157,\n",
       "  158,\n",
       "  159,\n",
       "  160,\n",
       "  161,\n",
       "  162,\n",
       "  163,\n",
       "  164,\n",
       "  165,\n",
       "  166,\n",
       "  167,\n",
       "  168,\n",
       "  169,\n",
       "  170,\n",
       "  171,\n",
       "  172,\n",
       "  173,\n",
       "  174,\n",
       "  175,\n",
       "  176,\n",
       "  177,\n",
       "  178,\n",
       "  179,\n",
       "  180,\n",
       "  181,\n",
       "  182,\n",
       "  183,\n",
       "  184,\n",
       "  185,\n",
       "  186,\n",
       "  187,\n",
       "  188,\n",
       "  189,\n",
       "  190,\n",
       "  191,\n",
       "  192,\n",
       "  193,\n",
       "  194,\n",
       "  195]}"
      ]
     },
     "execution_count": 36,
     "metadata": {},
     "output_type": "execute_result"
    }
   ],
   "source": [
    "checkv3['optimizer']['param_groups'][0]"
   ]
  },
  {
   "cell_type": "code",
   "execution_count": 28,
   "metadata": {},
   "outputs": [
    {
     "name": "stdout",
     "output_type": "stream",
     "text": [
      "Train: 414113\n",
      "Valid: 202654\n"
     ]
    }
   ],
   "source": [
    "## in CATR, image_encoder is joint with transformer\n",
    "## when trainer_s3, separate image_encoder and cap_model is initialized\n",
    "###### use catr dataloader here for testing\n",
    "dataset_train = coco.build_dataset14(config, mode='training')\n",
    "dataset_val = coco.build_dataset14(config, mode='validation')\n",
    "print(f\"Train: {len(dataset_train)}\")\n",
    "print(f\"Valid: {len(dataset_val)}\")\n",
    "\n",
    "sampler_train = torch.utils.data.RandomSampler(dataset_train)\n",
    "sampler_val = torch.utils.data.SequentialSampler(dataset_val)\n",
    "\n",
    "batch_sampler_train = torch.utils.data.BatchSampler(\n",
    "    sampler_train, config.batch_size, drop_last=True\n",
    ")\n",
    "\n",
    "data_loader_train = DataLoader(\n",
    "    dataset_train, batch_sampler=batch_sampler_train, num_workers=0)\n",
    "data_loader_val = DataLoader(dataset_val, config.batch_size,\n",
    "                             sampler=sampler_val, drop_last=False, num_workers=0)"
   ]
  },
  {
   "cell_type": "code",
   "execution_count": 29,
   "metadata": {},
   "outputs": [],
   "source": [
    "model = model.cuda()\n",
    "image_encoder = image_encoder.cuda()\n",
    "cap_model = cap_model.cuda()"
   ]
  },
  {
   "cell_type": "code",
   "execution_count": 30,
   "metadata": {},
   "outputs": [],
   "source": [
    "@torch.no_grad()\n",
    "def evaluate(data_loader):\n",
    "    model.eval()\n",
    "    image_encoder.eval()\n",
    "    cap_model.eval()\n",
    "\n",
    "    for images, masks, caps, cap_masks in data_loader:\n",
    "        images = images.cuda()\n",
    "        masks = masks.cuda()\n",
    "        samples = mtils.NestedTensor(images, masks)\n",
    "        caps = caps.cuda()\n",
    "        cap_masks = cap_masks.cuda()\n",
    "        outputs = model(samples, caps[:, :-1], cap_masks[:, :-1])\n",
    "        words_features, sent_code = image_encoder(images)\n",
    "        cap_preds = cap_model(words_features, masks, caps[:, :-1], cap_masks[:, :-1])\n",
    "        break   # only used for debug, inspect 1st iter\n",
    "                \n",
    "    return outputs, cap_preds"
   ]
  },
  {
   "cell_type": "code",
   "execution_count": 37,
   "metadata": {},
   "outputs": [
    {
     "name": "stderr",
     "output_type": "stream",
     "text": [
      "/media/MyDataStor2/zhanghex/anaconda3/lib/python3.7/site-packages/torch/nn/functional.py:3121: UserWarning: Default upsampling behavior when mode=bilinear is changed to align_corners=False since 0.4.0. Please specify align_corners=True if the old behavior is desired. See the documentation of nn.Upsample for details.\n",
      "  \"See the documentation of nn.Upsample for details.\".format(mode))\n"
     ]
    }
   ],
   "source": [
    "outputs, cap_preds = evaluate(data_loader_val)"
   ]
  },
  {
   "cell_type": "code",
   "execution_count": 38,
   "metadata": {},
   "outputs": [
    {
     "name": "stdout",
     "output_type": "stream",
     "text": [
      "torch.Size([32, 128, 30522]) torch.Size([32, 128, 30522])\n"
     ]
    }
   ],
   "source": [
    "print(outputs.shape, cap_preds.shape)"
   ]
  },
  {
   "cell_type": "code",
   "execution_count": 39,
   "metadata": {},
   "outputs": [
    {
     "name": "stdout",
     "output_type": "stream",
     "text": [
      "tensor([-43.6141, -43.2130, -69.7260, -44.7634, -38.0057, -50.1113, -47.0646,\n",
      "        -52.8086, -64.2075, -35.6812, -36.8284, -38.3564, -40.8463, -44.9847,\n",
      "        -42.4597, -38.7589, -37.0208, -37.8280, -41.2827, -41.9383, -42.1363,\n",
      "        -40.7763, -40.1552, -44.1159, -40.8252, -72.9402, -40.7454, -43.7276,\n",
      "        -46.0839, -43.5175, -42.3380, -42.1800, -47.0214, -73.6014, -70.8860,\n",
      "        -46.1343, -34.3810, -38.8425, -38.2300, -42.8508, -40.5383, -43.8769,\n",
      "        -39.9417, -43.6237, -39.0572, -43.5023, -41.8012, -42.1579, -46.1298],\n",
      "       device='cuda:0')\n",
      "tensor([-43.6141, -43.2130, -69.7260, -44.7634, -38.0057, -50.1113, -47.0646,\n",
      "        -52.8086, -64.2075, -35.6812, -36.8284, -38.3564, -40.8463, -44.9847,\n",
      "        -42.4597, -38.7589, -37.0208, -37.8280, -41.2827, -41.9383, -42.1363,\n",
      "        -40.7763, -40.1552, -44.1159, -40.8252, -72.9402, -40.7454, -43.7276,\n",
      "        -46.0839, -43.5175, -42.3380, -42.1800, -47.0214, -73.6014, -70.8860,\n",
      "        -46.1343, -34.3810, -38.8425, -38.2300, -42.8508, -40.5383, -43.8769,\n",
      "        -39.9417, -43.6237, -39.0572, -43.5023, -41.8012, -42.1579, -46.1298],\n",
      "       device='cuda:0')\n"
     ]
    }
   ],
   "source": [
    "print(outputs[0,1,1001:1050])\n",
    "print(cap_preds[0,1,1001:1050])\n",
    "### the prediction is exactly the same for the full catr model and the separate model, success ###"
   ]
  },
  {
   "cell_type": "code",
   "execution_count": 42,
   "metadata": {
    "collapsed": true,
    "jupyter": {
     "outputs_hidden": true
    },
    "scrolled": true
   },
   "outputs": [
    {
     "name": "stdout",
     "output_type": "stream",
     "text": [
      "00: a clock with clock a clock on roman numbers of.\n",
      "00: a clock with clock a clock on roman numbers of.\n",
      "01: a motorcycle motorcycle motorcycle parked in a of a house.\n",
      "01: a motorcycle motorcycle motorcycle parked in a of a house.\n",
      "02: a bathroom with a walls and a white toilet. a.\n",
      "02: a bathroom with a walls and a white toilet. a.\n",
      "03: a bicycle parked is to be parked on on a bicycle. on.\n",
      "03: a bicycle parked is to be parked on on a bicycle. on.\n",
      "04: a large jet jet flying through the sky.\n",
      "04: a large jet jet flying through the sky.\n",
      "05: a is a planeur plane that off from the clear cloudy sky\n",
      "05: a is a planeur plane that off from the clear cloudy sky\n",
      "06: a walls white bathroom bathroom with a home home.\n",
      "06: a walls white bathroom bathroom with a home home.\n",
      "07: a bathroom a bathroom bathroom white bathroom with a white mirror and toilet toilet sizede. the wall.\n",
      "07: a bathroom a bathroom bathroom white bathroom with a white mirror and toilet toilet sizede. the wall.\n",
      "08: a bathroom bathroom is bathroom with a white preserver. the wall.\n",
      "08: a bathroom bathroom is bathroom with a white preserver. the wall.\n",
      "09: a clock is a clock on roman man.\n",
      "09: a clock is a clock on roman man.\n",
      "10: a motorcycle motorcycle parked in a field field.\n",
      "10: a motorcycle motorcycle parked in a field field.\n",
      "11: a bikes are on the side next a side.\n",
      "11: a bikes are on the side next a side.\n",
      "12: a airplane is is flying with taking after or taking taking off.\n",
      "12: a airplane is is flying with taking after or taking taking off.\n",
      "13: a bathroom with a, has very white than.\n",
      "13: a bathroom with a, has very white than.\n",
      "14: a bathroom with a toilet, sink, and mirror.\n",
      "14: a bathroom with a toilet, sink, and mirror.\n",
      "15: a train train subway emptyist style, looking kitchen\n",
      "15: a train train subway emptyist style, looking kitchen\n",
      "16: a office withle with a computers computers of items.\n",
      "16: a office withle with a computers computers of items.\n",
      "17: a bathroom sink with aries on the counter.\n",
      "17: a bathroom sink with aries on the counter.\n",
      "18: a bathroom bathroom toilet in a small bathroom\n",
      "18: a bathroom bathroom toilet in a small bathroom\n",
      "19: a men are at a bus in to a street.\n",
      "19: a men are at a bus in to a street.\n",
      "20: a bathroom sink with mirror hygiene care products.\n",
      "20: a bathroom sink with mirror hygiene care products.\n",
      "21: a is a image toilet with three toothrsbers.\n",
      "21: a is a image toilet with three toothrsbers.\n",
      "22: a old blue fashioned car car wagon parked parked on the street street.\n",
      "22: a old blue fashioned car car wagon parked parked on the street street.\n",
      "23: a kitchen stove with to a stove steel stove stove. a..\n",
      "23: a kitchen stove with to a stove steel stove stove. a..\n",
      "24: a clock and clock with a clock on of roof of.\n",
      "24: a clock and clock with a clock on of roof of.\n",
      "25: a motorcycle motorcycle motorcycle parked a black blue stripe.\n",
      "25: a motorcycle motorcycle motorcycle parked a black blue stripe.\n",
      "26: a bathroom bathroom sitting sink in in a bathroom bathroom.\n",
      "26: a bathroom bathroom sitting sink in in a bathroom bathroom.\n",
      "27: a people are down the street in a.\n",
      "27: a people are down the street in a.\n",
      "28: a black cat sitting sitting of toilet toilet.\n",
      "28: a black cat sitting sitting of toilet toilet.\n",
      "29: a street with cars cars and a bike\n",
      "29: a street with cars cars and a bike\n",
      "30: a desk office has is to be clean cleanuttered.\n",
      "30: a desk office has is to be clean cleanuttered.\n",
      "31: a man riding a wheelchair is a man on a motorcycle. is in a ocean.\n",
      "31: a man riding a wheelchair is a man on a motorcycle. is in a ocean.\n"
     ]
    }
   ],
   "source": [
    "pred_f = torch.argmax(outputs, axis=-1).cpu().detach().numpy()\n",
    "pred_c = torch.argmax(cap_preds, axis=-1).cpu().detach().numpy()\n",
    "cp_f = tokenizer.batch_decode(pred_f.tolist(), skip_special_tokens=True)\n",
    "cp_c = tokenizer.batch_decode(pred_c.tolist(), skip_special_tokens=True)\n",
    "for i in range(config.batch_size):\n",
    "    print('%02d: ' % i + cp_f[i], sep='\\n')\n",
    "    print('%02d: ' % i + cp_c[i], sep='\\n')"
   ]
  },
  {
   "cell_type": "markdown",
   "metadata": {},
   "source": [
    "### The output predictions from CATR and image_encoder+cap_model are the same, success $\\uparrow$"
   ]
  },
  {
   "cell_type": "code",
   "execution_count": null,
   "metadata": {},
   "outputs": [],
   "source": []
  }
 ],
 "metadata": {
  "kernelspec": {
   "display_name": "Python 3",
   "language": "python",
   "name": "python3"
  },
  "language_info": {
   "codemirror_mode": {
    "name": "ipython",
    "version": 3
   },
   "file_extension": ".py",
   "mimetype": "text/x-python",
   "name": "python",
   "nbconvert_exporter": "python",
   "pygments_lexer": "ipython3",
   "version": "3.7.7"
  }
 },
 "nbformat": 4,
 "nbformat_minor": 4
}
