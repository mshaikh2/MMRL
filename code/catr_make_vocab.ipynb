{
 "cells": [
  {
   "cell_type": "markdown",
   "metadata": {},
   "source": [
    "## Make vocab file for transformers, and add special tokens in it"
   ]
  },
  {
   "cell_type": "code",
   "execution_count": 52,
   "metadata": {},
   "outputs": [],
   "source": [
    "import torch\n",
    "from torch.utils.data import DataLoader\n",
    "from torchvision import transforms\n",
    "\n",
    "import numpy as np\n",
    "import time\n",
    "import sys\n",
    "import os\n",
    "import math\n",
    "import tqdm\n",
    "\n",
    "from nltk.tokenize import RegexpTokenizer\n",
    "from transformers import BertTokenizer, AutoTokenizer\n",
    "from PIL import Image\n",
    "import argparse\n",
    "\n",
    "from catr.models import caption\n",
    "from catr.models import utils as mtils\n",
    "from catr.datasets import coco, utils\n",
    "from catr.cfg_damsm_vocab import Config\n",
    "\n",
    "import json, pickle\n",
    "import pandas as pd\n",
    "from pycocotools.coco import COCO as CC\n",
    "import matplotlib.pyplot as plt\n"
   ]
  },
  {
   "cell_type": "markdown",
   "metadata": {},
   "source": [
    "## make coco2014 vocab"
   ]
  },
  {
   "cell_type": "code",
   "execution_count": 3,
   "metadata": {
    "scrolled": true
   },
   "outputs": [
    {
     "data": {
      "text/plain": [
       "27297"
      ]
     },
     "execution_count": 3,
     "metadata": {},
     "output_type": "execute_result"
    }
   ],
   "source": [
    "## try bert tokenizer used in CATR\n",
    "fpath = '/media/MyDataStor1/mmrl/MMRL/data/coco/captions.pickle'\n",
    "with open(fpath, 'rb') as f:\n",
    "    vocab = pickle.load(f)\n",
    "train_captions, test_captions, ixtoword, wordtoix = vocab\n",
    "len(ixtoword)"
   ]
  },
  {
   "cell_type": "code",
   "execution_count": 4,
   "metadata": {
    "scrolled": true
   },
   "outputs": [
    {
     "data": {
      "text/plain": [
       "0"
      ]
     },
     "execution_count": 4,
     "metadata": {},
     "output_type": "execute_result"
    }
   ],
   "source": [
    "ixtoword[27297] = '[CLS]'\n",
    "ixtoword[27298] = '[SEP]'\n",
    "ixtoword[27299] = '[UNK]'\n",
    "ixtoword[0] = '[PAD]'\n",
    "wordtoix['[CLS]'] = 27297\n",
    "wordtoix['[SEP]'] = 27298\n",
    "wordtoix['[UNK]'] = 27299\n",
    "wordtoix['[PAD]'] = 0\n",
    "wordtoix.pop('<end>')"
   ]
  },
  {
   "cell_type": "code",
   "execution_count": 5,
   "metadata": {},
   "outputs": [
    {
     "name": "stdout",
     "output_type": "stream",
     "text": [
      "27300 27300\n",
      "27297 27298 27299 0\n",
      "[CLS] [SEP] [UNK] [PAD]\n"
     ]
    }
   ],
   "source": [
    "print(len(ixtoword),len(wordtoix))\n",
    "print(wordtoix['[CLS]'], wordtoix['[SEP]'], wordtoix['[UNK]'], wordtoix['[PAD]'])\n",
    "print(ixtoword[27297], ixtoword[27298], ixtoword[27299], ixtoword[0])"
   ]
  },
  {
   "cell_type": "code",
   "execution_count": 15,
   "metadata": {},
   "outputs": [],
   "source": [
    "## save ixtoword to .txt file\n",
    "vocab_txt = 'catr/damsm_vocab.txt'\n",
    "with open(vocab_txt, 'w') as f:\n",
    "    for i in range(27300):\n",
    "        f.write(\"%s\\n\" % ixtoword[i])"
   ]
  },
  {
   "cell_type": "code",
   "execution_count": 20,
   "metadata": {},
   "outputs": [
    {
     "name": "stderr",
     "output_type": "stream",
     "text": [
      "Calling BertTokenizer.from_pretrained() with the path to a single file or url is deprecated\n",
      "Special tokens have been added in the vocabulary, make sure the associated word embedding are fine-tuned or trained.\n"
     ]
    },
    {
     "name": "stdout",
     "output_type": "stream",
     "text": [
      "27300\n",
      "27297\n"
     ]
    }
   ],
   "source": [
    "## test bert_tokenizer on damsm new vocab_dict\n",
    "damsm_tker = BertTokenizer.from_pretrained(\"catr/damsm_vocab.txt\", do_lower=True)"
   ]
  },
  {
   "cell_type": "code",
   "execution_count": 21,
   "metadata": {},
   "outputs": [
    {
     "name": "stdout",
     "output_type": "stream",
     "text": [
      "27300\n",
      "[CLS] 27297\n",
      "[SEP] 27298\n",
      "[PAD] 0\n",
      "[UNK] 27299\n"
     ]
    }
   ],
   "source": [
    "print(damsm_tker.vocab_size)\n",
    "print(damsm_tker._cls_token, damsm_tker.convert_tokens_to_ids(damsm_tker._cls_token))\n",
    "print(damsm_tker._sep_token, damsm_tker.convert_tokens_to_ids(damsm_tker._sep_token))\n",
    "print(damsm_tker._pad_token, damsm_tker.convert_tokens_to_ids(damsm_tker._pad_token))\n",
    "print(damsm_tker._unk_token, damsm_tker.convert_tokens_to_ids(damsm_tker._unk_token))"
   ]
  },
  {
   "cell_type": "code",
   "execution_count": 26,
   "metadata": {},
   "outputs": [
    {
     "name": "stdout",
     "output_type": "stream",
     "text": [
      "{'input_ids': [[27297, 10, 80, 115, 137, 154, 27298, 0, 0, 0, 0, 0, 0, 0, 0, 0, 0, 0, 0, 0, 0, 0, 0, 0, 0, 0, 0, 0, 0, 0, 0, 0, 0, 0, 0, 0, 0, 0, 0, 0, 0, 0, 0, 0, 0, 0, 0, 0, 0, 0, 0, 0, 0, 0, 0, 0, 0, 0, 0, 0, 0, 0, 0, 0, 0, 0, 0, 0, 0, 0, 0, 0, 0, 0, 0, 0, 0, 0, 0, 0, 0, 0, 0, 0, 0, 0, 0, 0, 0, 0, 0, 0, 0, 0, 0, 0, 0, 0, 0, 0, 0, 0, 0, 0, 0, 0, 0, 0, 0, 0, 0, 0, 0, 0, 0, 0, 0, 0, 0, 0, 0, 0, 0, 0, 0, 0, 0, 0, 0]], 'attention_mask': [[1, 1, 1, 1, 1, 1, 1, 0, 0, 0, 0, 0, 0, 0, 0, 0, 0, 0, 0, 0, 0, 0, 0, 0, 0, 0, 0, 0, 0, 0, 0, 0, 0, 0, 0, 0, 0, 0, 0, 0, 0, 0, 0, 0, 0, 0, 0, 0, 0, 0, 0, 0, 0, 0, 0, 0, 0, 0, 0, 0, 0, 0, 0, 0, 0, 0, 0, 0, 0, 0, 0, 0, 0, 0, 0, 0, 0, 0, 0, 0, 0, 0, 0, 0, 0, 0, 0, 0, 0, 0, 0, 0, 0, 0, 0, 0, 0, 0, 0, 0, 0, 0, 0, 0, 0, 0, 0, 0, 0, 0, 0, 0, 0, 0, 0, 0, 0, 0, 0, 0, 0, 0, 0, 0, 0, 0, 0, 0, 0]]}\n"
     ]
    },
    {
     "data": {
      "text/plain": [
       "['a man is playing ball']"
      ]
     },
     "execution_count": 26,
     "metadata": {},
     "output_type": "execute_result"
    }
   ],
   "source": [
    "sentences = ['a man is playing ball']\n",
    "tks = damsm_tker(sentences, padding='max_length', return_attention_mask=True, \n",
    "                 return_token_type_ids=False, truncation=True, max_length=129)\n",
    "print(tks)\n",
    "damsm_tker.batch_decode(tks['input_ids'], skip_special_tokens=True)"
   ]
  },
  {
   "cell_type": "code",
   "execution_count": 37,
   "metadata": {},
   "outputs": [
    {
     "name": "stdout",
     "output_type": "stream",
     "text": [
      "29\n"
     ]
    }
   ],
   "source": [
    "# tokenizer used in damsm dataloader\n",
    "sentences = ['A dirt path with a young person on a motor bike rests to the foreground of a verdant area with a bridge and a background of cloud-wreathed mountains']\n",
    "reg_tk = RegexpTokenizer(r'\\w+')\n",
    "regds = reg_tk.tokenize(sentences[0].lower())\n",
    "print(len(regds))"
   ]
  },
  {
   "cell_type": "code",
   "execution_count": 28,
   "metadata": {},
   "outputs": [],
   "source": [
    "# load the raw tokens from Show, Attention, Tell paper\n",
    "with open('catr/coco/dataset.json', 'r') as f:\n",
    "    otk = json.load(f)"
   ]
  },
  {
   "cell_type": "code",
   "execution_count": 33,
   "metadata": {
    "collapsed": true,
    "jupyter": {
     "outputs_hidden": true
    },
    "scrolled": true
   },
   "outputs": [
    {
     "data": {
      "text/plain": [
       "{'filepath': 'val2014',\n",
       " 'sentids': [770337, 771687, 772707, 776154, 781998],\n",
       " 'filename': 'COCO_val2014_000000391895.jpg',\n",
       " 'imgid': 0,\n",
       " 'split': 'test',\n",
       " 'sentences': [{'tokens': ['a',\n",
       "    'man',\n",
       "    'with',\n",
       "    'a',\n",
       "    'red',\n",
       "    'helmet',\n",
       "    'on',\n",
       "    'a',\n",
       "    'small',\n",
       "    'moped',\n",
       "    'on',\n",
       "    'a',\n",
       "    'dirt',\n",
       "    'road'],\n",
       "   'raw': 'A man with a red helmet on a small moped on a dirt road. ',\n",
       "   'imgid': 0,\n",
       "   'sentid': 770337},\n",
       "  {'tokens': ['man',\n",
       "    'riding',\n",
       "    'a',\n",
       "    'motor',\n",
       "    'bike',\n",
       "    'on',\n",
       "    'a',\n",
       "    'dirt',\n",
       "    'road',\n",
       "    'on',\n",
       "    'the',\n",
       "    'countryside'],\n",
       "   'raw': 'Man riding a motor bike on a dirt road on the countryside.',\n",
       "   'imgid': 0,\n",
       "   'sentid': 771687},\n",
       "  {'tokens': ['a',\n",
       "    'man',\n",
       "    'riding',\n",
       "    'on',\n",
       "    'the',\n",
       "    'back',\n",
       "    'of',\n",
       "    'a',\n",
       "    'motorcycle'],\n",
       "   'raw': 'A man riding on the back of a motorcycle.',\n",
       "   'imgid': 0,\n",
       "   'sentid': 772707},\n",
       "  {'tokens': ['a',\n",
       "    'dirt',\n",
       "    'path',\n",
       "    'with',\n",
       "    'a',\n",
       "    'young',\n",
       "    'person',\n",
       "    'on',\n",
       "    'a',\n",
       "    'motor',\n",
       "    'bike',\n",
       "    'rests',\n",
       "    'to',\n",
       "    'the',\n",
       "    'foreground',\n",
       "    'of',\n",
       "    'a',\n",
       "    'verdant',\n",
       "    'area',\n",
       "    'with',\n",
       "    'a',\n",
       "    'bridge',\n",
       "    'and',\n",
       "    'a',\n",
       "    'background',\n",
       "    'of',\n",
       "    'cloud',\n",
       "    'wreathed',\n",
       "    'mountains'],\n",
       "   'raw': 'A dirt path with a young person on a motor bike rests to the foreground of a verdant area with a bridge and a background of cloud-wreathed mountains. ',\n",
       "   'imgid': 0,\n",
       "   'sentid': 776154},\n",
       "  {'tokens': ['a',\n",
       "    'man',\n",
       "    'in',\n",
       "    'a',\n",
       "    'red',\n",
       "    'shirt',\n",
       "    'and',\n",
       "    'a',\n",
       "    'red',\n",
       "    'hat',\n",
       "    'is',\n",
       "    'on',\n",
       "    'a',\n",
       "    'motorcycle',\n",
       "    'on',\n",
       "    'a',\n",
       "    'hill',\n",
       "    'side'],\n",
       "   'raw': 'A man in a red shirt and a red hat is on a motorcycle on a hill side.',\n",
       "   'imgid': 0,\n",
       "   'sentid': 781998}],\n",
       " 'cocoid': 391895}"
      ]
     },
     "execution_count": 33,
     "metadata": {},
     "output_type": "execute_result"
    }
   ],
   "source": [
    "otk['images'][0]"
   ]
  },
  {
   "cell_type": "code",
   "execution_count": 20,
   "metadata": {
    "scrolled": true
   },
   "outputs": [
    {
     "name": "stdout",
     "output_type": "stream",
     "text": [
      "30522\n",
      "{'input_ids': [[101, 1037, 9033, 12036, 2099, 102, 0, 0, 0, 0, 0, 0, 0, 0, 0, 0, 0, 0, 0, 0, 0, 0, 0, 0, 0, 0, 0, 0, 0, 0, 0, 0, 0, 0, 0, 0, 0, 0, 0, 0, 0, 0, 0, 0, 0, 0, 0, 0, 0, 0, 0, 0, 0, 0, 0, 0, 0, 0, 0, 0, 0, 0, 0, 0, 0, 0, 0, 0, 0, 0, 0, 0, 0, 0, 0, 0, 0, 0, 0, 0, 0, 0, 0, 0, 0, 0, 0, 0, 0, 0, 0, 0, 0, 0, 0, 0, 0, 0, 0, 0, 0, 0, 0, 0, 0, 0, 0, 0, 0, 0, 0, 0, 0, 0, 0, 0, 0, 0, 0, 0, 0, 0, 0, 0, 0, 0, 0, 0, 0]], 'attention_mask': [[1, 1, 1, 1, 1, 1, 0, 0, 0, 0, 0, 0, 0, 0, 0, 0, 0, 0, 0, 0, 0, 0, 0, 0, 0, 0, 0, 0, 0, 0, 0, 0, 0, 0, 0, 0, 0, 0, 0, 0, 0, 0, 0, 0, 0, 0, 0, 0, 0, 0, 0, 0, 0, 0, 0, 0, 0, 0, 0, 0, 0, 0, 0, 0, 0, 0, 0, 0, 0, 0, 0, 0, 0, 0, 0, 0, 0, 0, 0, 0, 0, 0, 0, 0, 0, 0, 0, 0, 0, 0, 0, 0, 0, 0, 0, 0, 0, 0, 0, 0, 0, 0, 0, 0, 0, 0, 0, 0, 0, 0, 0, 0, 0, 0, 0, 0, 0, 0, 0, 0, 0, 0, 0, 0, 0, 0, 0, 0, 0]]}\n"
     ]
    },
    {
     "data": {
      "text/plain": [
       "['a sizzor']"
      ]
     },
     "execution_count": 20,
     "metadata": {},
     "output_type": "execute_result"
    }
   ],
   "source": [
    "# sentences = ['This framework generates embeddings for each input sentence',\n",
    "#              'Sentences are passed as a list of string.',\n",
    "#              'The quick brown fox jumps over the lazy dog.']\n",
    "sentences = ['a sizzor']\n",
    "bert_tokenizer = BertTokenizer.from_pretrained(\"bert-base-uncased\", do_lower=True)\n",
    "print(bert_tokenizer.vocab_size)\n",
    "bkds = bert_tokenizer(sentences, padding='max_length', return_attention_mask=True, \n",
    "                 return_token_type_ids=False, truncation=True, max_length=129)\n",
    "print(bkds)\n",
    "\n",
    "bert_tokenizer.batch_decode(bkds['input_ids'], skip_special_tokens=True)"
   ]
  },
  {
   "cell_type": "code",
   "execution_count": 22,
   "metadata": {
    "collapsed": true,
    "jupyter": {
     "outputs_hidden": true
    },
    "scrolled": true
   },
   "outputs": [
    {
     "name": "stdout",
     "output_type": "stream",
     "text": [
      "30522\n"
     ]
    },
    {
     "data": {
      "text/plain": [
       "{'input_ids': [[101, 2023, 7705, 19421, 7861, 8270, 4667, 2015, 2005, 2169, 7953, 6251, 102, 0, 0, 0, 0, 0, 0, 0, 0, 0, 0, 0, 0, 0, 0, 0, 0, 0, 0, 0, 0, 0, 0, 0, 0, 0, 0, 0, 0, 0, 0, 0, 0, 0, 0, 0, 0, 0, 0, 0, 0, 0, 0, 0, 0, 0, 0, 0, 0, 0, 0, 0, 0, 0, 0, 0, 0, 0, 0, 0, 0, 0, 0, 0, 0, 0, 0, 0, 0, 0, 0, 0, 0, 0, 0, 0, 0, 0, 0, 0, 0, 0, 0, 0, 0, 0, 0, 0, 0, 0, 0, 0, 0, 0, 0, 0, 0, 0, 0, 0, 0, 0, 0, 0, 0, 0, 0, 0, 0, 0, 0, 0, 0, 0, 0, 0, 0], [101, 11746, 2024, 2979, 2004, 1037, 2862, 1997, 5164, 1012, 102, 0, 0, 0, 0, 0, 0, 0, 0, 0, 0, 0, 0, 0, 0, 0, 0, 0, 0, 0, 0, 0, 0, 0, 0, 0, 0, 0, 0, 0, 0, 0, 0, 0, 0, 0, 0, 0, 0, 0, 0, 0, 0, 0, 0, 0, 0, 0, 0, 0, 0, 0, 0, 0, 0, 0, 0, 0, 0, 0, 0, 0, 0, 0, 0, 0, 0, 0, 0, 0, 0, 0, 0, 0, 0, 0, 0, 0, 0, 0, 0, 0, 0, 0, 0, 0, 0, 0, 0, 0, 0, 0, 0, 0, 0, 0, 0, 0, 0, 0, 0, 0, 0, 0, 0, 0, 0, 0, 0, 0, 0, 0, 0, 0, 0, 0, 0, 0, 0], [101, 1996, 4248, 2829, 4419, 14523, 2058, 1996, 13971, 3899, 1012, 102, 0, 0, 0, 0, 0, 0, 0, 0, 0, 0, 0, 0, 0, 0, 0, 0, 0, 0, 0, 0, 0, 0, 0, 0, 0, 0, 0, 0, 0, 0, 0, 0, 0, 0, 0, 0, 0, 0, 0, 0, 0, 0, 0, 0, 0, 0, 0, 0, 0, 0, 0, 0, 0, 0, 0, 0, 0, 0, 0, 0, 0, 0, 0, 0, 0, 0, 0, 0, 0, 0, 0, 0, 0, 0, 0, 0, 0, 0, 0, 0, 0, 0, 0, 0, 0, 0, 0, 0, 0, 0, 0, 0, 0, 0, 0, 0, 0, 0, 0, 0, 0, 0, 0, 0, 0, 0, 0, 0, 0, 0, 0, 0, 0, 0, 0, 0, 0]], 'attention_mask': [[1, 1, 1, 1, 1, 1, 1, 1, 1, 1, 1, 1, 1, 0, 0, 0, 0, 0, 0, 0, 0, 0, 0, 0, 0, 0, 0, 0, 0, 0, 0, 0, 0, 0, 0, 0, 0, 0, 0, 0, 0, 0, 0, 0, 0, 0, 0, 0, 0, 0, 0, 0, 0, 0, 0, 0, 0, 0, 0, 0, 0, 0, 0, 0, 0, 0, 0, 0, 0, 0, 0, 0, 0, 0, 0, 0, 0, 0, 0, 0, 0, 0, 0, 0, 0, 0, 0, 0, 0, 0, 0, 0, 0, 0, 0, 0, 0, 0, 0, 0, 0, 0, 0, 0, 0, 0, 0, 0, 0, 0, 0, 0, 0, 0, 0, 0, 0, 0, 0, 0, 0, 0, 0, 0, 0, 0, 0, 0, 0], [1, 1, 1, 1, 1, 1, 1, 1, 1, 1, 1, 0, 0, 0, 0, 0, 0, 0, 0, 0, 0, 0, 0, 0, 0, 0, 0, 0, 0, 0, 0, 0, 0, 0, 0, 0, 0, 0, 0, 0, 0, 0, 0, 0, 0, 0, 0, 0, 0, 0, 0, 0, 0, 0, 0, 0, 0, 0, 0, 0, 0, 0, 0, 0, 0, 0, 0, 0, 0, 0, 0, 0, 0, 0, 0, 0, 0, 0, 0, 0, 0, 0, 0, 0, 0, 0, 0, 0, 0, 0, 0, 0, 0, 0, 0, 0, 0, 0, 0, 0, 0, 0, 0, 0, 0, 0, 0, 0, 0, 0, 0, 0, 0, 0, 0, 0, 0, 0, 0, 0, 0, 0, 0, 0, 0, 0, 0, 0, 0], [1, 1, 1, 1, 1, 1, 1, 1, 1, 1, 1, 1, 0, 0, 0, 0, 0, 0, 0, 0, 0, 0, 0, 0, 0, 0, 0, 0, 0, 0, 0, 0, 0, 0, 0, 0, 0, 0, 0, 0, 0, 0, 0, 0, 0, 0, 0, 0, 0, 0, 0, 0, 0, 0, 0, 0, 0, 0, 0, 0, 0, 0, 0, 0, 0, 0, 0, 0, 0, 0, 0, 0, 0, 0, 0, 0, 0, 0, 0, 0, 0, 0, 0, 0, 0, 0, 0, 0, 0, 0, 0, 0, 0, 0, 0, 0, 0, 0, 0, 0, 0, 0, 0, 0, 0, 0, 0, 0, 0, 0, 0, 0, 0, 0, 0, 0, 0, 0, 0, 0, 0, 0, 0, 0, 0, 0, 0, 0, 0]]}"
      ]
     },
     "execution_count": 22,
     "metadata": {},
     "output_type": "execute_result"
    }
   ],
   "source": [
    "## another tokenizer used in AttnGAN by Abuzar\n",
    "sentences = ['This framework generates embeddings for each input sentence',\n",
    "             'Sentences are passed as a list of string.',\n",
    "             'The quick brown fox jumps over the lazy dog.']\n",
    "tokenizer = AutoTokenizer.from_pretrained(\"sentence-transformers/bert-base-nli-mean-tokens\")\n",
    "print(tokenizer.vocab_size)\n",
    "tkds = tokenizer(sentences, padding='max_length', return_attention_mask=True, \n",
    "                 return_token_type_ids=False, truncation=True, max_length=129)\n",
    "tkds"
   ]
  },
  {
   "cell_type": "markdown",
   "metadata": {},
   "source": [
    "## test the commas in the sentences"
   ]
  },
  {
   "cell_type": "code",
   "execution_count": 4,
   "metadata": {},
   "outputs": [
    {
     "name": "stderr",
     "output_type": "stream",
     "text": [
      "Calling BertTokenizer.from_pretrained() with the path to a single file or url is deprecated\n",
      "Special tokens have been added in the vocabulary, make sure the associated word embedding are fine-tuned or trained.\n"
     ]
    }
   ],
   "source": [
    "tokenizer = BertTokenizer.from_pretrained(\"catr/damsm_vocab.txt\", do_lower=True)"
   ]
  },
  {
   "cell_type": "code",
   "execution_count": 6,
   "metadata": {},
   "outputs": [
    {
     "name": "stdout",
     "output_type": "stream",
     "text": [
      "a dog is playing on the whole-green grass's.   \n",
      "a dog is playing on the whole green grass s   \n",
      "[27297, 10, 108, 115, 137, 11, 8, 1885, 41, 200, 84, 27298, 0, 0, 0, 0, 0, 0, 0, 0] [1, 1, 1, 1, 1, 1, 1, 1, 1, 1, 1, 1, 0, 0, 0, 0, 0, 0, 0, 0]\n"
     ]
    }
   ],
   "source": [
    "sss = 'a dog is playing on the whole-green grass\\'s.   '\n",
    "print(sss)\n",
    "sss = sss.replace('.', '').replace('\\'', ' ').replace('-', ' ')\n",
    "print(sss)\n",
    "ttt = tokenizer.encode_plus(\n",
    "            sss, max_length=129, padding='max_length', return_attention_mask=True, return_token_type_ids=False, truncation=True)\n",
    "print(ttt['input_ids'][:20], ttt['attention_mask'][:20])"
   ]
  },
  {
   "cell_type": "markdown",
   "metadata": {},
   "source": [
    "## Preprocess all the captions and caption_masks in training data and val data to save time and get rid of special marks in the sentences"
   ]
  },
  {
   "cell_type": "code",
   "execution_count": 18,
   "metadata": {
    "collapsed": true,
    "jupyter": {
     "outputs_hidden": true,
     "source_hidden": true
    }
   },
   "outputs": [
    {
     "name": "stdout",
     "output_type": "stream",
     "text": [
      "414113\n",
      "{'image_id': 133071, 'id': 829717, 'caption': 'A dinner plate has a lemon wedge garnishment.'}\n"
     ]
    }
   ],
   "source": [
    "with open(os.path.join(\n",
    "            '/media/MyDataStor1/mmrl/MMRL/data/coco', 'annotations', 'captions_train2014.json'), 'rb') as f:\n",
    "    test = json.load(f)\n",
    "print(len(test['annotations']))\n",
    "print(test['annotations'][-1])"
   ]
  },
  {
   "cell_type": "code",
   "execution_count": 31,
   "metadata": {
    "collapsed": true,
    "jupyter": {
     "outputs_hidden": true,
     "source_hidden": true
    }
   },
   "outputs": [
    {
     "name": "stdout",
     "output_type": "stream",
     "text": [
      "90149\n",
      "122899\n",
      "155889\n",
      "221020\n",
      "256632\n",
      "286858\n"
     ]
    }
   ],
   "source": [
    "for i in range(len(d['annotations'])):\n",
    "    if 'mmm' in d['annotations'][i]['caption']:\n",
    "        print(i)"
   ]
  },
  {
   "cell_type": "code",
   "execution_count": 2,
   "metadata": {},
   "outputs": [
    {
     "name": "stdout",
     "output_type": "stream",
     "text": [
      "414113\n",
      "dict_keys(['info', 'images', 'licenses', 'annotations'])\n",
      "[{'image_id': 318556, 'id': 48, 'caption': 'A very clean and well decorated empty bathroom'}, {'image_id': 116100, 'id': 67, 'caption': 'A panoramic view of a kitchen and all of its appliances.'}]\n"
     ]
    }
   ],
   "source": [
    "## training set\n",
    "train_file = os.path.join(\n",
    "            '/media/MyDataStor1/mmrl/MMRL/data/coco', 'annotations', 'captions_train2014.json')\n",
    "with open(train_file, 'r') as f:\n",
    "    d = json.load(f)\n",
    "print(len(d['annotations']))\n",
    "print(d.keys())\n",
    "print(d['annotations'][:2])"
   ]
  },
  {
   "cell_type": "code",
   "execution_count": 3,
   "metadata": {},
   "outputs": [
    {
     "name": "stderr",
     "output_type": "stream",
     "text": [
      "Calling BertTokenizer.from_pretrained() with the path to a single file or url is deprecated\n",
      "Special tokens have been added in the vocabulary, make sure the associated word embedding are fine-tuned or trained.\n"
     ]
    }
   ],
   "source": [
    "tokenizer = BertTokenizer.from_pretrained(\"catr/damsm_vocab.txt\", do_lower=True)\n",
    "reger = RegexpTokenizer(r'\\w+')"
   ]
  },
  {
   "cell_type": "code",
   "execution_count": 4,
   "metadata": {},
   "outputs": [],
   "source": [
    "# sentence = 'a dog is playing on the whole-green grass\\'s. '\n",
    "for i in range(len(d['annotations'])):\n",
    "    sentence = d['annotations'][i]['caption']\n",
    "    regtk = reger.tokenize(sentence.lower())\n",
    "    reg_cap = ' '.join(regtk)\n",
    "    caption_encoded = tokenizer.encode_plus(\n",
    "                reg_cap, max_length=129, padding='max_length', return_attention_mask=True, return_token_type_ids=False, truncation=True)\n",
    "    d['annotations'][i]['caption'] = caption_encoded['input_ids']\n",
    "    d['annotations'][i]['cap_mask'] = caption_encoded['attention_mask']"
   ]
  },
  {
   "cell_type": "code",
   "execution_count": 6,
   "metadata": {},
   "outputs": [
    {
     "name": "stdout",
     "output_type": "stream",
     "text": [
      "414113\n",
      "dict_keys(['image_id', 'id', 'caption', 'cap_mask'])\n",
      "129 129\n",
      "{'image_id': 116100, 'id': 67, 'caption': [27297, 10, 6766, 415, 21, 10, 288, 58, 48, 21, 343, 1101, 27298, 0, 0, 0, 0, 0, 0, 0, 0, 0, 0, 0, 0, 0, 0, 0, 0, 0, 0, 0, 0, 0, 0, 0, 0, 0, 0, 0, 0, 0, 0, 0, 0, 0, 0, 0, 0, 0, 0, 0, 0, 0, 0, 0, 0, 0, 0, 0, 0, 0, 0, 0, 0, 0, 0, 0, 0, 0, 0, 0, 0, 0, 0, 0, 0, 0, 0, 0, 0, 0, 0, 0, 0, 0, 0, 0, 0, 0, 0, 0, 0, 0, 0, 0, 0, 0, 0, 0, 0, 0, 0, 0, 0, 0, 0, 0, 0, 0, 0, 0, 0, 0, 0, 0, 0, 0, 0, 0, 0, 0, 0, 0, 0, 0, 0, 0, 0], 'cap_mask': [1, 1, 1, 1, 1, 1, 1, 1, 1, 1, 1, 1, 1, 0, 0, 0, 0, 0, 0, 0, 0, 0, 0, 0, 0, 0, 0, 0, 0, 0, 0, 0, 0, 0, 0, 0, 0, 0, 0, 0, 0, 0, 0, 0, 0, 0, 0, 0, 0, 0, 0, 0, 0, 0, 0, 0, 0, 0, 0, 0, 0, 0, 0, 0, 0, 0, 0, 0, 0, 0, 0, 0, 0, 0, 0, 0, 0, 0, 0, 0, 0, 0, 0, 0, 0, 0, 0, 0, 0, 0, 0, 0, 0, 0, 0, 0, 0, 0, 0, 0, 0, 0, 0, 0, 0, 0, 0, 0, 0, 0, 0, 0, 0, 0, 0, 0, 0, 0, 0, 0, 0, 0, 0, 0, 0, 0, 0, 0, 0]}\n"
     ]
    },
    {
     "data": {
      "text/plain": [
       "'a panoramic view of a kitchen and all of its appliances'"
      ]
     },
     "execution_count": 6,
     "metadata": {},
     "output_type": "execute_result"
    }
   ],
   "source": [
    "i = 1\n",
    "print(len(d['annotations']))\n",
    "print(d['annotations'][i].keys())\n",
    "print(len(d['annotations'][i]['caption']), len(d['annotations'][i]['cap_mask']))\n",
    "print(d['annotations'][i])\n",
    "\n",
    "tokenizer.decode(d['annotations'][i]['caption'], skip_special_tokens=True)"
   ]
  },
  {
   "cell_type": "code",
   "execution_count": 7,
   "metadata": {},
   "outputs": [],
   "source": [
    "tr_pk_file = os.path.join(\n",
    "            '/media/MyDataStor1/mmrl/MMRL/data/coco', 'annotations', 'tokens_train2014.json')\n",
    "with open(tr_pk_file, 'w') as f:\n",
    "#     pickle.dump(d, f, protocol=pickle.HIGHEST_PROTOCOL)\n",
    "    json.dump(d, f)"
   ]
  },
  {
   "cell_type": "code",
   "execution_count": null,
   "metadata": {},
   "outputs": [],
   "source": [
    "## val set"
   ]
  },
  {
   "cell_type": "code",
   "execution_count": 2,
   "metadata": {},
   "outputs": [
    {
     "name": "stdout",
     "output_type": "stream",
     "text": [
      "202654\n",
      "dict_keys(['info', 'images', 'licenses', 'annotations'])\n",
      "[{'image_id': 203564, 'id': 37, 'caption': 'A bicycle replica with a clock as the front wheel.'}, {'image_id': 179765, 'id': 38, 'caption': 'A black Honda motorcycle parked in front of a garage.'}]\n"
     ]
    }
   ],
   "source": [
    "val_file = os.path.join(\n",
    "            '/media/MyDataStor1/mmrl/MMRL/data/coco', 'annotations', 'captions_val2014.json')\n",
    "with open(val_file, 'r') as f:\n",
    "    g = json.load(f)\n",
    "print(len(g['annotations']))\n",
    "print(g.keys())\n",
    "print(g['annotations'][:2])"
   ]
  },
  {
   "cell_type": "code",
   "execution_count": 3,
   "metadata": {},
   "outputs": [
    {
     "name": "stderr",
     "output_type": "stream",
     "text": [
      "Calling BertTokenizer.from_pretrained() with the path to a single file or url is deprecated\n",
      "Special tokens have been added in the vocabulary, make sure the associated word embedding are fine-tuned or trained.\n"
     ]
    }
   ],
   "source": [
    "tokenizer = BertTokenizer.from_pretrained(\"catr/damsm_vocab.txt\", do_lower=True)\n",
    "reger = RegexpTokenizer(r'\\w+')"
   ]
  },
  {
   "cell_type": "code",
   "execution_count": 4,
   "metadata": {},
   "outputs": [],
   "source": [
    "# sentence = 'a dog is playing on the whole-green grass\\'s. '\n",
    "for i in range(len(g['annotations'])):\n",
    "    sentence = g['annotations'][i]['caption']\n",
    "    regtk = reger.tokenize(sentence.lower())\n",
    "    reg_cap = ' '.join(regtk)\n",
    "    caption_encoded = tokenizer.encode_plus(\n",
    "                reg_cap, max_length=129, padding='max_length', return_attention_mask=True, return_token_type_ids=False, truncation=True)\n",
    "    g['annotations'][i]['caption'] = caption_encoded['input_ids']\n",
    "    g['annotations'][i]['cap_mask'] = caption_encoded['attention_mask']"
   ]
  },
  {
   "cell_type": "code",
   "execution_count": 6,
   "metadata": {},
   "outputs": [
    {
     "name": "stdout",
     "output_type": "stream",
     "text": [
      "202654\n",
      "dict_keys(['image_id', 'id', 'caption', 'cap_mask'])\n",
      "129 129\n",
      "{'image_id': 179765, 'id': 38, 'caption': [27297, 10, 518, 3812, 206, 36, 7, 54, 21, 10, 4894, 27298, 0, 0, 0, 0, 0, 0, 0, 0, 0, 0, 0, 0, 0, 0, 0, 0, 0, 0, 0, 0, 0, 0, 0, 0, 0, 0, 0, 0, 0, 0, 0, 0, 0, 0, 0, 0, 0, 0, 0, 0, 0, 0, 0, 0, 0, 0, 0, 0, 0, 0, 0, 0, 0, 0, 0, 0, 0, 0, 0, 0, 0, 0, 0, 0, 0, 0, 0, 0, 0, 0, 0, 0, 0, 0, 0, 0, 0, 0, 0, 0, 0, 0, 0, 0, 0, 0, 0, 0, 0, 0, 0, 0, 0, 0, 0, 0, 0, 0, 0, 0, 0, 0, 0, 0, 0, 0, 0, 0, 0, 0, 0, 0, 0, 0, 0, 0, 0], 'cap_mask': [1, 1, 1, 1, 1, 1, 1, 1, 1, 1, 1, 1, 0, 0, 0, 0, 0, 0, 0, 0, 0, 0, 0, 0, 0, 0, 0, 0, 0, 0, 0, 0, 0, 0, 0, 0, 0, 0, 0, 0, 0, 0, 0, 0, 0, 0, 0, 0, 0, 0, 0, 0, 0, 0, 0, 0, 0, 0, 0, 0, 0, 0, 0, 0, 0, 0, 0, 0, 0, 0, 0, 0, 0, 0, 0, 0, 0, 0, 0, 0, 0, 0, 0, 0, 0, 0, 0, 0, 0, 0, 0, 0, 0, 0, 0, 0, 0, 0, 0, 0, 0, 0, 0, 0, 0, 0, 0, 0, 0, 0, 0, 0, 0, 0, 0, 0, 0, 0, 0, 0, 0, 0, 0, 0, 0, 0, 0, 0, 0]}\n"
     ]
    },
    {
     "data": {
      "text/plain": [
       "'a black honda motorcycle parked in front of a garage'"
      ]
     },
     "execution_count": 6,
     "metadata": {},
     "output_type": "execute_result"
    }
   ],
   "source": [
    "i = 1\n",
    "print(len(g['annotations']))\n",
    "print(g['annotations'][i].keys())\n",
    "print(len(g['annotations'][i]['caption']), len(g['annotations'][i]['cap_mask']))\n",
    "print(g['annotations'][i])\n",
    "\n",
    "tokenizer.decode(g['annotations'][i]['caption'], skip_special_tokens=True)"
   ]
  },
  {
   "cell_type": "code",
   "execution_count": 7,
   "metadata": {},
   "outputs": [],
   "source": [
    "vl_pk_file = os.path.join(\n",
    "            '/media/MyDataStor1/mmrl/MMRL/data/coco', 'annotations', 'tokens_val2014.json')\n",
    "with open(vl_pk_file, 'w') as f:\n",
    "#     pickle.dump(g, f, protocol=pickle.HIGHEST_PROTOCOL)\n",
    "    json.dump(g, f)"
   ]
  },
  {
   "cell_type": "markdown",
   "metadata": {},
   "source": [
    "## make CUB vocab"
   ]
  },
  {
   "cell_type": "code",
   "execution_count": 53,
   "metadata": {
    "scrolled": true
   },
   "outputs": [
    {
     "data": {
      "text/plain": [
       "5450"
      ]
     },
     "execution_count": 53,
     "metadata": {},
     "output_type": "execute_result"
    }
   ],
   "source": [
    "## try bert tokenizer used in CATR\n",
    "fpath = '/media/MyDataStor1/mmrl/MMRL/data/birds/captions.pickle'\n",
    "with open(fpath, 'rb') as f:\n",
    "    vocab = pickle.load(f)\n",
    "train_captions, test_captions, ixtoword, wordtoix = vocab\n",
    "len(ixtoword)"
   ]
  },
  {
   "cell_type": "code",
   "execution_count": 3,
   "metadata": {
    "scrolled": true
   },
   "outputs": [
    {
     "data": {
      "text/plain": [
       "0"
      ]
     },
     "execution_count": 3,
     "metadata": {},
     "output_type": "execute_result"
    }
   ],
   "source": [
    "ixtoword[5450] = '[CLS]'\n",
    "ixtoword[5451] = '[SEP]'\n",
    "ixtoword[5452] = '[UNK]'\n",
    "ixtoword[0] = '[PAD]'\n",
    "wordtoix['[CLS]'] = 5450\n",
    "wordtoix['[SEP]'] = 5451\n",
    "wordtoix['[UNK]'] = 5452\n",
    "wordtoix['[PAD]'] = 0\n",
    "wordtoix.pop('<end>')"
   ]
  },
  {
   "cell_type": "code",
   "execution_count": 5,
   "metadata": {},
   "outputs": [
    {
     "name": "stdout",
     "output_type": "stream",
     "text": [
      "5453 5453\n",
      "5450 5451 5452 0\n",
      "[CLS] [SEP] [UNK] [PAD]\n"
     ]
    }
   ],
   "source": [
    "print(len(ixtoword),len(wordtoix))\n",
    "print(wordtoix['[CLS]'], wordtoix['[SEP]'], wordtoix['[UNK]'], wordtoix['[PAD]'])\n",
    "print(ixtoword[5450], ixtoword[5451], ixtoword[5452], ixtoword[0])"
   ]
  },
  {
   "cell_type": "code",
   "execution_count": 6,
   "metadata": {},
   "outputs": [],
   "source": [
    "## save ixtoword to .txt file\n",
    "vocab_txt = 'catr/bird_vocab.txt'\n",
    "with open(vocab_txt, 'w') as f:\n",
    "    for i in range(len(ixtoword)):\n",
    "        f.write(\"%s\\n\" % ixtoword[i])"
   ]
  },
  {
   "cell_type": "code",
   "execution_count": 54,
   "metadata": {},
   "outputs": [
    {
     "name": "stderr",
     "output_type": "stream",
     "text": [
      "Calling BertTokenizer.from_pretrained() with the path to a single file or url is deprecated\n",
      "Special tokens have been added in the vocabulary, make sure the associated word embedding are fine-tuned or trained.\n"
     ]
    }
   ],
   "source": [
    "## test bert_tokenizer on damsm new vocab_dict\n",
    "damsm_tker = BertTokenizer.from_pretrained(\"catr/bird_vocab.txt\", do_lower=True)"
   ]
  },
  {
   "cell_type": "code",
   "execution_count": 55,
   "metadata": {},
   "outputs": [
    {
     "name": "stdout",
     "output_type": "stream",
     "text": [
      "5453\n",
      "[CLS] 5450\n",
      "[SEP] 5451\n",
      "[PAD] 0\n",
      "[UNK] 5452\n"
     ]
    }
   ],
   "source": [
    "print(damsm_tker.vocab_size)\n",
    "print(damsm_tker._cls_token, damsm_tker.convert_tokens_to_ids(damsm_tker._cls_token))\n",
    "print(damsm_tker._sep_token, damsm_tker.convert_tokens_to_ids(damsm_tker._sep_token))\n",
    "print(damsm_tker._pad_token, damsm_tker.convert_tokens_to_ids(damsm_tker._pad_token))\n",
    "print(damsm_tker._unk_token, damsm_tker.convert_tokens_to_ids(damsm_tker._unk_token))"
   ]
  },
  {
   "cell_type": "code",
   "execution_count": 56,
   "metadata": {},
   "outputs": [
    {
     "name": "stdout",
     "output_type": "stream",
     "text": [
      "{'input_ids': [[5450, 3066, 4217, 2622, 2074, 4839, 5451, 0, 0, 0, 0, 0, 0, 0, 0, 0, 0, 0, 0, 0, 0, 0, 0, 0, 0, 0, 0, 0, 0, 0, 0, 0, 0, 0, 0, 0, 0, 0, 0, 0, 0, 0, 0, 0, 0, 0, 0, 0, 0, 0, 0, 0, 0, 0, 0, 0, 0, 0, 0, 0, 0, 0, 0, 0, 0, 0, 0, 0, 0, 0, 0, 0, 0, 0, 0, 0, 0, 0, 0, 0, 0, 0, 0, 0, 0, 0, 0, 0, 0, 0, 0, 0, 0, 0, 0, 0, 0, 0, 0, 0, 0, 0, 0, 0, 0, 0, 0, 0, 0, 0, 0, 0, 0, 0, 0, 0, 0, 0, 0, 0, 0, 0, 0, 0, 0, 0, 0, 0, 0]], 'attention_mask': [[1, 1, 1, 1, 1, 1, 1, 0, 0, 0, 0, 0, 0, 0, 0, 0, 0, 0, 0, 0, 0, 0, 0, 0, 0, 0, 0, 0, 0, 0, 0, 0, 0, 0, 0, 0, 0, 0, 0, 0, 0, 0, 0, 0, 0, 0, 0, 0, 0, 0, 0, 0, 0, 0, 0, 0, 0, 0, 0, 0, 0, 0, 0, 0, 0, 0, 0, 0, 0, 0, 0, 0, 0, 0, 0, 0, 0, 0, 0, 0, 0, 0, 0, 0, 0, 0, 0, 0, 0, 0, 0, 0, 0, 0, 0, 0, 0, 0, 0, 0, 0, 0, 0, 0, 0, 0, 0, 0, 0, 0, 0, 0, 0, 0, 0, 0, 0, 0, 0, 0, 0, 0, 0, 0, 0, 0, 0, 0, 0]]}\n"
     ]
    },
    {
     "data": {
      "text/plain": [
       "['a bird with black beak']"
      ]
     },
     "execution_count": 56,
     "metadata": {},
     "output_type": "execute_result"
    }
   ],
   "source": [
    "sentences = ['a bird with black beak']\n",
    "tks = damsm_tker(sentences, padding='max_length', return_attention_mask=True, \n",
    "                 return_token_type_ids=False, truncation=True, max_length=129)\n",
    "print(tks)\n",
    "damsm_tker.batch_decode(tks['input_ids'], skip_special_tokens=True)"
   ]
  },
  {
   "cell_type": "code",
   "execution_count": 10,
   "metadata": {},
   "outputs": [
    {
     "name": "stdout",
     "output_type": "stream",
     "text": [
      "5\n"
     ]
    }
   ],
   "source": [
    "# tokenizer used in damsm dataloader\n",
    "sentences = ['A bird with black beek.']\n",
    "reg_tk = RegexpTokenizer(r'\\w+')\n",
    "regds = reg_tk.tokenize(sentences[0].lower())\n",
    "print(len(regds))"
   ]
  },
  {
   "cell_type": "code",
   "execution_count": 57,
   "metadata": {},
   "outputs": [
    {
     "name": "stdout",
     "output_type": "stream",
     "text": [
      "88550\n",
      "[3066, 4217, 2622, 3066, 2774, 3959, 340, 3950, 1946, 3066, 3959, 1692, 4839]\n"
     ]
    },
    {
     "data": {
      "text/plain": [
       "['a bird with a very long wing span and a long pointed beak']"
      ]
     },
     "execution_count": 57,
     "metadata": {},
     "output_type": "execute_result"
    }
   ],
   "source": [
    "## check filename and caption name\n",
    "print(len(train_captions))\n",
    "tks = train_captions[0]\n",
    "print(tks)\n",
    "damsm_tker.batch_decode([tks], skip_special_tokens=True)"
   ]
  },
  {
   "cell_type": "code",
   "execution_count": 58,
   "metadata": {},
   "outputs": [
    {
     "name": "stdout",
     "output_type": "stream",
     "text": [
      "Load filenames from: /media/MyDataStor1/mmrl/MMRL/data/birds/train/filenames.pickle (8855)\n",
      "002.Laysan_Albatross/Laysan_Albatross_0002_1027\n"
     ]
    }
   ],
   "source": [
    "## make the json file for image - caption pairs\n",
    "## train set processing\n",
    "# load filenames\n",
    "data_dir = '/media/MyDataStor1/mmrl/MMRL/data/birds'\n",
    "split = 'train'\n",
    "# split = 'test'\n",
    "filepath = '%s/%s/filenames.pickle' % (data_dir, split)\n",
    "if os.path.isfile(filepath):\n",
    "    with open(filepath, 'rb') as f:\n",
    "        filenames = pickle.load(f, encoding='iso-8859-1')\n",
    "    print('Load filenames from: %s (%d)' % (filepath, len(filenames)))\n",
    "print(filenames[0])"
   ]
  },
  {
   "cell_type": "code",
   "execution_count": 59,
   "metadata": {},
   "outputs": [
    {
     "name": "stdout",
     "output_type": "stream",
     "text": [
      "Total filenames:  11788 001.Black_footed_Albatross/Black_Footed_Albatross_0046_18.jpg\n",
      "11788\n",
      "001.Black_footed_Albatross/Black_Footed_Albatross_0046_18 [60, 27, 325, 304]\n"
     ]
    }
   ],
   "source": [
    "## load bbox for all images (train + test)\n",
    "bbox_path = os.path.join(data_dir, 'CUB_200_2011/bounding_boxes.txt')\n",
    "df_bounding_boxes = pd.read_csv(bbox_path,\n",
    "                                delim_whitespace=True,\n",
    "                                header=None).astype(int)\n",
    "imgpath = os.path.join(data_dir, 'CUB_200_2011/images.txt')\n",
    "df_filenames = pd.read_csv(imgpath, delim_whitespace=True, header=None)\n",
    "imgnames = df_filenames[1].tolist()\n",
    "print('Total filenames: ', len(imgnames), imgnames[0])\n",
    "filename_bbox = {img_file[:-4]: [] for img_file in imgnames}\n",
    "numImgs = len(imgnames)\n",
    "for i in range(0, numImgs):\n",
    "    # bbox = [x-left, y-top, width, height]\n",
    "    bbox = df_bounding_boxes.iloc[i][1:].tolist()\n",
    "    key = imgnames[i][:-4]\n",
    "    filename_bbox[key] = bbox\n",
    "print(len(filename_bbox))\n",
    "print(imgnames[0][:-4], filename_bbox[imgnames[0][:-4]])"
   ]
  },
  {
   "cell_type": "code",
   "execution_count": 62,
   "metadata": {},
   "outputs": [],
   "source": [
    "## load text captions for each image file\n",
    "cap_list = train_captions\n",
    "captions_bird = [] # bird dict: image filename + caption (10 pairs for each image)\n",
    "for i in range(len(filenames)):\n",
    "    # open text caption file\n",
    "    for j in range(10):\n",
    "        cap = damsm_tker.decode(cap_list[i*10+j], skip_special_tokens=True)\n",
    "        captions_bird.append({'filename': filenames[i], 'bbox': filename_bbox[filenames[i]], 'caption': cap})\n",
    "#     break"
   ]
  },
  {
   "cell_type": "code",
   "execution_count": 64,
   "metadata": {
    "collapsed": true,
    "jupyter": {
     "outputs_hidden": true
    },
    "scrolled": true
   },
   "outputs": [
    {
     "name": "stdout",
     "output_type": "stream",
     "text": [
      "88550\n",
      "{'filename': '002.Laysan_Albatross/Laysan_Albatross_0002_1027', 'bbox': [144, 40, 333, 165], 'caption': 'a bird with a very long wing span and a long pointed beak'}\n",
      "{'filename': '002.Laysan_Albatross/Laysan_Albatross_0002_1027', 'bbox': [144, 40, 333, 165], 'caption': 'the long beaked bird has a white body with long brown wings'}\n",
      "{'filename': '002.Laysan_Albatross/Laysan_Albatross_0002_1027', 'bbox': [144, 40, 333, 165], 'caption': 'this is a white bird with brown wings and a large pointy beak'}\n",
      "{'filename': '002.Laysan_Albatross/Laysan_Albatross_0002_1027', 'bbox': [144, 40, 333, 165], 'caption': 'this large bird has long bill a white breast belly head and a black back wings'}\n",
      "{'filename': '002.Laysan_Albatross/Laysan_Albatross_0002_1027', 'bbox': [144, 40, 333, 165], 'caption': 'bird has an extremely long wingspan with a darker top and white belly and head'}\n",
      "{'filename': '002.Laysan_Albatross/Laysan_Albatross_0002_1027', 'bbox': [144, 40, 333, 165], 'caption': 'this bird has wings that are brown and has a white belly'}\n",
      "{'filename': '002.Laysan_Albatross/Laysan_Albatross_0002_1027', 'bbox': [144, 40, 333, 165], 'caption': 'this bird has extended wings and a white head and body'}\n",
      "{'filename': '002.Laysan_Albatross/Laysan_Albatross_0002_1027', 'bbox': [144, 40, 333, 165], 'caption': 'this bird is white and brown in color with a long curved beak'}\n",
      "{'filename': '002.Laysan_Albatross/Laysan_Albatross_0002_1027', 'bbox': [144, 40, 333, 165], 'caption': 'this white and grey bird has an enormous wing span'}\n",
      "{'filename': '002.Laysan_Albatross/Laysan_Albatross_0002_1027', 'bbox': [144, 40, 333, 165], 'caption': 'this bird has wings that are brown and has a white body'}\n",
      "{'filename': '002.Laysan_Albatross/Laysan_Albatross_0003_1033', 'bbox': [202, 28, 164, 340], 'caption': 'the bird has webbed feet that are pale pink as well as skinny tarsus'}\n",
      "{'filename': '002.Laysan_Albatross/Laysan_Albatross_0003_1033', 'bbox': [202, 28, 164, 340], 'caption': 'a large sea bird with blue feat and a large orange bill it s body and head are white and wings are dark grey to black'}\n",
      "{'filename': '002.Laysan_Albatross/Laysan_Albatross_0003_1033', 'bbox': [202, 28, 164, 340], 'caption': 'this white bird has a long curved at the end beak and webbed feet'}\n",
      "{'filename': '002.Laysan_Albatross/Laysan_Albatross_0003_1033', 'bbox': [202, 28, 164, 340], 'caption': 'this large sea bird is white with black wings has a long orange bill that curves downward at the end with a black tip and its feet are pink'}\n",
      "{'filename': '002.Laysan_Albatross/Laysan_Albatross_0003_1033', 'bbox': [202, 28, 164, 340], 'caption': 'this bird has a white crown a long neck and an orange bill'}\n",
      "{'filename': '002.Laysan_Albatross/Laysan_Albatross_0003_1033', 'bbox': [202, 28, 164, 340], 'caption': 'this bird has wings that are black and has a yellow bill'}\n",
      "{'filename': '002.Laysan_Albatross/Laysan_Albatross_0003_1033', 'bbox': [202, 28, 164, 340], 'caption': 'this bird has wings that are black and has a white belly'}\n",
      "{'filename': '002.Laysan_Albatross/Laysan_Albatross_0003_1033', 'bbox': [202, 28, 164, 340], 'caption': 'this large bird is mostly white with dark grey wings light purplish feet and a long orange beak'}\n",
      "{'filename': '002.Laysan_Albatross/Laysan_Albatross_0003_1033', 'bbox': [202, 28, 164, 340], 'caption': 'this large bird has white feathers and webbed feet'}\n",
      "{'filename': '002.Laysan_Albatross/Laysan_Albatross_0003_1033', 'bbox': [202, 28, 164, 340], 'caption': 'this white and brown bird has a long bill and webbed feet'}\n",
      "{'filename': '002.Laysan_Albatross/Laysan_Albatross_0082_524', 'bbox': [72, 68, 383, 225], 'caption': 'the large bird has a white neck black body and a long yellow beak curved downward'}\n",
      "{'filename': '002.Laysan_Albatross/Laysan_Albatross_0082_524', 'bbox': [72, 68, 383, 225], 'caption': 'this larger sized bird has a long white neck brownish black wings and tail feathers and an orange beak that tips downward'}\n",
      "{'filename': '002.Laysan_Albatross/Laysan_Albatross_0082_524', 'bbox': [72, 68, 383, 225], 'caption': 'a large bird with white feathers covering its head neck and throat with a grey cheek and brown feathers covering the rest of its body'}\n",
      "{'filename': '002.Laysan_Albatross/Laysan_Albatross_0082_524', 'bbox': [72, 68, 383, 225], 'caption': 'medium to large grey and white bird with long orange and black beak'}\n",
      "{'filename': '002.Laysan_Albatross/Laysan_Albatross_0082_524', 'bbox': [72, 68, 383, 225], 'caption': 'this bird is white and black in color with a long curved beak and black eye rings'}\n",
      "{'filename': '002.Laysan_Albatross/Laysan_Albatross_0082_524', 'bbox': [72, 68, 383, 225], 'caption': 'the bird has a white head and thrat with a smokey gray on the eyes and the rest of the body'}\n",
      "{'filename': '002.Laysan_Albatross/Laysan_Albatross_0082_524', 'bbox': [72, 68, 383, 225], 'caption': 'this bird has a long orange beak that curves at the end a long neck white head and chest with a dark brown body'}\n",
      "{'filename': '002.Laysan_Albatross/Laysan_Albatross_0082_524', 'bbox': [72, 68, 383, 225], 'caption': 'this bird is white with grey and has a long pointy beak'}\n",
      "{'filename': '002.Laysan_Albatross/Laysan_Albatross_0082_524', 'bbox': [72, 68, 383, 225], 'caption': 'this bird is white and brown in color with a curved orange beak'}\n",
      "{'filename': '002.Laysan_Albatross/Laysan_Albatross_0082_524', 'bbox': [72, 68, 383, 225], 'caption': 'a large bird with a white breast and pointed beak'}\n",
      "{'filename': '002.Laysan_Albatross/Laysan_Albatross_0044_784', 'bbox': [60, 128, 438, 106], 'caption': 'this bird is colored brown on its wings and back while its head and rump are all white'}\n",
      "{'filename': '002.Laysan_Albatross/Laysan_Albatross_0044_784', 'bbox': [60, 128, 438, 106], 'caption': 'a bird diving with a yellow beak brown wings and a white head and neck'}\n",
      "{'filename': '002.Laysan_Albatross/Laysan_Albatross_0044_784', 'bbox': [60, 128, 438, 106], 'caption': 'the bird with big black wings white crown and head and brown breast'}\n",
      "{'filename': '002.Laysan_Albatross/Laysan_Albatross_0044_784', 'bbox': [60, 128, 438, 106], 'caption': 'this is a large brown bird with a white rump and a white head'}\n",
      "{'filename': '002.Laysan_Albatross/Laysan_Albatross_0044_784', 'bbox': [60, 128, 438, 106], 'caption': 'this bird is white and brown in color with a long beak and white eye rings'}\n",
      "{'filename': '002.Laysan_Albatross/Laysan_Albatross_0044_784', 'bbox': [60, 128, 438, 106], 'caption': 'this bird is brown with white and has a long pointy beak'}\n",
      "{'filename': '002.Laysan_Albatross/Laysan_Albatross_0044_784', 'bbox': [60, 128, 438, 106], 'caption': 'this bird has wings that are brown and has a long yellow bill'}\n",
      "{'filename': '002.Laysan_Albatross/Laysan_Albatross_0044_784', 'bbox': [60, 128, 438, 106], 'caption': 'this bird has wings that are brown and has a white nape'}\n",
      "{'filename': '002.Laysan_Albatross/Laysan_Albatross_0044_784', 'bbox': [60, 128, 438, 106], 'caption': 'this bird has wings that are brown and has a white belly'}\n",
      "{'filename': '002.Laysan_Albatross/Laysan_Albatross_0044_784', 'bbox': [60, 128, 438, 106], 'caption': 'this bird has a brown back wings and white crown'}\n",
      "{'filename': '002.Laysan_Albatross/Laysan_Albatross_0070_788', 'bbox': [32, 35, 259, 361], 'caption': 'a large bird with white head and brown wing bars and a long narrow yellow beak that is hooked at the end'}\n",
      "{'filename': '002.Laysan_Albatross/Laysan_Albatross_0070_788', 'bbox': [32, 35, 259, 361], 'caption': 'a white albatross with brown wings and a peach colored bony beak'}\n",
      "{'filename': '002.Laysan_Albatross/Laysan_Albatross_0070_788', 'bbox': [32, 35, 259, 361], 'caption': 'this bird has a long orange and black beak with black spots around its eyes and a brown back with a basic white head'}\n",
      "{'filename': '002.Laysan_Albatross/Laysan_Albatross_0070_788', 'bbox': [32, 35, 259, 361], 'caption': 'this bird has a white breast and a really long bill'}\n",
      "{'filename': '002.Laysan_Albatross/Laysan_Albatross_0070_788', 'bbox': [32, 35, 259, 361], 'caption': 'a large light blue bird with dark eyes and a yellow long pointed beak'}\n",
      "{'filename': '002.Laysan_Albatross/Laysan_Albatross_0070_788', 'bbox': [32, 35, 259, 361], 'caption': 'this bird is all white and has a long pointy beak'}\n",
      "{'filename': '002.Laysan_Albatross/Laysan_Albatross_0070_788', 'bbox': [32, 35, 259, 361], 'caption': 'this is a large white bird with a brown colored back and a large light orange bill'}\n",
      "{'filename': '002.Laysan_Albatross/Laysan_Albatross_0070_788', 'bbox': [32, 35, 259, 361], 'caption': 'this bird has wings that are brown and has an orange bill'}\n",
      "{'filename': '002.Laysan_Albatross/Laysan_Albatross_0070_788', 'bbox': [32, 35, 259, 361], 'caption': 'this bird has a long tan bill with a white crown and white throat'}\n",
      "{'filename': '002.Laysan_Albatross/Laysan_Albatross_0070_788', 'bbox': [32, 35, 259, 361], 'caption': 'this bird has wings that are brown and has a long neck'}\n"
     ]
    }
   ],
   "source": [
    "# check the output of bird dictionary\n",
    "print(len(captions_bird))\n",
    "k = 0\n",
    "for cc in captions_bird[k:k+50]:\n",
    "    print(cc, sep='\\n')"
   ]
  },
  {
   "cell_type": "code",
   "execution_count": 65,
   "metadata": {},
   "outputs": [],
   "source": [
    "with open('/media/MyDataStor1/mmrl/MMRL/data/birds/captions_cub_train.json', 'w') as f:\n",
    "    json.dump(captions_bird, f)"
   ]
  },
  {
   "cell_type": "code",
   "execution_count": 66,
   "metadata": {},
   "outputs": [],
   "source": [
    "## test set processing"
   ]
  },
  {
   "cell_type": "code",
   "execution_count": 67,
   "metadata": {},
   "outputs": [
    {
     "name": "stdout",
     "output_type": "stream",
     "text": [
      "29330\n",
      "[4426, 4382, 2887, 4217, 2622, 3066, 1902, 1227, 1946, 3973, 4472, 4839]\n"
     ]
    },
    {
     "data": {
      "text/plain": [
       "'light tan colored bird with a white head and an orange beak'"
      ]
     },
     "execution_count": 67,
     "metadata": {},
     "output_type": "execute_result"
    }
   ],
   "source": [
    "## check filename and caption name\n",
    "print(len(test_captions))\n",
    "tks = test_captions[0]\n",
    "print(tks)\n",
    "damsm_tker.decode(tks, skip_special_tokens=True)"
   ]
  },
  {
   "cell_type": "code",
   "execution_count": 68,
   "metadata": {},
   "outputs": [
    {
     "name": "stdout",
     "output_type": "stream",
     "text": [
      "Load filenames from: /media/MyDataStor1/mmrl/MMRL/data/birds/test/filenames.pickle (2933)\n",
      "001.Black_footed_Albatross/Black_Footed_Albatross_0046_18\n"
     ]
    }
   ],
   "source": [
    "## make the json file for image - caption pairs\n",
    "## train set processing\n",
    "# load filenames\n",
    "data_dir = '/media/MyDataStor1/mmrl/MMRL/data/birds'\n",
    "# split = 'train'\n",
    "split = 'test'\n",
    "filepath = '%s/%s/filenames.pickle' % (data_dir, split)\n",
    "if os.path.isfile(filepath):\n",
    "    with open(filepath, 'rb') as f:\n",
    "        filenames = pickle.load(f, encoding='iso-8859-1')\n",
    "    print('Load filenames from: %s (%d)' % (filepath, len(filenames)))\n",
    "print(filenames[0])"
   ]
  },
  {
   "cell_type": "code",
   "execution_count": 69,
   "metadata": {},
   "outputs": [],
   "source": [
    "## load text captions for each image file\n",
    "cap_list = test_captions\n",
    "captions_bird = [] # bird dict: image filename + caption (10 pairs for each image)\n",
    "for i in range(len(filenames)):\n",
    "    # open text caption file\n",
    "    for j in range(10):\n",
    "        cap = damsm_tker.decode(cap_list[i*10+j], skip_special_tokens=True)\n",
    "        captions_bird.append({'filename': filenames[i], 'bbox': filename_bbox[filenames[i]], 'caption': cap})"
   ]
  },
  {
   "cell_type": "code",
   "execution_count": 70,
   "metadata": {
    "collapsed": true,
    "jupyter": {
     "outputs_hidden": true
    },
    "scrolled": true
   },
   "outputs": [
    {
     "name": "stdout",
     "output_type": "stream",
     "text": [
      "29330\n",
      "{'filename': '001.Black_footed_Albatross/Black_Footed_Albatross_0046_18', 'bbox': [60, 27, 325, 304], 'caption': 'light tan colored bird with a white head and an orange beak'}\n",
      "{'filename': '001.Black_footed_Albatross/Black_Footed_Albatross_0046_18', 'bbox': [60, 27, 325, 304], 'caption': 'the bird has a very thick curved and beige beak'}\n",
      "{'filename': '001.Black_footed_Albatross/Black_Footed_Albatross_0046_18', 'bbox': [60, 27, 325, 304], 'caption': 'this bird has a long neck that is grainy and a pastel orange blue narrow beak that droops down at the tip'}\n",
      "{'filename': '001.Black_footed_Albatross/Black_Footed_Albatross_0046_18', 'bbox': [60, 27, 325, 304], 'caption': 'this bird is light brown has a long hooked bill and looks dumb'}\n",
      "{'filename': '001.Black_footed_Albatross/Black_Footed_Albatross_0046_18', 'bbox': [60, 27, 325, 304], 'caption': 'this large white bird has a large curved bill and a brown eye'}\n",
      "{'filename': '001.Black_footed_Albatross/Black_Footed_Albatross_0046_18', 'bbox': [60, 27, 325, 304], 'caption': 'this bird is white with grey and has a long pointy beak'}\n",
      "{'filename': '001.Black_footed_Albatross/Black_Footed_Albatross_0046_18', 'bbox': [60, 27, 325, 304], 'caption': 'this bird is white with grey and has a long pointy beak'}\n",
      "{'filename': '001.Black_footed_Albatross/Black_Footed_Albatross_0046_18', 'bbox': [60, 27, 325, 304], 'caption': 'the crown of the bird is white with light brown tones throughout'}\n",
      "{'filename': '001.Black_footed_Albatross/Black_Footed_Albatross_0046_18', 'bbox': [60, 27, 325, 304], 'caption': 'the crown of the bird has distinctive tones of white and brown throughout'}\n",
      "{'filename': '001.Black_footed_Albatross/Black_Footed_Albatross_0046_18', 'bbox': [60, 27, 325, 304], 'caption': 'this bird has a long neck and an orange bill'}\n",
      "{'filename': '001.Black_footed_Albatross/Black_Footed_Albatross_0009_34', 'bbox': [139, 30, 153, 264], 'caption': 'the wings are brown long and narrow and have white markings on the secondaries the bill is blunt tipped and black the head is light brown with a white thin marking between the eye and the beak'}\n",
      "{'filename': '001.Black_footed_Albatross/Black_Footed_Albatross_0009_34', 'bbox': [139, 30, 153, 264], 'caption': 'grey bird with black flat beak with grey and white big wings'}\n",
      "{'filename': '001.Black_footed_Albatross/Black_Footed_Albatross_0009_34', 'bbox': [139, 30, 153, 264], 'caption': 'the dark brown bird has black eye ring and black rectrices'}\n",
      "{'filename': '001.Black_footed_Albatross/Black_Footed_Albatross_0009_34', 'bbox': [139, 30, 153, 264], 'caption': 'this bird s most distinct feature is its long flat beak as well as its large wingspan'}\n",
      "{'filename': '001.Black_footed_Albatross/Black_Footed_Albatross_0009_34', 'bbox': [139, 30, 153, 264], 'caption': 'a bird with a large black bill with downward curve white superciliaries and brown plumage'}\n",
      "{'filename': '001.Black_footed_Albatross/Black_Footed_Albatross_0009_34', 'bbox': [139, 30, 153, 264], 'caption': 'this bird has a large black bill with a white ring around the base of the bill'}\n",
      "{'filename': '001.Black_footed_Albatross/Black_Footed_Albatross_0009_34', 'bbox': [139, 30, 153, 264], 'caption': 'this bird has wings that are black and has a long black bill'}\n",
      "{'filename': '001.Black_footed_Albatross/Black_Footed_Albatross_0009_34', 'bbox': [139, 30, 153, 264], 'caption': 'the bird has a curved black bill and two large brown wingbars'}\n",
      "{'filename': '001.Black_footed_Albatross/Black_Footed_Albatross_0009_34', 'bbox': [139, 30, 153, 264], 'caption': 'this bird has a wide wing span covered in brown grey and white feathers with a broad blunt beak'}\n",
      "{'filename': '001.Black_footed_Albatross/Black_Footed_Albatross_0009_34', 'bbox': [139, 30, 153, 264], 'caption': 'this bird has a brown crown brown primaries and a brown throat'}\n",
      "{'filename': '001.Black_footed_Albatross/Black_Footed_Albatross_0002_55', 'bbox': [14, 112, 388, 186], 'caption': 'the bird has head and beak proportional to its body and the bird is brown in color'}\n",
      "{'filename': '001.Black_footed_Albatross/Black_Footed_Albatross_0002_55', 'bbox': [14, 112, 388, 186], 'caption': 'this bird has grey neck head wings and back it has white around its bill and a long tall bill that is curved and black at its tip'}\n",
      "{'filename': '001.Black_footed_Albatross/Black_Footed_Albatross_0002_55', 'bbox': [14, 112, 388, 186], 'caption': 'this bird is brown in color with a long curved beak and dark eye rings'}\n",
      "{'filename': '001.Black_footed_Albatross/Black_Footed_Albatross_0002_55', 'bbox': [14, 112, 388, 186], 'caption': 'this bird is grey with some white and has a long pointy beak'}\n",
      "{'filename': '001.Black_footed_Albatross/Black_Footed_Albatross_0002_55', 'bbox': [14, 112, 388, 186], 'caption': 'this is a solid brown bird with webbed feet and a long slightly hooked bill'}\n",
      "{'filename': '001.Black_footed_Albatross/Black_Footed_Albatross_0002_55', 'bbox': [14, 112, 388, 186], 'caption': 'this particular bird has a brown body and brown bill'}\n",
      "{'filename': '001.Black_footed_Albatross/Black_Footed_Albatross_0002_55', 'bbox': [14, 112, 388, 186], 'caption': 'the brown colored albatross has white ring at the base of its beak white undertail and white eyebrow'}\n",
      "{'filename': '001.Black_footed_Albatross/Black_Footed_Albatross_0002_55', 'bbox': [14, 112, 388, 186], 'caption': 'this bird has wings that are brown and has a big bill'}\n",
      "{'filename': '001.Black_footed_Albatross/Black_Footed_Albatross_0002_55', 'bbox': [14, 112, 388, 186], 'caption': 'this bird is brown in color with a large curved beak'}\n",
      "{'filename': '001.Black_footed_Albatross/Black_Footed_Albatross_0002_55', 'bbox': [14, 112, 388, 186], 'caption': 'a large bird with a grey coloring and long beak'}\n",
      "{'filename': '001.Black_footed_Albatross/Black_Footed_Albatross_0074_59', 'bbox': [112, 90, 255, 242], 'caption': 'the bird has two large wingbars that are grey and white'}\n",
      "{'filename': '001.Black_footed_Albatross/Black_Footed_Albatross_0074_59', 'bbox': [112, 90, 255, 242], 'caption': 'this large bird is grey with white near its tail and a long bill'}\n",
      "{'filename': '001.Black_footed_Albatross/Black_Footed_Albatross_0074_59', 'bbox': [112, 90, 255, 242], 'caption': 'this large bird is brown and has a long slightly curved bill with a white rump'}\n",
      "{'filename': '001.Black_footed_Albatross/Black_Footed_Albatross_0074_59', 'bbox': [112, 90, 255, 242], 'caption': 'bird with fat long beak that is curved at the tip black eye crown nape back inner and outer rectrices'}\n",
      "{'filename': '001.Black_footed_Albatross/Black_Footed_Albatross_0074_59', 'bbox': [112, 90, 255, 242], 'caption': 'this bird has a brown crown a flat bill and a white cheek patch'}\n",
      "{'filename': '001.Black_footed_Albatross/Black_Footed_Albatross_0074_59', 'bbox': [112, 90, 255, 242], 'caption': 'this bird has wings that are grey and has a long bill'}\n",
      "{'filename': '001.Black_footed_Albatross/Black_Footed_Albatross_0074_59', 'bbox': [112, 90, 255, 242], 'caption': 'the bird has a curved brown bill that is long two large wingbars and a long belly'}\n",
      "{'filename': '001.Black_footed_Albatross/Black_Footed_Albatross_0074_59', 'bbox': [112, 90, 255, 242], 'caption': 'this bird is grey with long wings and has a long pointy beak'}\n",
      "{'filename': '001.Black_footed_Albatross/Black_Footed_Albatross_0074_59', 'bbox': [112, 90, 255, 242], 'caption': 'this large bird has brown colored feathers and a large bill'}\n",
      "{'filename': '001.Black_footed_Albatross/Black_Footed_Albatross_0074_59', 'bbox': [112, 90, 255, 242], 'caption': 'this bird has large wings with stripes on the ends a short tail a large gray and white head and a long beak with a downward curve'}\n",
      "{'filename': '001.Black_footed_Albatross/Black_Footed_Albatross_0014_89', 'bbox': [70, 50, 134, 303], 'caption': 'this flying bird has long brown wings and a black bill with a white stripe around it'}\n",
      "{'filename': '001.Black_footed_Albatross/Black_Footed_Albatross_0014_89', 'bbox': [70, 50, 134, 303], 'caption': 'bird has brown body feathers brown breast feathers and brown thick beak'}\n",
      "{'filename': '001.Black_footed_Albatross/Black_Footed_Albatross_0014_89', 'bbox': [70, 50, 134, 303], 'caption': 'a large brown bird with white secondaries a black bill and yellow eyes'}\n",
      "{'filename': '001.Black_footed_Albatross/Black_Footed_Albatross_0014_89', 'bbox': [70, 50, 134, 303], 'caption': 'this bird is black with brown on its stomach and has a long pointy beak'}\n",
      "{'filename': '001.Black_footed_Albatross/Black_Footed_Albatross_0014_89', 'bbox': [70, 50, 134, 303], 'caption': 'this is a brown bird with a white eye and a long and pointy bill'}\n",
      "{'filename': '001.Black_footed_Albatross/Black_Footed_Albatross_0014_89', 'bbox': [70, 50, 134, 303], 'caption': 'this bird is mostly dark grey and has a white ring around its bill'}\n",
      "{'filename': '001.Black_footed_Albatross/Black_Footed_Albatross_0014_89', 'bbox': [70, 50, 134, 303], 'caption': 'this is a brown bird with an incredible wingspan and an extended bill for its size'}\n",
      "{'filename': '001.Black_footed_Albatross/Black_Footed_Albatross_0014_89', 'bbox': [70, 50, 134, 303], 'caption': 'a large long bill wide wing span dark brown bird with light beige tipped primaries'}\n",
      "{'filename': '001.Black_footed_Albatross/Black_Footed_Albatross_0014_89', 'bbox': [70, 50, 134, 303], 'caption': 'the large bird has a black bill crown and nape and long wings that have brown secondaries and black converts together with a brown belly and tail'}\n",
      "{'filename': '001.Black_footed_Albatross/Black_Footed_Albatross_0014_89', 'bbox': [70, 50, 134, 303], 'caption': 'this bird is brown with black and has a long pointy beak'}\n"
     ]
    }
   ],
   "source": [
    "# check the output of bird dictionary\n",
    "print(len(captions_bird))\n",
    "k = 0\n",
    "for cc in captions_bird[k:k+50]:\n",
    "    print(cc, sep='\\n')"
   ]
  },
  {
   "cell_type": "code",
   "execution_count": 71,
   "metadata": {},
   "outputs": [],
   "source": [
    "with open('/media/MyDataStor1/mmrl/MMRL/data/birds/captions_cub_test.json', 'w') as f:\n",
    "    json.dump(captions_bird, f)"
   ]
  },
  {
   "cell_type": "code",
   "execution_count": null,
   "metadata": {},
   "outputs": [],
   "source": [
    "## check the json files"
   ]
  },
  {
   "cell_type": "code",
   "execution_count": 74,
   "metadata": {},
   "outputs": [
    {
     "name": "stdout",
     "output_type": "stream",
     "text": [
      "88550\n",
      "{'filename': '071.Long_tailed_Jaeger/Long_Tailed_Jaeger_0008_797066', 'bbox': [31, 141, 341, 127], 'caption': 'this is a gray bird with a white breast and a gray beak that curves downwards at the tip'}\n"
     ]
    }
   ],
   "source": [
    "# load the raw tokens from Show, Attention, Tell paper\n",
    "with open('/media/MyDataStor1/mmrl/MMRL/data/birds/captions_cub_train.json', 'r') as f:\n",
    "    otk = json.load(f)\n",
    "print(len(otk))\n",
    "print(otk[29329])"
   ]
  },
  {
   "cell_type": "code",
   "execution_count": null,
   "metadata": {},
   "outputs": [],
   "source": []
  }
 ],
 "metadata": {
  "kernelspec": {
   "display_name": "Python 3",
   "language": "python",
   "name": "python3"
  },
  "language_info": {
   "codemirror_mode": {
    "name": "ipython",
    "version": 3
   },
   "file_extension": ".py",
   "mimetype": "text/x-python",
   "name": "python",
   "nbconvert_exporter": "python",
   "pygments_lexer": "ipython3",
   "version": "3.7.7"
  }
 },
 "nbformat": 4,
 "nbformat_minor": 4
}
