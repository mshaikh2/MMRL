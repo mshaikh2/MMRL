{
 "cells": [
  {
   "cell_type": "code",
   "execution_count": 19,
   "metadata": {
    "colab": {},
    "colab_type": "code",
    "id": "FQGO6xs5tNsj"
   },
   "outputs": [],
   "source": [
    "import tensorflow as tf\n",
    "from tensorflow.keras import datasets,layers,models\n",
    "import matplotlib.pyplot as plt"
   ]
  },
  {
   "cell_type": "code",
   "execution_count": 20,
   "metadata": {
    "colab": {},
    "colab_type": "code",
    "id": "9f-w_pCtufT1"
   },
   "outputs": [],
   "source": [
    "#download the CIFAR 100 datasets \n",
    "(x_train,y_train),(x_test,y_test)=datasets.cifar100.load_data()\n",
    "\n",
    "#normalize the data\n",
    "x_train,x_test=x_train/255.0,x_test/255.0"
   ]
  },
  {
   "cell_type": "code",
   "execution_count": 21,
   "metadata": {
    "colab": {},
    "colab_type": "code",
    "id": "kXfxRPQhtSiI"
   },
   "outputs": [],
   "source": [
    "from sklearn.model_selection import train_test_split\n",
    "x_train,x_val,y_train,y_val=train_test_split(x_train,y_train,test_size=0.2)"
   ]
  },
  {
   "cell_type": "code",
   "execution_count": 22,
   "metadata": {
    "colab": {
     "base_uri": "https://localhost:8080/",
     "height": 34
    },
    "colab_type": "code",
    "id": "0AaU7JZCt9YC",
    "outputId": "49677ed9-ef58-4683-a526-8ec692697f4f"
   },
   "outputs": [
    {
     "data": {
      "text/plain": [
       "(40000, 32, 32, 3)"
      ]
     },
     "execution_count": 22,
     "metadata": {
      "tags": []
     },
     "output_type": "execute_result"
    }
   ],
   "source": [
    "x_train.shape\n"
   ]
  },
  {
   "cell_type": "code",
   "execution_count": 22,
   "metadata": {
    "colab": {},
    "colab_type": "code",
    "id": "7jxgBqAqwEP4"
   },
   "outputs": [],
   "source": []
  },
  {
   "cell_type": "code",
   "execution_count": 23,
   "metadata": {
    "colab": {},
    "colab_type": "code",
    "id": "1TRRpr66udvR"
   },
   "outputs": [],
   "source": [
    "from keras.utils import  to_categorical\n",
    "y_train=to_categorical(y_train)\n",
    "y_test=to_categorical(y_test)\n",
    "y_val=to_categorical(y_val)"
   ]
  },
  {
   "cell_type": "code",
   "execution_count": 24,
   "metadata": {
    "colab": {},
    "colab_type": "code",
    "id": "s5i9D5n_x6R5"
   },
   "outputs": [],
   "source": [
    "## VGG16  with the sgd and no regularization\n",
    "import keras,os\n",
    "from keras.models import Sequential\n",
    "from keras.layers import Dense,MaxPool2D,Conv2D,Flatten\n",
    "from keras.preprocessing.image import ImageDataGenerator\n",
    "import numpy as np\n",
    "\n",
    "model=Sequential()\n",
    "model.add(Conv2D(input_shape=(32,32,3),filters=64,kernel_size=(3,3),activation=\"relu\",padding=\"same\"))\n",
    "model.add(Conv2D(filters=64,kernel_size=(3,3),activation=\"relu\",padding=\"same\"))\n",
    "model.add(MaxPool2D(pool_size=(2,2),strides=(2,2)))\n",
    "\n",
    "model.add(Conv2D(filters=128,kernel_size=(3,3),activation=\"relu\",padding=\"same\"))\n",
    "model.add(Conv2D(filters=128,kernel_size=(3,3),activation=\"relu\",padding=\"same\"))\n",
    "model.add(MaxPool2D(pool_size=(2,2),strides=(2,2)))\n",
    "\n",
    "model.add(Conv2D(filters=256,kernel_size=(3,3),activation=\"relu\",padding=\"same\"))\n",
    "model.add(Conv2D(filters=256,kernel_size=(3,3),activation=\"relu\",padding=\"same\"))\n",
    "model.add(Conv2D(filters=256,kernel_size=(3,3),activation=\"relu\",padding=\"same\"))\n",
    "model.add(MaxPool2D(pool_size=(2,2),strides=(2,2)))\n",
    "\n",
    "model.add(Conv2D(filters=512,kernel_size=(3,3),activation=\"relu\",padding=\"same\"))\n",
    "model.add(Conv2D(filters=512,kernel_size=(3,3),activation=\"relu\",padding=\"same\"))\n",
    "model.add(Conv2D(filters=512,kernel_size=(3,3),activation=\"relu\",padding=\"same\"))\n",
    "model.add(MaxPool2D(pool_size=(2,2),strides=(2,2)))\n",
    "\n",
    "\n",
    "model.add(Conv2D(filters=512,kernel_size=(3,3),activation=\"relu\",padding=\"same\"))\n",
    "model.add(Conv2D(filters=512,kernel_size=(3,3),activation=\"relu\",padding=\"same\"))\n",
    "model.add(Conv2D(filters=512,kernel_size=(3,3),activation=\"relu\",padding=\"same\"))\n",
    "model.add(MaxPool2D(pool_size=(2,2),strides=(2,2)))\n",
    "\n",
    "model.add(Flatten())\n",
    "model.add(Dense(units=4096,activation=\"relu\"))\n",
    "model.add(Dense(units=4096,activation=\"relu\"))\n",
    "model.add(Dense(units=100,activation=\"softmax\"))\n",
    "\n"
   ]
  },
  {
   "cell_type": "code",
   "execution_count": 24,
   "metadata": {
    "colab": {},
    "colab_type": "code",
    "id": "BkzjDDkrucqw"
   },
   "outputs": [],
   "source": []
  },
  {
   "cell_type": "code",
   "execution_count": 25,
   "metadata": {
    "colab": {
     "base_uri": "https://localhost:8080/",
     "height": 890
    },
    "colab_type": "code",
    "id": "yo1WO31OgwJr",
    "outputId": "0b4fbb62-e837-4ed0-cdb3-534871352cbe"
   },
   "outputs": [
    {
     "name": "stdout",
     "output_type": "stream",
     "text": [
      "Model: \"sequential_1\"\n",
      "_________________________________________________________________\n",
      "Layer (type)                 Output Shape              Param #   \n",
      "=================================================================\n",
      "conv2d_13 (Conv2D)           (None, 32, 32, 64)        1792      \n",
      "_________________________________________________________________\n",
      "conv2d_14 (Conv2D)           (None, 32, 32, 64)        36928     \n",
      "_________________________________________________________________\n",
      "max_pooling2d_5 (MaxPooling2 (None, 16, 16, 64)        0         \n",
      "_________________________________________________________________\n",
      "conv2d_15 (Conv2D)           (None, 16, 16, 128)       73856     \n",
      "_________________________________________________________________\n",
      "conv2d_16 (Conv2D)           (None, 16, 16, 128)       147584    \n",
      "_________________________________________________________________\n",
      "max_pooling2d_6 (MaxPooling2 (None, 8, 8, 128)         0         \n",
      "_________________________________________________________________\n",
      "conv2d_17 (Conv2D)           (None, 8, 8, 256)         295168    \n",
      "_________________________________________________________________\n",
      "conv2d_18 (Conv2D)           (None, 8, 8, 256)         590080    \n",
      "_________________________________________________________________\n",
      "conv2d_19 (Conv2D)           (None, 8, 8, 256)         590080    \n",
      "_________________________________________________________________\n",
      "max_pooling2d_7 (MaxPooling2 (None, 4, 4, 256)         0         \n",
      "_________________________________________________________________\n",
      "conv2d_20 (Conv2D)           (None, 4, 4, 512)         1180160   \n",
      "_________________________________________________________________\n",
      "conv2d_21 (Conv2D)           (None, 4, 4, 512)         2359808   \n",
      "_________________________________________________________________\n",
      "conv2d_22 (Conv2D)           (None, 4, 4, 512)         2359808   \n",
      "_________________________________________________________________\n",
      "max_pooling2d_8 (MaxPooling2 (None, 2, 2, 512)         0         \n",
      "_________________________________________________________________\n",
      "conv2d_23 (Conv2D)           (None, 2, 2, 512)         2359808   \n",
      "_________________________________________________________________\n",
      "conv2d_24 (Conv2D)           (None, 2, 2, 512)         2359808   \n",
      "_________________________________________________________________\n",
      "conv2d_25 (Conv2D)           (None, 2, 2, 512)         2359808   \n",
      "_________________________________________________________________\n",
      "max_pooling2d_9 (MaxPooling2 (None, 1, 1, 512)         0         \n",
      "_________________________________________________________________\n",
      "flatten_1 (Flatten)          (None, 512)               0         \n",
      "_________________________________________________________________\n",
      "dense_3 (Dense)              (None, 4096)              2101248   \n",
      "_________________________________________________________________\n",
      "dense_4 (Dense)              (None, 4096)              16781312  \n",
      "_________________________________________________________________\n",
      "dense_5 (Dense)              (None, 100)               409700    \n",
      "=================================================================\n",
      "Total params: 34,006,948\n",
      "Trainable params: 34,006,948\n",
      "Non-trainable params: 0\n",
      "_________________________________________________________________\n"
     ]
    }
   ],
   "source": [
    "from keras.optimizers import  SGD\n",
    "\n",
    "model.compile(optimizer=SGD(lr=0.01),loss='categorical_crossentropy',metrics=[\"accuracy\"])\n",
    "model.summary()"
   ]
  },
  {
   "cell_type": "code",
   "execution_count": 25,
   "metadata": {
    "colab": {},
    "colab_type": "code",
    "id": "TZBJ06ufkfZk"
   },
   "outputs": [],
   "source": []
  },
  {
   "cell_type": "code",
   "execution_count": 26,
   "metadata": {
    "colab": {},
    "colab_type": "code",
    "id": "ElzULTaH08QZ"
   },
   "outputs": [],
   "source": [
    "#early stopping\n",
    "from keras.callbacks import EarlyStopping\n",
    "early=EarlyStopping(monitor='val_loss',min_delta=0.0001,patience=30,verbose=1,mode='auto')"
   ]
  },
  {
   "cell_type": "code",
   "execution_count": 27,
   "metadata": {
    "colab": {
     "base_uri": "https://localhost:8080/",
     "height": 558
    },
    "colab_type": "code",
    "id": "A40ZaAe7h2Hd",
    "outputId": "5e4e67e7-02a9-4d4e-c294-5b9ddf51ee81"
   },
   "outputs": [
    {
     "name": "stdout",
     "output_type": "stream",
     "text": [
      "Epoch 1/15\n",
      "  1/800 [..............................] - ETA: 0s - loss: 4.6052 - accuracy: 0.0000e+00WARNING:tensorflow:Callbacks method `on_train_batch_end` is slow compared to the batch time (batch time: 0.0069s vs `on_train_batch_end` time: 0.0265s). Check your callbacks.\n",
      "799/800 [============================>.] - ETA: 0s - loss: 4.6053 - accuracy: 0.0093WARNING:tensorflow:Callbacks method `on_test_batch_end` is slow compared to the batch time (batch time: 0.0021s vs `on_test_batch_end` time: 0.0076s). Check your callbacks.\n",
      "800/800 [==============================] - 30s 37ms/step - loss: 4.6053 - accuracy: 0.0093 - val_loss: 4.6054 - val_accuracy: 0.0080\n",
      "Epoch 2/15\n",
      "800/800 [==============================] - 30s 38ms/step - loss: 4.6052 - accuracy: 0.0102 - val_loss: 4.6056 - val_accuracy: 0.0080\n",
      "Epoch 3/15\n",
      "800/800 [==============================] - 30s 37ms/step - loss: 4.6052 - accuracy: 0.0098 - val_loss: 4.6057 - val_accuracy: 0.0080\n",
      "Epoch 4/15\n",
      "800/800 [==============================] - 30s 37ms/step - loss: 4.6051 - accuracy: 0.0103 - val_loss: 4.6059 - val_accuracy: 0.0080\n",
      "Epoch 5/15\n",
      "800/800 [==============================] - 30s 37ms/step - loss: 4.6051 - accuracy: 0.0105 - val_loss: 4.6060 - val_accuracy: 0.0080\n",
      "Epoch 6/15\n",
      "799/800 [============================>.] - ETA: 0s - loss: 4.6051 - accuracy: 0.0105Epoch 7/15\n",
      "800/800 [==============================] - 30s 37ms/step - loss: 4.6050 - accuracy: 0.0105 - val_loss: 4.6063 - val_accuracy: 0.0080\n",
      "Epoch 8/15\n",
      "800/800 [==============================] - 30s 37ms/step - loss: 4.6050 - accuracy: 0.0104 - val_loss: 4.6064 - val_accuracy: 0.0080\n",
      "Epoch 9/15\n",
      "800/800 [==============================] - 30s 37ms/step - loss: 4.6050 - accuracy: 0.0105 - val_loss: 4.6064 - val_accuracy: 0.0080\n",
      "Epoch 10/15\n",
      "800/800 [==============================] - 30s 37ms/step - loss: 4.6049 - accuracy: 0.0105 - val_loss: 4.6065 - val_accuracy: 0.0080\n",
      "Epoch 11/15\n",
      "800/800 [==============================] - 30s 37ms/step - loss: 4.6049 - accuracy: 0.0108 - val_loss: 4.6065 - val_accuracy: 0.0080\n",
      "Epoch 12/15\n",
      "800/800 [==============================] - 30s 37ms/step - loss: 4.6048 - accuracy: 0.0105 - val_loss: 4.6065 - val_accuracy: 0.0080\n",
      "Epoch 13/15\n",
      "800/800 [==============================] - 30s 37ms/step - loss: 4.6046 - accuracy: 0.0105 - val_loss: 4.6064 - val_accuracy: 0.0080\n",
      "Epoch 14/15\n",
      "800/800 [==============================] - 30s 37ms/step - loss: 4.6044 - accuracy: 0.0119 - val_loss: 4.6062 - val_accuracy: 0.0080\n",
      "Epoch 15/15\n",
      "800/800 [==============================] - 30s 37ms/step - loss: 4.6041 - accuracy: 0.0125 - val_loss: 4.6059 - val_accuracy: 0.0083\n"
     ]
    }
   ],
   "source": [
    "history=model.fit(x_train,y_train,batch_size=50,validation_data=(x_val,y_val),epochs=1000,callbacks=[early])"
   ]
  },
  {
   "cell_type": "code",
   "execution_count": 28,
   "metadata": {
    "colab": {},
    "colab_type": "code",
    "id": "CATgdvZureZU"
   },
   "outputs": [],
   "source": [
    "# predict the \n",
    "\n",
    "score=model.predict(x_test).argmax(-1)\n"
   ]
  },
  {
   "cell_type": "code",
   "execution_count": 29,
   "metadata": {
    "colab": {
     "base_uri": "https://localhost:8080/",
     "height": 238
    },
    "colab_type": "code",
    "id": "j-G3vL2WzofK",
    "outputId": "48b5a0b3-c0ef-4b0a-bac3-96f271358408"
   },
   "outputs": [
    {
     "name": "stdout",
     "output_type": "stream",
     "text": [
      "[[0 0 0 ... 0 0 0]\n",
      " [0 0 0 ... 0 0 0]\n",
      " [0 0 0 ... 0 0 0]\n",
      " ...\n",
      " [0 0 0 ... 0 0 0]\n",
      " [0 0 0 ... 0 0 0]\n",
      " [0 0 0 ... 0 0 0]]\n",
      "precision 0.0001526682409673071\n",
      "accuracy 0.0101\n",
      "recall 0.0101\n"
     ]
    },
    {
     "name": "stderr",
     "output_type": "stream",
     "text": [
      "/usr/local/lib/python3.6/dist-packages/sklearn/metrics/_classification.py:1272: UndefinedMetricWarning: Precision is ill-defined and being set to 0.0 in labels with no predicted samples. Use `zero_division` parameter to control this behavior.\n",
      "  _warn_prf(average, modifier, msg_start, len(result))\n"
     ]
    }
   ],
   "source": [
    "from sklearn.metrics import confusion_matrix\n",
    "from sklearn.metrics import precision_score,accuracy_score,recall_score\n",
    "matrix1=confusion_matrix(y_test.argmax(axis=1),score)\n",
    "print(matrix1)\n",
    "p_score=precision_score(y_test.argmax(axis=1),score,average='weighted')\n",
    "acc_score=accuracy_score(y_test.argmax(axis=1),score)\n",
    "r_score=recall_score(y_test.argmax(axis=1),score,average='weighted')\n",
    "\n",
    "print('precision',p_score)\n",
    "print('accuracy',acc_score)\n",
    "print('recall',r_score)"
   ]
  },
  {
   "cell_type": "code",
   "execution_count": 40,
   "metadata": {
    "colab": {},
    "colab_type": "code",
    "id": "3NCxfzBvgaQR"
   },
   "outputs": [],
   "source": []
  },
  {
   "cell_type": "code",
   "execution_count": 114,
   "metadata": {
    "colab": {},
    "colab_type": "code",
    "id": "-HemjAMykUfu"
   },
   "outputs": [],
   "source": [
    "#  #Vgg16 with adams\n",
    "\n",
    "\n",
    "# (x_train,y_train),(x_test,y_test)=datasets.cifar100.load_data()\n",
    "\n",
    "# #normailze the data\n",
    "# x_train,x_test=x_train/255.0,x_test/255.0\n",
    "\n",
    "\n",
    "\n",
    "# from sklearn.model_selection import train_test_split\n",
    "# x_train,x_val,y_train,y_val=train_test_split(x_train,y_train,test_size=0.2)\n",
    "\n",
    "# from keras.utils import  to_categorical\n",
    "# y_train=to_categorical(y_train)\n",
    "# y_test=to_categorical(y_test)\n",
    "# y_val=to_categorical(y_val)\n",
    "\n",
    "\n",
    "# import keras,os\n",
    "# from keras.models import Sequential\n",
    "# from keras.layers import Dense,MaxPool2D,Conv2D,Flatten,BatchNormalization\n",
    "# from keras.preprocessing.image import ImageDataGenerator\n",
    "# import numpy as np\n",
    "\n",
    "# model=Sequential()\n",
    "# model.add(Conv2D(input_shape=(32,32,3),filters=64,kernel_size=(3,3),activation=\"relu\",padding=\"same\"))\n",
    "# model.add(Conv2D(filters=64,kernel_size=(3,3),activation=\"relu\",padding=\"same\"))\n",
    "# model.add(MaxPool2D(pool_size=(2,2),strides=(2,2)))\n",
    "\n",
    "# model.add(Conv2D(filters=128,kernel_size=(3,3),activation=\"relu\",padding=\"same\"))\n",
    "# model.add(Conv2D(filters=128,kernel_size=(3,3),activation=\"relu\",padding=\"same\"))\n",
    "# model.add(MaxPool2D(pool_size=(2,2),strides=(2,2)))\n",
    "\n",
    "# model.add(Conv2D(filters=256,kernel_size=(3,3),activation=\"relu\",padding=\"same\"))\n",
    "# model.add(Conv2D(filters=256,kernel_size=(3,3),activation=\"relu\",padding=\"same\"))\n",
    "# model.add(Conv2D(filters=256,kernel_size=(3,3),activation=\"relu\",padding=\"same\"))\n",
    "# model.add(MaxPool2D(pool_size=(2,2),strides=(2,2)))\n",
    "\n",
    "# model.add(Conv2D(filters=512,kernel_size=(3,3),activation=\"relu\",padding=\"same\"))\n",
    "# model.add(Conv2D(filters=512,kernel_size=(3,3),activation=\"relu\",padding=\"same\"))\n",
    "# model.add(Conv2D(filters=512,kernel_size=(3,3),activation=\"relu\",padding=\"same\"))\n",
    "# model.add(MaxPool2D(pool_size=(2,2),strides=(2,2)))\n",
    "\n",
    "\n",
    "# model.add(Conv2D(filters=512,kernel_size=(3,3),activation=\"relu\",padding=\"same\"))\n",
    "# model.add(Conv2D(filters=512,kernel_size=(3,3),activation=\"relu\",padding=\"same\"))\n",
    "# model.add(Conv2D(filters=512,kernel_size=(3,3),activation=\"relu\",padding=\"same\"))\n",
    "# model.add(MaxPool2D(pool_size=(2,2),strides=(2,2)))\n",
    "\n",
    "# model.add(Flatten())\n",
    "# model.add(BatchNormalization())\n",
    "# model.add(Dense(units=4096,activation=\"relu\"))\n",
    "# model.add(Dense(units=4096,activation=\"relu\"))\n",
    "# model.add(Dense(units=100,activation=\"softmax\"))\n",
    "\n",
    "\n",
    "# model.compile(optimizer='adam',loss='categorical_crossentropy',metrics=[\"accuracy\"])\n",
    "# model.summary()\n",
    "\n",
    "\n",
    "\n",
    "# #early stopping\n",
    "# from keras.callbacks import EarlyStopping\n",
    "# early=EarlyStopping(monitor='val_accuracy',min_delta=0,patience=30,verbose=1,mode='auto')\n",
    "\n",
    "# history=model.fit(x_train,y_train,batch_size=100,validation_data=(x_val,y_val),epochs=15,callbacks=[early])\n",
    "\n",
    "\n",
    "# score=model.predict(x_test).argmax(-1)\n",
    "\n",
    "# from sklearn.metrics import confusion_matrix\n",
    "# from sklearn.metrics import precision_score,accuracy_score,recall_score\n",
    "# matrix1=confusion_matrix(y_test.argmax(axis=1),score)\n",
    "# print(matrix1)\n",
    "# p_score=precision_score(y_test.argmax(axis=1),score,average='weighted')\n",
    "# acc_score=accuracy_score(y_test.argmax(axis=1),score)\n",
    "# r_score=recall_score(y_test.argmax(axis=1),score,average='weighted')\n",
    "\n",
    "# print('precision',p_score)\n",
    "# print('accuracy',acc_score)\n",
    "# print('recall',r_score)"
   ]
  },
  {
   "cell_type": "code",
   "execution_count": 115,
   "metadata": {
    "colab": {},
    "colab_type": "code",
    "id": "tWGlDVqRkX85"
   },
   "outputs": [],
   "source": []
  },
  {
   "cell_type": "code",
   "execution_count": 27,
   "metadata": {
    "colab": {},
    "colab_type": "code",
    "id": "zNZnWwpWkgfG"
   },
   "outputs": [],
   "source": [
    "\n",
    "\n"
   ]
  },
  {
   "cell_type": "code",
   "execution_count": 121,
   "metadata": {
    "colab": {},
    "colab_type": "code",
    "id": "K6DJIuxYrLP4"
   },
   "outputs": [],
   "source": []
  },
  {
   "cell_type": "code",
   "execution_count": null,
   "metadata": {
    "colab": {},
    "colab_type": "code",
    "id": "eMg0pR9ylK_6"
   },
   "outputs": [],
   "source": []
  },
  {
   "cell_type": "code",
   "execution_count": 27,
   "metadata": {
    "colab": {},
    "colab_type": "code",
    "id": "PjFs5_SSk79x"
   },
   "outputs": [],
   "source": []
  },
  {
   "cell_type": "code",
   "execution_count": null,
   "metadata": {
    "colab": {},
    "colab_type": "code",
    "id": "Zc4VSaJvlCQn"
   },
   "outputs": [],
   "source": []
  }
 ],
 "metadata": {
  "accelerator": "GPU",
  "colab": {
   "name": "Deep learning .ipynb",
   "provenance": []
  },
  "kernelspec": {
   "display_name": "Python 3",
   "language": "python",
   "name": "python3"
  },
  "language_info": {
   "codemirror_mode": {
    "name": "ipython",
    "version": 3
   },
   "file_extension": ".py",
   "mimetype": "text/x-python",
   "name": "python",
   "nbconvert_exporter": "python",
   "pygments_lexer": "ipython3",
   "version": "3.7.4"
  }
 },
 "nbformat": 4,
 "nbformat_minor": 1
}
